{
 "cells": [
  {
   "cell_type": "markdown",
   "metadata": {
    "id": "sZd5yLnnHOK0"
   },
   "source": [
    "# Procesamiento de lenguaje natural\n",
    "## Custom embedddings con Gensim\n",
    "\n"
   ]
  },
  {
   "cell_type": "markdown",
   "metadata": {
    "id": "vA7nqkumo9z9"
   },
   "source": [
    "### Objetivo\n",
    "El objetivo es utilizar documentos / corpus para crear embeddings de palabras basado en ese contexto. Se utilizará canciones de bandas para generar los embeddings, es decir, que los vectores tendrán la forma en función de como esa banda haya utilizado las palabras en sus canciones."
   ]
  },
  {
   "cell_type": "code",
   "execution_count": null,
   "metadata": {
    "id": "lFToQs5FK5uZ"
   },
   "outputs": [],
   "source": [
    "import pandas as pd\n",
    "import matplotlib.pyplot as plt\n",
    "import seaborn as sns\n",
    "\n",
    "import multiprocessing\n",
    "from gensim.models import Word2Vec"
   ]
  },
  {
   "cell_type": "code",
   "execution_count": null,
   "metadata": {
    "colab": {
     "base_uri": "https://localhost:8080/"
    },
    "id": "g6A0q7x7sCs7",
    "outputId": "d85732af-74f3-49a0-d319-b8f7a434af68"
   },
   "outputs": [
    {
     "name": "stdout",
     "output_type": "stream",
     "text": [
      "Drive already mounted at /content/drive; to attempt to forcibly remount, call drive.mount(\"/content/drive\", force_remount=True).\n"
     ]
    }
   ],
   "source": [
    "from google.colab import drive\n",
    "drive.mount('/content/drive')"
   ]
  },
  {
   "cell_type": "markdown",
   "metadata": {
    "id": "g07zJxG7H9vG"
   },
   "source": [
    "### Datos\n",
    "Utilizaremos como dataset canciones de bandas de habla inglés."
   ]
  },
  {
   "cell_type": "code",
   "execution_count": null,
   "metadata": {
    "colab": {
     "base_uri": "https://localhost:8080/",
     "height": 258
    },
    "id": "ticoqYD1Z3I7",
    "outputId": "cf1093f0-4df7-46ba-ff6e-5e2619778431"
   },
   "outputs": [
    {
     "name": "stderr",
     "output_type": "stream",
     "text": [
      "/usr/local/lib/python3.7/dist-packages/ipykernel_launcher.py:2: ParserWarning: Falling back to the 'python' engine because the 'c' engine does not support regex separators (separators > 1 char and different from '\\s+' are interpreted as regex); you can avoid this warning by specifying engine='python'.\n",
      "  \n"
     ]
    },
    {
     "data": {
      "text/html": [
       "<div>\n",
       "<style scoped>\n",
       "    .dataframe tbody tr th:only-of-type {\n",
       "        vertical-align: middle;\n",
       "    }\n",
       "\n",
       "    .dataframe tbody tr th {\n",
       "        vertical-align: top;\n",
       "    }\n",
       "\n",
       "    .dataframe thead th {\n",
       "        text-align: right;\n",
       "    }\n",
       "</style>\n",
       "<table border=\"1\" class=\"dataframe\">\n",
       "  <thead>\n",
       "    <tr style=\"text-align: right;\">\n",
       "      <th></th>\n",
       "      <th>0</th>\n",
       "    </tr>\n",
       "  </thead>\n",
       "  <tbody>\n",
       "    <tr>\n",
       "      <th>0</th>\n",
       "      <td>Project Gutenberg's The Time Machine, by H. G....</td>\n",
       "    </tr>\n",
       "    <tr>\n",
       "      <th>1</th>\n",
       "      <td>This eBook is for the use of anyone anywhere a...</td>\n",
       "    </tr>\n",
       "    <tr>\n",
       "      <th>2</th>\n",
       "      <td>almost no restrictions whatsoever.  You may co...</td>\n",
       "    </tr>\n",
       "    <tr>\n",
       "      <th>3</th>\n",
       "      <td>re-use it under the terms of the Project Guten...</td>\n",
       "    </tr>\n",
       "    <tr>\n",
       "      <th>4</th>\n",
       "      <td>with this eBook or online at www.gutenberg.net</td>\n",
       "    </tr>\n",
       "  </tbody>\n",
       "</table>\n",
       "</div>"
      ],
      "text/plain": [
       "                                                   0\n",
       "0  Project Gutenberg's The Time Machine, by H. G....\n",
       "1  This eBook is for the use of anyone anywhere a...\n",
       "2  almost no restrictions whatsoever.  You may co...\n",
       "3  re-use it under the terms of the Project Guten...\n",
       "4     with this eBook or online at www.gutenberg.net"
      ]
     },
     "execution_count": 28,
     "metadata": {},
     "output_type": "execute_result"
    }
   ],
   "source": [
    "# Armar el dataset utilizando salto de línea para separar las oraciones/docs\n",
    "df = pd.read_csv('/content/drive/MyDrive/Colab Notebooks/Gutenbergs The Time Machine.txt', sep='/n', header=None)\n",
    "df.head()"
   ]
  },
  {
   "cell_type": "code",
   "execution_count": null,
   "metadata": {
    "colab": {
     "base_uri": "https://localhost:8080/"
    },
    "id": "LEpKubK9XzXN",
    "outputId": "045624b8-4331-43d7-e7eb-168b66380f39"
   },
   "outputs": [
    {
     "name": "stdout",
     "output_type": "stream",
     "text": [
      "Cantidad de documentos: 2859\n"
     ]
    }
   ],
   "source": [
    "print(\"Cantidad de documentos:\", df.shape[0])"
   ]
  },
  {
   "cell_type": "markdown",
   "metadata": {
    "id": "ab94qaFlrA1G"
   },
   "source": [
    "### 1 - Preprocesamiento"
   ]
  },
  {
   "cell_type": "code",
   "execution_count": null,
   "metadata": {
    "id": "rIsmMWmjrDHd"
   },
   "outputs": [],
   "source": [
    "from keras.preprocessing.text import text_to_word_sequence\n",
    "\n",
    "sentence_tokens = []\n",
    "# Recorrer todas las filas y transformar las oraciones\n",
    "# en una secuencia de palabras (esto podría realizarse con NLTK o spaCy también)\n",
    "for _, row in df[:None].iterrows():\n",
    "    sentence_tokens.append(text_to_word_sequence(row[0]))"
   ]
  },
  {
   "cell_type": "code",
   "execution_count": null,
   "metadata": {
    "colab": {
     "base_uri": "https://localhost:8080/"
    },
    "id": "CHepi_DGrbhq",
    "outputId": "b8663f5b-b9ee-4736-b126-7a79065951b4"
   },
   "outputs": [
    {
     "data": {
      "text/plain": [
       "[['project',\n",
       "  \"gutenberg's\",\n",
       "  'the',\n",
       "  'time',\n",
       "  'machine',\n",
       "  'by',\n",
       "  'h',\n",
       "  'g',\n",
       "  'herbert',\n",
       "  'george',\n",
       "  'wells'],\n",
       " ['this',\n",
       "  'ebook',\n",
       "  'is',\n",
       "  'for',\n",
       "  'the',\n",
       "  'use',\n",
       "  'of',\n",
       "  'anyone',\n",
       "  'anywhere',\n",
       "  'at',\n",
       "  'no',\n",
       "  'cost',\n",
       "  'and',\n",
       "  'with']]"
      ]
     },
     "execution_count": 46,
     "metadata": {},
     "output_type": "execute_result"
    }
   ],
   "source": [
    "# Demos un vistazo\n",
    "sentence_tokens[:2]"
   ]
  },
  {
   "cell_type": "markdown",
   "metadata": {
    "id": "BaXV6nlHr5Aa"
   },
   "source": [
    "### 2 - Crear los vectores (word2vec)"
   ]
  },
  {
   "cell_type": "code",
   "execution_count": null,
   "metadata": {
    "id": "OSb0v7h8r7hK"
   },
   "outputs": [],
   "source": [
    "from gensim.models.callbacks import CallbackAny2Vec\n",
    "# Durante el entrenamiento gensim por defecto no informa el \"loss\" en cada época\n",
    "# Sobracargamos el callback para poder tener esta información\n",
    "class callback(CallbackAny2Vec):\n",
    "    \"\"\"\n",
    "    Callback to print loss after each epoch\n",
    "    \"\"\"\n",
    "    def __init__(self):\n",
    "        self.epoch = 0\n",
    "\n",
    "    def on_epoch_end(self, model):\n",
    "        loss = model.get_latest_training_loss()\n",
    "        if self.epoch == 0:\n",
    "            print('Loss after epoch {}: {}'.format(self.epoch, loss))\n",
    "        else:\n",
    "            print('Loss after epoch {}: {}'.format(self.epoch, loss- self.loss_previous_step))\n",
    "        self.epoch += 1\n",
    "        self.loss_previous_step = loss"
   ]
  },
  {
   "cell_type": "code",
   "execution_count": null,
   "metadata": {
    "id": "i0wnDdv9sJ47"
   },
   "outputs": [],
   "source": [
    "# Crearmos el modelo generador de vectoeres\n",
    "# En este caso utilizaremos la estructura modelo Skipgram\n",
    "w2v_model = Word2Vec(min_count=5,    # frecuencia mínima de palabra para incluirla en el vocabulario\n",
    "                     window=3,       # cant de palabras antes y desp de la predicha\n",
    "                     size=300,       # dimensionalidad de los vectores \n",
    "                     negative=20,    # cantidad de negative samples... 0 es no se usa\n",
    "                     workers=1,      # si tienen más cores pueden cambiar este valor\n",
    "                     sg=0)           # modelo 0:CBOW  1:skipgram"
   ]
  },
  {
   "cell_type": "code",
   "execution_count": null,
   "metadata": {
    "id": "5lTt8wErsf17"
   },
   "outputs": [],
   "source": [
    "# Buildear el vocabularui con los tokens\n",
    "w2v_model.build_vocab(sentence_tokens)"
   ]
  },
  {
   "cell_type": "code",
   "execution_count": null,
   "metadata": {
    "colab": {
     "base_uri": "https://localhost:8080/"
    },
    "id": "TNc9qt4os5AT",
    "outputId": "49466ec1-0fd3-4011-d40e-4334b1f261b9"
   },
   "outputs": [
    {
     "name": "stdout",
     "output_type": "stream",
     "text": [
      "Cantidad de docs en el corpus: 2859\n"
     ]
    }
   ],
   "source": [
    "# Cantidad de filas/docs encontradas en el corpus\n",
    "print(\"Cantidad de docs en el corpus:\", w2v_model.corpus_count)"
   ]
  },
  {
   "cell_type": "code",
   "execution_count": null,
   "metadata": {
    "colab": {
     "base_uri": "https://localhost:8080/"
    },
    "id": "idw9cHF3tSMl",
    "outputId": "ea11491b-88ac-4204-f1a5-4674e9bf091d"
   },
   "outputs": [
    {
     "name": "stdout",
     "output_type": "stream",
     "text": [
      "Cantidad de words distintas en el corpus: 841\n"
     ]
    }
   ],
   "source": [
    "# Cantidad de words encontradas en el corpus\n",
    "print(\"Cantidad de words distintas en el corpus:\", len(w2v_model.wv.vocab))"
   ]
  },
  {
   "cell_type": "markdown",
   "metadata": {
    "id": "fC9mZ8DPk-UC"
   },
   "source": [
    "### 3 - Entrenar el modelo generador"
   ]
  },
  {
   "cell_type": "code",
   "execution_count": null,
   "metadata": {
    "colab": {
     "base_uri": "https://localhost:8080/"
    },
    "id": "QSp-x0PAsq56",
    "outputId": "eb5ef82a-7dab-438e-fb06-78d2e81fa7ac"
   },
   "outputs": [
    {
     "name": "stdout",
     "output_type": "stream",
     "text": [
      "Loss after epoch 0: 124823.1875\n",
      "Loss after epoch 1: 73257.6875\n",
      "Loss after epoch 2: 70425.15625\n",
      "Loss after epoch 3: 69581.375\n",
      "Loss after epoch 4: 69342.25\n",
      "Loss after epoch 5: 69293.625\n",
      "Loss after epoch 6: 69432.59375\n",
      "Loss after epoch 7: 70191.75\n",
      "Loss after epoch 8: 70259.875\n",
      "Loss after epoch 9: 69890.125\n",
      "Loss after epoch 10: 69989.875\n",
      "Loss after epoch 11: 69151.125\n",
      "Loss after epoch 12: 68796.625\n",
      "Loss after epoch 13: 68232.875\n",
      "Loss after epoch 14: 61842.0\n",
      "Loss after epoch 15: 58924.375\n",
      "Loss after epoch 16: 58717.0\n",
      "Loss after epoch 17: 58086.0\n",
      "Loss after epoch 18: 58235.25\n",
      "Loss after epoch 19: 57434.5\n",
      "Loss after epoch 20: 56859.875\n",
      "Loss after epoch 21: 56310.0\n",
      "Loss after epoch 22: 56204.125\n",
      "Loss after epoch 23: 55349.5\n",
      "Loss after epoch 24: 54933.625\n",
      "Loss after epoch 25: 54062.625\n",
      "Loss after epoch 26: 53119.25\n",
      "Loss after epoch 27: 52346.875\n",
      "Loss after epoch 28: 52183.25\n",
      "Loss after epoch 29: 51211.625\n",
      "Loss after epoch 30: 50547.25\n",
      "Loss after epoch 31: 50202.5\n",
      "Loss after epoch 32: 49126.25\n",
      "Loss after epoch 33: 45763.5\n",
      "Loss after epoch 34: 44052.0\n",
      "Loss after epoch 35: 43106.0\n",
      "Loss after epoch 36: 43020.5\n",
      "Loss after epoch 37: 42687.0\n",
      "Loss after epoch 38: 42320.75\n",
      "Loss after epoch 39: 41826.25\n",
      "Loss after epoch 40: 41746.75\n",
      "Loss after epoch 41: 41013.25\n",
      "Loss after epoch 42: 40519.75\n",
      "Loss after epoch 43: 40015.75\n",
      "Loss after epoch 44: 39998.0\n",
      "Loss after epoch 45: 39238.0\n",
      "Loss after epoch 46: 39134.5\n",
      "Loss after epoch 47: 38984.75\n",
      "Loss after epoch 48: 38720.75\n",
      "Loss after epoch 49: 38528.0\n",
      "Loss after epoch 50: 38119.0\n",
      "Loss after epoch 51: 37607.5\n",
      "Loss after epoch 52: 37530.75\n",
      "Loss after epoch 53: 37263.25\n",
      "Loss after epoch 54: 37201.0\n",
      "Loss after epoch 55: 36915.0\n",
      "Loss after epoch 56: 37143.0\n",
      "Loss after epoch 57: 36753.0\n",
      "Loss after epoch 58: 36402.25\n",
      "Loss after epoch 59: 35992.0\n",
      "Loss after epoch 60: 35691.5\n",
      "Loss after epoch 61: 35785.5\n",
      "Loss after epoch 62: 35602.25\n",
      "Loss after epoch 63: 35823.75\n",
      "Loss after epoch 64: 35445.25\n",
      "Loss after epoch 65: 35346.0\n",
      "Loss after epoch 66: 35224.75\n",
      "Loss after epoch 67: 35071.5\n",
      "Loss after epoch 68: 35230.5\n",
      "Loss after epoch 69: 34881.0\n",
      "Loss after epoch 70: 35250.0\n",
      "Loss after epoch 71: 34651.0\n",
      "Loss after epoch 72: 35074.5\n",
      "Loss after epoch 73: 34953.5\n",
      "Loss after epoch 74: 34522.0\n",
      "Loss after epoch 75: 34907.0\n",
      "Loss after epoch 76: 34315.25\n",
      "Loss after epoch 77: 34312.5\n",
      "Loss after epoch 78: 34287.5\n",
      "Loss after epoch 79: 34048.75\n",
      "Loss after epoch 80: 33931.75\n",
      "Loss after epoch 81: 34367.5\n",
      "Loss after epoch 82: 34254.25\n",
      "Loss after epoch 83: 34274.5\n",
      "Loss after epoch 84: 34003.5\n",
      "Loss after epoch 85: 34061.0\n",
      "Loss after epoch 86: 33915.5\n",
      "Loss after epoch 87: 33769.5\n",
      "Loss after epoch 88: 34147.5\n",
      "Loss after epoch 89: 34296.25\n",
      "Loss after epoch 90: 31737.5\n",
      "Loss after epoch 91: 31438.5\n",
      "Loss after epoch 92: 31267.0\n",
      "Loss after epoch 93: 31711.0\n",
      "Loss after epoch 94: 31384.0\n",
      "Loss after epoch 95: 31292.5\n",
      "Loss after epoch 96: 31198.5\n",
      "Loss after epoch 97: 31263.0\n",
      "Loss after epoch 98: 30977.5\n",
      "Loss after epoch 99: 31557.5\n",
      "Loss after epoch 100: 31246.0\n",
      "Loss after epoch 101: 31072.5\n",
      "Loss after epoch 102: 31519.5\n",
      "Loss after epoch 103: 30789.0\n",
      "Loss after epoch 104: 31558.5\n",
      "Loss after epoch 105: 31228.5\n",
      "Loss after epoch 106: 31699.5\n",
      "Loss after epoch 107: 31071.5\n",
      "Loss after epoch 108: 31359.0\n",
      "Loss after epoch 109: 31181.0\n",
      "Loss after epoch 110: 31149.0\n",
      "Loss after epoch 111: 31489.0\n",
      "Loss after epoch 112: 31047.5\n",
      "Loss after epoch 113: 30964.0\n",
      "Loss after epoch 114: 31078.0\n",
      "Loss after epoch 115: 31001.5\n",
      "Loss after epoch 116: 31177.0\n",
      "Loss after epoch 117: 31156.0\n",
      "Loss after epoch 118: 31211.0\n",
      "Loss after epoch 119: 31183.5\n",
      "Loss after epoch 120: 31138.5\n",
      "Loss after epoch 121: 31396.0\n",
      "Loss after epoch 122: 31312.0\n",
      "Loss after epoch 123: 30696.0\n",
      "Loss after epoch 124: 31863.0\n",
      "Loss after epoch 125: 31226.0\n",
      "Loss after epoch 126: 31407.0\n",
      "Loss after epoch 127: 31008.5\n",
      "Loss after epoch 128: 30761.5\n",
      "Loss after epoch 129: 30942.0\n",
      "Loss after epoch 130: 31367.0\n",
      "Loss after epoch 131: 31025.0\n",
      "Loss after epoch 132: 31258.5\n",
      "Loss after epoch 133: 31312.5\n",
      "Loss after epoch 134: 31606.5\n",
      "Loss after epoch 135: 31217.5\n",
      "Loss after epoch 136: 30884.0\n",
      "Loss after epoch 137: 31027.0\n",
      "Loss after epoch 138: 30914.5\n",
      "Loss after epoch 139: 30856.0\n",
      "Loss after epoch 140: 31109.5\n",
      "Loss after epoch 141: 30664.5\n",
      "Loss after epoch 142: 31299.0\n",
      "Loss after epoch 143: 31222.5\n",
      "Loss after epoch 144: 31200.5\n",
      "Loss after epoch 145: 31049.5\n",
      "Loss after epoch 146: 31020.0\n",
      "Loss after epoch 147: 31211.0\n",
      "Loss after epoch 148: 31270.0\n",
      "Loss after epoch 149: 30887.0\n",
      "Loss after epoch 150: 31220.0\n",
      "Loss after epoch 151: 31093.5\n",
      "Loss after epoch 152: 30913.5\n",
      "Loss after epoch 153: 31314.0\n",
      "Loss after epoch 154: 31358.5\n",
      "Loss after epoch 155: 31247.5\n",
      "Loss after epoch 156: 31533.5\n",
      "Loss after epoch 157: 31186.0\n",
      "Loss after epoch 158: 31258.5\n",
      "Loss after epoch 159: 31232.5\n",
      "Loss after epoch 160: 31239.5\n",
      "Loss after epoch 161: 31365.5\n",
      "Loss after epoch 162: 31313.5\n",
      "Loss after epoch 163: 30827.0\n",
      "Loss after epoch 164: 31600.0\n",
      "Loss after epoch 165: 31226.5\n",
      "Loss after epoch 166: 30872.5\n",
      "Loss after epoch 167: 31259.0\n",
      "Loss after epoch 168: 30980.0\n",
      "Loss after epoch 169: 30920.0\n",
      "Loss after epoch 170: 30995.0\n",
      "Loss after epoch 171: 31113.0\n",
      "Loss after epoch 172: 31061.5\n",
      "Loss after epoch 173: 30986.5\n",
      "Loss after epoch 174: 31259.0\n",
      "Loss after epoch 175: 31321.0\n",
      "Loss after epoch 176: 30683.5\n",
      "Loss after epoch 177: 31015.5\n",
      "Loss after epoch 178: 30935.0\n",
      "Loss after epoch 179: 31269.5\n",
      "Loss after epoch 180: 31151.5\n",
      "Loss after epoch 181: 31066.0\n",
      "Loss after epoch 182: 31410.5\n",
      "Loss after epoch 183: 30337.5\n",
      "Loss after epoch 184: 31099.0\n",
      "Loss after epoch 185: 30870.0\n",
      "Loss after epoch 186: 30907.5\n",
      "Loss after epoch 187: 31106.0\n",
      "Loss after epoch 188: 31289.0\n",
      "Loss after epoch 189: 30823.5\n",
      "Loss after epoch 190: 31055.0\n",
      "Loss after epoch 191: 31106.0\n",
      "Loss after epoch 192: 30711.0\n",
      "Loss after epoch 193: 31322.5\n",
      "Loss after epoch 194: 30621.0\n",
      "Loss after epoch 195: 31166.5\n",
      "Loss after epoch 196: 30193.5\n",
      "Loss after epoch 197: 30710.5\n",
      "Loss after epoch 198: 30798.0\n",
      "Loss after epoch 199: 30830.0\n",
      "Loss after epoch 200: 30622.0\n",
      "Loss after epoch 201: 30960.5\n",
      "Loss after epoch 202: 30930.0\n",
      "Loss after epoch 203: 30604.5\n",
      "Loss after epoch 204: 30444.0\n",
      "Loss after epoch 205: 31050.0\n",
      "Loss after epoch 206: 30903.5\n",
      "Loss after epoch 207: 30688.0\n",
      "Loss after epoch 208: 30628.5\n",
      "Loss after epoch 209: 30611.0\n",
      "Loss after epoch 210: 30803.5\n",
      "Loss after epoch 211: 31321.0\n",
      "Loss after epoch 212: 30674.5\n",
      "Loss after epoch 213: 30202.5\n",
      "Loss after epoch 214: 30620.5\n",
      "Loss after epoch 215: 30786.0\n",
      "Loss after epoch 216: 30575.5\n",
      "Loss after epoch 217: 31031.0\n",
      "Loss after epoch 218: 30902.0\n",
      "Loss after epoch 219: 30700.0\n",
      "Loss after epoch 220: 30499.0\n",
      "Loss after epoch 221: 30808.5\n",
      "Loss after epoch 222: 30519.5\n",
      "Loss after epoch 223: 30586.5\n",
      "Loss after epoch 224: 30563.0\n",
      "Loss after epoch 225: 28775.5\n",
      "Loss after epoch 226: 28666.0\n",
      "Loss after epoch 227: 29732.0\n",
      "Loss after epoch 228: 29172.0\n",
      "Loss after epoch 229: 29080.0\n",
      "Loss after epoch 230: 28508.0\n",
      "Loss after epoch 231: 28655.0\n",
      "Loss after epoch 232: 28977.0\n",
      "Loss after epoch 233: 28933.0\n",
      "Loss after epoch 234: 29140.0\n",
      "Loss after epoch 235: 28919.0\n",
      "Loss after epoch 236: 29077.0\n",
      "Loss after epoch 237: 28708.0\n",
      "Loss after epoch 238: 28603.0\n",
      "Loss after epoch 239: 28364.0\n",
      "Loss after epoch 240: 28339.0\n",
      "Loss after epoch 241: 28585.0\n",
      "Loss after epoch 242: 28845.0\n",
      "Loss after epoch 243: 29057.0\n",
      "Loss after epoch 244: 28841.0\n",
      "Loss after epoch 245: 28338.0\n",
      "Loss after epoch 246: 28653.0\n",
      "Loss after epoch 247: 28944.0\n",
      "Loss after epoch 248: 28547.0\n",
      "Loss after epoch 249: 28368.0\n",
      "Loss after epoch 250: 28725.0\n",
      "Loss after epoch 251: 29143.0\n",
      "Loss after epoch 252: 28589.0\n",
      "Loss after epoch 253: 28317.0\n",
      "Loss after epoch 254: 28429.0\n",
      "Loss after epoch 255: 28098.0\n",
      "Loss after epoch 256: 28312.0\n",
      "Loss after epoch 257: 28758.0\n",
      "Loss after epoch 258: 28745.0\n",
      "Loss after epoch 259: 28516.0\n",
      "Loss after epoch 260: 27994.0\n",
      "Loss after epoch 261: 28560.0\n",
      "Loss after epoch 262: 28049.0\n",
      "Loss after epoch 263: 28458.0\n",
      "Loss after epoch 264: 28581.0\n",
      "Loss after epoch 265: 28053.0\n",
      "Loss after epoch 266: 28311.0\n",
      "Loss after epoch 267: 27791.0\n",
      "Loss after epoch 268: 28535.0\n",
      "Loss after epoch 269: 28884.0\n",
      "Loss after epoch 270: 28454.0\n",
      "Loss after epoch 271: 28190.0\n",
      "Loss after epoch 272: 28159.0\n",
      "Loss after epoch 273: 27850.0\n",
      "Loss after epoch 274: 28206.0\n",
      "Loss after epoch 275: 28237.0\n",
      "Loss after epoch 276: 28310.0\n",
      "Loss after epoch 277: 28490.0\n",
      "Loss after epoch 278: 28197.0\n",
      "Loss after epoch 279: 28357.0\n",
      "Loss after epoch 280: 27867.0\n",
      "Loss after epoch 281: 27902.0\n",
      "Loss after epoch 282: 27475.0\n",
      "Loss after epoch 283: 28279.0\n",
      "Loss after epoch 284: 27692.0\n",
      "Loss after epoch 285: 27684.0\n",
      "Loss after epoch 286: 27840.0\n",
      "Loss after epoch 287: 27489.0\n",
      "Loss after epoch 288: 27381.0\n",
      "Loss after epoch 289: 27951.0\n",
      "Loss after epoch 290: 27843.0\n",
      "Loss after epoch 291: 27786.0\n",
      "Loss after epoch 292: 27830.0\n",
      "Loss after epoch 293: 27411.0\n",
      "Loss after epoch 294: 27640.0\n",
      "Loss after epoch 295: 27652.0\n",
      "Loss after epoch 296: 27676.0\n",
      "Loss after epoch 297: 27640.0\n",
      "Loss after epoch 298: 27887.0\n",
      "Loss after epoch 299: 27903.0\n",
      "Loss after epoch 300: 27599.0\n",
      "Loss after epoch 301: 27650.0\n",
      "Loss after epoch 302: 27869.0\n",
      "Loss after epoch 303: 27543.0\n",
      "Loss after epoch 304: 27434.0\n",
      "Loss after epoch 305: 27668.0\n",
      "Loss after epoch 306: 27536.0\n",
      "Loss after epoch 307: 27998.0\n",
      "Loss after epoch 308: 27020.0\n",
      "Loss after epoch 309: 27349.0\n",
      "Loss after epoch 310: 27790.0\n",
      "Loss after epoch 311: 27595.0\n",
      "Loss after epoch 312: 26650.0\n",
      "Loss after epoch 313: 26885.0\n",
      "Loss after epoch 314: 27524.0\n",
      "Loss after epoch 315: 27251.0\n",
      "Loss after epoch 316: 27090.0\n",
      "Loss after epoch 317: 27105.0\n",
      "Loss after epoch 318: 27321.0\n",
      "Loss after epoch 319: 26796.0\n",
      "Loss after epoch 320: 27227.0\n",
      "Loss after epoch 321: 26631.0\n",
      "Loss after epoch 322: 26812.0\n",
      "Loss after epoch 323: 27075.0\n",
      "Loss after epoch 324: 26888.0\n",
      "Loss after epoch 325: 27393.0\n",
      "Loss after epoch 326: 26373.0\n",
      "Loss after epoch 327: 26429.0\n",
      "Loss after epoch 328: 26973.0\n",
      "Loss after epoch 329: 27225.0\n",
      "Loss after epoch 330: 26816.0\n",
      "Loss after epoch 331: 26944.0\n",
      "Loss after epoch 332: 27174.0\n",
      "Loss after epoch 333: 27266.0\n",
      "Loss after epoch 334: 26769.0\n",
      "Loss after epoch 335: 26540.0\n",
      "Loss after epoch 336: 26186.0\n",
      "Loss after epoch 337: 26589.0\n",
      "Loss after epoch 338: 26238.0\n",
      "Loss after epoch 339: 26784.0\n",
      "Loss after epoch 340: 26929.0\n",
      "Loss after epoch 341: 26648.0\n",
      "Loss after epoch 342: 26566.0\n",
      "Loss after epoch 343: 27066.0\n",
      "Loss after epoch 344: 26314.0\n",
      "Loss after epoch 345: 26676.0\n",
      "Loss after epoch 346: 26602.0\n",
      "Loss after epoch 347: 26140.0\n",
      "Loss after epoch 348: 26441.0\n",
      "Loss after epoch 349: 26384.0\n",
      "Loss after epoch 350: 26386.0\n",
      "Loss after epoch 351: 26055.0\n",
      "Loss after epoch 352: 26124.0\n",
      "Loss after epoch 353: 26494.0\n",
      "Loss after epoch 354: 25949.0\n",
      "Loss after epoch 355: 26233.0\n",
      "Loss after epoch 356: 26238.0\n",
      "Loss after epoch 357: 25992.0\n",
      "Loss after epoch 358: 26678.0\n",
      "Loss after epoch 359: 25844.0\n",
      "Loss after epoch 360: 26082.0\n",
      "Loss after epoch 361: 26231.0\n",
      "Loss after epoch 362: 26207.0\n",
      "Loss after epoch 363: 25747.0\n",
      "Loss after epoch 364: 25786.0\n",
      "Loss after epoch 365: 25711.0\n",
      "Loss after epoch 366: 26340.0\n",
      "Loss after epoch 367: 25929.0\n",
      "Loss after epoch 368: 26032.0\n",
      "Loss after epoch 369: 25975.0\n",
      "Loss after epoch 370: 25608.0\n",
      "Loss after epoch 371: 25704.0\n",
      "Loss after epoch 372: 25691.0\n",
      "Loss after epoch 373: 25563.0\n",
      "Loss after epoch 374: 25884.0\n",
      "Loss after epoch 375: 25847.0\n",
      "Loss after epoch 376: 25768.0\n",
      "Loss after epoch 377: 25871.0\n",
      "Loss after epoch 378: 25459.0\n",
      "Loss after epoch 379: 25520.0\n",
      "Loss after epoch 380: 25485.0\n",
      "Loss after epoch 381: 25230.0\n",
      "Loss after epoch 382: 25725.0\n",
      "Loss after epoch 383: 25761.0\n",
      "Loss after epoch 384: 25392.0\n",
      "Loss after epoch 385: 25353.0\n",
      "Loss after epoch 386: 25182.0\n",
      "Loss after epoch 387: 25696.0\n",
      "Loss after epoch 388: 24870.0\n",
      "Loss after epoch 389: 25194.0\n",
      "Loss after epoch 390: 25433.0\n",
      "Loss after epoch 391: 24850.0\n",
      "Loss after epoch 392: 25014.0\n",
      "Loss after epoch 393: 24878.0\n",
      "Loss after epoch 394: 25443.0\n",
      "Loss after epoch 395: 25226.0\n",
      "Loss after epoch 396: 24945.0\n",
      "Loss after epoch 397: 25057.0\n",
      "Loss after epoch 398: 24944.0\n",
      "Loss after epoch 399: 24738.0\n",
      "Loss after epoch 400: 24888.0\n",
      "Loss after epoch 401: 24911.0\n",
      "Loss after epoch 402: 24927.0\n",
      "Loss after epoch 403: 24817.0\n",
      "Loss after epoch 404: 25464.0\n",
      "Loss after epoch 405: 24997.0\n",
      "Loss after epoch 406: 24897.0\n",
      "Loss after epoch 407: 24894.0\n",
      "Loss after epoch 408: 24863.0\n",
      "Loss after epoch 409: 24945.0\n",
      "Loss after epoch 410: 24678.0\n",
      "Loss after epoch 411: 24298.0\n",
      "Loss after epoch 412: 24340.0\n",
      "Loss after epoch 413: 24539.0\n",
      "Loss after epoch 414: 24498.0\n",
      "Loss after epoch 415: 24698.0\n",
      "Loss after epoch 416: 24427.0\n",
      "Loss after epoch 417: 24616.0\n",
      "Loss after epoch 418: 24463.0\n",
      "Loss after epoch 419: 24505.0\n",
      "Loss after epoch 420: 24344.0\n",
      "Loss after epoch 421: 24820.0\n",
      "Loss after epoch 422: 24599.0\n",
      "Loss after epoch 423: 24623.0\n",
      "Loss after epoch 424: 24608.0\n",
      "Loss after epoch 425: 24197.0\n",
      "Loss after epoch 426: 24353.0\n",
      "Loss after epoch 427: 24176.0\n",
      "Loss after epoch 428: 24313.0\n",
      "Loss after epoch 429: 24160.0\n",
      "Loss after epoch 430: 24071.0\n",
      "Loss after epoch 431: 23798.0\n",
      "Loss after epoch 432: 23848.0\n",
      "Loss after epoch 433: 24000.0\n",
      "Loss after epoch 434: 24189.0\n",
      "Loss after epoch 435: 24295.0\n",
      "Loss after epoch 436: 24021.0\n",
      "Loss after epoch 437: 24122.0\n",
      "Loss after epoch 438: 23725.0\n",
      "Loss after epoch 439: 24072.0\n",
      "Loss after epoch 440: 23832.0\n",
      "Loss after epoch 441: 23461.0\n",
      "Loss after epoch 442: 23170.0\n",
      "Loss after epoch 443: 23697.0\n",
      "Loss after epoch 444: 23718.0\n",
      "Loss after epoch 445: 23653.0\n",
      "Loss after epoch 446: 24019.0\n",
      "Loss after epoch 447: 23971.0\n",
      "Loss after epoch 448: 23900.0\n",
      "Loss after epoch 449: 23829.0\n",
      "Loss after epoch 450: 23439.0\n",
      "Loss after epoch 451: 23316.0\n",
      "Loss after epoch 452: 23205.0\n",
      "Loss after epoch 453: 23358.0\n",
      "Loss after epoch 454: 23804.0\n",
      "Loss after epoch 455: 23294.0\n",
      "Loss after epoch 456: 23743.0\n",
      "Loss after epoch 457: 23315.0\n",
      "Loss after epoch 458: 23371.0\n",
      "Loss after epoch 459: 23125.0\n",
      "Loss after epoch 460: 23010.0\n",
      "Loss after epoch 461: 22773.0\n",
      "Loss after epoch 462: 23134.0\n",
      "Loss after epoch 463: 23007.0\n",
      "Loss after epoch 464: 23209.0\n",
      "Loss after epoch 465: 23168.0\n",
      "Loss after epoch 466: 22950.0\n",
      "Loss after epoch 467: 23002.0\n",
      "Loss after epoch 468: 23026.0\n",
      "Loss after epoch 469: 22922.0\n",
      "Loss after epoch 470: 22991.0\n",
      "Loss after epoch 471: 22978.0\n",
      "Loss after epoch 472: 22745.0\n",
      "Loss after epoch 473: 22938.0\n",
      "Loss after epoch 474: 22920.0\n",
      "Loss after epoch 475: 23399.0\n",
      "Loss after epoch 476: 23097.0\n",
      "Loss after epoch 477: 22402.0\n",
      "Loss after epoch 478: 23020.0\n",
      "Loss after epoch 479: 22557.0\n",
      "Loss after epoch 480: 22765.0\n",
      "Loss after epoch 481: 22340.0\n",
      "Loss after epoch 482: 22259.0\n",
      "Loss after epoch 483: 23022.0\n",
      "Loss after epoch 484: 22527.0\n",
      "Loss after epoch 485: 22498.0\n",
      "Loss after epoch 486: 22709.0\n",
      "Loss after epoch 487: 22669.0\n",
      "Loss after epoch 488: 22544.0\n",
      "Loss after epoch 489: 22122.0\n",
      "Loss after epoch 490: 22586.0\n",
      "Loss after epoch 491: 22488.0\n",
      "Loss after epoch 492: 22802.0\n",
      "Loss after epoch 493: 22171.0\n",
      "Loss after epoch 494: 22392.0\n",
      "Loss after epoch 495: 22583.0\n",
      "Loss after epoch 496: 22286.0\n",
      "Loss after epoch 497: 22577.0\n",
      "Loss after epoch 498: 22292.0\n",
      "Loss after epoch 499: 22459.0\n"
     ]
    },
    {
     "data": {
      "text/plain": [
       "(8418735, 16460500)"
      ]
     },
     "execution_count": 85,
     "metadata": {},
     "output_type": "execute_result"
    }
   ],
   "source": [
    "# Entrenamos el modelo generador de vectores\n",
    "# Utilizamos nuestro callback\n",
    "w2v_model.train(sentence_tokens,\n",
    "                 total_examples=w2v_model.corpus_count,\n",
    "                 epochs=500,\n",
    "                 compute_loss = True,\n",
    "                 callbacks=[callback()]\n",
    "                 )"
   ]
  },
  {
   "cell_type": "markdown",
   "metadata": {
    "id": "ddT9NVuNlCAe"
   },
   "source": [
    "### 4 - Ensayar"
   ]
  },
  {
   "cell_type": "code",
   "execution_count": null,
   "metadata": {
    "colab": {
     "base_uri": "https://localhost:8080/"
    },
    "id": "6cHN9xGLuPEm",
    "outputId": "6f3f52b7-eb41-4703-d823-7f29903ceada"
   },
   "outputs": [
    {
     "data": {
      "text/plain": [
       "[('fact', 0.24650713801383972),\n",
       " (\"'but\", 0.24264612793922424),\n",
       " ('this', 0.22391046583652496),\n",
       " ('lamp', 0.21207043528556824),\n",
       " ('dinner', 0.2095000147819519),\n",
       " ('want', 0.20742282271385193),\n",
       " (\"'at\", 0.1857917457818985),\n",
       " ('tell', 0.18518438935279846),\n",
       " ('sure', 0.18298691511154175),\n",
       " ('grass', 0.18011288344860077)]"
      ]
     },
     "execution_count": 86,
     "metadata": {},
     "output_type": "execute_result"
    }
   ],
   "source": [
    "# Palabras que MÁS se relacionan con...:\n",
    "w2v_model.wv.most_similar(positive=[\"time\"], topn=10)"
   ]
  },
  {
   "cell_type": "code",
   "execution_count": null,
   "metadata": {
    "colab": {
     "base_uri": "https://localhost:8080/"
    },
    "id": "47HiU5gdkdMq",
    "outputId": "f145bade-61db-4ff5-9554-21f7d0c4b61c"
   },
   "outputs": [
    {
     "data": {
      "text/plain": [
       "[('import', 0.22922617197036743),\n",
       " ('killing', 0.2233613282442093),\n",
       " ('let', 0.20310063660144806),\n",
       " ('above', 0.19507606327533722),\n",
       " ('standing', 0.19284676015377045),\n",
       " ('lower', 0.1829090416431427),\n",
       " ('eight', 0.17881998419761658),\n",
       " ('needs', 0.17624300718307495),\n",
       " ('front', 0.17429989576339722),\n",
       " ('upper', 0.1724141240119934)]"
      ]
     },
     "execution_count": 87,
     "metadata": {},
     "output_type": "execute_result"
    }
   ],
   "source": [
    "# Palabras que MENOS se relacionan con...:\n",
    "w2v_model.wv.most_similar(negative=[\"machine\"], topn=10)"
   ]
  },
  {
   "cell_type": "code",
   "execution_count": null,
   "metadata": {
    "colab": {
     "base_uri": "https://localhost:8080/"
    },
    "id": "DT4Rvno2mD65",
    "outputId": "b6bf7925-5f7a-41c5-d574-aefdd7466f33"
   },
   "outputs": [
    {
     "data": {
      "text/plain": [
       "[('saddle', 0.36718490719795227),\n",
       " ('travelled', 0.25770848989486694),\n",
       " ('palace', 0.25553667545318604),\n",
       " ('afternoon', 0.25166356563568115),\n",
       " ('model', 0.2505798041820526),\n",
       " ('pleasant', 0.24813537299633026),\n",
       " ('eight', 0.24461029469966888),\n",
       " ('spite', 0.23742105066776276),\n",
       " (\"'\", 0.22303904592990875),\n",
       " ('object', 0.2179487943649292)]"
      ]
     },
     "execution_count": 88,
     "metadata": {},
     "output_type": "execute_result"
    }
   ],
   "source": [
    "# Palabras que MÁS se relacionan con...:\n",
    "w2v_model.wv.most_similar(positive=[\"future\"], topn=10)"
   ]
  },
  {
   "cell_type": "code",
   "execution_count": null,
   "metadata": {
    "colab": {
     "base_uri": "https://localhost:8080/"
    },
    "id": "XPLDPgzBmQXt",
    "outputId": "69358008-091b-4351-c9a3-bd9f3f37fe9a"
   },
   "outputs": [
    {
     "data": {
      "text/plain": [
       "[('probably', 0.29537302255630493),\n",
       " ('experience', 0.23488083481788635),\n",
       " ('safe', 0.23479600250720978),\n",
       " ('lower', 0.23233424127101898),\n",
       " ('twilight', 0.22897014021873474)]"
      ]
     },
     "execution_count": 89,
     "metadata": {},
     "output_type": "execute_result"
    }
   ],
   "source": [
    "# Palabras que MÁS se relacionan con...:\n",
    "w2v_model.wv.most_similar(positive=[\"humanity\"], topn=5)"
   ]
  },
  {
   "cell_type": "markdown",
   "metadata": {
    "id": "_g8UVWe6lFmh"
   },
   "source": [
    "### 5 - Visualizar agrupación de vectores"
   ]
  },
  {
   "cell_type": "code",
   "execution_count": null,
   "metadata": {
    "id": "pDxEVXAivjr9"
   },
   "outputs": [],
   "source": [
    "from sklearn.decomposition import IncrementalPCA    \n",
    "from sklearn.manifold import TSNE                   \n",
    "import numpy as np                                  \n",
    "\n",
    "def reduce_dimensions(model):\n",
    "    num_dimensions = 2  \n",
    "\n",
    "    vectors = np.asarray(model.wv.vectors)\n",
    "    labels = np.asarray(model.wv.index2word)  \n",
    "\n",
    "    tsne = TSNE(n_components=num_dimensions, random_state=0)\n",
    "    vectors = tsne.fit_transform(vectors)\n",
    "\n",
    "    x_vals = [v[0] for v in vectors]\n",
    "    y_vals = [v[1] for v in vectors]\n",
    "    return x_vals, y_vals, labels"
   ]
  },
  {
   "cell_type": "code",
   "execution_count": null,
   "metadata": {
    "colab": {
     "base_uri": "https://localhost:8080/",
     "height": 542
    },
    "id": "NCCXtDpcugmd",
    "outputId": "ca4651f1-0f1b-4c50-870e-07a4b9064d0f"
   },
   "outputs": [
    {
     "data": {
      "text/html": [
       "<html>\n",
       "<head><meta charset=\"utf-8\" /></head>\n",
       "<body>\n",
       "    <div>\n",
       "            <script src=\"https://cdnjs.cloudflare.com/ajax/libs/mathjax/2.7.5/MathJax.js?config=TeX-AMS-MML_SVG\"></script><script type=\"text/javascript\">if (window.MathJax) {MathJax.Hub.Config({SVG: {font: \"STIX-Web\"}});}</script>\n",
       "                <script type=\"text/javascript\">window.PlotlyConfig = {MathJaxConfig: 'local'};</script>\n",
       "        <script src=\"https://cdn.plot.ly/plotly-latest.min.js\"></script>    \n",
       "            <div id=\"e286c2b0-e245-49d8-8ec2-7276938b0450\" class=\"plotly-graph-div\" style=\"height:525px; width:100%;\"></div>\n",
       "            <script type=\"text/javascript\">\n",
       "                \n",
       "                    window.PLOTLYENV=window.PLOTLYENV || {};\n",
       "                    \n",
       "                if (document.getElementById(\"e286c2b0-e245-49d8-8ec2-7276938b0450\")) {\n",
       "                    Plotly.newPlot(\n",
       "                        'e286c2b0-e245-49d8-8ec2-7276938b0450',\n",
       "                        [{\"hoverlabel\": {\"namelength\": 0}, \"hovertemplate\": \"x=%{x}<br>y=%{y}<br>text=%{text}\", \"legendgroup\": \"\", \"marker\": {\"color\": \"#636efa\", \"symbol\": \"circle\"}, \"mode\": \"markers+text\", \"name\": \"\", \"showlegend\": false, \"text\": [\"the\", \"and\", \"i\", \"of\", \"a\", \"to\", \"was\", \"in\", \"my\", \"that\", \"it\", \"had\", \"me\", \"as\", \"at\", \"for\", \"with\", \"time\", \"but\", \"'\", \"were\", \"this\", \"on\", \"his\", \"then\", \"you\", \"have\", \"from\", \"they\", \"there\", \"he\", \"all\", \"into\", \"upon\", \"one\", \"not\", \"little\", \"so\", \"came\", \"by\", \"is\", \"be\", \"some\", \"could\", \"no\", \"their\", \"said\", \"machine\", \"saw\", \"down\"], \"type\": \"scatter\", \"x\": [1.5742913484573364, 3.056983709335327, -34.564701080322266, 2.338822841644287, 0.621135413646698, -29.41261100769043, -35.874168395996094, -1.9877086877822876, -36.48309326171875, -31.413009643554688, -8.574974060058594, -20.885011672973633, -47.57020568847656, -37.31778335571289, -44.50242233276367, -40.75389862060547, -38.06264114379883, -66.7990493774414, -34.94400405883789, -45.97801971435547, -80.20943450927734, -62.65070724487305, -63.60287857055664, -35.090370178222656, -54.70442581176758, -52.62749481201172, -32.98318862915039, -51.203128814697266, -5.460918426513672, -4.725846290588379, -66.71946716308594, 68.54183197021484, 51.820255279541016, 8.458927154541016, -71.41356658935547, -51.8547477722168, -39.56390380859375, -53.71961212158203, 26.990028381347656, 65.77953338623047, -36.98697280883789, -32.11174774169922, -68.91436004638672, -22.330698013305664, 63.078163146972656, 3.4138686656951904, 18.986454010009766, 0.21579279005527496, -14.277717590332031, 14.936460494995117], \"xaxis\": \"x\", \"y\": [-2.9212634563446045, -3.933439016342163, -15.469033241271973, 1.5441874265670776, -5.676518440246582, 8.864706993103027, 10.370763778686523, 0.09407279640436172, -18.648244857788086, -13.79202651977539, -9.023430824279785, 16.610227584838867, -16.554401397705078, -4.987313747406006, 54.162750244140625, -0.9635854363441467, 3.1412816047668457, 8.813608169555664, 5.779662609100342, -1.007625937461853, 37.01396942138672, 5.476935386657715, 21.6798038482666, -23.385772705078125, -46.423091888427734, -29.832202911376953, -11.5912446975708, 63.28305435180664, -84.61622619628906, -56.07649230957031, -49.052738189697266, -47.193397521972656, 57.75398254394531, 90.95694732666016, -34.02210998535156, -13.910017013549805, -45.22793197631836, 73.4551010131836, 74.48294830322266, 60.86620330810547, 9.945805549621582, -20.16586685180664, -19.432279586791992, 60.37862777709961, -65.20370483398438, -1.3412855863571167, -54.903221130371094, 51.14379119873047, 32.57057571411133, -23.687639236450195], \"yaxis\": \"y\"}],\n",
       "                        {\"legend\": {\"tracegroupgap\": 0}, \"margin\": {\"t\": 60}, \"template\": {\"data\": {\"bar\": [{\"error_x\": {\"color\": \"#2a3f5f\"}, \"error_y\": {\"color\": \"#2a3f5f\"}, \"marker\": {\"line\": {\"color\": \"#E5ECF6\", \"width\": 0.5}}, \"type\": \"bar\"}], \"barpolar\": [{\"marker\": {\"line\": {\"color\": \"#E5ECF6\", \"width\": 0.5}}, \"type\": \"barpolar\"}], \"carpet\": [{\"aaxis\": {\"endlinecolor\": \"#2a3f5f\", \"gridcolor\": \"white\", \"linecolor\": \"white\", \"minorgridcolor\": \"white\", \"startlinecolor\": \"#2a3f5f\"}, \"baxis\": {\"endlinecolor\": \"#2a3f5f\", \"gridcolor\": \"white\", \"linecolor\": \"white\", \"minorgridcolor\": \"white\", \"startlinecolor\": \"#2a3f5f\"}, \"type\": \"carpet\"}], \"choropleth\": [{\"colorbar\": {\"outlinewidth\": 0, \"ticks\": \"\"}, \"type\": \"choropleth\"}], \"contour\": [{\"colorbar\": {\"outlinewidth\": 0, \"ticks\": \"\"}, \"colorscale\": [[0.0, \"#0d0887\"], [0.1111111111111111, \"#46039f\"], [0.2222222222222222, \"#7201a8\"], [0.3333333333333333, \"#9c179e\"], [0.4444444444444444, \"#bd3786\"], [0.5555555555555556, \"#d8576b\"], [0.6666666666666666, \"#ed7953\"], [0.7777777777777778, \"#fb9f3a\"], [0.8888888888888888, \"#fdca26\"], [1.0, \"#f0f921\"]], \"type\": \"contour\"}], \"contourcarpet\": [{\"colorbar\": {\"outlinewidth\": 0, \"ticks\": \"\"}, \"type\": \"contourcarpet\"}], \"heatmap\": [{\"colorbar\": {\"outlinewidth\": 0, \"ticks\": \"\"}, \"colorscale\": [[0.0, \"#0d0887\"], [0.1111111111111111, \"#46039f\"], [0.2222222222222222, \"#7201a8\"], [0.3333333333333333, \"#9c179e\"], [0.4444444444444444, \"#bd3786\"], [0.5555555555555556, \"#d8576b\"], [0.6666666666666666, \"#ed7953\"], [0.7777777777777778, \"#fb9f3a\"], [0.8888888888888888, \"#fdca26\"], [1.0, \"#f0f921\"]], \"type\": \"heatmap\"}], \"heatmapgl\": [{\"colorbar\": {\"outlinewidth\": 0, \"ticks\": \"\"}, \"colorscale\": [[0.0, \"#0d0887\"], [0.1111111111111111, \"#46039f\"], [0.2222222222222222, \"#7201a8\"], [0.3333333333333333, \"#9c179e\"], [0.4444444444444444, \"#bd3786\"], [0.5555555555555556, \"#d8576b\"], [0.6666666666666666, \"#ed7953\"], [0.7777777777777778, \"#fb9f3a\"], [0.8888888888888888, \"#fdca26\"], [1.0, \"#f0f921\"]], \"type\": \"heatmapgl\"}], \"histogram\": [{\"marker\": {\"colorbar\": {\"outlinewidth\": 0, \"ticks\": \"\"}}, \"type\": \"histogram\"}], \"histogram2d\": [{\"colorbar\": {\"outlinewidth\": 0, \"ticks\": \"\"}, \"colorscale\": [[0.0, \"#0d0887\"], [0.1111111111111111, \"#46039f\"], [0.2222222222222222, \"#7201a8\"], [0.3333333333333333, \"#9c179e\"], [0.4444444444444444, \"#bd3786\"], [0.5555555555555556, \"#d8576b\"], [0.6666666666666666, \"#ed7953\"], [0.7777777777777778, \"#fb9f3a\"], [0.8888888888888888, \"#fdca26\"], [1.0, \"#f0f921\"]], \"type\": \"histogram2d\"}], \"histogram2dcontour\": [{\"colorbar\": {\"outlinewidth\": 0, \"ticks\": \"\"}, \"colorscale\": [[0.0, \"#0d0887\"], [0.1111111111111111, \"#46039f\"], [0.2222222222222222, \"#7201a8\"], [0.3333333333333333, \"#9c179e\"], [0.4444444444444444, \"#bd3786\"], [0.5555555555555556, \"#d8576b\"], [0.6666666666666666, \"#ed7953\"], [0.7777777777777778, \"#fb9f3a\"], [0.8888888888888888, \"#fdca26\"], [1.0, \"#f0f921\"]], \"type\": \"histogram2dcontour\"}], \"mesh3d\": [{\"colorbar\": {\"outlinewidth\": 0, \"ticks\": \"\"}, \"type\": \"mesh3d\"}], \"parcoords\": [{\"line\": {\"colorbar\": {\"outlinewidth\": 0, \"ticks\": \"\"}}, \"type\": \"parcoords\"}], \"pie\": [{\"automargin\": true, \"type\": \"pie\"}], \"scatter\": [{\"marker\": {\"colorbar\": {\"outlinewidth\": 0, \"ticks\": \"\"}}, \"type\": \"scatter\"}], \"scatter3d\": [{\"line\": {\"colorbar\": {\"outlinewidth\": 0, \"ticks\": \"\"}}, \"marker\": {\"colorbar\": {\"outlinewidth\": 0, \"ticks\": \"\"}}, \"type\": \"scatter3d\"}], \"scattercarpet\": [{\"marker\": {\"colorbar\": {\"outlinewidth\": 0, \"ticks\": \"\"}}, \"type\": \"scattercarpet\"}], \"scattergeo\": [{\"marker\": {\"colorbar\": {\"outlinewidth\": 0, \"ticks\": \"\"}}, \"type\": \"scattergeo\"}], \"scattergl\": [{\"marker\": {\"colorbar\": {\"outlinewidth\": 0, \"ticks\": \"\"}}, \"type\": \"scattergl\"}], \"scattermapbox\": [{\"marker\": {\"colorbar\": {\"outlinewidth\": 0, \"ticks\": \"\"}}, \"type\": \"scattermapbox\"}], \"scatterpolar\": [{\"marker\": {\"colorbar\": {\"outlinewidth\": 0, \"ticks\": \"\"}}, \"type\": \"scatterpolar\"}], \"scatterpolargl\": [{\"marker\": {\"colorbar\": {\"outlinewidth\": 0, \"ticks\": \"\"}}, \"type\": \"scatterpolargl\"}], \"scatterternary\": [{\"marker\": {\"colorbar\": {\"outlinewidth\": 0, \"ticks\": \"\"}}, \"type\": \"scatterternary\"}], \"surface\": [{\"colorbar\": {\"outlinewidth\": 0, \"ticks\": \"\"}, \"colorscale\": [[0.0, \"#0d0887\"], [0.1111111111111111, \"#46039f\"], [0.2222222222222222, \"#7201a8\"], [0.3333333333333333, \"#9c179e\"], [0.4444444444444444, \"#bd3786\"], [0.5555555555555556, \"#d8576b\"], [0.6666666666666666, \"#ed7953\"], [0.7777777777777778, \"#fb9f3a\"], [0.8888888888888888, \"#fdca26\"], [1.0, \"#f0f921\"]], \"type\": \"surface\"}], \"table\": [{\"cells\": {\"fill\": {\"color\": \"#EBF0F8\"}, \"line\": {\"color\": \"white\"}}, \"header\": {\"fill\": {\"color\": \"#C8D4E3\"}, \"line\": {\"color\": \"white\"}}, \"type\": \"table\"}]}, \"layout\": {\"annotationdefaults\": {\"arrowcolor\": \"#2a3f5f\", \"arrowhead\": 0, \"arrowwidth\": 1}, \"coloraxis\": {\"colorbar\": {\"outlinewidth\": 0, \"ticks\": \"\"}}, \"colorscale\": {\"diverging\": [[0, \"#8e0152\"], [0.1, \"#c51b7d\"], [0.2, \"#de77ae\"], [0.3, \"#f1b6da\"], [0.4, \"#fde0ef\"], [0.5, \"#f7f7f7\"], [0.6, \"#e6f5d0\"], [0.7, \"#b8e186\"], [0.8, \"#7fbc41\"], [0.9, \"#4d9221\"], [1, \"#276419\"]], \"sequential\": [[0.0, \"#0d0887\"], [0.1111111111111111, \"#46039f\"], [0.2222222222222222, \"#7201a8\"], [0.3333333333333333, \"#9c179e\"], [0.4444444444444444, \"#bd3786\"], [0.5555555555555556, \"#d8576b\"], [0.6666666666666666, \"#ed7953\"], [0.7777777777777778, \"#fb9f3a\"], [0.8888888888888888, \"#fdca26\"], [1.0, \"#f0f921\"]], \"sequentialminus\": [[0.0, \"#0d0887\"], [0.1111111111111111, \"#46039f\"], [0.2222222222222222, \"#7201a8\"], [0.3333333333333333, \"#9c179e\"], [0.4444444444444444, \"#bd3786\"], [0.5555555555555556, \"#d8576b\"], [0.6666666666666666, \"#ed7953\"], [0.7777777777777778, \"#fb9f3a\"], [0.8888888888888888, \"#fdca26\"], [1.0, \"#f0f921\"]]}, \"colorway\": [\"#636efa\", \"#EF553B\", \"#00cc96\", \"#ab63fa\", \"#FFA15A\", \"#19d3f3\", \"#FF6692\", \"#B6E880\", \"#FF97FF\", \"#FECB52\"], \"font\": {\"color\": \"#2a3f5f\"}, \"geo\": {\"bgcolor\": \"white\", \"lakecolor\": \"white\", \"landcolor\": \"#E5ECF6\", \"showlakes\": true, \"showland\": true, \"subunitcolor\": \"white\"}, \"hoverlabel\": {\"align\": \"left\"}, \"hovermode\": \"closest\", \"mapbox\": {\"style\": \"light\"}, \"paper_bgcolor\": \"white\", \"plot_bgcolor\": \"#E5ECF6\", \"polar\": {\"angularaxis\": {\"gridcolor\": \"white\", \"linecolor\": \"white\", \"ticks\": \"\"}, \"bgcolor\": \"#E5ECF6\", \"radialaxis\": {\"gridcolor\": \"white\", \"linecolor\": \"white\", \"ticks\": \"\"}}, \"scene\": {\"xaxis\": {\"backgroundcolor\": \"#E5ECF6\", \"gridcolor\": \"white\", \"gridwidth\": 2, \"linecolor\": \"white\", \"showbackground\": true, \"ticks\": \"\", \"zerolinecolor\": \"white\"}, \"yaxis\": {\"backgroundcolor\": \"#E5ECF6\", \"gridcolor\": \"white\", \"gridwidth\": 2, \"linecolor\": \"white\", \"showbackground\": true, \"ticks\": \"\", \"zerolinecolor\": \"white\"}, \"zaxis\": {\"backgroundcolor\": \"#E5ECF6\", \"gridcolor\": \"white\", \"gridwidth\": 2, \"linecolor\": \"white\", \"showbackground\": true, \"ticks\": \"\", \"zerolinecolor\": \"white\"}}, \"shapedefaults\": {\"line\": {\"color\": \"#2a3f5f\"}}, \"ternary\": {\"aaxis\": {\"gridcolor\": \"white\", \"linecolor\": \"white\", \"ticks\": \"\"}, \"baxis\": {\"gridcolor\": \"white\", \"linecolor\": \"white\", \"ticks\": \"\"}, \"bgcolor\": \"#E5ECF6\", \"caxis\": {\"gridcolor\": \"white\", \"linecolor\": \"white\", \"ticks\": \"\"}}, \"title\": {\"x\": 0.05}, \"xaxis\": {\"automargin\": true, \"gridcolor\": \"white\", \"linecolor\": \"white\", \"ticks\": \"\", \"title\": {\"standoff\": 15}, \"zerolinecolor\": \"white\", \"zerolinewidth\": 2}, \"yaxis\": {\"automargin\": true, \"gridcolor\": \"white\", \"linecolor\": \"white\", \"ticks\": \"\", \"title\": {\"standoff\": 15}, \"zerolinecolor\": \"white\", \"zerolinewidth\": 2}}}, \"xaxis\": {\"anchor\": \"y\", \"domain\": [0.0, 1.0], \"title\": {\"text\": \"x\"}}, \"yaxis\": {\"anchor\": \"x\", \"domain\": [0.0, 1.0], \"title\": {\"text\": \"y\"}}},\n",
       "                        {\"responsive\": true}\n",
       "                    ).then(function(){\n",
       "                            \n",
       "var gd = document.getElementById('e286c2b0-e245-49d8-8ec2-7276938b0450');\n",
       "var x = new MutationObserver(function (mutations, observer) {{\n",
       "        var display = window.getComputedStyle(gd).display;\n",
       "        if (!display || display === 'none') {{\n",
       "            console.log([gd, 'removed!']);\n",
       "            Plotly.purge(gd);\n",
       "            observer.disconnect();\n",
       "        }}\n",
       "}});\n",
       "\n",
       "// Listen for the removal of the full notebook cells\n",
       "var notebookContainer = gd.closest('#notebook-container');\n",
       "if (notebookContainer) {{\n",
       "    x.observe(notebookContainer, {childList: true});\n",
       "}}\n",
       "\n",
       "// Listen for the clearing of the current output cell\n",
       "var outputEl = gd.closest('.output');\n",
       "if (outputEl) {{\n",
       "    x.observe(outputEl, {childList: true});\n",
       "}}\n",
       "\n",
       "                        })\n",
       "                };\n",
       "                \n",
       "            </script>\n",
       "        </div>\n",
       "</body>\n",
       "</html>"
      ]
     },
     "metadata": {},
     "output_type": "display_data"
    }
   ],
   "source": [
    "# Graficar los embedddings en 2D\n",
    "import plotly.graph_objects as go\n",
    "import plotly.express as px\n",
    "\n",
    "x_vals, y_vals, labels = reduce_dimensions(w2v_model)\n",
    "\n",
    "MAX_WORDS=50\n",
    "fig = px.scatter(x=x_vals[:MAX_WORDS], y=y_vals[:MAX_WORDS], text=labels[:MAX_WORDS])\n",
    "fig.show(renderer=\"colab\") # esto para plotly en colab\n"
   ]
  },
  {
   "cell_type": "code",
   "execution_count": null,
   "metadata": {
    "colab": {
     "base_uri": "https://localhost:8080/"
    },
    "id": "iaOQKRYf_SKz",
    "outputId": "73d66c5a-e4d6-4183-9859-a7d69109af95"
   },
   "outputs": [
    {
     "data": {
      "text/plain": [
       "array(['the', 'and', 'i', 'of', 'a', 'to', 'was', 'in', 'my', 'that',\n",
       "       'it', 'had', 'me', 'as', 'at', 'for', 'with', 'time', 'but', \"'\",\n",
       "       'were', 'this', 'on', 'his', 'then', 'you', 'have', 'from', 'they',\n",
       "       'there', 'he', 'all', 'into', 'upon', 'one', 'not', 'little', 'so',\n",
       "       'came', 'by', 'is', 'be', 'some', 'could', 'no', 'their', 'said',\n",
       "       'machine', 'saw', 'down'], dtype='<U13')"
      ]
     },
     "execution_count": 92,
     "metadata": {},
     "output_type": "execute_result"
    }
   ],
   "source": [
    "labels[:50]"
   ]
  },
  {
   "cell_type": "code",
   "execution_count": null,
   "metadata": {
    "id": "e4wAbNloKH3Q"
   },
   "outputs": [],
   "source": []
  }
 ],
 "metadata": {
  "colab": {
   "collapsed_sections": [],
   "name": "Desafío 3- Time Machine - Custom embedding con Gensim",
   "provenance": []
  },
  "kernelspec": {
   "display_name": "Python 3 (ipykernel)",
   "language": "python",
   "name": "python3"
  },
  "language_info": {
   "codemirror_mode": {
    "name": "ipython",
    "version": 3
   },
   "file_extension": ".py",
   "mimetype": "text/x-python",
   "name": "python",
   "nbconvert_exporter": "python",
   "pygments_lexer": "ipython3",
   "version": "3.8.13"
  }
 },
 "nbformat": 4,
 "nbformat_minor": 1
}
