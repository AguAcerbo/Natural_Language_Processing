{
 "cells": [
  {
   "cell_type": "markdown",
   "metadata": {
    "id": "g3yeJGnCYxuF"
   },
   "source": [
    "# Procesamiento de lenguaje natural\n",
    "## Predicción de próxima palabra"
   ]
  },
  {
   "cell_type": "markdown",
   "metadata": {
    "id": "Iv5PEwGzZA9-"
   },
   "source": [
    "### Objetivo\n",
    "El objetivo es utilizar documentos / corpus para crear embeddings de palabras basado en ese contexto utilizando la layer Embedding de Keras. Se utilizará esos embeddings junto con layers LSTM para predeccir la próxima posible palabra."
   ]
  },
  {
   "cell_type": "code",
   "execution_count": 1,
   "metadata": {
    "executionInfo": {
     "elapsed": 2903,
     "status": "ok",
     "timestamp": 1634644789548,
     "user": {
      "displayName": "Agustin Acerbo",
      "photoUrl": "https://lh3.googleusercontent.com/a-/AOh14GiFUHlal2m-HqrdHQGftXlBFKZBOGaIXX61S4e_MQ=s64",
      "userId": "11845685418075358694"
     },
     "user_tz": 180
    },
    "id": "Y-QdFbHZYj7C"
   },
   "outputs": [],
   "source": [
    "import random\n",
    "import io\n",
    "import pickle\n",
    "\n",
    "import numpy as np\n",
    "import pandas as pd\n",
    "\n",
    "from tensorflow import keras\n",
    "from tensorflow.keras import layers\n",
    "from keras.utils.np_utils import to_categorical\n",
    "from keras.models import Sequential\n",
    "from keras.layers import Dense, LSTM, Embedding, Dropout"
   ]
  },
  {
   "cell_type": "markdown",
   "metadata": {
    "id": "xTvXlEKQZdqx"
   },
   "source": [
    "### Datos\n",
    "Utilizaremos como dataset canciones de bandas de habla inglés."
   ]
  },
  {
   "cell_type": "code",
   "execution_count": 2,
   "metadata": {
    "colab": {
     "base_uri": "https://localhost:8080/"
    },
    "executionInfo": {
     "elapsed": 3695,
     "status": "ok",
     "timestamp": 1634644793240,
     "user": {
      "displayName": "Agustin Acerbo",
      "photoUrl": "https://lh3.googleusercontent.com/a-/AOh14GiFUHlal2m-HqrdHQGftXlBFKZBOGaIXX61S4e_MQ=s64",
      "userId": "11845685418075358694"
     },
     "user_tz": 180
    },
    "id": "IkdPfrQJZdB5",
    "outputId": "526d9f15-ed8f-4e42-e5a1-2d76a4d4316a"
   },
   "outputs": [
    {
     "name": "stderr",
     "output_type": "stream",
     "text": [
      "Downloading...\n",
      "From: https://drive.google.com/uc?id=1VLVgb3fD02XrF2V5OruKvQTOT91juXcs&export=download\n",
      "To: /content/songs_dataset.zip\n",
      "100%|██████████| 2.09M/2.09M [00:00<00:00, 92.4MB/s]\n"
     ]
    }
   ],
   "source": [
    "# Descargar la carpeta de dataset\n",
    "import os\n",
    "import gdown\n",
    "if os.access('./songs_dataset', os.F_OK) is False:\n",
    "    if os.access('simpsons_dataset.zip', os.F_OK) is False:\n",
    "        url = 'https://drive.google.com/uc?id=1VLVgb3fD02XrF2V5OruKvQTOT91juXcs&export=download'\n",
    "        output = 'songs_dataset.zip'\n",
    "        gdown.download(url, output, quiet=False)\n",
    "    !unzip -q songs_dataset.zip\n",
    "else:\n",
    "    print(\"El dataset ya se encuentra descargado\")"
   ]
  },
  {
   "cell_type": "code",
   "execution_count": 3,
   "metadata": {
    "colab": {
     "base_uri": "https://localhost:8080/"
    },
    "executionInfo": {
     "elapsed": 15,
     "status": "ok",
     "timestamp": 1634644793240,
     "user": {
      "displayName": "Agustin Acerbo",
      "photoUrl": "https://lh3.googleusercontent.com/a-/AOh14GiFUHlal2m-HqrdHQGftXlBFKZBOGaIXX61S4e_MQ=s64",
      "userId": "11845685418075358694"
     },
     "user_tz": 180
    },
    "id": "6j-3nQ4lZjfb",
    "outputId": "f71ea5e3-b603-4a74-b3c7-f2134d2c7e2e"
   },
   "outputs": [
    {
     "data": {
      "text/plain": [
       "['beatles.txt',\n",
       " 'Kanye_West.txt',\n",
       " 'britney-spears.txt',\n",
       " 'alicia-keys.txt',\n",
       " 'dr-seuss.txt',\n",
       " 'rihanna.txt',\n",
       " 'leonard-cohen.txt',\n",
       " 'nursery_rhymes.txt',\n",
       " 'paul-simon.txt',\n",
       " 'lil-wayne.txt',\n",
       " 'nirvana.txt',\n",
       " 'r-kelly.txt',\n",
       " 'notorious_big.txt',\n",
       " 'al-green.txt',\n",
       " 'bob-dylan.txt',\n",
       " 'patti-smith.txt',\n",
       " 'amy-winehouse.txt',\n",
       " 'dickinson.txt',\n",
       " 'jimi-hendrix.txt',\n",
       " 'bruce-springsteen.txt',\n",
       " 'notorious-big.txt',\n",
       " 'lin-manuel-miranda.txt',\n",
       " 'nickelback.txt',\n",
       " 'kanye.txt',\n",
       " 'bob-marley.txt',\n",
       " 'dolly-parton.txt',\n",
       " 'missy-elliott.txt',\n",
       " 'janisjoplin.txt',\n",
       " 'adele.txt',\n",
       " 'nicki-minaj.txt',\n",
       " 'blink-182.txt',\n",
       " 'johnny-cash.txt',\n",
       " 'eminem.txt',\n",
       " 'radiohead.txt',\n",
       " 'lady-gaga.txt',\n",
       " 'ludacris.txt',\n",
       " 'bjork.txt',\n",
       " 'bieber.txt',\n",
       " 'drake.txt',\n",
       " 'prince.txt',\n",
       " 'cake.txt',\n",
       " 'lorde.txt',\n",
       " 'dj-khaled.txt',\n",
       " 'joni-mitchell.txt',\n",
       " 'kanye-west.txt',\n",
       " 'Lil_Wayne.txt',\n",
       " 'disney.txt',\n",
       " 'michael-jackson.txt',\n",
       " 'bruno-mars.txt']"
      ]
     },
     "execution_count": 3,
     "metadata": {},
     "output_type": "execute_result"
    }
   ],
   "source": [
    "# Posibles bandas\n",
    "os.listdir(\"./songs_dataset/\")"
   ]
  },
  {
   "cell_type": "code",
   "execution_count": 4,
   "metadata": {
    "colab": {
     "base_uri": "https://localhost:8080/",
     "height": 258
    },
    "executionInfo": {
     "elapsed": 13,
     "status": "ok",
     "timestamp": 1634644793241,
     "user": {
      "displayName": "Agustin Acerbo",
      "photoUrl": "https://lh3.googleusercontent.com/a-/AOh14GiFUHlal2m-HqrdHQGftXlBFKZBOGaIXX61S4e_MQ=s64",
      "userId": "11845685418075358694"
     },
     "user_tz": 180
    },
    "id": "Gb39v3PaZmRH",
    "outputId": "08c6a061-d6dc-42c9-97f1-bdcbb18656b8"
   },
   "outputs": [
    {
     "name": "stderr",
     "output_type": "stream",
     "text": [
      "/usr/local/lib/python3.7/dist-packages/ipykernel_launcher.py:2: ParserWarning: Falling back to the 'python' engine because the 'c' engine does not support regex separators (separators > 1 char and different from '\\s+' are interpreted as regex); you can avoid this warning by specifying engine='python'.\n",
      "  \n"
     ]
    },
    {
     "data": {
      "text/html": [
       "<div>\n",
       "<style scoped>\n",
       "    .dataframe tbody tr th:only-of-type {\n",
       "        vertical-align: middle;\n",
       "    }\n",
       "\n",
       "    .dataframe tbody tr th {\n",
       "        vertical-align: top;\n",
       "    }\n",
       "\n",
       "    .dataframe thead th {\n",
       "        text-align: right;\n",
       "    }\n",
       "</style>\n",
       "<table border=\"1\" class=\"dataframe\">\n",
       "  <thead>\n",
       "    <tr style=\"text-align: right;\">\n",
       "      <th></th>\n",
       "      <th>0</th>\n",
       "    </tr>\n",
       "  </thead>\n",
       "  <tbody>\n",
       "    <tr>\n",
       "      <th>0</th>\n",
       "      <td>Now greetings to the world! Standing at this l...</td>\n",
       "    </tr>\n",
       "    <tr>\n",
       "      <th>1</th>\n",
       "      <td>Whiskey coming through my pores,</td>\n",
       "    </tr>\n",
       "    <tr>\n",
       "      <th>2</th>\n",
       "      <td>Feeling like I run this whole block.</td>\n",
       "    </tr>\n",
       "    <tr>\n",
       "      <th>3</th>\n",
       "      <td>Lotto tickets cheap beer</td>\n",
       "    </tr>\n",
       "    <tr>\n",
       "      <th>4</th>\n",
       "      <td>That's why you can catch me here,</td>\n",
       "    </tr>\n",
       "  </tbody>\n",
       "</table>\n",
       "</div>"
      ],
      "text/plain": [
       "                                                   0\n",
       "0  Now greetings to the world! Standing at this l...\n",
       "1                   Whiskey coming through my pores,\n",
       "2               Feeling like I run this whole block.\n",
       "3                           Lotto tickets cheap beer\n",
       "4                  That's why you can catch me here,"
      ]
     },
     "execution_count": 4,
     "metadata": {},
     "output_type": "execute_result"
    }
   ],
   "source": [
    "# Armar el dataset utilizando salto de línea para separar las oraciones/docs\n",
    "df = pd.read_csv('songs_dataset/bruno-mars.txt', sep='/n', header=None)\n",
    "df.head()"
   ]
  },
  {
   "cell_type": "code",
   "execution_count": 5,
   "metadata": {
    "colab": {
     "base_uri": "https://localhost:8080/"
    },
    "executionInfo": {
     "elapsed": 12,
     "status": "ok",
     "timestamp": 1634644793242,
     "user": {
      "displayName": "Agustin Acerbo",
      "photoUrl": "https://lh3.googleusercontent.com/a-/AOh14GiFUHlal2m-HqrdHQGftXlBFKZBOGaIXX61S4e_MQ=s64",
      "userId": "11845685418075358694"
     },
     "user_tz": 180
    },
    "id": "riT898QlZnmF",
    "outputId": "d564c6a1-61d5-4c37-c65b-4a0a5fdace7b"
   },
   "outputs": [
    {
     "name": "stdout",
     "output_type": "stream",
     "text": [
      "Cantidad de documentos: 3270\n"
     ]
    }
   ],
   "source": [
    "print(\"Cantidad de documentos:\", df.shape[0])"
   ]
  },
  {
   "cell_type": "markdown",
   "metadata": {
    "id": "RDoouHp7Zp6D"
   },
   "source": [
    "### 1 - Ejemplo de Preprocesamiento\n",
    "- Hay que transformar las oraciones en tokens.\n",
    "- Dichas oraciones hay que ajustarlas al tamaño fijo de nuestra sentencia de entrada al modelo.\n",
    "- Hay que separar las palabras objetivos (target) que el modelo debe predecir en cada sentencia armada."
   ]
  },
  {
   "cell_type": "code",
   "execution_count": 6,
   "metadata": {
    "executionInfo": {
     "elapsed": 10,
     "status": "ok",
     "timestamp": 1634644793242,
     "user": {
      "displayName": "Agustin Acerbo",
      "photoUrl": "https://lh3.googleusercontent.com/a-/AOh14GiFUHlal2m-HqrdHQGftXlBFKZBOGaIXX61S4e_MQ=s64",
      "userId": "11845685418075358694"
     },
     "user_tz": 180
    },
    "id": "m5FeTaGvbDbw"
   },
   "outputs": [],
   "source": [
    "from keras.preprocessing.text import Tokenizer # equivalente a ltokenizer de nltk\n",
    "from keras.preprocessing.text import text_to_word_sequence # equivalente a word_teokenize de nltk\n",
    "from keras.preprocessing.sequence import pad_sequences # se utilizará para padding\n",
    "\n",
    "# largo de la secuencia, incluye seq input + word output\n",
    "train_len = 4"
   ]
  },
  {
   "cell_type": "code",
   "execution_count": 7,
   "metadata": {
    "colab": {
     "base_uri": "https://localhost:8080/",
     "height": 35
    },
    "executionInfo": {
     "elapsed": 11,
     "status": "ok",
     "timestamp": 1634644793243,
     "user": {
      "displayName": "Agustin Acerbo",
      "photoUrl": "https://lh3.googleusercontent.com/a-/AOh14GiFUHlal2m-HqrdHQGftXlBFKZBOGaIXX61S4e_MQ=s64",
      "userId": "11845685418075358694"
     },
     "user_tz": 180
    },
    "id": "Zf3O7eK6ZpP8",
    "outputId": "068d1e5a-499f-4840-999d-a7fd70997a61"
   },
   "outputs": [
    {
     "data": {
      "application/vnd.google.colaboratory.intrinsic+json": {
       "type": "string"
      },
      "text/plain": [
       "'Now greetings to the world! Standing at this liquor store,'"
      ]
     },
     "execution_count": 7,
     "metadata": {},
     "output_type": "execute_result"
    }
   ],
   "source": [
    "# Ejemplo de como transformar una oración a tokens usando keras\n",
    "text = df.loc[0,0]\n",
    "text"
   ]
  },
  {
   "cell_type": "code",
   "execution_count": 8,
   "metadata": {
    "colab": {
     "base_uri": "https://localhost:8080/"
    },
    "executionInfo": {
     "elapsed": 11,
     "status": "ok",
     "timestamp": 1634644793244,
     "user": {
      "displayName": "Agustin Acerbo",
      "photoUrl": "https://lh3.googleusercontent.com/a-/AOh14GiFUHlal2m-HqrdHQGftXlBFKZBOGaIXX61S4e_MQ=s64",
      "userId": "11845685418075358694"
     },
     "user_tz": 180
    },
    "id": "AOv67Sj7aeFH",
    "outputId": "c31f6e98-7501-44f3-a380-f2ecf98507f9"
   },
   "outputs": [
    {
     "data": {
      "text/plain": [
       "['now',\n",
       " 'greetings',\n",
       " 'to',\n",
       " 'the',\n",
       " 'world',\n",
       " 'standing',\n",
       " 'at',\n",
       " 'this',\n",
       " 'liquor',\n",
       " 'store']"
      ]
     },
     "execution_count": 8,
     "metadata": {},
     "output_type": "execute_result"
    }
   ],
   "source": [
    "tokens = text_to_word_sequence(text) # entran oraciones -> salen vectores de N posiciones (tokens)\n",
    "tokens"
   ]
  },
  {
   "cell_type": "markdown",
   "metadata": {
    "id": "ZrlyqkoiaymK"
   },
   "source": [
    "1.1 - Transformar las oraciones en secuencias (tokens) de palabras"
   ]
  },
  {
   "cell_type": "code",
   "execution_count": 9,
   "metadata": {
    "executionInfo": {
     "elapsed": 1236,
     "status": "ok",
     "timestamp": 1634644794471,
     "user": {
      "displayName": "Agustin Acerbo",
      "photoUrl": "https://lh3.googleusercontent.com/a-/AOh14GiFUHlal2m-HqrdHQGftXlBFKZBOGaIXX61S4e_MQ=s64",
      "userId": "11845685418075358694"
     },
     "user_tz": 180
    },
    "id": "XH_L14Wjaowe"
   },
   "outputs": [],
   "source": [
    "# Recorrer todas las filas y transformar las oraciones\n",
    "# en secuencias de palabras\n",
    "sentence_tokens = []\n",
    "for _, row in df[:None].iterrows():\n",
    "    sentence_tokens.append(text_to_word_sequence(row[0]))"
   ]
  },
  {
   "cell_type": "code",
   "execution_count": 10,
   "metadata": {
    "colab": {
     "base_uri": "https://localhost:8080/"
    },
    "executionInfo": {
     "elapsed": 44,
     "status": "ok",
     "timestamp": 1634644794471,
     "user": {
      "displayName": "Agustin Acerbo",
      "photoUrl": "https://lh3.googleusercontent.com/a-/AOh14GiFUHlal2m-HqrdHQGftXlBFKZBOGaIXX61S4e_MQ=s64",
      "userId": "11845685418075358694"
     },
     "user_tz": 180
    },
    "id": "KASzU4CdaxbZ",
    "outputId": "7db50012-d92c-44fc-b17b-095c2c1a38e5"
   },
   "outputs": [
    {
     "data": {
      "text/plain": [
       "[['now',\n",
       "  'greetings',\n",
       "  'to',\n",
       "  'the',\n",
       "  'world',\n",
       "  'standing',\n",
       "  'at',\n",
       "  'this',\n",
       "  'liquor',\n",
       "  'store'],\n",
       " ['whiskey', 'coming', 'through', 'my', 'pores']]"
      ]
     },
     "execution_count": 10,
     "metadata": {},
     "output_type": "execute_result"
    }
   ],
   "source": [
    "# Demos un vistazo\n",
    "sentence_tokens[:2]"
   ]
  },
  {
   "cell_type": "code",
   "execution_count": 11,
   "metadata": {
    "executionInfo": {
     "elapsed": 42,
     "status": "ok",
     "timestamp": 1634644794472,
     "user": {
      "displayName": "Agustin Acerbo",
      "photoUrl": "https://lh3.googleusercontent.com/a-/AOh14GiFUHlal2m-HqrdHQGftXlBFKZBOGaIXX61S4e_MQ=s64",
      "userId": "11845685418075358694"
     },
     "user_tz": 180
    },
    "id": "A659lswTbIIB"
   },
   "outputs": [],
   "source": [
    "# Código para hacer el desfazaje de las palabras\n",
    "# según el train_len\n",
    "text_sequences = []\n",
    "\n",
    "for i in range(train_len, len(tokens)):\n",
    "  seq = tokens[i-train_len:i]\n",
    "  text_sequences.append(seq)"
   ]
  },
  {
   "cell_type": "code",
   "execution_count": 12,
   "metadata": {
    "colab": {
     "base_uri": "https://localhost:8080/"
    },
    "executionInfo": {
     "elapsed": 42,
     "status": "ok",
     "timestamp": 1634644794472,
     "user": {
      "displayName": "Agustin Acerbo",
      "photoUrl": "https://lh3.googleusercontent.com/a-/AOh14GiFUHlal2m-HqrdHQGftXlBFKZBOGaIXX61S4e_MQ=s64",
      "userId": "11845685418075358694"
     },
     "user_tz": 180
    },
    "id": "01JEoPPnbgRF",
    "outputId": "0620f75f-8470-4147-a81c-9f90d931b7b0"
   },
   "outputs": [
    {
     "data": {
      "text/plain": [
       "[['now', 'greetings', 'to', 'the'],\n",
       " ['greetings', 'to', 'the', 'world'],\n",
       " ['to', 'the', 'world', 'standing'],\n",
       " ['the', 'world', 'standing', 'at'],\n",
       " ['world', 'standing', 'at', 'this'],\n",
       " ['standing', 'at', 'this', 'liquor']]"
      ]
     },
     "execution_count": 12,
     "metadata": {},
     "output_type": "execute_result"
    }
   ],
   "source": [
    "# Demos un vistazo a nuestros vectores para entrenar el modelo\n",
    "text_sequences "
   ]
  },
  {
   "cell_type": "markdown",
   "metadata": {
    "id": "4B0gHnKVa4W_"
   },
   "source": [
    "1.2 - Crear los vectores de palabras (word2vec)\n",
    "\n",
    "Ahora necesitamos pasarlos a números para que lo entienda la red y separar input de output.\n",
    "- El Input seran integers (word2vec)\n",
    "- Mientras que el output será one hot encodeado (labels) del tamaño del vocabulario"
   ]
  },
  {
   "cell_type": "code",
   "execution_count": 13,
   "metadata": {
    "executionInfo": {
     "elapsed": 41,
     "status": "ok",
     "timestamp": 1634644794473,
     "user": {
      "displayName": "Agustin Acerbo",
      "photoUrl": "https://lh3.googleusercontent.com/a-/AOh14GiFUHlal2m-HqrdHQGftXlBFKZBOGaIXX61S4e_MQ=s64",
      "userId": "11845685418075358694"
     },
     "user_tz": 180
    },
    "id": "fkPNvXeQcS0U"
   },
   "outputs": [],
   "source": [
    "tok = Tokenizer() \n",
    "\n",
    "# El tokeinzer \"aprende\" las palabras que se usaran\n",
    "# Se construye (fit) una vez por proyecto, se aplica N veces (tal cual un encoder)\n",
    "tok.fit_on_texts(text_sequences) \n",
    "\n",
    "# Convertimos las palabras a números\n",
    "# entran palabras -> salen números\n",
    "sequences = tok.texts_to_sequences(text_sequences)"
   ]
  },
  {
   "cell_type": "code",
   "execution_count": 14,
   "metadata": {
    "colab": {
     "base_uri": "https://localhost:8080/"
    },
    "executionInfo": {
     "elapsed": 41,
     "status": "ok",
     "timestamp": 1634644794473,
     "user": {
      "displayName": "Agustin Acerbo",
      "photoUrl": "https://lh3.googleusercontent.com/a-/AOh14GiFUHlal2m-HqrdHQGftXlBFKZBOGaIXX61S4e_MQ=s64",
      "userId": "11845685418075358694"
     },
     "user_tz": 180
    },
    "id": "4SIc44IocyQb",
    "outputId": "b36f5797-d185-42d1-9272-744eaa1845a1"
   },
   "outputs": [
    {
     "data": {
      "text/plain": [
       "[[8, 6, 4, 1],\n",
       " [6, 4, 1, 2],\n",
       " [4, 1, 2, 3],\n",
       " [1, 2, 3, 5],\n",
       " [2, 3, 5, 7],\n",
       " [3, 5, 7, 9]]"
      ]
     },
     "execution_count": 14,
     "metadata": {},
     "output_type": "execute_result"
    }
   ],
   "source": [
    "# Ahora sequences tiene los números \"ID\", largo 4\n",
    "sequences"
   ]
  },
  {
   "cell_type": "code",
   "execution_count": 15,
   "metadata": {
    "colab": {
     "base_uri": "https://localhost:8080/"
    },
    "executionInfo": {
     "elapsed": 40,
     "status": "ok",
     "timestamp": 1634644794473,
     "user": {
      "displayName": "Agustin Acerbo",
      "photoUrl": "https://lh3.googleusercontent.com/a-/AOh14GiFUHlal2m-HqrdHQGftXlBFKZBOGaIXX61S4e_MQ=s64",
      "userId": "11845685418075358694"
     },
     "user_tz": 180
    },
    "id": "3ro81yCQc1oX",
    "outputId": "cdbffdaa-040f-4fcc-c084-0994508bd5bd"
   },
   "outputs": [
    {
     "name": "stdout",
     "output_type": "stream",
     "text": [
      "6\n"
     ]
    }
   ],
   "source": [
    "# Cantidad de casos (doc) de entrada\n",
    "print(tok.document_count)"
   ]
  },
  {
   "cell_type": "code",
   "execution_count": 16,
   "metadata": {
    "colab": {
     "base_uri": "https://localhost:8080/"
    },
    "executionInfo": {
     "elapsed": 40,
     "status": "ok",
     "timestamp": 1634644794474,
     "user": {
      "displayName": "Agustin Acerbo",
      "photoUrl": "https://lh3.googleusercontent.com/a-/AOh14GiFUHlal2m-HqrdHQGftXlBFKZBOGaIXX61S4e_MQ=s64",
      "userId": "11845685418075358694"
     },
     "user_tz": 180
    },
    "id": "nzAWNfroc4u1",
    "outputId": "bd0b27e5-2aa6-4a35-d2c6-43523d19a138"
   },
   "outputs": [
    {
     "name": "stdout",
     "output_type": "stream",
     "text": [
      "9\n"
     ]
    }
   ],
   "source": [
    "# Cantidad de veces que aparece cada palabra\n",
    "print(len(tok.word_counts))"
   ]
  },
  {
   "cell_type": "code",
   "execution_count": 17,
   "metadata": {
    "colab": {
     "base_uri": "https://localhost:8080/"
    },
    "executionInfo": {
     "elapsed": 39,
     "status": "ok",
     "timestamp": 1634644794474,
     "user": {
      "displayName": "Agustin Acerbo",
      "photoUrl": "https://lh3.googleusercontent.com/a-/AOh14GiFUHlal2m-HqrdHQGftXlBFKZBOGaIXX61S4e_MQ=s64",
      "userId": "11845685418075358694"
     },
     "user_tz": 180
    },
    "id": "spTBxmFQc6h8",
    "outputId": "38ff636b-ecb9-40fb-cc7e-b6ba9352a1f2"
   },
   "outputs": [
    {
     "name": "stdout",
     "output_type": "stream",
     "text": [
      "{'the': 1, 'world': 2, 'standing': 3, 'to': 4, 'at': 5, 'greetings': 6, 'this': 7, 'now': 8, 'liquor': 9}\n"
     ]
    }
   ],
   "source": [
    "# El índice para cada palabra\n",
    "# El sistema las ordena de las más populares a las menos populares\n",
    "print(tok.word_index)"
   ]
  },
  {
   "cell_type": "code",
   "execution_count": 18,
   "metadata": {
    "colab": {
     "base_uri": "https://localhost:8080/"
    },
    "executionInfo": {
     "elapsed": 39,
     "status": "ok",
     "timestamp": 1634644794475,
     "user": {
      "displayName": "Agustin Acerbo",
      "photoUrl": "https://lh3.googleusercontent.com/a-/AOh14GiFUHlal2m-HqrdHQGftXlBFKZBOGaIXX61S4e_MQ=s64",
      "userId": "11845685418075358694"
     },
     "user_tz": 180
    },
    "id": "nUDkjy80c77h",
    "outputId": "a0ae4d31-b341-49aa-aebd-30bffef7a0e9"
   },
   "outputs": [
    {
     "name": "stdout",
     "output_type": "stream",
     "text": [
      "defaultdict(<class 'int'>, {'the': 4, 'to': 3, 'now': 1, 'greetings': 2, 'world': 4, 'standing': 4, 'at': 3, 'this': 2, 'liquor': 1})\n"
     ]
    }
   ],
   "source": [
    "# Cantidad de veces quea aparece cada palabra en cada \"documento\"\n",
    "# (1 documento = 1 caso de entrada)\n",
    "print(tok.word_docs)"
   ]
  },
  {
   "cell_type": "markdown",
   "metadata": {
    "id": "ohS5Tao1d2KB"
   },
   "source": [
    "### 2 - Preprocesamiento completo\n",
    "Debemos realizar los mismos pasos que en el ejemplo anterior, pero antes de eso debemos transformar ese dataset de filas de oraciones en un texto completo continuo para poder extraer el vocabulario."
   ]
  },
  {
   "cell_type": "code",
   "execution_count": 19,
   "metadata": {
    "colab": {
     "base_uri": "https://localhost:8080/"
    },
    "executionInfo": {
     "elapsed": 38,
     "status": "ok",
     "timestamp": 1634644794475,
     "user": {
      "displayName": "Agustin Acerbo",
      "photoUrl": "https://lh3.googleusercontent.com/a-/AOh14GiFUHlal2m-HqrdHQGftXlBFKZBOGaIXX61S4e_MQ=s64",
      "userId": "11845685418075358694"
     },
     "user_tz": 180
    },
    "id": "63Z2-Se2t27r",
    "outputId": "cd589d2e-ad38-41fb-f3d7-7a8d0ad96e2b"
   },
   "outputs": [
    {
     "data": {
      "text/plain": [
       "0     Now greetings to the world! Standing at this l...\n",
       "1                      Whiskey coming through my pores,\n",
       "2                  Feeling like I run this whole block.\n",
       "3                              Lotto tickets cheap beer\n",
       "4                     That's why you can catch me here,\n",
       "5     Tryna scratch my way up to the top. 'Cause my ...\n",
       "6                       So I ain't got a thing to lose.\n",
       "7                Take me to a place where I don't care,\n",
       "8     This is me and my liquor store blues. I'll tak...\n",
       "9                               One drag for my sorrow.\n",
       "10                                 Get messed up today,\n",
       "11                                 I'll be ok tomorrow.\n",
       "12                                One shot for my pain,\n",
       "13                              One drag for my sorrow.\n",
       "14                                 Get messed up today,\n",
       "15       I'll be ok tomorrow. Me and my guitar tonight,\n",
       "Name: 0, dtype: object"
      ]
     },
     "execution_count": 19,
     "metadata": {},
     "output_type": "execute_result"
    }
   ],
   "source": [
    "# Vistazo a las primeras filas\n",
    "df.loc[:15,0]"
   ]
  },
  {
   "cell_type": "code",
   "execution_count": 20,
   "metadata": {
    "colab": {
     "base_uri": "https://localhost:8080/",
     "height": 103
    },
    "executionInfo": {
     "elapsed": 38,
     "status": "ok",
     "timestamp": 1634644794476,
     "user": {
      "displayName": "Agustin Acerbo",
      "photoUrl": "https://lh3.googleusercontent.com/a-/AOh14GiFUHlal2m-HqrdHQGftXlBFKZBOGaIXX61S4e_MQ=s64",
      "userId": "11845685418075358694"
     },
     "user_tz": 180
    },
    "id": "kILsSoxTuHEr",
    "outputId": "8b2212ed-68a9-4e1a-c006-0ff5ccd3ee86"
   },
   "outputs": [
    {
     "data": {
      "application/vnd.google.colaboratory.intrinsic+json": {
       "type": "string"
      },
      "text/plain": [
       "'Now greetings to the world! Standing at this liquor store, Whiskey coming through my pores, Feeling like I run this whole block. Lotto tickets cheap beer That\\'s why you can catch me here, Tryna scratch my way up to the top. \\'Cause my job got me going nowhere, So I ain\\'t got a thing to lose. Take me to a place where I don\\'t care, This is me and my liquor store blues. I\\'ll take one shot for my pain, One drag for my sorrow. Get messed up today, I\\'ll be ok tomorrow. One shot for my pain, One drag for my sorrow. Get messed up today, I\\'ll be ok tomorrow. Me and my guitar tonight, Singing to the city lights, Tryna live on more than what I got. \\'Cause \\'68 cents ain\\'t gonna pay the rent, So I\\'ll be out here \\'til they call the cops. \\'Cause my job got me going nowhere, So I ain\\'t got a thing to lose. Take me to a place where I don\\'t care, This is me and my liquor store blues. I\\'ll take one shot for my pain, One drag for my sorrow. Get messed up today, I\\'ll be ok tomorrow. One shot for my pain, One drag for my sorrow. Get messed up today, I\\'ll be ok tomorrow. Here comes Junior Gong, I\\'m flying high like Superman And thinking that I run the whole block, I don\\'t know if it\\'s just because pineapple kush between my jaws Has got me feeling like I\\'m on top Give me this one shot for my pain, One drag for my sorrow. Get messed up today, I\\'ll be ok tomorrow. One shot for my pain, One drag for my sorrow. Get messed up today, I\\'ll be ok tomorrow. Now greetings to the world! You best believe! One, two, one, two, three Oh yeah yeah Oh yeah yeah yeah yeah, uh! Oh yeah yeah Oh yeah yeah yeah yeah, uh! Never had much faith in love or miracles (miracles) uh! Never wanna put my heart on the line, uh! But swimming in your water is something spiritual (spiritual) uh! I\\'m born again every time you spend the night, uh! \\'Cause your sex takes me to paradise Yeah your sex takes me to paradise And it shows, yeah, yeah, yeah \\'Cause you make me feel like, I\\'ve been locked out of heaven For too long, for too long Yeah you make me feel like, I\\'ve been locked out of heaven For too long, for too long Oh yeah yeah yeah yeah, uh! Oh yeah yeah Oh yeah yeah yeah yeah, uh! You bring me to my knees You make me testify, uh! You can make a sinner change his ways, uh! Open up your gates cause I can\\'t wait to see the light, uh! And right there is where I wanna stay, uh! \\'Cause your sex takes me to paradise Yeah your sex takes me to paradise And it shows, yeah, yeah, yeah \\'Cause you make me feel like, I\\'ve been locked out of heaven For too long, for too long Yeah you make me feel like, I\\'ve been locked out of heaven For too long, for too long Oh oh oh oh, yeah, yeah, yeah Can I just stay here Spend the rest of my days here Oh oh oh oh, yeah, yeah, yeah Can\\'t I just stay here Spend the rest of my days here \\'Cause you make me feel like, I\\'ve been locked out of heaven For too long, for too long Yeah you make me feel like, I\\'ve been locked out of heaven For too long, for too long Oh yeah yeah yeah yeah, uh! Oh yeah yeah Oh yeah yeah yeah yeah, uh! Hay tantas canciones que puedo cantar para pasar el tiempo Y me estoy quedando sin cosas que hacer para sacarte de mi mente Oh Todo lo que tengo es esta foto en un marco Que tengo muy cerca para ver tu cara todos los días Contigo es donde yo prefiero estar pero estamos atrapados en esto Y es tan difícil Estás tan lejos Esta distancia me está matando Me gustaría que estuvieras aquí conmigo pero estamos atrapados en esto. Y es tan difícil Estás tan lejos Esta distancia me está matando Es tan difícil Es tan difícil ¿Dónde estamos? ¿Dónde estamos? Estás tan lejos Esta distancia me está matando Es tan difícil Es tan difícil ¿Dónde estamos? ¿Dónde estamos? Estás tan lejos Esta distancia me está matando Ahora los minutos se sienten como horas y las horas se sienten como días Aunque estoy lejos tu sabes que no puedo estar en casa pero vuelvo a casa pronto vuelvo a casa pronto. Todo lo que tengo es esta foto en un marco Que tengo muy cerca para ver tu cara todos los días Contigo es donde yo prefiero estar pero estamos atrapados en esto Y es tan difícil Estás tan lejos Esta distancia me está matando Me gustaría que estuvieras aquí conmigo pero estamos atrapados en esto. Y es tan difícil Estás tan lejos ¿Puedes oírme llorar? Oh ¿Puedes oírme llorar? Oh ¿Puedes oírme llorar? Oh Contigo es donde yo prefiero estar pero estamos atrapados en esto Y es tan difícil Estás tan lejos Esta distancia me está matando Me gustaría que estuvieras aquí conmigo pero estamos atrapados en esto. Y es tan difícil Estás tan lejos Esta distancia me está matando. Es tan difícil Es tan difícil ¿Dónde estamos? ¿Dónde estamos? Estás tan lejos Esta distancia me está matando Es tan difícil Es tan difícil ¿Dónde estamos? ¿Dónde estamos? Estás tan lejos Esta distancia me está matando Hay tantas canciones que puedo cantar para pasar el tiempo... ¿Qué estás loco? Se está haciendo difícil esperar, Estoy tratando de hacerle ver, Que ella no sabe realmente Que yo estoy tratando de encontrar una manera, Y dile a ella todos los días, que sólo va de la mano Así que ... Yo no quiero ser, El único que sabe Que alguien podría venir y apenas Dicen que el amor por mí, Estoy de pie temblando de tierra, Y estoy pensando que voy a perder, Estribillo: Porque yo estoy perdiendo mi cabeza, Estoy perdiendo mi mente, Estoy perdiendo el control de mí mismo esta vez. Ella me tiene de perder la cabeza, Estoy perdiendo mi mente, Estoy perdiendo a mi manera, Pero yo creo que ella siente que ya estoy atrapado. ¿Estás hablando conmigo? Ya estoy atrapado. Me gustaría que me podía ver, Pero es que lo que Siente esto debe ser. Mi amor es como bala Todo lo que necesita es una inyección para mí para hacer estallar todo por la borda. No quiero sentir que estoy perdiendo el tiempo, Va a estar con ustedes y nadie más. Hasta que me aviso, Necesito saber en este momento Porque yo he estado creo que me voy a perder Estribillo: Porque yo estoy perdiendo mi cabeza, Estoy perdiendo mi mente, Estoy perdiendo el control de mí mismo esta vez. Ella me tiene de perder la cabeza, Estoy perdiendo mi mente, Estoy perdiendo a mi manera, Pero yo creo que ella siente que ya estoy atrapado. Dame una oportunidad ... Pero chica que me pone nervioso, A estas alturas ya debería haberme dado cuenta. ¿Y qué va a tomar Para la celestial ... Me estás volviendo loco! Estribillo: Porque yo estoy perdiendo mi cabeza, Estoy perdiendo mi mente, Estoy perdiendo el control de mí mismo esta vez. Ella me tiene de perder la cabeza, Estoy perdiendo mi mente, Estoy perdiendo a mi manera, Pero yo creo que ella siente que ya estoy atrapado. Hey, hey, hey I got a condo in Manhattan Baby girl, what\\'s hatnin\\'? You and your ass invited So gon\\' and get to clappin\\' Go pop it for a player, pop-pop it for me Turn around and drop it for a player, drop-drop it for me I\\'ll rent a beach house in Miami Wake up with no jammies (nope) Lobster tail for dinner Julio, serve that scampi You got it if you want it, got, got it if you want it Said you got it if you want it, take my wallet if you want it, now Jump in the Cadillac (Girl, let\\'s put some miles on it) Anything you want (Just to put a smile on you) You deserve it baby, you deserve it all And I\\'m gonna give it to you Cool jewelry shining so bright Strawberry champagne on ice Lucky for you, that\\'s what I like, that\\'s what I like Lucky for you, that\\'s what I like, that\\'s what I like Sex by the fire at night Silk sheets and diamonds all white Lucky for you, that\\'s what I like, that\\'s what I like Lucky for you, that\\'s what I like, that\\'s what I like I\\'m talkin\\' trips to Puerto Rico Say the word and we go You can be my fleeka Girl, I\\'ll be a fleeko, mamacita I will never make a promise that I can\\'t keep I promise that your smile ain\\'t gon\\' never leave Shopping sprees in Paris Everything twenty-four karats Take a look in that mirror (take a look) Now tell me who\\'s the fairest Is it you? (is it you?) is it me? (is it me?) Say it\\'s us (say it\\'s us) and I\\'ll agree, baby Jump in the Cadillac (Girl, let\\'s put some miles on it) Anything you want (Just to put a smile on you) You deserve it baby, you deserve it all And I\\'m gonna give it to you Cool jewelry shining so bright Strawberry champagne on ice Lucky for you, that\\'s what I like, that\\'s what I like Lucky for you, that\\'s what I like, that\\'s what I like Sex by the fire at night Silk sheets and diamonds all white Lucky for you, that\\'s what I like, that\\'s what I like Lucky for you, that\\'s what I like, that\\'s what I like You say you want a good time Well here I am, baby, here I am, baby Talk to me, talk to me, talk to me Talk to me, tell me what\\'s on your mind What\\'s on your mind If you want it, girl, come and get it All this is here for you Tell me baby, tell me, tell me baby What you tryna do Cool jewelry shining so bright Strawberry champagne on ice Lucky for you, that\\'s what I like, that\\'s what I like (that\\'s what I like) Lucky for you, that\\'s what I like, that\\'s what I like Sex by the fire at night Silk sheets and diamonds all white Lucky for you, that\\'s what I like, that\\'s what I like (that\\'s what I like) Lucky for you, that\\'s what I like, that\\'s what I like I wanna be a billionaire so f***in\\' bad Buy all of the things I never had Uh, I wanna be on the cover of Forbes magazine Smiling next to Oprah and the Queen Oh every time I close my eyes I see my name in shining lights A different city every night oh right I swear the world better prepare For when I\\'m a billionaire Yeah I would have a show like Oprah I would be the host of, everyday Christmas Give Travie a wish list I\\'d probably pull an Angelina and Brad Pitt And adopt a bunch of babies that ain\\'t never had s*** Give away a few Mercedes like here lady have this And last but not least grant somebody their last wish It\\'s been a couple months that I\\'ve been single so You can call me Travie Claus minus the Ho Ho Get it, hehe, I\\'d probably visit where Katrina hit And damn sure do a lot more than FEMA did Yeah can\\'t forget about me stupid Everywhere I go Imma have my own theme music Oh every time I close my eyes I see my name in shining lights A different city every night oh right I swear the world better prepare For when I\\'m a billionaire Oh ooh oh ooh for when I\\'m a billionaire Oh ooh oh ooh for when I\\'m a billionaire I\\'ll be playing basketball with the President Dunking on his delegates Then I\\'ll compliment him on his political etiquette Toss a couple milli in the air just for the heck of it But keep the five, twenties tens and bens completely separate And yeah I\\'ll be in a whole new tax bracket We in recession but let me take a crack at it I\\'ll probably take whatever\\'s left and just split it up So everybody that I love can have a couple bucks And not a single tummy around me would know what hungry was Eating good sleeping soundly I know we all have a similar dream Go in your pocket pull out your wallet And put it in the air and sing I wanna be a billionaire so f***in\\' bad Buy all of the things I never had Uh, I wanna be on the cover of Forbes magazine Smiling next to Oprah and the Queen Oh every time I close my eyes I see my name in shining lights A different city every night all right I swear the world better prepare for when I\\'m a billionaire I wanna be a billionaire so f***in\\' bad Oh every time I close my eyes I see my name in shining lights A different city every night oh I swear the world better prepare For when I\\'m a billionaire I wanna be a billionaire so f***in\\' bad! Oh, her eyes, her eyes make the stars look like they\\'re not shining Her hair, her hair falls perfectly without her trying She\\'s so beautiful And I tell her everyday. Yeah, I know, I know when I compliment her, she won\\'t believe me And it\\'s so, it\\'s so sad to think that she doesn\\'t see what I see But every time she ask me do I look okay? I say When I see your face There\\'s not a thing that I would change \\'Cause you\\'re amazing Just the way you are And when you smile The whole world stops and stares for a while \\'Cause girl, you\\'re amazing Just the way you are Her lips, her lips, I could kiss them all day if she\\'d let me Her laugh her laugh, she hates but I think it\\'s so sexy She\\'s so beautiful And I tell her everyday Oh, you know, you know, you know I\\'d never ask you to change If perfect\\'s what you\\'re searching for, then just stay the same So don\\'t even bother asking if you look okay You know I\\'ll say When I see your face There\\'s not a thing that I would change \\'Cause girl you\\'re amazing Just the way you are And when you smile The whole world stops and stares for a while \\'Cause girl, you\\'re amazing Just the way you are The way you are The way you are Girl, you\\'re amazing Just the way you are When I see your face There\\'s not a thing that I would change \\'Cause girl you\\'re amazing Just the way you are And when you smile The whole world stops and stares for a while \\'Cause girl, you\\'re amazing Just the way you are. Yeah Today I don\\'t feel like doing anything I just wanna lay in my bed Don\\'t feel like picking up my phone So leave a message at the tone \\'Cause today I swear I\\'m not doing anything Uh I\\'m gonna kick my feet up and stare at the fan Turn the t.v. on Throw my hand in my pants Nobody\\'s gon\\' tell me I cant, no I\\'ll be loungin\\' on the couch just chillin\\' in my snuggie Flip to MTV so they can teach me how to Dougie \\'Cause in my castle I\\'m the freakin\\' man Oh Yes I said it I said it I said it \\'cause I can Today I don\\'t feel like doing anything I just wanna lay in my bed Don\\'t feel like picking up my phone So leave a message at the tone \\'Cause today I swear I\\'m not doing anything Nothing at all Ooh hoo ooh hoo Hoo ooh ooh Nothing at all Ooh hoo ooh hoo Hoo ooh ooh Tomorrow I\\'ll wake up do some p90x Meet a really nice girl have some really nice sex And she\\'s gonna scream out this is great I might mess around and get my college degree I bet my old man will be so proud of me But sorry pops you\\'ll just have to wait Oh Yes I said it I said it I said it \\'cause I can Today I don\\'t feel like doing anything I just wanna lay in my bed Don\\'t feel like picking up my phone So leave a message at the tone \\'Cause today I swear I\\'m not doing anything No I ain\\'t gonna comb my hair \\'Cause I ain\\'t goin\\' anywhere No no no no no no no no no oh I\\'ll just strut in my birthday suit And let everything hang loose Yeah yeah yeah yeah yeah yeah yeah yeah yeah yeah Oh, today I don\\'t feel like doing anything I just wanna lay in my bed Don\\'t feel like picking up my phone So leave a message at the tone \\'Cause today I swear I\\'m not doing anything Nothing at all Ooh hoo ooh hoo Hoo ooh ooh Nothing at all Ooh hoo ooh hoo Hoo ooh ooh Nothing at all Easy come easy go, that\\'s just how you live Oh, take, take, take it all but you never give Should\\'ve known you was trouble from the first kiss Had your eyes wide open, why were they open Gave you all I had and you tossed it in the trash You tossed it in the trash, you did To give me all your love is all I ever asked \\'Cause What you don\\'t understand is I\\'d catch a grenade for ya Throw my hand on a blade for ya I\\'d jump in front of a train for ya You know I\\'d do anything for ya oh oh oh oh oh I would go through all this pain Take a bullet straight right through my brain Yes, I would die for you, baby But you won\\'t do the same No, no, no, no Black, black, black and blue, beat me \\'til I\\'m numb Tell the devil I said, hey, when you get back to where you\\'re from Mad woman, bad woman, that\\'s just what you are, yeah You\\'ll smile in my face then rip the brakes out my car Gave you all I had and you tossed it in the trash You tossed it in the trash, yes, you did To give me all your love is all I ever asked \\'Cause What you don\\'t understand is I\\'d catch a grenade for ya Throw my hand on a blade for ya I\\'d jump in front of a train for ya You know I\\'d do anything for ya Oooh I would go through all this pain Take a bullet straight right through my brain Yes, I would die for ya, baby But you won\\'t do the same If my body was on fire Ooh, you\\'d watch me burn down in flames You said you loved me, you\\'re a liar \\'Cause you never, ever, ever did, baby But darling, I\\'d still catch a grenade for ya Throw my hand on a blade for ya I\\'d jump in front of a train for ya You know I\\'d do anything for ya I would go through all this pain Take a bullet straight right through my brain Yes, I would die for you, baby But you won\\'t do the same No, you won\\'t do the same You wouldn\\'t do the same Ooh, you never do the same No, no, no, no This hit, that ice cold Michelle Pfeiffer, that white gold This one for them hood girls Them good girls straight masterpieces Stylin\\', whilen, livin\\' it up in the city Got Chucks on with Saint Laurent Got kiss myself, I\\'m so pretty I\\'m too hot (hot damn) Called a police and a fireman I\\'m too hot (hot damn) Make a dragon wanna retire man I\\'m too hot (hot damn) Say my name you know who I am I\\'m too hot (hot damn) Am I bad \\'bout that money, break it down Girls hit your hallelujah (whoo) Girls hit your hallelujah (whoo) Girls hit your hallelujah (whoo) \\'Cause uptown funk gon\\' give it to you \\'Cause uptown funk gon\\' give it to you \\'Cause uptown funk gon\\' give it to you Saturday night and we in the spot Don\\'t believe me just watch (come on) Don\\'t believe me just watch uh Don\\'t believe me just watch Don\\'t believe me just watch Don\\'t believe me just watch Don\\'t believe me just watch Hey, hey, hey, oh Stop, wait a minute Fill my cup, put some liquor in it Take a sip, sign a check Julio, get the stretch Ride to Harlem, Hollywood Jackson, Mississippi If we show up, we gon\\' show out Smoother than a fresh jar of Skippy I\\'m too hot (hot damn) Called a police and a fireman I\\'m too hot (hot damn) Make a dragon wanna retire man I\\'m too hot (hot damn) Bitch say my name you know who I am I\\'m too hot (hot damn) Am I bad \\'bout that money Break it down Girls hit your hallelujah (whoo) Girls hit your hallelujah (whoo) Girls hit your hallelujah (whoo) \\'Cause uptown funk gon\\' give it to you \\'Cause uptown funk gon\\' give it to you \\'Cause uptown funk gon\\' give it to you Saturday night and we in the spot Don\\'t believe me just watch (come on) Don\\'t believe me just watch uh Don\\'t believe me just watch uh Don\\'t believe me just watch uh Don\\'t believe me just watch Don\\'t believe me just watch Hey, hey, hey, oh Before we leave Lemmi tell y\\'all a lil\\' something Uptown funk you up Uptown funk you up Uptown funk you up Uptown funk you up uh I said uptown funk you up Uptown funk you up Uptown funk you up Uptown funk you up Come on, dance, jump on it If you sexy then flaunt it If you freaky then own it Don\\'t brag about it, come show me Come on, dance Jump on it If you sexy then flaunt it Well it\\'s Saturday night and we in the spot Don\\'t believe me just watch come on! Don\\'t believe me just watch uh Don\\'t believe me just watch uh Don\\'t believe me just watch uh Don\\'t believe me just watch Don\\'t believe me just watch Hey, hey, hey, oh Uptown funk you up Uptown funk you up (say what?) Uptown funk you up Uptown funk you up Uptown funk you up Uptown funk you up (say what?) Uptown funk you up Uptown funk you up Uptown funk you up Uptown funk you up (say what?) Uptown funk you up Uptown funk you up Uptown funk you up Uptown funk you up (say what?) Uptown funk you up Let\\'s take our time tonight, girl Above us all the stars are watchin\\' There\\'s no place I\\'d rather be in this world Your eyes are where I\\'m lost in Underneath the chandelier We\\'re dancin\\' all alone There\\'s no reason to hide What we\\'re feelin\\' inside Right now! So baby let\\'s just turn down the lights And close the door Oooh I love that dress But you won\\'t need it anymore No you won\\'t need it no more Let\\'s just kiss \\'til we\\'re naked, baby Versace on the floor Oooh take it off for me, for me, for me, for me now, girl Versace on the floor Oooh take it off for me, for me, for me, for me now, girl I unzip the back to watch it fall While I kiss your neck and shoulders No don\\'t be afraid to show it off I\\'ll be right here ready to hold you Girl you know you\\'re perfect from Your head down to your heels Don\\'t be confused by my smile \\'Cause I ain\\'t ever been more for real, for real So just turn down the lights (down the lights) And close the door (close the door) Oooh I love that dress But you won\\'t need it anymore No you won\\'t need it no more Let\\'s just kiss \\'til we\\'re naked, baby Versace on the floor Ooh take it off for me, for me, for me, for me now, girl Versace on the floor Ooh take it off for me, for me, for me, for me now, girl Dance (It\\'s warmin\\' up) can you feel it? (It\\'s warmin\\' up) can you feel it? (It\\'s warmin\\' up) can you feel it, baby? It\\'s warmin\\' up Oh, seems like you\\'re ready for more, more, more Let\\'s just kiss \\'til we\\'re naked Ooh, Versace on the floor, hey baby Take it off for me, for me, for me, for me now, girl Versace on the floor Oh take it off for me, for me, for me, for me now, girl Versace on the floor Floor Floor It\\'s a beautiful night , We\\'re looking for something dumb to do Hey baby I think I want to marry you Is it the look in your eyes? Or is it these dancing juice? Who cares baby I think I wanna marry you Well I know this little chapel on the boulevard we can go No one will know Oh come on girl Who cares if we\\'re trashed got a pocket full of cash we can blow Shots of patron And it\\'s on girl Don\\'t say no, no, no, no-no Just say yeah, yeah, yeah, yeah-yeah And we\\'ll go, go, go, go-go If you\\'re ready, like I\\'m ready Cause it\\'s a beautiful night We\\'re looking for something dumb to do Hey baby I think I wanna marry you Is it the look in your eyes? Or is it the dancing juice? Who cares baby I think I wanna marry you I\\'ll go get a ring let the choir bells sing like oooh So what you wanna do? Let\\'s just run girl If we wake up and you wanna break up that\\'s cool No, I won\\'t blame you It was fun girl Don\\'t say no, no, no, no-no Just say yeah, yeah, yeah, yeah-yeah And we\\'ll go, go, go, go-go If you\\'re ready, like I\\'m ready Cause it\\'s a beautiful night, We\\'re looking for something dumb to do Hey baby I think I wanna marry you. Is it the look in your eyes? Or is it this dancing juice? Who cares baby, I think I wanna marry you. Just say I do, Tell me right now baby, Tell me right now baby, baby Just say I do Tell me right now baby, Tell me right now baby, baby Oh it\\'s a beautiful night We\\'re looking for something dumb to do Hey baby I think I wanna marry you Is it the look in your eyes? Or is it this dancing juice? Who cares baby I think I wanna marry you. If you ever find yourself stuck in the middle of the sea, I\\'ll sail the world to find you If you ever find yourself lost in the dark and you can\\'t see, I\\'ll be the light to guide you Find out what we\\'re made of When we are called to help our friends in need You can count on me like one two three I\\'ll be there And I know when I need it I can count on you like four three two You\\'ll be there \\'Cause that\\'s what friends are supposed to do, oh yeah Whoa, whoa Oh, oh Yeah, yeah If you tossin\\' and you\\'re turnin\\' and you just can\\'t fall asleep I\\'ll sing a song Beside you And if you ever forget how much you really mean to me Everyday I will Remind you Ooh Find out what we\\'re made of When we are called to help our friends in need You can count on me like one two three I\\'ll be there And I know when I need it I can count on you like four three two You\\'ll be there \\'Cause that\\'s what friends are supposed to do, oh yeah Oh, oh Yeah, yeah You\\'ll always have my shoulder when you cry I\\'ll never let go Never say goodbye You know you can Count on me like one two three I\\'ll be there And I know when I need it I can count on you like four three two And you\\'ll be there \\'Cause that\\'s what friends are supposed to do, oh yeah Oh, oh You can count on me \\'cause I can count on you Same bed but it feels just A little bit bigger now Our song on the radio But it don\\'t sound the same When our friends talk about you All it does is just tear me down Cause my heart breaks a little When I hear your name It all just sounds like (oooooh) Mmm too young too dumb to realize That i Should\\'ve bought you flowers And held your hand Should\\'ve gave you all my hours When I had the chance Take you to every party Cause all you wanted to do was dance Now my baby is dancing But she\\'s dancing with another man My pride, my ego, my needs and my selfish ways Caused a good strong woman like you to walk out my life Now I never never get to clean up the mess I made Ooh and it hunts me every time I close my eyes It all just sounds like (oooooh) Mmm too young too dumb to realize That I Should\\'ve bought you flowers And held your hand Should\\'ve gave you all my hours When I had the chance Take you to every party Cause all you wanted to do was dance Now my baby is dancing But she\\'s dancing with another man Although it hurts I\\'ll be the first to say That I was wrooooong Oooh I know i\\'m probably much too late To try and apologize for my mistakes But I just want you to know I hope he buys you flowers I hope he holds your hand Give you all his hours When he has the chance Take you to every party Cause I remember how much You loved to dance Do all the things I should\\'ve done When I was your man Do all the things I should\\'ve done When I was your man Tonight I just want to take you higher Throw your hands up in the sky Let\\'s set this party off right Players, put yo\\' pinky rings up to the moon Girls, what y\\'all trying to do? Twenty four karat magic in the air Head to toe so player Look out uh Pop pop, it\\'s show time (show time) Show time (show time) Guess who\\'s back again? Oh they don\\'t know? (Go on tell \\'em) Oh they don\\'t know? (Go on tell \\'em) I bet they know soon as we walk in (showin\\' up) Wearing Cuban links (ya) Designer minks (ya) Inglewood\\'s finest shoes (whoop, whoop) Don\\'t look too hard might hurt ya\\'self Known to give the color red the blues Oh shit, I\\'m a dangerous man with some money in my pocket (keep up) So many pretty girls around me and they waking up the rocket (keep up) Why you mad, fix ya face, ain\\'t my fault y\\'all be jocking (keep up) Players only, come on Put your pinky rings up to the moon Girls, what y\\'all trying to do? Twenty four karat magic in the air Head to toe so player Uh, look out! Second verse for the hustlas (hustlas) gangstas (gangstas) Bad bitches and ya ugly ass friends (haha) Can I preach (uh oh) can I preach (uh oh) I gotta show \\'em how a pimp get it in First, take your sip (sip), do your dip (dip) Spend your money like money ain\\'t shit (whoop, whoop) We too fresh Got to blame in on Jesus Hashtag blessed, they ain\\'t ready for me I\\'m a dangerous man with some money in my pocket (keep up) So many pretty girls around me and they waking up the rocket (keep up) Why you mad, fix ya face, ain\\'t my fault y\\'all be jocking (keep up) Players only, come on Put your pinky rings up to the moon Hey girls What y\\'all trying to do? (What y\\'all trying to do?) Twenty four karat magic in the air Head to toe so player Uh, look out! (Wooh) everywhere I go they be like Ooh, so player Everywhere I go they be like (ooh, so player ooh) Oh everywhere I go they be like (ooh, so player ooh) Now, now, now watch me break it down like (uh) Twenty four karat, twenty four karat magic What\\'s that sound (twenty four karat, twenty four karat magic) Come on now Twenty four karat, twenty four karat magic Don\\'t fight the feeling, invite the feeling Just put your pinky rings up to the moon Girls, what y\\'all trying to do? (Tell me what y\\'all trying to do) Twenty four karat magic in the air Head to toe so player (hands up!) Put your pinky rings up to the moon Girls, what y\\'all trying to do? (Do) Twenty four karat magic in the air Head to toe so player (twenty four karat) uh, look out (Twenty four karat magic, magic, magic) If you ever leave me, baby, Leave some morphine at my door \\'Cause it would take a whole lot of medication To realize what we used to have, We don\\'t have it anymore. There\\'s no religion that could save me No matter how long my knees are on the floor (Ooh) So keep in mind all the sacrifices I\\'m makin\\' To keep you by my side To keep you from walkin\\' out the door. \\'Cause there\\'ll be no sunlight If I lose you, baby There\\'ll be no clear skies If I lose you, baby Just like the clouds My eyes will do the same, if you walk away Everyday it\\'ll rain, rain, ra-a-a-ain I\\'ll never be your mother\\'s favorite Your daddy can\\'t even look me in the eye Ooh, if I was in their shoes, I\\'d be doing the same thing Sayin\\' \"There goes my little girl Walkin\\' with that troublesome guy\" But they\\'re just afraid of something they can\\'t understand Ooh, but little darlin\\' watch me change their minds Yeah for you I\\'ll try, I\\'ll try, I\\'ll try, I\\'ll try And pick up these broken pieces \\'til I\\'m bleeding If that\\'ll make you mine \\'Cause there\\'ll be no sunlight If I lose you, baby There\\'ll be no clear skies If I lose you, baby Just like the clouds My eyes will do the same, if you walk away Everyday it\\'ll rain, rain, ra-a-a-ain Oh, don\\'t you say (don\\'t you say) goodbye (goodbye), Don\\'t you say (don\\'t you say) goodbye (goodbye) I\\'ll pick up these broken pieces \\'til I\\'m bleeding If that\\'ll make it right \\'Cause there\\'ll be no sunlight If I lose you, baby There\\'ll be no clear skies If I lose you, baby And just like the clouds My eyes will do the same, if you walk away Everyday it\\'ll rain, rain, ra-a-a-ain Give me all, give me all, give me all attention baby I got to tell you a little something about yourself You\\'re wonderful, flawless, ooh you\\'re a sexy lady But you walk around here like you wanna be someone else Ooooooooohhhhhhhhhhh I know that you don\\'t know it, but you\\'re fine, so fine (fine, so fine) Ooooooooooohhhhhhhhh Oh girl I\\'m gonna show you when you\\'re mine, oh mine(mine, oh mine) Treasure, that is what you are Honey you\\'re my golden star I know you could make my wish come true If you let me treasure you If you let me treasure you oh oooooh Pretty girl, pretty girl, pretty girl you should be smiling A girl like you should never look so blue You\\'re everything I see in my dreams I wouldn\\'t say that to you if it wasn\\'t true Oooooooooohhhhhhhhhhhh I know that you don\\'t know it, but you\\'re fine, so fine (fine, so fine) Ooooooooooohhhhhhhhhhh Oh girl I\\'m gonna show you when you\\'re mine, oh mine(mine, oh mine) Treasure, that is what you are Honey you\\'re my golden star I know you could make my wish come true If you let me treasure you If you let me treasure you You are my treasure, you are my treasure You are my treasure, yeah, you you you, you are You are my treasure, you are my treasure You are my treasure, yeah, you you you, you are Treasure, that is what you are Honey you\\'re my golden star I know you can make my wish come true If you let me treasure you If you let me treasure you I know you\\'re somewhere out there Somewhere far away I want you back I want you back My neighbors think I\\'m crazy But they don\\'t understand You\\'re all I have You\\'re all I have At night when the stars Light up my room I sit by myself Talking to the moon Tryin\\' to get to you In hopes you\\'re on The other side Talking to me too Or am I a fool Who sits alone Talking to the moon Oh I\\'m feeling like I\\'m famous The talk of the town They say I\\'ve gone mad Yeah I\\'ve gone mad But they don\\'t know what I know \\'Cause when the sun goes down someone\\'s talking back Yeah they\\'re talking back At night when the stars Light up my room I sit by myself Talking to the moon Tryin\\' to get to you In hopes you\\'re on The other side Talking to me too Or am I a fool Who sits alone Talking to the moon (Ah, ah, ah) Do you ever hear me calling? (Ah) oh oh oh (Ah) oh oh oh \\'Cause every night I\\'m talking to the moon Still trying to get to you In hopes you\\'re on The other side Talking to me too Or am I a fool Who sits alone Talking to the moon I know you\\'re somewhere out there Somewhere far away Well looky here looky here ah what do we have? Another pretty thing ready for me to grab But little does she know that I\\'m a wolf in sheeps clothing \\'Cause at the end of the night it is her I\\'ll be holding I love you so That\\'s what you\\'ll say, You\\'ll tell me baby, baby please don\\'t go away But when I play, I never stay To every girl that I meet here, this is what I\\'ll say, Run run runaway, runaway baby Before I put my spell on you You better get get getaway, getaway darling \\'Cause everything you heard is true You poor little heart will end up alone \\'Cause lord knows I\\'m a rolling stone So you better run run runaway, runaway baby Uh, ah yeah Well let me think, let me think, ah what should I do? So many eager young bunnies that I\\'d like to pursue Now even though they\\'re eating out the palm of my hand There\\'s only one carrot and they all gotta share it I love you so That\\'s what you\\'ll say, You\\'ll tell me baby, baby please don\\'t go away But when I play, I never stay To every girl that I meet here, this is what I\\'ll say, Run run runaway, runaway baby Before I put my spell on you You better get get getaway, getaway darling \\'Cause everything you heard is true You poor little heart will end up alone \\'Cause lord knows I\\'m a rolling stone So you better run run runaway, runaway baby Uh, check it out See I ain\\'t tryna hurt you baby No no no I just want to work you baby See I ain\\'t tryna hurt you baby No no no I just want to work you baby If you are scared, you better run (you better run) You better run, (you better run) You better run, (you better run) You better, you better, you better Run run runaway, runaway baby Before I put my spell on you You better get get getaway, getaway darling \\'Cause everything you heard is true You poor little heart will end up alone \\'Cause lord knows I\\'m a rolling stone So you better run run runaway, runaway baby Oh yeah yeah Oh yeah yeah yeah yeah Ooh! Oh yeah yeah Oh yeah yeah yeah yeah Ooh! Never had much faith in love or miracles Never wanna put my heart on the line But swimming in your world is something spiritual I\\'m born again every time you spend the night Cause your sex takes me to paradise Yeah your sex takes me to paradise And it shows, yeah, yeah, yeah Cause you make me feel like, I\\'ve been locked out of heaven For too long, For too long Yeah you make me feel like, I\\'ve been locked out of heaven For too long, for too long Oh yeah yeah yeah yeah Ooh! Oh yeah yeah Oh yeah yeah yeah yeah Ooh! You bring me to my knees You make me testify You can make a sinner change his ways Open up your gates cause I can\\'t wait to see the light And right there is where I wanna stay Cause your heart takes me to paradise Yeah your heart takes me to paradise And it shows, yeah, yeah, yeah Cause you make feel like, I\\'ve been locked out of heaven For too long, for too long Yeah you make feel like, I\\'ve been locked out of heaven For too long, for too long Oh oh oh oh, yeah, yeah, yeah Can\\'t I just stay here Spend the rest of my days here Oh, oh, oh, oh, yeah, yeah, yeah Can\\'t I just stay here Spend the rest of my days here Cause you make feel like, I\\'ve been locked out of heaven For too long, for too long Yeah you make feel like, I\\'ve been locked out of heaven For too long, for too long Oh yeah yeah yeah yeah Ooh! Oh yeah yeah Oh yeah yeah yeah yeah Oh yeah yeah year yeah Ooh! I\\'ve been working hard so long Seems like pain has been my only friend My fragile heart\\'s been done so wrong I wondered if I\\'d ever heal again Ohh just like all the seasons never stay the same all around me i can feel a change (ohh) CHORUS I will break these chains that bind me, happiness will find me leave the past behind me, today my life begins a whole new world is waiting it\\'s mine for the taking I know I can make it, today my life begins Yesterday has come and gone And I\\'ve learnt how to leave it where it is And I see that I was wrong For ever doubting I could win Ohh just like all the seasons never stay the same all around me i can feel a change (ohh) I will break these chains that bind me, happiness will find me leave the past behind me, today my life begins a whole new world is waiting it\\'s mine for the taking I know I can make it, today my life begins Life\\'s too short to have regrets So I\\'m learning now to leave it in the past and try to forget only have one life to live So you better make the best of it I will break these chains that bind me, happiness will find me Leave the past behind me, today my life begins A whole new world is waiting it\\'s mine for the taking I know I can make it, today my life begins I will break these chains that bind me, happiness will find me Leave the past behind me, today my life begins A whole new world is waiting it\\'s mine for the taking I know I can make it, today my life begins Today my life begins... Everyday I wake up next to an angel More beautiful than words could say They said it wouldn\\'t work but what did they know? \\'Cause years have passed and we\\'re still here today Never in my dreams did I think that this would happen to me As I stand here before my woman I can\\'t fight back the tears in my eyes Oh, how could I be so lucky I must\\'ve done something right And I promise to love her for the rest of my life Seems like yesterday when she first said hello Funny how time flies when you\\'re in love It took us a lifetime to find each other It was worth the wait \\'cause I finally found the one Never in my dreams did I think that this would happen to me As I stand here before my woman I can\\'t fight back the tears in my eyes Oh how could I be so lucky I must\\'ve done something right And I promise to love her for the rest of my life With everything happening today You don\\'t know whether you\\'re coming or going But you think that you\\'re on your way Life lined up on the mirror don\\'t blow it Look at me when I\\'m talkin\\' to you You looking at me but I\\'m lookin\\' through you I see the blood in your eyes I see the love in disguise I see the pain hidden in your pride I see you\\'re not satisfied And I don\\'t see nobody else I see myself I\\'m looking at the Mirror on the wall, here we are again Through my rise and fall You\\'ve been my only friend You told me that they can understand the man I am So why are we here talkin\\' to each other again Uh, I see the truth in your lies I see nobody by your side But I\\'m with you when you re all alone And you correct me when I\\'m lookin\\' wrong I see that guilt beneath the shame I see your soul through your window pain I see the scars that remain I see you Wayne, I\\'m lookin\\' at the Mirror on the wall, here we are again Through my rise and fall You\\'ve been my only friend You told me that they can understand the man I am So why are we here talkin\\' to each other again Lookin\\' at me now I can see my past Damn I look just like my fuckin\\' dad Light it up, that\\'s smoke at mirrors I even look good in the broken mirror I see my momma smile that\\'s a blessin\\' I see the change, I see the message And no message could been any clearer So I\\'m starting with the man in the Mirror on the wall, (MJ taught me that) Here we are again Through my rise and fall You\\'ve been my only friend (take them to mars man) You told me that they can understand the man I am So why are we here talkin\\' to each other again Uh Mirror on the wall, here we are again Through my rise and fall You\\'ve been my only friend You told me that they can understand the man I am So why are we here talkin\\' to each other again Mirror on the wall Hey BP, looks like I did take \\'em to mars this time So why are we talkin\\' to each other again Man, look at you, been walking in here looking all pretty and angry and mean and good Haha Now I know you didn\\'t get your hair done so you could just sit down and just sit still Hey, we tryna have a good time tonight, let\\'s go over here (let\\'s go over here!) It\\'s my birthday (No, it\\'s not) But I still look good though (High comb hot) I bet you want an autograph For you and your friends Gotta do it in the penthouse That\\'s where I keep my pen What you can\\'t dance, ain\\'t got rhythm? What you got a man? I don\\'t see you with him Put your phone down, let\\'s get it Forget your Instagram and your Twitter Got me like woah, wait a minute You need to take a minute Loosen them shoulders up Pour it up, let\\'s work Throw some perm on your attitude Girl, you gotta relax (ooh) Let me show you what you got to do You gotta lay it back Matter of fact, band, show her how to lay it back! Show her how to lay it back Show her how to lay it back Ow, show her how to lay it back Alright! Come on baby, I love you (No you don\\'t) You never know, I might though Can\\'t say I won\\'t, ah There\\'s that smile I\\'m looking for Was that so hard? If you ever need to smile again girl, take my card Razzle-dazzle, never gon\\' stop What you want is what I got You wanna get down? You gotta get up Don\\'t be stingy with your big ol\\' butt You got a booty like woah, wait a minute! I\\'m just playing with you Loosen them shoulders up Pour it up, let\\'s work Throw some perm on your attitude Girl, you gotta relax (ooh) Let me show you what you got to do You gotta lay it back Matter of fact, band, show her how to lay it back! Show her how to lay it back Show her how to lay it back Ow, show her how to lay it back Alright! Hey, now you got it baby You tryna have some fun tonight, you just try to follow these simple instructions, you ready? You need to activate your sexy (activate your sexy) Silky, smooth and snap (silky, smooth and snap) Now lean with it (lean), throw a lil\\' sheen in it (sheen) Then pat, pat, pat \\'til it\\'s flat One more time, you need to activate your sexy (activate your sexy) Silky, smooth and snap (silky, smooth and snap) Now lean with it (lean), throw a lil\\' sheen in it (sheen) Then pat, pat, pat \\'til it\\'s flat I\\'ll say it again Throw some perm on your attitude Girl, you gotta relax (Oooh) Oh, let me show you what you got to do You gotta lay it back Matter of fact, band, show her how to lay it back! Show her how to lay it back Show her how to lay it back, now Ow, show her how to lay it back right now Alright! There\\'s only so many songs that I can sing To pass the time And I\\'m running outta things To do to get you off my mind (Oh) All I have is this picture in a frame That I hold close to see your face everyday With you is where I\\'d rather be But we\\'re stuck where we are and it\\'s so hard So far, this long distance is killing me I wish that you were here with me But we\\'re stuck where we are and it\\'s so hard So far, this long distance is killing me It\\'s so hard (So hard) When we are (When we are) We\\'re so far, this long distance is killing me It\\'s so hard (So hard) When we are (When we are) So far, this long distance is killing me Now the minutes feel like hours And the hours feel like days while I\\'m away You know right now I can\\'t be home But I\\'m coming home soon, coming home soon All I have is this picture in a frame That I hold close to see your face again With you is where I\\'d rather be But we\\'re stuck where we are and it\\'s so hard So far, this long distance is killing me I wish that you were here with me But we\\'re stuck where we are and it\\'s so hard So far Can you hear me crying? (Ooh) Can you hear me crying? (Ooh) Can you hear me crying? (Ooh) With you is where I\\'d rather be But we\\'re stuck where we are and it\\'s so hard So far, this long distance is killing me I wish that you were here with me But we\\'re stuck where we are and it\\'s so hard So far, it\\'s so hard (So hard) When we are (When we are) We\\'re so far this long distance is killing me It\\'s so hard (So hard) When we are (When we are) So far, this long distance is killing me There\\'s only so many songs that I can sing To pass the time I love you Mom, you are my favorite girl. favorite girl mom you are my best mom I have to do what you told. My friends ask me if I wanna play ball. My mommy told me to give them a call. You see I play guitar but my fingers too small. I tried to play piano but my feet cant reach the floor My mommy helps me with my voice, mom a superstar singer is my first choice. I love you Mom, you are my favorite girl. I love you Mom, you always be my favorite girl. I wanna jump rope, I wanna play but I just choose to write a new single. Ill sing to my Mom, sing it to my Dad, I just hope I sing bad. My parents help me out . I know they love me, I just wish my mom . she is best favorite girl I always brush my teeth my mommy said, I do it in the morning and right before bed. I love you Mom, you are my favorite girl. I love you Mom, you always be my favorite girl. I love you Mom, you are my favorite girl. I love you Mom, you always be my favorite girl. I love you Mom, you are my favorite girl. She got to shake her little something (shake her little something), ooh Throwing that thing from left, right, side-to-side She got to have her own money (she got her own money), oh yeah Shout out to the girls that pay they rent on time If you ain\\'t here to party take your ass back home If you getting naughty, baby here\\'s my phone Slide with your boy to the bar Slide with your boy to the car I\\'ve been searching everywhere and now here you are Ooh, chunky Looking for them girls with the big old hoops That drop it down in daisy dukes (I wanna get down) Yeah, them the ones I\\'m trying to recruit I\\'m looking at you Yeah, you, baby (baby, baby) Now let me hear you say you ready (I\\'m ready), oh yeah Girl, you better have you hair weave strapped on tight \\'Cause once we get going, we rolling, we\\'ll cha-cha \\'til the morning So just say alright (alright) If you ain\\'t here to party take your ass back home If you getting naughty, baby here\\'s my phone Slide with your boy to the bar Slide with your boy to the car I\\'ve been searching everywhere and now here you are Ooh, chunky Looking for them girls with the big old hoops That drop it down in daisy dukes (I wanna get down) Yeah, them the ones I\\'m trying to recruit I\\'m looking at you Yeah, you, baby (baby, baby) Ow, you got what I want (I got what you want) Girl, you got what I need (I got what you need) Thirty-seven, twenty-seven, forty-two, ooh Squeeze all of that into my coupe Girl, I, I choo-oose you Chunky Looking for them girls with the big old hoops That drop it down in daisy dukes (I wanna get down) Yeah, them the ones I\\'m trying to recruit I\\'m looking at you Yeah, you, baby Chunky Looking for them girls with the big old hoops That drop it down in daisy dukes (I wanna get down) Yeah, them the ones I\\'m trying to recruit Hey, I\\'m looking at you Yeah, you, baby (baby, baby) I spent all my money on a big old fancy car For these bright-eyed hunnies Oh, yeah, you know who you are Keep me up \\'til the sun is high \\'Til the birds start calling my name I\\'m addicted and I don\\'t know why Guess I\\'ve always been this way All these roads steer me wrong But I still drive them all night long, all night long All you young wild girls You make a mess of me Yeah, you young wild girls You\\'ll be the death of me, the death of me All you young wild girls No matter what you do Yeah, you young wild girls I\\'ll always come back to you, come back to you I get lost under these lights I get lost in the words I say Start believing my own lies Like everything will be okay Oh, I still dream of simple life Boy meets girl, makes her his wife But love don\\'t exist When you live like this That much I know, yes I know All these roads steer me wrong But I still drive them all night long, all night long All you young wild girls You make a mess of me Yeah, you young wild girls You\\'ll be the death of me, the death of me All you young wild girls No matter what you do Yeah, you young wild girls I\\'ll always come back to you, come back to you You, you, you, you Yeah, you, you, you You, you, you, you All you young wild girls You make a mess of me Yeah, you young wild girls You\\'ll be the death of me, the death of me All you young wild girls No matter what you do Yeah, you young wild girls I\\'ll always come back to you, come back to you Oh I got a bottle full of liquor with a cocaine Kicker and I\\'m feeling like I\\'m thirty feet tall So lay it down, lay it down You got your legs up in the sky with the devil in your eyes Let me hear you say you want it all Say it now, say it now Look what you doing, look what you done But in this jungle you can\\'t run \\'Cause what I got for you I promise is a killer, you\\'ll be banging on my chest Bang bang, gorilla You and me baby making love like gorillas You and me baby making love like gorillas Yeah I got a fistful of your hair But you don\\'t look like you\\'re scared You\\'re just smiling tell me daddy it\\'s yours \\'Cause you know how I like it use a dirty little lover If the neighbors call the cops, call the sheriff Call the swat we don\\'t stop We keep rocking while they knocking on our door And you\\'re screaming give it to me baby Give it to me motherfucker Oh look what you doing, look what you done But in this jungle you can\\'t run \\'Cause what I got for you I promise is a killer, you\\'ll be banging on my chest Bang bang, gorilla You and me baby making love like gorillas You and me baby making love like gorillas I bet you never ever felt so good, so good I got your body trembling like it should, it should You\\'ll never be the same baby once I\\'m done with you Oh you with me baby making love like gorillas You and me baby we\\'ll be fuckin\\' it like gorillas You and me baby making love like gorillas I will leave my heart at the door I won\\'t say a word... They\\'ve all been said before, you know So why don\\'t we just play pretend Like we\\'re not scared of what is coming next or scared of having nothing left! Look, don\\'t get me wrong I know there is no tomorrow All I ask is... If this is my last night with you Hold me like I\\'m more than just a friend Give me a memory I can use Take me by the hand while we do what lovers do It matters how this ends \\'Cause what if I never love again? I don\\'t need your honesty It\\'s already in your eyes and I\\'m sure my eyes, they speak for me No one knows me like you do And since you\\'re the only one that matters Tell me who do I run to? Look, don\\'t get me wrong! I know there is no tomorrow All I ask is If this is my last night with you Hold me like I\\'m more than just a friend Give me a memory I can use Take me by the hand while we do what lovers do It matters how this ends Cause what if I never love again? Let this be our lesson in love Let this be the way we remember us I don\\'t wanna be cruel or vicious And I ain\\'t asking for forgiveness All I ask is... If this is my last night with you Hold me like I\\'m more than just a friend Give me a memory I can use Take me by the hand while we do what lovers do It matters how this ends \\'Cause what if I never love again? Oh, oh I, I was a city boy Riding to danger\\'s where I\\'d always run above and is hurt I wouldn\\'t have done All the things that I\\'ve done If I knew one day you would come Now, baby, now, baby, now, baby Oh, oh, oh, I, I know it breaks your heart To picture the only one you wanna love In someone else\\'s arms, but I wouldn\\'t have done All the things that I have done If I knew one day you would come Now, baby, now, baby, now, baby Oh, baby, please, let\\'s leave the past behind us So that we can go where love will find us Yeah, will find us I know once girls would leave me But I know that you believe me Baby, I, I wish we were seventeen So I could give you all the innocence That you give to me No, I wouldn\\'t have done All the things that I have done If I knew one day you would come If I knew one day you would come One, two, one, two, three Oh yeah yeah Oh yeah yeah yeah yeah, uh! Oh yeah yeah Oh yeah yeah yeah yeah, uh! Never had much faith in love or miracles (miracles) uh! Never wanna put my heart on the line, uh! But swimming in your water is something spiritual (spiritual) uh! I\\'m born again every time you spend the night, uh! \\'Cause your sex takes me to paradise Yeah your sex takes me to paradise And it shows, yeah, yeah, yeah \\'Cause you make me feel like, I\\'ve been locked out of heaven For too long, for too long Yeah you make me feel like, I\\'ve been locked out of heaven For too long, for too long Oh yeah yeah yeah yeah, uh! Oh yeah yeah Oh yeah yeah yeah yeah, uh! You bring me to my knees You make me testify, uh! You can make a sinner change his ways, uh! Open up your gates cause I can\\'t wait to see the light, uh! And right there is where I wanna stay, uh! \\'Cause your sex takes me to paradise Yeah your sex takes me to paradise And it shows, yeah, yeah, yeah \\'Cause you make me feel like, I\\'ve been locked out of heaven For too long, for too long Yeah you make me feel like, I\\'ve been locked out of heaven For too long, for too long Oh oh oh oh, yeah, yeah, yeah Can I just stay here Spend the rest of my days here Oh oh oh oh, yeah, yeah, yeah Can\\'t I just stay here Spend the rest of my days here \\'Cause you make me feel like, I\\'ve been locked out of heaven For too long, for too long Yeah you make me feel like, I\\'ve been locked out of heaven For too long, for too long Oh yeah yeah yeah yeah, uh! Oh yeah yeah Oh yeah yeah yeah yeah, uh! I don\\'t remember what day it was I didn\\'t notice what time it was All I know is that I fell in love with you And if all my dreams come true I\\'ll be spending time with you Every day\\'s a new day in love with you With each day comes a new way of loving you Every time I kiss your lips my mind starts to wonder And if all my dreams come true I\\'ll be spending time with you Oh I love you more today than yesterday But not as much as tomorrow Oh I love you more today than yesterday But darling not as much as tomorrow Tomorrow makes each springtime just a day away Cupid we don\\'t need you now be on your way I thank the lord for love like ours that grows ever stronger And I always will be true I know you feel the same way too Oh I love you more today than yesterday But not as much as tomorrow Oh I love you more today than yesterday But darling not as much as tomorrow Every day\\'s a new day, every time I love ya Every time\\'s a new way, every time I love ya... Very day\\'s a new day, every time I love ya Every time\\'s a new way, every time I love ya... Every time I love ya... How do I end up in the same old place Faced again with the same mistakes So stubborn, thinking I know what is right But life proves me wrong every time Taking roads that lead me no where, How do I expect to get there But when will I learn to just put you first I come to you now when I need you But why do I wait to come see you I always try to do this on my own But I was wrong, cause only with you Can I move on (can I move on) When I\\'m weak, it\\'s you that makes me strong And I know that you\\'ve been with me all along So many times I forget to close my eyes And listen to my heart With you, life is so easy Why do I make it hard Oh, taking roads that lead me no where, How do I expect to get there When will I learn to just put you first I, I come to you now when I need you But why do I wait to come see you I always try to do this on my own But I was wrong, cause only with you Can I move on I\\'ll get out of my own way, Let you have your way Cause I realized I\\'m no good on my own I\\'m there for you, I\\'ll serve for you I can\\'t live without you I come to you now when I need you Why do I wait to come see you I always try to do this on my own But I was wrong, I was wrong, I was wrong, With only you, only you, with only you Can I move on, can I move on, can I move on Don\\'t it feel good babe, don\\'t it feel good babe \\'Cause it\\'s so brand new babe, it\\'s so brand new babe Don\\'t it feel good babe, don\\'t it feel good babe \\'Cause it\\'s so brand new babe, it\\'s so brand new babe And then here we are (here we are), in this big old empty room Staring at each other, who\\'s gonna make the first move? Been doing our thing for a minute, and now both our hearts are in it The only place to go is all the way Oh babe, Is that alright? Is that okay? Girl no need to be nervous, \\'Cause I got you all night, don\\'t you worry about a thing no, no, no, Just go with it, go with it, go with it And I will go real slow with it, slow with it It\\'s our first time Go with it, go with it, go with it And I will go real slow with it, slow with it It\\'s our first time Clothes are not required, for what we got planned Ooh, girl your my desire, your wish is my command Treat you like a princess, ooh girl your so delicious Like ice cream on a sunny day, gonna eat you before you melt away, yeah Oh babe, Is that alright? Is that okay? Girl no need to be nervous, no, no, no, \\'Cause I got you all night, don\\'t you worry about a thing no, no, no, Just go with it, go with it, go with it And I will go real slow with it, slow with it It\\'s our first time Go with it, go with it, go with it And I will go real slow with it, slow with it It\\'s our first time Don\\'t it feel good babe, don\\'t it feel good babe \\'Cause it\\'s so brand new babe, it\\'s so brand new babe Don\\'t it feel good babe, don\\'t it feel good babe \\'Cause it\\'s so brand new babe, it\\'s so brand new babe Just go with it, go with it, go with it And I will go real slow with it, slow with it It\\'s our first time Go with it, go with it, go with it And I will go real slow with it, slow with it It\\'s our first time [Chorus] There\\'s no light in this room It\\'s all right we got you You shine like gold You walk by Cause a scene all the guys They agree you shine like gold [Verse 1] Hey baby I spy with my little eye Pretty lady I dream about you and I Lady and I know This might make no sense But you\\'re the first girl I met Baby girl you\\'re shining like a star Come and give me some of that gold I can see you shine from afar I\\'ma come and give you some love Cause you know that only you girl That I can\\'t lie in my world, oh no [Chorus] There\\'s no light in this room It\\'s all right we got you You shine like gold You walk by Cause a scene all the guys They agree you shine like gold [Verse 2] Hey baby I spy with my little eye Pretty lady I dream about you and I Lady and I know This might make no sense But you\\'re the first girl I met Baby girl you\\'re shining like a star Come and give me some of that gold I can see you shine from afar I\\'ma come and give you some love Cause you know that only you girl That I can\\'t lie in my world, oh no [Chorus] There\\'s no light in this room It\\'s all right we got you You shine like gold You walk by Cause a scene all the guys They agree you shine like gold Hey! I\\'ve made mistakes I could have treated you better I let you get away There goes my happily ever after Tell me why, why can\\'t we try and start again? This can\\'t be how our story ends You\\'re more than my girl, you\\'re my best friend Tell me you remember when Oooh, I was your man and you were my girl It was you and me against the world Baby, ain\\'t nobody gonna love me like the way you do And you ain\\'t never gonna find a love like mine Tell me what can I do to make it up to you? \\'Cause what we got\\'s too good to say goodbye, goodbye Yeah, I\\'m still in love with you darlin\\' I know you feel the same Oh, what\\'s the point of both of us being broken hearted? I pray it\\'s never too late So tell me, why, why can\\'t we try and start again? This can\\'t be how our story ends You\\'re more than my girl, you\\'re my best friend Tell me you remember when I was your man and you were my girl It was you and me against the world Baby, ain\\'t nobody gonna love me like the way you do And you ain\\'t never gonna find a love like mine Tell me what can I do to make it up to you? \\'Cause what we got\\'s too good to say goodbye, goodbye (Oh, don\\'t you give up) Girl won\\'t you listen? (Don\\'t you give up) It\\'s you that I\\'m missin\\' (Don\\'t you give up) Take my hand, I wanna go, I wanna go (All the way) If we\\'re gonna fight this fight for better days I know we\\'re gonna make it This is the chance, let\\'s take it Baby, ain\\'t nobody gonna love me like the way you do (No, no, no, no) And you ain\\'t never gonna find a love like mine Tell me what can I do to make it up to you? \\'Cause what we got\\'s too good to say goodbye (Come on, come on, come on) goodbye (Oh baby) Baby, ain\\'t nobody gonna love me like the way you do And you ain\\'t never gonna find a love like mine (Oh, tell me) Tell me what can I do to make it up to you? \\'Cause what we got\\'s too good to say goodbye, goodbye Now greetings to the world! Standing at this liquor store, Whiskey coming through my pores, Feeling like I run this whole block. Lotto tickets cheap beer That\\'s why you can catch me here, Tryna scratch my way up to the top. \\'Cause my job got me going nowhere, So I ain\\'t got a thing to lose. Take me to a place where I don\\'t care, This is me and my liquor store blues. I\\'ll take one shot for my pain, One drag for my sorrow. Get messed up today, I\\'ll be ok tomorrow. One shot for my pain, One drag for my sorrow. Get messed up today, I\\'ll be ok tomorrow. Me and my guitar tonight, Singing to the city lights, Tryna live on more than what I got. \\'Cause \\'68 cents ain\\'t gonna pay the rent, So I\\'ll be out here \\'til they call the cops. \\'Cause my job got me going nowhere, So I ain\\'t got a thing to lose. Take me to a place where I don\\'t care, This is me and my liquor store blues. I\\'ll take one shot for my pain, One drag for my sorrow. Get messed up today, I\\'ll be ok tomorrow. One shot for my pain, One drag for my sorrow. Get messed up today, I\\'ll be ok tomorrow. Here comes Junior Gong, I\\'m flying high like Superman And thinking that I run the whole block, I don\\'t know if it\\'s just because pineapple kush between my jaws Has got me feeling like I\\'m on top Give me this one shot for my pain, One drag for my sorrow. Get messed up today, I\\'ll be ok tomorrow. One shot for my pain, One drag for my sorrow. Get messed up today, I\\'ll be ok tomorrow. Now greetings to the world! You best believe! She was covered in leather and gold Twenty one years old I lost her in the cold It\\'s unfair, she\\'s out there Somewhere, somewhere, somewhere in Brooklyn She\\'s somewhere, somewhere, somewhere in Brooklyn Little miss perfect sitting at the train stop Red Nike high tops listening to hip-hop While we were waiting started conversating Before I got her name along came a train (uh) next stop Brooklyn (uh) now I\\'m lookin\\' She was covered in leather and gold Twenty one years old I lost her in the cold It\\'s unfair, she\\'s out there Somewhere, somewhere, somewhere in Brooklyn She\\'s somewhere, somewhere, somewhere in Brooklyn On the street kickin\\' rocks circling the same block Green farm flat bush checking every corner shop Tappin\\' people\\'s shoulders askin\\' if they know her Everyday\\'s the same back to the train (uh) next stop Brooklyn (uh) I\\'m still lookin\\' She was covered in leather and gold Twenty one years old I lost her in the cold It\\'s unfair, she\\'s out there Somewhere, somewhere, somewhere in Brooklyn She\\'s somewhere, somewhere, somewhere in Brooklyn Oh-oh-oh-oh I wonder if we\\'ll ever meet again Oh-oh-oh-oh I wonder we we\\'ll ever meet again Yeah I wonder if we\\'ll meet again I hope we do somewhere in Brooklyn Ooh-ooh-ooh Girl, I bet your momma named you goodlookin\\' \\'Cause you sure look good to me My attention, oh, yes, you just took it You\\'re probably the finest thing that I ever seen And nobody at the party droppin\\' it low like the way that you do Got me sayin\\', \"damn girl, break it down for me\" Take it nice and slow, let me watch while you turn around Just back it up on me girl, right now, right now I got your body rockin\\' side to side (straight up) I put you on and now you\\'re feelin\\' right (straight up) I know exactly what is on your mind (straight up) Oh baby we gon\\' have some fun tonight Straight up and down (straight up, straight up, straight up) Straight up and down (straight up, straight up, straight up) Ooh, I know exactly what is on your mind Oh baby, we gon\\' have some fun tonight Straight up and down This liquor got both of us faded So gone, so gone, so gone But your booty deserve a celebration And I\\'m gonna celebrate it all night long Come on here and show me why you got the whole club starin\\' at you You got me sayin\\', \"damn girl, break it down for me\" Take it nice and slow, let me watch while you turn around Just back it up on me girl, right now, right now I got your body rockin\\' side to side (straight up) I put you on and now you\\'re feelin\\' right (straight up) I know exactly what is on your mind (straight up) Oh baby we gon\\' have some fun tonight Straight up and down (straight up, straight up, straight up) Straight up and down (straight up, straight up, straight up) Ooh, I know exactly what is on your mind Oh baby we gon\\' have some fun tonight Straight up and down Girl, tell me when you\\'re ready Ready to go Just say the word And then we\\'ll take this home Don\\'t you fight the feelin\\' \\'Cause I feel it too Freakin\\' me baby While I\\'m freakin\\' you I got your body rockin\\' side to side (straight up) I put you on and now you\\'re feelin\\' right (straight up) I know exactly what is on your mind (straight up) Oh baby, we gon\\' have some fun tonight Straight up and down (straight up, straight up, straight up) Straight up and down (straight up, straight up, straight up) Ooh, I know exactly what is on your mind Oh baby, we gon\\' have some fun tonight Straight up and down Now greetings to the world! Standing at this liquor store, Whiskey coming through my pores, Feeling like I run this whole block. Lotto tickets cheap beer That\\'s why you can catch me here, Tryna scratch my way up to the top. \\'Cause my job got me going nowhere, So I ain\\'t got a thing to lose. Take me to a place where I don\\'t care, This is me and my liquor store blues. I\\'ll take one shot for my pain, One drag for my sorrow. Get messed up today, I\\'ll be ok tomorrow. One shot for my pain, One drag for my sorrow. Get messed up today, I\\'ll be ok tomorrow. Me and my guitar tonight, Singing to the city lights, Tryna live on more than what I got. \\'Cause \\'68 cents ain\\'t gonna pay the rent, So I\\'ll be out here \\'til they call the cops. \\'Cause my job got me going nowhere, So I ain\\'t got a thing to lose. Take me to a place where I don\\'t care, This is me and my liquor store blues. I\\'ll take one shot for my pain, One drag for my sorrow. Get messed up today, I\\'ll be ok tomorrow. One shot for my pain, One drag for my sorrow. Get messed up today, I\\'ll be ok tomorrow. Here comes Junior Gong, I\\'m flying high like Superman And thinking that I run the whole block, I don\\'t know if it\\'s just because pineapple kush between my jaws Has got me feeling like I\\'m on top Give me this one shot for my pain, One drag for my sorrow. Get messed up today, I\\'ll be ok tomorrow. One shot for my pain, One drag for my sorrow. Get messed up today, I\\'ll be ok tomorrow. Now greetings to the world! You best believe! Oh (oh) Oh (oh) Ohhhh Oh (oh) Oh (oh oh) Keep crawling up touchin\\' ya\\', kissin\\' ya\\', lovin\\' ya\\' The ice is melting down your back Cause there\\'s a flame between us Girl with every single touch It\\'s like your body strikes a match I\\' ma need to Stop (stop) Drop (drop) And roll (roll) Cause baby girl your heat\\'s out of control Feels like I\\'m on fire (fire) My body\\'s a 100 degrees Every time you\\'re standing next to me Feels like I\\'m on fire (fire) Girl you make me so hot I don\\'t want it to stop, no Oh, you got me burning up (oh-oh) burning up (oh-oh) burning up (oh-oh) oh So turn it up (oh-oh) turn it up (oh-oh) some more Feels like I\\'m on fire (fire) My temperature is higher I\\'m sweating with desire Feels like I\\'m on fire The smoke detector\\'s going off The neighbour\\'s gonna make the call The fire trucks are on their way (oh their way, oh!) Now we\\'re both turning red We\\'ve been up and down the bed We don\\'t care so we say I\\' ma need to Stop (stop) Drop (drop) And roll (roll) Cause baby girl your heat\\'s (your heat\\'s) out of (out of) control (control) Feels like I\\'m on fire (fire) My body\\'s a 100 degrees (ohhhh) Every time you\\'re standing next to me (every time you\\'re standing next to me) Feels like I\\'m on fire (fire) Girl you make me so hot (hot) I don\\'t want it to stop, no (no) Oh, you got me burning up (oh-oh) burning up (oh-oh) burning up (oh-oh) So turn it up (oh-oh) turn it up (oh-oh) some more Feels like I\\'m on fire (fire) My temperature is higher I\\'m sweating with desire Feels like I\\'m on fire Girl we got the house burning down But ain\\'t nobody gonna save us now (oooh) And I don\\'t care who\\'s knocking on the door I\\' ma give you more (more) more (more) more (more) Feels like I\\'m on fire (fire) My body\\'s a 100 degrees (ohhhh) Every time you\\'re standing next to me (every time you\\'re standing next to me) Feels like I\\'m on fire (fire) Girl you make me so hot (hot) I don\\'t want it to stop, no Oh, you got me burning up (oh-oh) burning up (oh-oh) burning up (oh-oh) So turn it up (oh-oh) turn it up (oh-oh) some more Feels like I\\'m on fire (fire) My temperature is higher I\\'m sweating with desire Feels like I\\'m on fire Feels like I\\'m on fire (fire) My body\\'s a 100 degrees (ohhhh) Every time you\\'re standing next to me (every time you\\'re standing next to me) Feels like I\\'m on fire (fire) Girl you make me so hot (oh) I don\\'t want it to stop, no (no no) Oh, you got me burning up (oh-oh) burning up (oh-oh) burning up (oh-oh) So turn it up (oh-oh) turn it up (oh-oh) some more Feels like I\\'m on fire (fire) My temperature is higher (higher) I\\'m sweating with desire Feels like I\\'m on fire (fire) Ohhh, ohhh Feels like I\\'m on fire Fire, ohhhh.... Feel your heart beating fast Hold me close make it last We knew this day would come So take a breath leave me and Was so scared of you leaving Wish we could both just run Wish we could run it off But we can\\'t stop time Seems the clock is running too fast And now i\\'m feeling lost And I can\\'t read your mind But you don\\'t have to ask You know I wait for you If it takes a lifetime to do Girl I will wait for you You\\'re the only thing worth holding on to No matter how far Girl I can\\'t live without my heart I hope you come home soon, soon Girl I will wait for you If it takes a lifetime to do Girl I wait Wait wait wait for you oh Our phone calls will have to do Write you letters just to prove You\\'re the only thing on my mind I know it\\'s hard but we\\'ll get through Just hold on I promise you Soon you\\'ll be here by my side But we can\\'t stop time Seems like the clock is running way too fast And now i\\'m feeling lost And I can\\'t read your mind But you don\\'t have to ask You know I wait for you If it takes a lifetime to do Girl I will wait for you You\\'re the only thing worth holding on to No matter how far Girl I can\\'t live without my heart I hope you come home soon, soon Girl I will wait for you If it takes a lifetime to do Girl I wait Wait wait wait for you oh See you down there everyday Trying to find a different way To build some kind of ladder to the sky Trying to find some way to see Secrets of eternity, and they don\\'t come all at once And you don\\'t know why Well how do you think it feels to hear you screaming out my name While all the while I\\'m trying to open up your heart See you when you cry yourself to sleep It\\'s tearing me apart I know you wish you could see me That\\'s the way it has to be Someday you\\'ll understand, Don\\'t you lose your faith in me I know you wish you could hear me Sometimes it\\'s so hard to do But every morning sunrise it says I\\'m madly in love with you Yes I\\'m madly in love with you Yes I\\'m madly in love with you Yes I\\'m madly in love with you I know that you\\'re waiting for, A chance to come in from the war If only a moment, if only a day A place where you feel safe and warm A sanctuary from the storm Until all of these questions fade away But I cannot count on all the signs You\\'ve passed away as mere coincidence And I\\'m running out of ways to break through Like a lonely lover, Waiting by the ocean I\\'ll never give up on you I know you wish you could see me That\\'s the way it has to be Someday you\\'ll understand, Don\\'t you lose your faith in me I know you wish you could hear me Sometimes it\\'s so hard to do But every morning sunrise it says I\\'m madly in love with you Yes I\\'m madly in love with you Yes I\\'m madly in love with you Yes I\\'m madly in love with you I got too many girls on hold for you to be so bold Too many on my team for you to act so mean You say you wanna go and have fun, well you ain\\'t the only one If I ring, don\\'t let it ring too long or I\\'m gone I got Alicia waitin\\', Aisha waitin\\' All the eesha\\'s waitin\\' on me So why you contemplatin\\', playa hatin\\' If this is how it\\'s gonna be? I\\'m calling all my lovelies (calling all my lovelies) \\'Cause I can\\'t get a hold of you Since you ain\\'t thinking of me (since you ain\\'t thinking of me) Oh, look what you making me do Honey pie, I\\'m far too fly to be on standby Sendin\\' me straight to voicemail, suga, what the hell? Oh, you ought to be ashamed, playin\\' these childish games I don\\'t get down like that, tell me where you at, hit me back I got Alicia waitin\\', Aisha waitin\\' All the eesha\\'s waitin\\' on me So why you contemplatin\\', playa hatin\\' If this is how it\\'s gonna be? I\\'m calling all my lovelies (calling all my lovelies) \\'Cause I can\\'t get a hold of you Since you ain\\'t thinking of me (since you ain\\'t thinking of me) Oh, look what you making me do Pick up the phone, pick up the phone \\'Cause all this loving needs a home Oh no, look at what you started, baby Now I\\'m left here brokenhearted, baby There\\'s a pain in my chest I cannot explain I told myself I wasn\\'t gon\\' cry (I\\'m not gonna cry, no no) Then somebody\\'s gotta come dry these eyes (dry these eyes) \"Hi, you\\'ve reached Halle Berry Sorry, I can\\'t get to the phone right now, but if you leave your name and number I\\'ll get right back to you\" Damn, damn, damn I\\'m calling, calling, calling, calling all my lovelies \\'Cause I can\\'t get a hold of you Oh, since you ain\\'t thinking of me (since you ain\\'t thinking of me, baby) Look what you making me do Pick up the phone, pick up the phone \\'Cause all this loving needs a home, oh Ooh, don\\'t we look good together? There\\'s a reason why they watch all night long Yeah, know we\\'ll turn heads forever So tonight I\\'m gonna show you off When I\\'m walkin\\' with you I watch the whole room change Baby, that\\'s what you do No, my baby, don\\'t play Blame it on my confidence Oh, blame it on your measurements Shut that shit down on sight That\\'s right We out here drippin\\' in finesse It don\\'t make no sense Out here drippin\\' in finesse You know it, you know it We out here drippin\\' in finesse It don\\'t make no sense Out here drippin\\' in finesse You know it, you know it Now slow it down for me baby \\'Cause I love the way it feels when we grind Yeah, our connection\\'s so magnetic on the floor Nothing can stop us tonight When I\\'m walkin\\' with you I watch the whole room change Baby, that\\'s what you do No, my baby, don\\'t play Blame it on my confidence Oh, blame it on your measurements Shut that shit down on sight That\\'s right We out here drippin\\' in finesse It don\\'t make no sense Out here drippin\\' in finesse You know it, you know it We out here drippin\\' in finesse It don\\'t make no sense Out here drippin\\' in finesse You know it, you know it Fellas grab your ladies if your lady fine Tell her she the one, she the one for life Ladies grab your fellas and let\\'s do this right If you\\'re on one like me in mind Yeah, we got it goin\\' on, got it goin\\' on Don\\'t it feel so good to be us, ay? Yeah, we got it goin\\' on, got it goin\\' on Girl, we got it goin\\' on Yeah, we got it goin\\' on, got it goin\\' on Don\\'t it feel so good to be us, ay? Yeah, we got it goin\\' on, got it goin\\' on We out here drippin\\' in finesse It don\\'t make no sense Out here drippin\\' in finesse You know it, you know it We out here drippin\\' in finesse It don\\'t make no sense Out here drippin\\' in finesse You know it, you know it Yeah, we got it goin\\' on, got it goin\\' on Don\\'t it feel so good to be us, ay? Yeah, we got it goin\\' on, got it goin\\' on You know it, you know it Yeah, we got it goin\\' on, got it goin\\' on Don\\'t it feel so good to be us, ay? Yeah, we got it goin\\' on, got it goin\\' on You know it, you know it We\\'ve been hanging out all night Everything\\'s been so nice Wish I didn\\'t have to go Feeling sexy in your bedly Touching me so gently But I gotta get home So many things to tell ya So long since I held ya Ooh boy you just don\\'t know Just don\\'t know So here\\'s my proposition Don\\'t speak boy just listen Before we go down this road Take me the long way home I\\'m not trying to leave you know Aint no rush so can you slow down Take me the long way home I know that we\\'re pulling up And circle around the block So we can touch some more Kiss me while we\\'re there Touch me while we\\'re there Just take me the long way home Kiss me while we\\'re there Touch me while we\\'re there Just take me the long way home Wish I could stay all night But I just can\\'t tonight Cause I gotta be up at 6 Boy you made my heart melt When you undid my seatbelt And told me to come give you a kiss So many things to tell ya So long since I held ya Ooh boy you just don\\'t know Just don\\'t know So here\\'s my proposition Don\\'t speak boy just listen Before we go down this road [ Lyrics from: Take me the long way home I\\'m not trying to leave you know Aint no rush so can you slow down Take me the long way home I know that we\\'re pulling up And circle around the block So we can touch some more Kiss me while we\\'re there Touch me while we\\'re there Just take me the long way home Kiss me while we\\'re there Touch me while we\\'re there Just take me the long way home Something about you makes me wanna drive all night all night all night long I can\\'t wait when till the next time I see you (uh) home home Take me the long way home I\\'m not trying to leave you know Aint no rush so can you slow down Take me the long way home I know that we\\'re pulling up And circle around the block So we can touch some more Kiss me while we\\'re there Touch me while we\\'re there Just take me the long way home Kiss me while we\\'re there Touch me while we\\'re there Just take me the long way home Your telling me aint no rush to stay there\\'s no delay oh oh Oh oh oh oh oh oh... Kiss me while we\\'re there Touch me while we\\'re there Just take me the long way home Kiss me while we\\'re there Touch me while we\\'re there Just take me the long way home ah babe ah baby just take me the long way home Oh I never done this before Never wanna do this again Long turn on a dusty road I did it to myself so I can\\'t pretend Well I learned just a little too late Good God I must\\'ve been blind \\'Cause she got me for everything, everything, everything, alright Like my daddy I\\'m a gambling man Never been afraid to roll the dice But when I put my bet on her Little miss snake eyes ruined my life She better sleep with one eye open Better make sure to lock her door \\'Cause once I get my hands on her, I\\'ma oh Natalie, she ran away with all my money And she did it for fun Natalie, she\\'s probably out there thinking it\\'s funny Telling everyone Well I\\'m digging a ditch for this gold-digging bitch Watch out she\\'s quick Look out for a pretty little thing named Natalie If you see her tell her I\\'m coming She better run The good lord better bless your soul \\'Cause I done already cursed your name Don\\'t matter which way you go Payback\\'s gonna come your way You\\'ll be begging me, please please please And now I look at you, and laugh, laugh, laugh While you sit there and cry for me, cry for me, cry for me all night I spend my lifetime in jail (yeah that\\'s what I do) I\\'ll be smiling in my cell (yeah thinking bout you) Can\\'t nobody save you now So there ain\\'t no use in trying Once I get my hands on you, I\\'ma oh Natalie, she ran away with all my money And she did it for fun Natalie, she\\'s probably out there thinking it\\'s funny Telling everyone Well I\\'m digging a ditch for this gold-digging bitch Watch out she\\'s quick Look out for a pretty little thing named Natalie If you see her tell her I\\'m coming She better run I should\\'ve known better (I should\\'ve known better) \\'Cause when we were together (\\'Cause when we were together) She never said forever (She never said forever) I\\'m a fool that played her game Hey, Natalie, she ran away with all my money And she did it for fun Natalie, she\\'s probably out there thinking it\\'s funny Telling everyone Well I\\'m digging a ditch for this gold-digging bitch Watch out she\\'s quick Look out for a pretty little thing named Natalie If you see her tell her I\\'m coming She better run Truth of the matter is I\\'m complicated You\\'re as straight as they come You go \\'bout your day baby While I hide from the sun It\\'s better if you don\\'t understand \\'Cause you won\\'t know what it\\'s like Until you try You know I, I\\'ll be waiting on the other side And you, all you gotta do is cross the line I could wait a whole life time But you just gotta decide You know I, I\\'ll be waiting on the other, Waiting on the other side We would live forever Who could ask for more You could die if you wanted But baby what for It\\'s better if you don\\'t understand And you won\\'t know what it\\'s like Until you try You know I, I\\'ll be waiting on the other side And you, all you gotta do is cross the line I could wait a whole life time But you just gotta decide You know I, I\\'ll be waiting on the other, Waiting on the other side If they say life\\'s a dream Call this insomnia \\'Cause this ain\\'t Wonderland It damn sure ain\\'t Narnia And once you cross the line You can\\'t change your mind Yeah I\\'m a monster But I\\'m no Frankenstein And quite frankly I\\'ve been feeling insane in between my eyes I really can\\'t explain what I feel inside If you knew what I was you\\'d run and hide Many have tried to go into the night Cross over the line and come back alive But that\\'s the price we pay when we living on the other side You know I, I\\'ll be waiting on the other side And you, all you gotta do is cross the line I could wait a whole life time But you just gotta decide You know I, I\\'ll be waiting on the other, Waiting on the other side It\\'s better if you don\\'t understand It\\'s better if you don\\'t understand It\\'s better if you don\\'t understand It\\'s better if you don\\'t understand It\\'s better if you don\\'t understand It\\'s better if you don\\'t understand We are young, we run free Stay up late, we don\\'t sleep Got our friends, got the night We\\'ll be alright Tonight you won\\'t be by your self-self Just leave your problems on the shelf-shelf You won\\'t wanna be nowhere else-else So let\\'s go, so let\\'s go (we got the club like) (hoo-oo-oo-oo-oo-oo) and all the girls sayin\\' (hoo-oo-oo-oo-oo-oo) the whole world sayin\\' (hoo-oo-oo-oo-oo-oo) yeah, yeah, come on let\\'s Get drunk, toast it up, we don\\'t give a fuck We are young, we run free Stay up late, we don\\'t sleep Got our friends, got the night We\\'ll be alright Throw our hands in the air Pretty girls everywhere Got our friends, got the night We\\'ll be alright (hoo-oo-oo-oo-oo-oo) alright, alright, alright (hoo-oo-oo-oo-oo-oo) ah, ah, ah, ah (hoo-oo-oo-oo-oo-oo) alright, alright, alright (hoo-oo-oo-oo-oo-oo) ah, ah, ah, ah We walk the streets like we don\\'t care-care Our middle fingers in the air-air So come and join us if you dare-dare Yeah let\\'s go, yeah let\\'s go (we got the club like) (hoo-oo-oo-oo-oo-oo) and all the girls sayin\\' (hoo-oo-oo-oo-oo-oo) the whole world sayin\\' (hoo-oo-oo-oo-oo-oo) yeah, yeah, come on let\\'s Get drunk, toast it up, we don\\'t give a fuck We are young, we run free Stay up late, we don\\'t sleep Got our friends, got the night We\\'ll be alright Throw our hands in the air Pretty girls everywhere Got our friends, got the night We\\'ll be alright It feels like, ahh-ah-ah-ah-ah (It feels good, don\\'t it?) ahh-ah-ah-ah-ah (yo, yo, yeah, d-don\\'t it?) yeah, yeah, yeah, yeah, yeah (yeah) We\\'ll be alright (ahh!) It feels like, ahh-ah-ah-ah-ah (It feels good, don\\'t it?) ahh-ah-ah-ah-ah (yo, yo, yeah, d-don\\'t it?) yeah, yeah, yeah, yeah, yeah (yeah) We\\'ll be alright (uh-huh, ha-ha) We are young, we run free Stay up late, we don\\'t sleep Got our friends, got the night We\\'ll be alright Throw our hands in the air (ahh-ah-ah-ah-ah) Pretty girls everywhere (ahh-ah-ah-ah-ah) Got our friends, got the night (yeah, yeah, yeah, yeah, yeah) We\\'ll be alright Hello You know you look even better than the way you did now before And the moment that you kissed my lips you know I started to feel wonderful It\\'s something incredible, there\\'s sex in your chemicals Oh, let\\'s go You\\'re the best way I know to escape the extraordinary This world ain\\'t for you, and I know for damn sure this world ain\\'t for me Lift off and say goodbye Just let your fire set me free Moonshine, take us to the stars tonight Take us to that special place That place we went the last time, the last time I know, I was with you last night but it feels like it\\'s been so long And everybody that\\'s around they know that I\\'m not myself when you gone It\\'s good to see you again, good to see you again On top of the world, is where I stand when you\\'re back in my life Life\\'s not so bad when you\\'re way up this high Everything is alright, everything is alright Moonshine, take us to the stars tonight Take us to that special place That place we went the last time, the last time, oh Moonshine, your love it makes me come alive Take us to that special place That place we went the last time, the last time Tu-ru-tu don\\'t you never look back We are not afraid to die young and live fast Give me good times, give me love, give me laughs Let\\'s take a ride to the sky before the night is gone Moonshine, take us to the stars tonight Take us to that special place That place we went the last time, the last time, oh Moonshine, your love it makes me come alive Take us to that special place That place we went the last time, the last time Oh yeah, oh yeah Baby here we are again, ooh I can see it in your eyes, you want a good time You wanna put your body on mine Alright but don\\'t change your mind, don\\'t you change it, oh no Oh yeah you called me today, drove all this way So don\\'t let this bus go to waste, oh no Your pleasure pleasure island is where we can go No I won\\'t think you\\'re easy, no I won\\'t think you\\'re fast Your eyes saying please me but your lips care to ask No need to fight it when you know it feels right You say you\\'re a woman who knows what she likes Then show me, you got to you got to show me You tell me all day that you\\'re lonely But show me show me show me tonight, yeah Girl show me, you got to you got to show me You tell me all day that you\\'re lonely But show me show me show me tonight, yeah Love the way that you laugh, the way that you smile Makes me feel like you\\'ve been waiting a while But guess what? Darling, I\\'ve been waiting too So let\\'s ride, we can get freaky tonight Right is your ticket to ride Tell me girl what you gon\\' do No I won\\'t think you\\'re easy, no I won\\'t think you\\'re fast Your eyes saying please me but your lips care to ask No need to fight it when you know it feels right You say you\\'re a woman who knows what she likes Then show me, you got to you got to show me You tell me all day that you\\'re lonely But show me show me show me tonight, yeah Girl show me, you got to you got to show me You tell me all day that you\\'re lonely Show me show me show me tonight It\\'s getting freaky in this room room room Now let me hear you say you want that boom boom boom We can take it slow, we can zoom zoom zoom Baby if you\\'re ready for that ah, ah ah It\\'s getting freaky in this room room room Now let me hear you say you want that boom boom boom We can take it slow, we can zoom zoom zoom Baby if you\\'re ready for that ah, ah ah Then show me, you got to you got to show me You tell me all day that you\\'re lonely But show me show me show me tonight, yeah Girl show me, you got to you got to show me You tell me all day that you\\'re lonely But show me show me show me tonight, yeah oh oh oh (x3) oh oh when I was just a little boy barely strong enough to stand I could always count on him oh oh he taught me everything I know and till this day it shows he was more than just a friend there was so many times I would doubt myself but his words were always there to help i wouldn\\'t be where i am if my father didn\\'t tell me to never say i can\\'t he\\'d carry me and never let me fall oh and the only thing he asked right before he passed was to never say you can\\'t oh oh never say you can\\'t oh oh no oh oh so when life\\'s rain begins to fall and you\\'re out there on your own and you can\\'t see a thing oh no no just find that voice that understands for me it was my old man he taught me to say the words I can oh there was so many times I would doubt myself but his words were always there to help I wouldn\\'t be where I am if my father didn\\'t tell me to never say I can\\'t he\\'d carry me and never let me fall oh and they only thing he asked right before he passed was to never say you can\\'t everything you taught me will stay with me forever no I won\\'t forget a thing oh because of my dad I now know my son better and I hope i can do for him what he did for me I wouldn\\'t be where I am if my father didn\\'t tell me to never say I cant he\\'d carry me and never let me fall oh and they only thing he asked right before he passed was to never say you cant oh oh never say you can\\'t (x2) Well looky here looky here ah what do we have? Another pretty thing ready for me to grab But little does she know that I\\'m a wolf in sheeps clothing \\'Cause at the end of the night it is her I\\'ll be holding I love you so That\\'s what you\\'ll say, You\\'ll tell me baby, baby please don\\'t go away But when I play, I never stay To every girl that I meet here, this is what I\\'ll say, Run run runaway, runaway baby Before I put my spell on you You better get get getaway, getaway darling \\'Cause everything you heard is true You poor little heart will end up alone \\'Cause lord knows I\\'m a rolling stone So you better run run runaway, runaway baby Uh, ah yeah Well let me think, let me think, ah what should I do? So many eager young bunnies that I\\'d like to pursue Now even though they\\'re eating out the palm of my hand There\\'s only one carrot and they all gotta share it I love you so That\\'s what you\\'ll say, You\\'ll tell me baby, baby please don\\'t go away But when I play, I never stay To every girl that I meet here, this is what I\\'ll say, Run run runaway, runaway baby Before I put my spell on you You better get get getaway, getaway darling \\'Cause everything you heard is true You poor little heart will end up alone \\'Cause lord knows I\\'m a rolling stone So you better run run runaway, runaway baby Uh, check it out See I ain\\'t tryna hurt you baby No no no I just want to work you baby See I ain\\'t tryna hurt you baby No no no I just want to work you baby If you are scared, you better run (you better run) You better run, (you better run) You better run, (you better run) You better, you better, you better Run run runaway, runaway baby Before I put my spell on you You better get get getaway, getaway darling \\'Cause everything you heard is true You poor little heart will end up alone \\'Cause lord knows I\\'m a rolling stone So you better run run runaway, runaway baby When you wanna do something that\\'s new. And it seems really, really hard to do. You feel like quiting, you feel you\\'re through. Well I have some advice for you, don\\'t give up. Keep on trying, ya\\'ll gonna make it (ah yeah, yeah) don\\'t give up. Don\\'t ever quit, try and try and you can do it, don\\'t give up (Yeah) If you want to catch a ball, but you\\'re having no luck at all. The ball hits your head, it hits your nose. It hits your belly, your chin and toes. Well try and try and try again, keep on trying and soon in end. You\\'ll put your hands out in the air, you\\'ll catch that ball, yes this I swear Don\\'t give up, keep on going. You won a fought so keep on rolling Don\\'t give up, don\\'t ever stop, Try and try and you\\'ll come on out on top, don\\'t give up. You got yourself new rollerskates. You put them on and you feel great, Stand up, but then you fall, don\\'t think you can skate at all. You get back up and then you trip You skip and tip and slip and flip Well try and try and try some more, and soon you\\'re skating across the floor. Don\\'t give up, keep on moving. You\\'re gonna get there just keep on grooving Don\\'t give up, don\\'t pack it in, Try and try and you will win, don\\'t give up. No no no, don\\'t give up (Repeat x2) No no, don\\'t give up. all alone in my room waiting for, for this phone to ring she\\'ll come home someday soon i just know or am i imagining things the voices in my head keep saying (the voices in my head) she\\'s coming back to you is it strange that i talk to myself (oh oh oh oh oh oh) is it weird when i hear someone else (oh oh oh oh oh oh) what do i do (what do i do) there\\'s no more you (there\\'s no more you) and i tell me you\\'ll be coming home (coming home) is it strange i believe them again (oh oh oh) voices in my head the voices, the voices, the voices voices in my head the voices (oh), the voices, the voices someone\\'s there at the door this is her i just know (i just know) i get dressed, i put on a smile oh but i it\\'s just the mail again (the mail again) the playing in my mind (the playing in my mind) saying she\\'ll come back this time is it strange that i talk to myself (oh oh oh oh oh oh) is it weird when i hear someone else (oh oh oh oh oh oh) what do i do (what do i do) there\\'s no more you (there\\'s no more you) and i tell me you\\'ll be coming home (coming home) is it strange i believe them again (oh oh oh) voices in my head it\\'s gonna be ok, it\\'s gonna be ok, it\\'s gonna be ok oh just gotta get through the day it\\'s gonna be ok, it\\'s gonna be ok, it\\'s gonna be ok oh i just gotta get through the voices in my head (the voices in my head) keep saying she\\'s coming back to you is it strange that i talk to myself (oh oh oh oh oh oh) is it weird when i hear someone else (oh oh oh oh oh oh) what do i do (what do i do) there\\'s no more you (there\\'s no more you) and i tell me you\\'ll be coming home (coming home) is it strange i believe them again (oh oh oh) voices in my head oh, oh, oh (oh oh oh oh oh oh) Look at her shinin\\' Her feathers they glow Now the jungle\\'s smiling \\'Cause our baby\\'s home Can you feel what I feel? The day has come at last Our precious jewel has returned I\\'ll be the first to say welcome back Oh welcome back I say welcome, welcome, welcome Back Oh, her eyes, her eyes make the stars look like they\\'re not shinin\\' Her hair, her hair falls perfectly without her trying She\\'s so beautiful and I tell her everyday Yeah, I know, I know when I compliment her she won\\'t believe me And it\\'s so, it\\'s so sad to think that she don\\'t see what I see But every time she asks me \"Do I look okay? \" I say When I see your face There\\'s not a thing that I would change \\'cause you\\'re amazing Just the way you are And when you smile The whole world stops and stares for a while \\'Cause girl you\\'re amazing Just the way you are Yeah Her lips, her lips, I could kiss them all day if she\\'d let me Her laugh, her laugh she hates but I think it\\'s so sexy She\\'s so beautiful, and I tell her everyday Oh you know, you know, you know I\\'d never ask you to change If perfect\\'s what you\\'re searching for then just stay the same So don\\'t even bother asking if you look okay, you know I\\'ll say When I see your face There\\'s not a thing that I would change \\'Cause you\\'re amazing Just the way you are And when you smile The whole world stops and stares for a while \\'Cause girl you\\'re amazing Just the way you are The way you are The way you are Girl you\\'re amazing Just the way you are When I see your face There\\'s not a thing that I would change \\'Cause you\\'re amazing Just the way you are And when you smile The whole world stops and stares for a while \\'Cause girl you\\'re amazing Just the way you are Yeah Oh, i was perfect For the circus if she dared me, i do it Love makes you stupid i gave it up, But i guess it was not enough Cause she never seemed satisfied (Oohh) i Know i\\'m not perfect But at the end of the day Who is ? (Oohh) she wanted someone that\\'s perfect Well Okay But can you tell me Who is ? Oohh x2 she set the bar Just above the stars A rocket couldn\\'t reach it But i still kept on reaching she watched me try At least a thousand times If she loved me, She\\'d stop me But noo (Oohh) i Know i\\'m not perfect But at the end of the day Who is ? (Oohh) she wanted someone that\\'s perfect Well Okay But can you tell me Who is ? I saw something worth my future So wrong So wrong In my mind i was all it took But i guess i wasn\\'t wrong (Oohh) i Know i\\'m not perfect But at the end of the day Who is ? (Oohh) she wanted someone that\\'s perfect Well Okay But can you tell me Who is ? (Oohh x2) i gotta find my way out of this hell, you got me into, my baby\\'s sleepin in anothers bed, it\\'s like i\\'m dreamin that walls are closing in on me, i just wanna know you care. i wanna find out why, you didnt choose to stay,baby, you got me going crazy ooo... my baby she got me oh no... she left me a prisoner inside my words, ooo...... my baby she got me oh no.. she locked me in prison like a criminal everyday\\'s the same, your word, lied away, when all you go and done isnt me, i can see you now, your long brown hair and your white wedding gown, baby im missing you... i wanna find out why, you didnt choose to stay oh..., oh ya..., ooo... my baby she got me oh no... she left me a prisoner inside my words, ooo... my baby she got me oh no.. she locked me in prison like a criminal i can\\'t stop this, all this daydreaming , i gotta do my time... i ooo... i can\\'t get out, i don\\'t wanna feel this way, save me from this misery... i wanna find out why, you didnt choose to stay, baby..., you got me going crazy... ooo... my baby she got me oh no... she left me a prisoner inside my words, ooo...... my baby she got me oh no.. she locked me in prison like a criminal i promise to love ya, hold ya, even when time got hard and i can still see us being forever, but now we\\'re falling apart... i wanna find out why, you didnt choose to stay, baby... you got me, ooo... my baby she got me oh no... she left me a prisoner inside my words, ooo...... my baby she got me oh no.. she locked me in prison like a criminal Damn... It\\'s getting hard to breathe I\\'m trying to make her see, That she don\\'t really know That I\\'m trying to find a way, And tell her every day, that she just goes along So I... I don\\'t wanna be, The only one that knows That somebody could come along and just Take her right from me I\\'m standing shaking ground, And I\\'ve been thinking that I\\'m gonna lose it, Chorus: Cause I\\'m losing my head, I\\'m losing my mind, I\\'m losing control of myself this time. She\\'s got me losing my head, I\\'m losing my mind, I\\'m losing my way, But I think she feels I\\'m already lost. I\\'m already lost. I wish that I could see, What is making you Feel that you should be concerned. My love is like a gunshot All it takes is one shot for me to blow it all away. I don\\'t wanna feel like I\\'m just wasting time, It\\'s gotta be with you and no one else. Do you notice me, I need to know right now Cause I\\'ve been thinking that I\\'m gonna lose it Chorus: Cause I\\'m losing my head, I\\'m losing my mind, I\\'m losing control of myself this time. She\\'s got me losing my head, I\\'m losing my mind, I\\'m losing my way, But I think she feels I\\'m already lost. Maybe I\\'m trying too hard But girl you make me nervous, By now you should have noticed me. And what will it take it To a heavenly because your drawing chains and driving me insane! Chorus: Girl,I\\'m losing my head, I\\'m losing my mind, I\\'m losing control of myself this time. She\\'s got me losing my head, I\\'m losing my mind, I\\'m losing my way, But I think she feels I\\'m already lost. Hands over my head thinking What else could go wrong Would\\'ve stayed in bed How could a day be so long? Never believe that things Happen for a reason But how this turned out Removed all my doubt so believe That for you I\\'d do it all over again Do it all over again All I went through led me to you So I\\'d do it all over again for you I missed the first train stood out In the rain all day (Little did I know) But I caught the next train And there you were to sweep me away Guess that\\'s what I waited for Never believed that things Happen for a reason But how this turned out Removed all my doubt So believe that for you I\\'d do it all over again, do it all over again All I went through led me to you So I\\'d do it all over again Oh, who ever thought a day gone So wrong could turn out so lovely Yeah, I\\'m so glad I found you Even though the day went so wrong I wouldn\\'t change a thing Yeah, yeah, I\\'ma do it Do it all over again Do it all over again All I went through led me to you So I\\'d do it all over again Do it all over again, I\\'d do it all over again I\\'d do all over again for you All I went through led me to you So I\\'d do it all over again for you Whoever thought a day gone so wrong Could turn out so lovely Whoever thought a day gone so wrong Could turn out so lovely Everyday I wake up next to an angel More beautiful than words could say They said it wouldn\\'t work but what did they know? \\'Cause years have passed and we\\'re still here today Never in my dreams did I think that this would happen to me As I stand here before my woman I can\\'t fight back the tears in my eyes Oh, how could I be so lucky I must\\'ve done something right And I promise to love her for the rest of my life Seems like yesterday when she first said hello Funny how time flies when you\\'re in love It took us a lifetime to find each other It was worth the wait \\'cause I finally found the one Never in my dreams did I think that this would happen to me As I stand here before my woman I can\\'t fight back the tears in my eyes Oh how could I be so lucky I must\\'ve done something right And I promise to love her for the rest of my life Once again you\\'re home alone Tears running from your eyes And I\\'m on the outside Knowing that you\\'re all I want But I can\\'t do anything I\\'m so helpless baby Everyday same old things So used to feelin pain Never had real love before And it ain\\'t her fault She knows better but She can\\'t help it Wanna tell her But would that be selfish How do you heal A heart that can\\'t feel, it\\'s broken His love is all she knows, all she knows, all she knows His love is all she knows, all she knows, all she knows You\\'ve been livin this way so long You don\\'t know the difference And it\\'s killing me Cause you can have so much more I\\'m the one your looking for But you close your eyes on me So you still can\\'t see Everyday same old things So used to feelin pain Never had real love before And it ain\\'t her fault She knows better but She can\\'t help it Wanna tell her But would that be selfish How do you heal A heart that can\\'t feel, it\\'s broken His love is all she knows, all she knows, all she knows His love is all she knows, all she knows, all she knows All she knows is the pain In the corner of an empty home She\\'s still comfortable I want her to know It can be better than this I can\\'t pretend Wish we were more than friends She knows better but She can\\'t help it Wanna tell her But would that be selfish How do you heal A heart that can\\'t feel, it\\'s broken His love is all she knows, all she knows, all she knows His love is all she knows, all she knows, all she knows Chorus: Fresh out the mall in our brand new fits Going ninety five in our brand new whips Sayin (Ladies is pimps too) (3x) Oh Strut through the club yeah they know we so paid Standin\\' on the table sippin\\' ace of spades Sayin (Ladies is pimps too) (3x) Oh Verse: Standin at the bar, you know where we are You lookin for the best you don\\'t have to look far Yea we some super models Buyin our own bottles Living the good life, hard for them haters to swallow And now were livin the dream We keep our purse full of cream Us girls we get it in, money just like them Ladies holla if you feel me Chorus: Fresh out the mall in our brand new fits Going ninety five in our brand new whips Sayin (Ladies is pimps too) (3x) Oh Strut through the club yeah they know we so paid Standin\\' on the table sippin\\' ace of spades Sayin (Ladies is pimps too) (3x) Oh Verse: Lou vuitton pumps to match the hand bag Diamonds on my neck and I don\\'t mean to brag But I work hard for this money (hard hard for this money) And in case you didn\\'t hear me I work (hard for this money, money) Checks in the mail everyday That\\'s why these boys be like (aye baby, aye baby) Us girls we get it in, money just like them Ladies holla if you feel me Chorus: Fresh out the mall in our brand new fits Going ninety five in our brand new whips Sayin (Ladies is pimps too) (3x) Oh Strut through the club yeah they know we so paid Standin\\' on the table sippin\\' ace of spades Sayin (Ladies is pimps too) (3x) Oh Verse: Getcha own paper, got your own dimes Buy your own drinks on your own grind And put your hands up, up ,up Ladies put your hands up, up , up Gotcha own house, gotcha own car And you don\\'t need a man to know who you are And put your hands up, up ,up Ladies put your hands up, up , haa Chorus: Fresh out the mall in our brand new fits Going ninety five in our brand new whips Sayin (Ladies is pimps too) (3x) Oh Strut through the club yeah they know we so pay Standin\\' on the table sippin\\' ace of spades Sayin (Ladies is pimps too) (3x) Oh Hey, hey, hey I got a condo in Manhattan Baby girl, what\\'s hatnin\\'? You and your ass invited So gon\\' and get to clappin\\' Go pop it for a player, pop-pop it for me Turn around and drop it for a player, drop-drop it for me I\\'ll rent a beach house in Miami Wake up with no jammies (nope) Lobster tail for dinner Julio, serve that scampi You got it if you want it, got, got it if you want it Said you got it if you want it, take my wallet if you want it, now Jump in the Cadillac (Girl, let\\'s put some miles on it) Anything you want (Just to put a smile on you) You deserve it baby, you deserve it all And I\\'m gonna give it to you Cool jewelry shining so bright Strawberry champagne on ice Lucky for you, that\\'s what I like, that\\'s what I like Lucky for you, that\\'s what I like, that\\'s what I like Sex by the fire at night Silk sheets and diamonds all white Lucky for you, that\\'s what I like, that\\'s what I like Lucky for you, that\\'s what I like, that\\'s what I like I\\'m talkin\\' trips to Puerto Rico Say the word and we go You can be my fleeka Girl, I\\'ll be a fleeko, mamacita I will never make a promise that I can\\'t keep I promise that your smile ain\\'t gon\\' never leave Shopping sprees in Paris Everything twenty-four karats Take a look in that mirror (take a look) Now tell me who\\'s the fairest Is it you? (is it you?) is it me? (is it me?) Say it\\'s us (say it\\'s us) and I\\'ll agree, baby Jump in the Cadillac (Girl, let\\'s put some miles on it) Anything you want (Just to put a smile on you) You deserve it baby, you deserve it all And I\\'m gonna give it to you Cool jewelry shining so bright Strawberry champagne on ice Lucky for you, that\\'s what I like, that\\'s what I like Lucky for you, that\\'s what I like, that\\'s what I like Sex by the fire at night Silk sheets and diamonds all white Lucky for you, that\\'s what I like, that\\'s what I like Lucky for you, that\\'s what I like, that\\'s what I like You say you want a good time Well here I am, baby, here I am, baby Talk to me, talk to me, talk to me Talk to me, tell me what\\'s on your mind What\\'s on your mind If you want it, girl, come and get it All this is here for you Tell me baby, tell me, tell me baby What you tryna do Cool jewelry shining so bright Strawberry champagne on ice Lucky for you, that\\'s what I like, that\\'s what I like (that\\'s what I like) Lucky for you, that\\'s what I like, that\\'s what I like Sex by the fire at night Silk sheets and diamonds all white Lucky for you, that\\'s what I like, that\\'s what I like (that\\'s what I like) Lucky for you, that\\'s what I like, that\\'s what I like She took two stems of cherries And tied it with her tongue Told me she was a squirter Want me to make her cum She said she liked percussions And I can beat her drums Her brain just got a doctrine And I would make it sprung It\\'s been two weeks, I miss her She wont return my calls It doesn\\'t take a lot to read the writings on the wall Oh no, my God, I\\'ll do it I think my baby\\'s gone And once again I\\'m moving on And I just wanna hate her, I hate her, I hate her Can\\'t get her off my brain, my brain, my brain In Spike Lee joint I\\'m Gator, I\\'m Gator, I\\'m Gator I shoot her in my veins A sad and lonely thing That\\'s why I wanna hate her, I hate her, I hate her Can\\'t get her off my brain, my brain, my brain And I just wanna take her, and take her, and take her And shoot her in my veins The actions of a fiend That\\'s why I gotta hate her, yeah That\\'s why I gotta (That\\'s why I gotta hate her) yeah Ooh, oh yeah, yeah With all them product Gucci Juicy and Louis Vuitton Six inch high heel stilettos That shit that turns her on And in the midnight hour She\\'ll come and bring me off But early in the morning Look all around shes gone My homie say I\\'m trippin I should return my card My players pass has been revoked and now they think I\\'m soft I don\\'t know what I\\'m doin\\' Cause once again shes gone And once again I\\'m movin\\' on And I just wanna hate her, I hate her, I hate her Can\\'t get her off my brain, my brain, my brain In Spike Lee joint I\\'m Gator, I\\'m Gator, I\\'m Gator I shoot her in my veins A sad and lonely thing That\\'s why I wanna hate her, I hate her, I hate her Can\\'t get her off my brain, my brain, my brain And I just wanna take her, and take her, and take her And shoot her in my veins The actions of a fiend That\\'s why I gotta hate her, yeah [Instrumental] And I just wanna hate her, I hate her, I hate her Can\\'t get her off my brain, my brain, my brain In Spike Lee joint I\\'m Gator, I\\'m Gator, I\\'m Gator I shoot her in my veins A sad and lonely thing That\\'s why I wanna hate her, I hate her, I hate her Can\\'t get her off my brain, my brain, my brain And I just wanna take her, and take her, and take her And shoot her in my veins The actions of a fiend That\\'s why I gotta hate her, yeah Are you getting back Coming to the stage is a girl who\\'s new in town She goes by the name where your stacks at This pretty little thing I swear won\\'t let you down Watch her drop it like (Down down down) hey Hey Oh it\\'s not complicated so this won\\'t take a while You see music make her dance and money money money make her smile (Gimme what you got, gimme gimme what you got) Yeah (Gimme what you got, gimme gimme what you got) Yeah (Gimme what you got, gimme gimme what you got) Money money money make her smile (Gimme what you got, gimme gimme what you got) Yeah (Gimme what you got, gimme gimme what you got) Yeah (Gimme what you got, gimme gimme what you got) Money money money make her smile She\\'s a super freak You wouldn\\'t know it if you saw her outside these velvet walls No she don\\'t go where preachers preach She only go to the church where dollars fall Watch her drop it like (Down, down, down) hey, Hey Oh it\\'s not complicated so this won\\'t take a while You see music make her dance and money money money make her smile (Gimme what you got, gimme gimme what you got) Yeah (Gimme what you got, gimme gimme what you got) Yeah (Gimme what you got, gimme gimme what you got) Money money money make her smile (Gimme what you got, gimme gimme what you got) Yeah (Gimme what you got, gimme gimme what you got) Yeah (Gimme what you got, gimme gimme what you got) Money money money make her smile Yeah, Yeah Yeah Watch her (Gimme what you got, gimme gimme what you got, got, got, got, got) (Gimme what you got, gimme gimme what you got, got, got) Oh it\\'s not complicated so this won\\'t take a while You see music make her dance and money money money make her smile (Gimme what you got, gimme gimme what you got) Yeah (Gimme what you got, gimme gimme what you got) Yeah (Gimme what you got, gimme gimme what you got) Money money money make her smile (Gimme what you got, gimme gimme what you got) Yeah (Gimme what you got, gimme gimme what you got) Yeah (Gimme what you got, gimme gimme what you got) Money money money make her smile Im Looking For The Girl Im Looking For The Girl Im Looking For The Girl That Girl That Girl Everytime I Came Around She Made Her Body Go Down Her Physical Was So Crazy She Could Make A Blind Man See Ooh Before Then We Got Seperated She Was Gone Before I Could Say Shit And I aint Looking For No Replacement Noo-Whoa Whoa Whoa If I Gotta Almost Search The Whole Club Trying To Get To Her Before Shes SoberS Up Let Me See You Throw Your hands Up Whoa Whoa Whoa Whoa Whoa Whoa Where Did She go Where Did She go Where\\'d She go Where\\'d She go Ive Been Looking For Her All Night Where Did She go Where Did She go Where\\'d She go Ive Been Looking For Her All Night Im Looking For The Girl Im Looking For The Girl Im Looking For The Girl That Girl That Girl I Mustve Seen Her Beauty At The Bar Under The Strobe Lights Looking Like A Star (Looking Like A Star Girl) But Everyone Started Rushing Me Looking Through The Crowd Shawty Left The Scene Oh! Before Then We Got Seperated She Was Gone Before I Could Say Shit And I aint Looking For No Replacement Noo-Whoa Whoa Whoa If I Gotta Almost Search The Whole Club Trying To Get To Her Before Shes SoberS Up Let Me See You Throw Your hands Up Whoa Whoa Whoa Whoa Whoa Whoa Where Did She go Where Did She go Where\\'d She go Where\\'d She go Ive Been Looking For Her All Night Where Did She go Where Did She go Where\\'d She go Ive Been Looking For Her All Night Where Did She go Where Did She go Where\\'d She go Ive Been Looking For Her All Night Where Did She go Where Did She go Where\\'d She go Ive Been Looking For Her All Night Club Closing Up Im Still Looking For You Walked Up To The Ladies Room No Luck So Im Headed To The DJ Booth Next Thing I know She Tell My Show This Aint You Looking At You You wanna Take Me Home So Tonight I Just MIght Put You On Im Looking For The Girl Im Looking For The Girl Im Looking For The Girl That Girl That Girl Im Looking For The Girl Im Looking For The Girl Im Looking For The Girl That Girl That Girl Where Did She go Where Did She go Where\\'d She go Ive Been Looking For Her All Night Where Did She go Where Did She go Where\\'d She go Ive Been Looking For Her All Night Where Did She go Where Did She go Where\\'d She go Ive Been Looking For Her All Night Where Did She go Where Did She go Where\\'d She go Ive Been Looking For Her All Night I, I, I don\\'t know why, why It seems like every other night you pick a fight, fight. And I know I do the same, be callin\\' you out your name, This is not what lovers are suppose to do. You tell me to go, I start walkin out, We both know what we\\'re all about. We fuss, fight, and scream, And it\\'s all because of love, but you know we ain\\'t ever giving up. Everytime I try to leave Somethin\\'s tells me turn around \\'Cause how could I ever leave The only one that holds me down \\'Cause I know we can work it out Talk it out, stick it out oohh Everytime I try to leave Find that we can figure it out That\\'s why I always turn around Baby, before you say, say, Something you know you\\'ll take back later on today, day. Sometimes you drive me crazy, but I love ya, baby All I ask is that you\\'ll always appreciate me, ooohh. You tell me to go, I start walkin out, We both know what we\\'re all about. We fuss, fight, and scream, And it\\'s all because of love, but you know we ain\\'t ever giving up. Everytime I try to leave Somethin\\'s tells me turn around \\'Cause how could I ever leave The only one that holds me down \\'Cause I know we can work it out Talk it out, stick it out oohh Everytime I try to leave Find that we can figure it out That\\'s why I always turn around Ain\\'t nobody that can love me, like you love me. That\\'s why I always turn around for you, you you, youuu. You, you you, youuu. Ain\\'t nobody that can love me, like you love me. Thats why I always turn around. For you, you you, youuuu. You, you yooou. Everytime I try to leave Somethin\\'s tells me turn around \\'Cause how could I ever leave The only one that holds me down \\'Cause I know we can work it out Talk it out, stick it out oohh Everytime I try to leave Find that we can figure it out That\\'s why I always turn around Here I am again, doing things I said that I wouldn\\'t do It\\'s 3AM and I\\'m rushing out the door to see you Waiting, all day, but now you wanna call me Why do you do this to me all the time? After all the things you put me through, still I come right back But now I know the truth, I can finally see You only want me when you\\'re lonely If I say I\\'m gonna leave, that\\'s the only time you want me Next time you need me there I won\\'t make it Another late night call I won\\'t take it Cause now I finally see, you only want me when you\\'re lonely Only when you\\'re lonely, lonely Only when you\\'re lonely Only when you\\'re lonely, lonely Only when you\\'re lonely Had me fooled from the start and I quickly gave my heart Cause I loved you, loved you, loved you But this is what happens when you\\'re a lonely girl with no one to turn you Now I\\'m stronger, don\\'t need you any longer So get off your knees, your words don\\'t mean anything After all the things you put me through, ooh still I come right back But now I know the truth, I can finally see You only want me when you\\'re lonely If I say I\\'m gonna leave, that\\'s the only time you want me Next time you need me there I won\\'t make it Another late night call I won\\'t take it Cause now I finally see, you only want me when you\\'re lonely Oh, nothing\\'s ever changing, decisions you can\\'t make it You just think of yourself and never me at all If you\\'re with your friends, you just string me along But I won\\'t allow it anymore, so it\\'s time for me to move on Cause I can finally see, you only want me when you\\'re lonely If I say I\\'m gonna leave, that\\'s the only time you want me Next time you need me there I won\\'t make it Another late night call I won\\'t take it Cause now I finally see, you only want me when you\\'re lonely Only when you\\'re lonely, lonely Only when you\\'re lonely Only when you\\'re lonely, lonely Only when you\\'re lonely I can finally see, you only want me when you\\'re lonely If I say I\\'m gonna leave, that\\'s the only time you want me Next time you need me there I won\\'t make it Another late night call I won\\'t take it Cause now I finally see, you only want me when you\\'re lonely Dim all the lights sweet darling Cause tonight it\\'s all the way Turn up the old Victrola Gonna dance the night away Love just don\\'t come easy No it seldom does When you find the perfect love Let it fill you up Dim all the lights sweet darling Cause tonight it\\'s all the way, hey baby Turn up the old Victrola Gonna dance the night away Love just don\\'t come easy No it seldom does When you find the perfect love Let it fill you up Dim all the light sweet honey Cause tonight it\\'s you and me No need to worry darlin\\' Cause it\\'s for eternity Love don\\'t come easy This you know I understand I want to be your woman If you\\'ll be my man Let yourself go freely and I\\'ll Show you things that you\\'ve dreamed of Don\\'t think that your dreaming We\\'ve found the perfect love And I\\'m like a cup So fill me up Dim all the lights sweet darlin\\' Cause the night is on the way, oh baby Turn up the old Victrola Gonna dance the night away Do what you want You can use me all up Take me bottom to top Don\\'t leave even one drop No, no, no Do it tonight You know the moments are right Turn my brown body white Come on, dim all the lights Dim all the lights sweet darlin\\' Cause the night is on the way, hey baby Turn up the old Victrola Gonna dance the night away, hey baby Dim all the lights sweet darlin\\' Dim all the lights sweet honey... She wakes up in the morning.. morning Jumps in the shower.. shower ooooh ooooh Then rubs on her lotion.. lotion While she\\'s wrapped in her towel.. towel ooooh ooooh And no music on And her dance to perfection.. perfection ooooh ooooh I swear the bathrooms a club The way she\\'s showing love to her reflection.. reflection ooooh ooooh Every morning I watch her from behind But she don\\'t know I pretend that I\\'m asleep But I don\\'t miss a show My favourite part of the day Is when she dance in the mirror Dance in the mirror There\\'s nothing more I can say Just watch her dance in the mirror.. dance Ooooh she\\'s so cute.. cute.. cute Dancing in the nude.. nude.. nude ohhh My favourite part of the day Is when she dance in the mirror Dance in the mirror It\\'s late in the evening.. evening We got dinner reservations.. reservations ooooh ooooh She\\'s taking her time But I don\\'t mind waiting Nooo Noooo I don\\'t get impatient Cause when she gets naked Oh the temptation.. Oh the temptation You make me wanna cancel all of our plans Keep you right where you stand Just wanna see you dance oh Every morning I watch her from behind But she don\\'t know I pretend that I\\'m asleep But I don\\'t miss a show My favourite part of the day Is when she dance in the mirror Dance in the mirror There\\'s nothing more I can say Just watch her dance in the mirror.. dance Ooooh she\\'s so cute.. cute.. cute Dancing in the nude.. nude.. nude ohhh My favourite part of the day Is when she dance in the mirror Dance in the mirror Ohhhhh She\\'s singing to herself like Da-da-da-da-da-da Ohhhh She\\'s singing to herself like Da-da-da-da-da-da My favourite part of the day Is when she dance in the mirror Dance in the mirror There\\'s nothing more I can say Just watch her dance in the mirror.. dance Ooooh she\\'s so cute.. cute.. cute Dancing in the nude.. nude.. nude ohhh My favourite part of the day Is when she dance in the mirror Dance in the mirror Hay tantas canciones que puedo cantar para pasar el tiempo Y me estoy quedando sin cosas que hacer para sacarte de mi mente Oh Todo lo que tengo es esta foto en un marco Que tengo muy cerca para ver tu cara todos los días Contigo es donde yo prefiero estar pero estamos atrapados en esto Y es tan difícil Estás tan lejos Esta distancia me está matando Me gustaría que estuvieras aquí conmigo pero estamos atrapados en esto. Y es tan difícil Estás tan lejos Esta distancia me está matando Es tan difícil Es tan difícil ¿Dónde estamos? ¿Dónde estamos? Estás tan lejos Esta distancia me está matando Es tan difícil Es tan difícil ¿Dónde estamos? ¿Dónde estamos? Estás tan lejos Esta distancia me está matando Ahora los minutos se sienten como horas y las horas se sienten como días Aunque estoy lejos tu sabes que no puedo estar en casa pero vuelvo a casa pronto vuelvo a casa pronto. Todo lo que tengo es esta foto en un marco Que tengo muy cerca para ver tu cara todos los días Contigo es donde yo prefiero estar pero estamos atrapados en esto Y es tan difícil Estás tan lejos Esta distancia me está matando Me gustaría que estuvieras aquí conmigo pero estamos atrapados en esto. Y es tan difícil Estás tan lejos ¿Puedes oírme llorar? Oh ¿Puedes oírme llorar? Oh ¿Puedes oírme llorar? Oh Contigo es donde yo prefiero estar pero estamos atrapados en esto Y es tan difícil Estás tan lejos Esta distancia me está matando Me gustaría que estuvieras aquí conmigo pero estamos atrapados en esto. Y es tan difícil Estás tan lejos Esta distancia me está matando. Es tan difícil Es tan difícil ¿Dónde estamos? ¿Dónde estamos? Estás tan lejos Esta distancia me está matando Es tan difícil Es tan difícil ¿Dónde estamos? ¿Dónde estamos? Estás tan lejos Esta distancia me está matando Hay tantas canciones que puedo cantar para pasar el tiempo... Let\\'s take our time tonight, girl Above us all the stars are watchin\\' There\\'s no place I\\'d rather be in this world Your eyes are where I\\'m lost in Underneath the chandelier We\\'re dancin\\' all alone There\\'s no reason to hide What we\\'re feelin\\' inside Right now! So baby let\\'s just turn down the lights And close the door Oooh I love that dress But you won\\'t need it anymore No you won\\'t need it no more Let\\'s just kiss \\'til we\\'re naked, baby Versace on the floor Oooh take it off for me, for me, for me, for me now, girl Versace on the floor Oooh take it off for me, for me, for me, for me now, girl I unzip the back to watch it fall While I kiss your neck and shoulders No don\\'t be afraid to show it off I\\'ll be right here ready to hold you Girl you know you\\'re perfect from Your head down to your heels Don\\'t be confused by my smile \\'Cause I ain\\'t ever been more for real, for real So just turn down the lights (down the lights) And close the door (close the door) Oooh I love that dress But you won\\'t need it anymore No you won\\'t need it no more Let\\'s just kiss \\'til we\\'re naked, baby Versace on the floor Ooh take it off for me, for me, for me, for me now, girl Versace on the floor Ooh take it off for me, for me, for me, for me now, girl Dance (It\\'s warmin\\' up) can you feel it? (It\\'s warmin\\' up) can you feel it? (It\\'s warmin\\' up) can you feel it, baby? It\\'s warmin\\' up Oh, seems like you\\'re ready for more, more, more Let\\'s just kiss \\'til we\\'re naked Ooh, Versace on the floor, hey baby Take it off for me, for me, for me, for me now, girl Versace on the floor Oh take it off for me, for me, for me, for me now, girl Versace on the floor Floor Floor It\\'s been so long since you been gone, And now we\\'re here The music\\'s on, We\\'re feeling freaky (oh) I want you in my bedroom, You want me closer to you What are we doing? Let\\'s get to it I lay you down, Take off your clothes, Then kiss your lips It feels so good, ooh you\\'re saying more I wanna be inside you Ooh girl you got that fire I can\\'t wait no longer I just gotta take control The lights in the club are turning you on Now girl let\\'s pretend we both are alone We\\'ll finish this up when we get home The only thing I need from you girl Is to press your body, On my body Do it fast, do it slow, You control the tempo Look over your shoulder Bring it back now Let me feel your body Just (press it, press it) My favorite place is that space between your legs and your hips Ooh, got me licking my lips Wanna get up on it It\\'s a special thing that we be doing Feelin\\' bit bad boy Girl I\\'m doing It ain\\'t no secret \\'bout what it is Come on girl serve me the dish The lights in the club are turning you on Now girl let\\'s pretend we both are alone We\\'ll finish this up when we get home The only thing I need from you girl Is to press your body, On my body Do it fast, do it slow, You control the tempo Look over your shoulder Bring it back now Let me feel your body Just press your body, On my body Do it fast, do it slow, You control the tempo Look over your shoulder Bring it back now Let me feel your body now Girl you\\'re the only thing that I see So don\\'t you take your body from me And there\\'s no other place I\\'d rather be Oh girl there\\'s something bout your body, body, body Ooh the way you shakin\\' is so naughty, naughty, naughty Right now we got our own little party, party, party So good, The way you press your body on me All I need from you Is to press your body, On my body Do it fast, do it slow, You control the tempo Look over your shoulder Bring it back now Let me feel your body Just press your body, On my body Do it fast, do it slow, You control the tempo Look over your shoulder Girl there\\'s something bout your body, body, body Oh the way you shakin\\' is so naughty, naughty, naughty Right now we got our own little party, party, party So good, The way you press your body on me All I need from you Is to press it Oh, her eyes, her eyes make the stars look like they\\'re not shinin\\' Her hair, her hair falls perfectly without her trying She\\'s so beautiful and I tell her everyday Yeah, I know, I know when I compliment her she won\\'t believe me And it\\'s so, it\\'s so sad to think that she don\\'t see what I see But every time she asks me \"Do I look okay? \" I say When I see your face There\\'s not a thing that I would change \\'cause you\\'re amazing Just the way you are And when you smile The whole world stops and stares for a while \\'Cause girl you\\'re amazing Just the way you are Yeah Her lips, her lips, I could kiss them all day if she\\'d let me Her laugh, her laugh she hates but I think it\\'s so sexy She\\'s so beautiful, and I tell her everyday Oh you know, you know, you know I\\'d never ask you to change If perfect\\'s what you\\'re searching for then just stay the same So don\\'t even bother asking if you look okay, you know I\\'ll say When I see your face There\\'s not a thing that I would change \\'Cause you\\'re amazing Just the way you are And when you smile The whole world stops and stares for a while \\'Cause girl you\\'re amazing Just the way you are The way you are The way you are Girl you\\'re amazing Just the way you are When I see your face There\\'s not a thing that I would change \\'Cause you\\'re amazing Just the way you are And when you smile The whole world stops and stares for a while \\'Cause girl you\\'re amazing Just the way you are Yeah ¿Qué estás loco? Se está haciendo difícil esperar, Estoy tratando de hacerle ver, Que ella no sabe realmente Que yo estoy tratando de encontrar una manera, Y dile a ella todos los días, que sólo va de la mano Así que ... Yo no quiero ser, El único que sabe Que alguien podría venir y apenas Dicen que el amor por mí, Estoy de pie temblando de tierra, Y estoy pensando que voy a perder, Estribillo: Porque yo estoy perdiendo mi cabeza, Estoy perdiendo mi mente, Estoy perdiendo el control de mí mismo esta vez. Ella me tiene de perder la cabeza, Estoy perdiendo mi mente, Estoy perdiendo a mi manera, Pero yo creo que ella siente que ya estoy atrapado. ¿Estás hablando conmigo? Ya estoy atrapado. Me gustaría que me podía ver, Pero es que lo que Siente esto debe ser. Mi amor es como bala Todo lo que necesita es una inyección para mí para hacer estallar todo por la borda. No quiero sentir que estoy perdiendo el tiempo, Va a estar con ustedes y nadie más. Hasta que me aviso, Necesito saber en este momento Porque yo he estado creo que me voy a perder Estribillo: Porque yo estoy perdiendo mi cabeza, Estoy perdiendo mi mente, Estoy perdiendo el control de mí mismo esta vez. Ella me tiene de perder la cabeza, Estoy perdiendo mi mente, Estoy perdiendo a mi manera, Pero yo creo que ella siente que ya estoy atrapado. Dame una oportunidad ... Pero chica que me pone nervioso, A estas alturas ya debería haberme dado cuenta. ¿Y qué va a tomar Para la celestial ... Me estás volviendo loco! Estribillo: Porque yo estoy perdiendo mi cabeza, Estoy perdiendo mi mente, Estoy perdiendo el control de mí mismo esta vez. Ella me tiene de perder la cabeza, Estoy perdiendo mi mente, Estoy perdiendo a mi manera, Pero yo creo que ella siente que ya estoy atrapado. [Verse 1:] I know girl, when you look at me You don\\'t know how I feel Cause I\\'m usually so nonchalant My feelings I conceal But I want you to know Oh, I want you to know I must admit I\\'ve felt this way for more than quite a while But I can\\'t hold it no longer when I see that pretty smile Can\\'t wait no more Oh, I can\\'t wait no more Oooh [Chorus:] Girl, to tell you the truth It\\'s always been you I\\'m all about you Oh, girl No one can do me the way you do It\\'s always been you I\\'m all about you [Verse 2:] Maybe I\\'m a fool for speaking up but I don\\'t mind Cause a girl like you will come around like Once in a million times So what do I do? Tell me what do I do And the look that you are givin\\' me gives me hope to believe So for you baby I\\'ll change my ways I\\'ll Wear my heart on my sleeve Got nothin\\' to lose I\\'ve got nothin\\' to lose [Chorus:] Oh, girl, to tell you the truth It\\'s always been you I\\'m all about you Oh, girl No one can do me the way you do It\\'s always been you I\\'m all about you [Bridge:] Girl when you smile Not a place I\\'d rather be Just stay for a while Then you\\'ll see you should be right here with me Cause I love everything you do That\\'s why I have to take this time baby to tell ya Oh, and now you know And now you know [Chorus:] Girl, to tell you the truth It\\'s always been you I\\'m all about you Oh, girl No one can do me the way you do It\\'s always been you I\\'m all about you Oh oh oh oh oh oh oh oh I\\'m all about you Oh oh oh oh oh oh oh oh I\\'m all about you Oh oh oh oh oh oh oh oh I\\'m all about you girl Oh oh oh oh oh oh oh oh'"
      ]
     },
     "execution_count": 20,
     "metadata": {},
     "output_type": "execute_result"
    }
   ],
   "source": [
    "# Concatenamos todos los rows en un solo valor\n",
    "corpus = df.apply(lambda row: ' '.join(row.values.astype(str)), axis=0)[0]\n",
    "corpus"
   ]
  },
  {
   "cell_type": "code",
   "execution_count": 21,
   "metadata": {
    "colab": {
     "base_uri": "https://localhost:8080/"
    },
    "executionInfo": {
     "elapsed": 38,
     "status": "ok",
     "timestamp": 1634644794477,
     "user": {
      "displayName": "Agustin Acerbo",
      "photoUrl": "https://lh3.googleusercontent.com/a-/AOh14GiFUHlal2m-HqrdHQGftXlBFKZBOGaIXX61S4e_MQ=s64",
      "userId": "11845685418075358694"
     },
     "user_tz": 180
    },
    "id": "_KlsYd7_uOez",
    "outputId": "be2fd74b-d103-40cb-c7e8-b6210a965446"
   },
   "outputs": [
    {
     "data": {
      "text/plain": [
       "['now',\n",
       " 'greetings',\n",
       " 'to',\n",
       " 'the',\n",
       " 'world',\n",
       " 'standing',\n",
       " 'at',\n",
       " 'this',\n",
       " 'liquor',\n",
       " 'store',\n",
       " 'whiskey',\n",
       " 'coming',\n",
       " 'through',\n",
       " 'my',\n",
       " 'pores',\n",
       " 'feeling',\n",
       " 'like',\n",
       " 'i',\n",
       " 'run',\n",
       " 'this']"
      ]
     },
     "execution_count": 21,
     "metadata": {},
     "output_type": "execute_result"
    }
   ],
   "source": [
    "# Transformar el corpus a tokens\n",
    "tokens=text_to_word_sequence(corpus)\n",
    "# Vistazo general de los primeros tokens\n",
    "tokens[:20]"
   ]
  },
  {
   "cell_type": "code",
   "execution_count": 22,
   "metadata": {
    "colab": {
     "base_uri": "https://localhost:8080/"
    },
    "executionInfo": {
     "elapsed": 35,
     "status": "ok",
     "timestamp": 1634644794477,
     "user": {
      "displayName": "Agustin Acerbo",
      "photoUrl": "https://lh3.googleusercontent.com/a-/AOh14GiFUHlal2m-HqrdHQGftXlBFKZBOGaIXX61S4e_MQ=s64",
      "userId": "11845685418075358694"
     },
     "user_tz": 180
    },
    "id": "GlqpZSJOJ1xQ",
    "outputId": "353fe67c-a009-47ee-8fd9-fe3c5aba3382"
   },
   "outputs": [
    {
     "name": "stdout",
     "output_type": "stream",
     "text": [
      "Cantidad de tokens en el corpus: 26900\n"
     ]
    }
   ],
   "source": [
    "print(\"Cantidad de tokens en el corpus:\", len(tokens))"
   ]
  },
  {
   "cell_type": "code",
   "execution_count": 23,
   "metadata": {
    "executionInfo": {
     "elapsed": 34,
     "status": "ok",
     "timestamp": 1634644794477,
     "user": {
      "displayName": "Agustin Acerbo",
      "photoUrl": "https://lh3.googleusercontent.com/a-/AOh14GiFUHlal2m-HqrdHQGftXlBFKZBOGaIXX61S4e_MQ=s64",
      "userId": "11845685418075358694"
     },
     "user_tz": 180
    },
    "id": "RhQevOynuYk2"
   },
   "outputs": [],
   "source": [
    "# Código para hacer el desfazaje de las palabras\n",
    "# según el train_len\n",
    "text_sequences = []\n",
    "for i in range(train_len, len(tokens)):\n",
    "  seq = tokens[i-train_len:i]\n",
    "  text_sequences.append(seq)"
   ]
  },
  {
   "cell_type": "code",
   "execution_count": 24,
   "metadata": {
    "colab": {
     "base_uri": "https://localhost:8080/"
    },
    "executionInfo": {
     "elapsed": 35,
     "status": "ok",
     "timestamp": 1634644794478,
     "user": {
      "displayName": "Agustin Acerbo",
      "photoUrl": "https://lh3.googleusercontent.com/a-/AOh14GiFUHlal2m-HqrdHQGftXlBFKZBOGaIXX61S4e_MQ=s64",
      "userId": "11845685418075358694"
     },
     "user_tz": 180
    },
    "id": "FU3FuqHSuhzq",
    "outputId": "7af8a11f-d4db-4cd9-bb53-cd31345de97c"
   },
   "outputs": [
    {
     "data": {
      "text/plain": [
       "[['now', 'greetings', 'to', 'the'],\n",
       " ['greetings', 'to', 'the', 'world'],\n",
       " ['to', 'the', 'world', 'standing'],\n",
       " ['the', 'world', 'standing', 'at'],\n",
       " ['world', 'standing', 'at', 'this'],\n",
       " ['standing', 'at', 'this', 'liquor'],\n",
       " ['at', 'this', 'liquor', 'store'],\n",
       " ['this', 'liquor', 'store', 'whiskey'],\n",
       " ['liquor', 'store', 'whiskey', 'coming'],\n",
       " ['store', 'whiskey', 'coming', 'through'],\n",
       " ['whiskey', 'coming', 'through', 'my'],\n",
       " ['coming', 'through', 'my', 'pores'],\n",
       " ['through', 'my', 'pores', 'feeling'],\n",
       " ['my', 'pores', 'feeling', 'like'],\n",
       " ['pores', 'feeling', 'like', 'i'],\n",
       " ['feeling', 'like', 'i', 'run'],\n",
       " ['like', 'i', 'run', 'this'],\n",
       " ['i', 'run', 'this', 'whole'],\n",
       " ['run', 'this', 'whole', 'block'],\n",
       " ['this', 'whole', 'block', 'lotto']]"
      ]
     },
     "execution_count": 24,
     "metadata": {},
     "output_type": "execute_result"
    }
   ],
   "source": [
    "# Demos un vistazo a nuestros vectores para entrenar el modelo\n",
    "text_sequences[:20]"
   ]
  },
  {
   "cell_type": "code",
   "execution_count": 25,
   "metadata": {
    "colab": {
     "base_uri": "https://localhost:8080/"
    },
    "executionInfo": {
     "elapsed": 34,
     "status": "ok",
     "timestamp": 1634644794478,
     "user": {
      "displayName": "Agustin Acerbo",
      "photoUrl": "https://lh3.googleusercontent.com/a-/AOh14GiFUHlal2m-HqrdHQGftXlBFKZBOGaIXX61S4e_MQ=s64",
      "userId": "11845685418075358694"
     },
     "user_tz": 180
    },
    "id": "064N2jtLvHRg",
    "outputId": "f163c370-19e4-48bc-8c98-2e75392e88b4"
   },
   "outputs": [
    {
     "data": {
      "text/plain": [
       "[[47, 614, 6, 3],\n",
       " [614, 6, 3, 133],\n",
       " [6, 3, 133, 360],\n",
       " [3, 133, 360, 76],\n",
       " [133, 360, 76, 38],\n",
       " [360, 76, 38, 336],\n",
       " [76, 38, 336, 410],\n",
       " [38, 336, 410, 813],\n",
       " [336, 410, 813, 237],\n",
       " [410, 813, 237, 154],\n",
       " [813, 237, 154, 7],\n",
       " [237, 154, 7, 814],\n",
       " [154, 7, 814, 286],\n",
       " [7, 814, 286, 20],\n",
       " [814, 286, 20, 2],\n",
       " [286, 20, 2, 87],\n",
       " [20, 2, 87, 38],\n",
       " [2, 87, 38, 155],\n",
       " [87, 38, 155, 384],\n",
       " [38, 155, 384, 815]]"
      ]
     },
     "execution_count": 25,
     "metadata": {},
     "output_type": "execute_result"
    }
   ],
   "source": [
    "# Proceso de tokenizacion\n",
    "tok = Tokenizer() \n",
    "tok.fit_on_texts(text_sequences) \n",
    "\n",
    "# Convertimos las palabras a números\n",
    "# entran palabras -> salen números\n",
    "sequences = tok.texts_to_sequences(text_sequences)\n",
    "\n",
    "# Damos un vistazo\n",
    "sequences[:20]"
   ]
  },
  {
   "cell_type": "code",
   "execution_count": 26,
   "metadata": {
    "colab": {
     "base_uri": "https://localhost:8080/"
    },
    "executionInfo": {
     "elapsed": 32,
     "status": "ok",
     "timestamp": 1634644794478,
     "user": {
      "displayName": "Agustin Acerbo",
      "photoUrl": "https://lh3.googleusercontent.com/a-/AOh14GiFUHlal2m-HqrdHQGftXlBFKZBOGaIXX61S4e_MQ=s64",
      "userId": "11845685418075358694"
     },
     "user_tz": 180
    },
    "id": "vwsvmvDKKXSP",
    "outputId": "8b7c639d-82b1-43a0-87e7-1d4f2f0b1290"
   },
   "outputs": [
    {
     "name": "stdout",
     "output_type": "stream",
     "text": [
      "Cantidad de rows del dataset: 26896\n"
     ]
    }
   ],
   "source": [
    "print(\"Cantidad de rows del dataset:\", len(sequences))"
   ]
  },
  {
   "cell_type": "markdown",
   "metadata": {
    "id": "QMVP4bj0vL2e"
   },
   "source": [
    "### 3 - Input y target"
   ]
  },
  {
   "cell_type": "code",
   "execution_count": 27,
   "metadata": {
    "colab": {
     "base_uri": "https://localhost:8080/"
    },
    "executionInfo": {
     "elapsed": 31,
     "status": "ok",
     "timestamp": 1634644794478,
     "user": {
      "displayName": "Agustin Acerbo",
      "photoUrl": "https://lh3.googleusercontent.com/a-/AOh14GiFUHlal2m-HqrdHQGftXlBFKZBOGaIXX61S4e_MQ=s64",
      "userId": "11845685418075358694"
     },
     "user_tz": 180
    },
    "id": "mx2xwdz3KloJ",
    "outputId": "77e51a43-ad4f-49f4-e141-d961952fc493"
   },
   "outputs": [
    {
     "data": {
      "text/plain": [
       "array([[1, 2, 3, 4],\n",
       "       [5, 6, 7, 8]])"
      ]
     },
     "execution_count": 27,
     "metadata": {},
     "output_type": "execute_result"
    }
   ],
   "source": [
    "# Con numpy es muy fácil realizar el slicing de vectores\n",
    "ex = np.array([[1,2,3,4],[5,6,7,8]])\n",
    "ex"
   ]
  },
  {
   "cell_type": "code",
   "execution_count": 28,
   "metadata": {
    "colab": {
     "base_uri": "https://localhost:8080/"
    },
    "executionInfo": {
     "elapsed": 31,
     "status": "ok",
     "timestamp": 1634644794479,
     "user": {
      "displayName": "Agustin Acerbo",
      "photoUrl": "https://lh3.googleusercontent.com/a-/AOh14GiFUHlal2m-HqrdHQGftXlBFKZBOGaIXX61S4e_MQ=s64",
      "userId": "11845685418075358694"
     },
     "user_tz": 180
    },
    "id": "BEod7qghvTVt",
    "outputId": "bbb6a273-834f-4ee5-c8d1-7c42443b0313"
   },
   "outputs": [
    {
     "name": "stdout",
     "output_type": "stream",
     "text": [
      "Dimension: (2, 4)\n",
      "Todos los elementos: [[1 2 3 4]\n",
      " [5 6 7 8]]\n",
      "Todos los elementos menos el último: [[1 2 3]\n",
      " [5 6 7]]\n"
     ]
    }
   ],
   "source": [
    "# Con numpy es muy fácil realizar el slicing de vectores\n",
    "print(\"Dimension:\", ex.shape)\n",
    "print(\"Todos los elementos:\", ex)\n",
    "print(\"Todos los elementos menos el último:\", ex[:, :-1])"
   ]
  },
  {
   "cell_type": "code",
   "execution_count": 29,
   "metadata": {
    "colab": {
     "base_uri": "https://localhost:8080/"
    },
    "executionInfo": {
     "elapsed": 30,
     "status": "ok",
     "timestamp": 1634644794479,
     "user": {
      "displayName": "Agustin Acerbo",
      "photoUrl": "https://lh3.googleusercontent.com/a-/AOh14GiFUHlal2m-HqrdHQGftXlBFKZBOGaIXX61S4e_MQ=s64",
      "userId": "11845685418075358694"
     },
     "user_tz": 180
    },
    "id": "i95xWqtCvp8T",
    "outputId": "699a945e-c928-4608-cf04-f43b8af0c691"
   },
   "outputs": [
    {
     "name": "stdout",
     "output_type": "stream",
     "text": [
      "Input: [[1 2 3]\n",
      " [5 6 7]]\n",
      "Target: [4 8]\n"
     ]
    }
   ],
   "source": [
    "input = ex[:,:-1] # todos los rows, menos la ultima col\n",
    "target = ex[:, -1] # última col de cada row\n",
    "\n",
    "print(\"Input:\", input)\n",
    "print(\"Target:\", target)"
   ]
  },
  {
   "cell_type": "code",
   "execution_count": 30,
   "metadata": {
    "colab": {
     "base_uri": "https://localhost:8080/"
    },
    "executionInfo": {
     "elapsed": 30,
     "status": "ok",
     "timestamp": 1634644794480,
     "user": {
      "displayName": "Agustin Acerbo",
      "photoUrl": "https://lh3.googleusercontent.com/a-/AOh14GiFUHlal2m-HqrdHQGftXlBFKZBOGaIXX61S4e_MQ=s64",
      "userId": "11845685418075358694"
     },
     "user_tz": 180
    },
    "id": "e1vJTG65v4Qn",
    "outputId": "fc2bd3c1-a30f-42a5-abd7-2b5e2a0013fb"
   },
   "outputs": [
    {
     "name": "stdout",
     "output_type": "stream",
     "text": [
      "(26896, 3)\n",
      "(26896,)\n"
     ]
    }
   ],
   "source": [
    "arr_sequences = np.array(sequences)\n",
    "x_data = arr_sequences[:,:-1]\n",
    "y_data_int = arr_sequences[:,-1] # aún falta el oneHotEncoder\n",
    "\n",
    "print(x_data.shape)\n",
    "print(y_data_int.shape)"
   ]
  },
  {
   "cell_type": "code",
   "execution_count": 31,
   "metadata": {
    "colab": {
     "base_uri": "https://localhost:8080/"
    },
    "executionInfo": {
     "elapsed": 29,
     "status": "ok",
     "timestamp": 1634644794480,
     "user": {
      "displayName": "Agustin Acerbo",
      "photoUrl": "https://lh3.googleusercontent.com/a-/AOh14GiFUHlal2m-HqrdHQGftXlBFKZBOGaIXX61S4e_MQ=s64",
      "userId": "11845685418075358694"
     },
     "user_tz": 180
    },
    "id": "ln6kVWVlwBBs",
    "outputId": "84f71d0b-3b5d-421f-8013-610f051a786c"
   },
   "outputs": [
    {
     "data": {
      "text/plain": [
       "{1: 'you',\n",
       " 2: 'i',\n",
       " 3: 'the',\n",
       " 4: 'me',\n",
       " 5: 'it',\n",
       " 6: 'to',\n",
       " 7: 'my',\n",
       " 8: 'oh',\n",
       " 9: 'and',\n",
       " 10: 'a',\n",
       " 11: 'for',\n",
       " 12: 'yeah',\n",
       " 13: 'in',\n",
       " 14: 'on',\n",
       " 15: 'so',\n",
       " 16: 'up',\n",
       " 17: 'what',\n",
       " 18: 'all',\n",
       " 19: \"i'm\",\n",
       " 20: 'like',\n",
       " 21: 'your',\n",
       " 22: 'that',\n",
       " 23: 'got',\n",
       " 24: \"don't\",\n",
       " 25: 'no',\n",
       " 26: 'know',\n",
       " 27: 'just',\n",
       " 28: 'we',\n",
       " 29: 'her',\n",
       " 30: 'is',\n",
       " 31: 'do',\n",
       " 32: 'baby',\n",
       " 33: 'be',\n",
       " 34: 'girl',\n",
       " 35: 'but',\n",
       " 36: 'she',\n",
       " 37: \"it's\",\n",
       " 38: 'this',\n",
       " 39: 'when',\n",
       " 40: \"you're\",\n",
       " 41: 'if',\n",
       " 42: 'of',\n",
       " 43: \"'cause\",\n",
       " 44: 'go',\n",
       " 45: 'take',\n",
       " 46: 'can',\n",
       " 47: 'now',\n",
       " 48: 'with',\n",
       " 49: 'out',\n",
       " 50: 'love',\n",
       " 51: 'are',\n",
       " 52: \"that's\",\n",
       " 53: 'way',\n",
       " 54: 'get',\n",
       " 55: 'see',\n",
       " 56: 'make',\n",
       " 57: 'say',\n",
       " 58: \"i'll\",\n",
       " 59: 'time',\n",
       " 60: 'here',\n",
       " 61: 'too',\n",
       " 62: 'one',\n",
       " 63: 'tell',\n",
       " 64: 'long',\n",
       " 65: \"can't\",\n",
       " 66: 'feel',\n",
       " 67: 'night',\n",
       " 68: 'come',\n",
       " 69: 'ooh',\n",
       " 70: 'wanna',\n",
       " 71: 'never',\n",
       " 72: 'been',\n",
       " 73: 'que',\n",
       " 74: 'show',\n",
       " 75: 'down',\n",
       " 76: 'at',\n",
       " 77: 'where',\n",
       " 78: 'better',\n",
       " 79: 'gimme',\n",
       " 80: 'more',\n",
       " 81: 'want',\n",
       " 82: 'back',\n",
       " 83: 'only',\n",
       " 84: 'uh',\n",
       " 85: 'right',\n",
       " 86: 'look',\n",
       " 87: 'run',\n",
       " 88: 'give',\n",
       " 89: \"ain't\",\n",
       " 90: 'there',\n",
       " 91: \"we're\",\n",
       " 92: 'again',\n",
       " 93: 'ah',\n",
       " 94: 'estoy',\n",
       " 95: 'gonna',\n",
       " 96: 'oo',\n",
       " 97: 'they',\n",
       " 98: 'every',\n",
       " 99: 'cause',\n",
       " 100: 'have',\n",
       " 101: 'how',\n",
       " 102: 'why',\n",
       " 103: 'tan',\n",
       " 104: 'was',\n",
       " 105: 'while',\n",
       " 106: 'let',\n",
       " 107: 'our',\n",
       " 108: 'looking',\n",
       " 109: 'money',\n",
       " 110: 'thing',\n",
       " 111: 'today',\n",
       " 112: 'es',\n",
       " 113: 'will',\n",
       " 114: 'day',\n",
       " 115: 'could',\n",
       " 116: 'put',\n",
       " 117: 'ya',\n",
       " 118: 'good',\n",
       " 119: 'not',\n",
       " 120: 'straight',\n",
       " 121: 'need',\n",
       " 122: 'fire',\n",
       " 123: \"won't\",\n",
       " 124: 'girls',\n",
       " 125: 'home',\n",
       " 126: 'eyes',\n",
       " 127: \"there's\",\n",
       " 128: 'watch',\n",
       " 129: 'hey',\n",
       " 130: 'leave',\n",
       " 131: 'did',\n",
       " 132: 'think',\n",
       " 133: 'world',\n",
       " 134: 'turn',\n",
       " 135: \"let's\",\n",
       " 136: 'some',\n",
       " 137: 'would',\n",
       " 138: \"she's\",\n",
       " 139: 'dance',\n",
       " 140: \"i've\",\n",
       " 141: 'smile',\n",
       " 142: \"i'd\",\n",
       " 143: \"you'll\",\n",
       " 144: 'tonight',\n",
       " 145: 'wait',\n",
       " 146: 'us',\n",
       " 147: 'try',\n",
       " 148: 'gotta',\n",
       " 149: 'believe',\n",
       " 150: 'perdiendo',\n",
       " 151: 'body',\n",
       " 152: 'before',\n",
       " 153: 'knows',\n",
       " 154: 'through',\n",
       " 155: 'whole',\n",
       " 156: 'new',\n",
       " 157: 'find',\n",
       " 158: 'feels',\n",
       " 159: 'lonely',\n",
       " 160: 'stay',\n",
       " 161: 'difícil',\n",
       " 162: 'mind',\n",
       " 163: 'little',\n",
       " 164: 'hard',\n",
       " 165: 'trying',\n",
       " 166: 'ever',\n",
       " 167: 'uptown',\n",
       " 168: 'funk',\n",
       " 169: 'off',\n",
       " 170: 'always',\n",
       " 171: 'pain',\n",
       " 172: 'mi',\n",
       " 173: 'esta',\n",
       " 174: 'yo',\n",
       " 175: 'estamos',\n",
       " 176: 'lucky',\n",
       " 177: 'same',\n",
       " 178: 'them',\n",
       " 179: 'tomorrow',\n",
       " 180: 'change',\n",
       " 181: 'around',\n",
       " 182: 'keep',\n",
       " 183: 'away',\n",
       " 184: 'life',\n",
       " 185: 'alright',\n",
       " 186: 'heart',\n",
       " 187: 'man',\n",
       " 188: 'slow',\n",
       " 189: 'place',\n",
       " 190: 'ok',\n",
       " 191: 'lights',\n",
       " 192: 'y',\n",
       " 193: 'de',\n",
       " 194: 'pero',\n",
       " 195: 'estás',\n",
       " 196: 'mirror',\n",
       " 197: 'kiss',\n",
       " 198: 'runaway',\n",
       " 199: 'something',\n",
       " 200: 'by',\n",
       " 201: 'then',\n",
       " 202: 'from',\n",
       " 203: 'hot',\n",
       " 204: 'who',\n",
       " 205: 'head',\n",
       " 206: 'somewhere',\n",
       " 207: 'other',\n",
       " 208: 'locked',\n",
       " 209: 'lejos',\n",
       " 210: 'lay',\n",
       " 211: 'hoo',\n",
       " 212: 'brain',\n",
       " 213: 'floor',\n",
       " 214: 'over',\n",
       " 215: 'hate',\n",
       " 216: 'than',\n",
       " 217: \"gon'\",\n",
       " 218: 'said',\n",
       " 219: 'next',\n",
       " 220: 'wish',\n",
       " 221: 'amazing',\n",
       " 222: \"we'll\",\n",
       " 223: 'young',\n",
       " 224: 'side',\n",
       " 225: 'wrong',\n",
       " 226: 'waiting',\n",
       " 227: 'en',\n",
       " 228: 'está',\n",
       " 229: 'everything',\n",
       " 230: 'well',\n",
       " 231: 'am',\n",
       " 232: 'about',\n",
       " 233: 'own',\n",
       " 234: 'stop',\n",
       " 235: 'whoa',\n",
       " 236: 'done',\n",
       " 237: 'coming',\n",
       " 238: 'shot',\n",
       " 239: 'twenty',\n",
       " 240: 'things',\n",
       " 241: 'first',\n",
       " 242: 'understand',\n",
       " 243: 'pretty',\n",
       " 244: 'babe',\n",
       " 245: 'lose',\n",
       " 246: 'drag',\n",
       " 247: 'sorrow',\n",
       " 248: 'messed',\n",
       " 249: 'sex',\n",
       " 250: 'heaven',\n",
       " 251: 'distancia',\n",
       " 252: 'matando',\n",
       " 253: 'control',\n",
       " 254: 'four',\n",
       " 255: 'everyday',\n",
       " 256: 'last',\n",
       " 257: 'damn',\n",
       " 258: 'old',\n",
       " 259: \"goin'\",\n",
       " 260: 'still',\n",
       " 261: 'ready',\n",
       " 262: 'these',\n",
       " 263: 'friends',\n",
       " 264: 'mine',\n",
       " 265: 'gone',\n",
       " 266: 'losing',\n",
       " 267: \"'til\",\n",
       " 268: 'thinking',\n",
       " 269: 'takes',\n",
       " 270: 'drop',\n",
       " 271: 'anything',\n",
       " 272: 'going',\n",
       " 273: 'para',\n",
       " 274: 'el',\n",
       " 275: '¿dónde',\n",
       " 276: 'ella',\n",
       " 277: 'talk',\n",
       " 278: 'close',\n",
       " 279: 'doing',\n",
       " 280: 'alone',\n",
       " 281: 'hear',\n",
       " 282: 'as',\n",
       " 283: 'far',\n",
       " 284: 'room',\n",
       " 285: 'brand',\n",
       " 286: 'feeling',\n",
       " 287: 'call',\n",
       " 288: 'or',\n",
       " 289: 'his',\n",
       " 290: 'he',\n",
       " 291: 'throw',\n",
       " 292: 'yes',\n",
       " 293: 'were',\n",
       " 294: 'oooh',\n",
       " 295: 'gold',\n",
       " 296: 'myself',\n",
       " 297: 'hold',\n",
       " 298: 'hands',\n",
       " 299: 'treasure',\n",
       " 300: 'ladies',\n",
       " 301: 'im',\n",
       " 302: 'tryna',\n",
       " 303: 'had',\n",
       " 304: 'mente',\n",
       " 305: 'esto',\n",
       " 306: 'name',\n",
       " 307: 'ask',\n",
       " 308: 'face',\n",
       " 309: 'phone',\n",
       " 310: 'hand',\n",
       " 311: 'lost',\n",
       " 312: 'door',\n",
       " 313: 'versace',\n",
       " 314: 'goodbye',\n",
       " 315: 'many',\n",
       " 316: 'fight',\n",
       " 317: 'chorus',\n",
       " 318: 'voices',\n",
       " 319: 'care',\n",
       " 320: 'two',\n",
       " 321: 'shining',\n",
       " 322: 'air',\n",
       " 323: \"wouldn't\",\n",
       " 324: 'fall',\n",
       " 325: 'perfect',\n",
       " 326: 'party',\n",
       " 327: 'karat',\n",
       " 328: 'true',\n",
       " 329: 'end',\n",
       " 330: 'work',\n",
       " 331: 'mom',\n",
       " 332: 'boy',\n",
       " 333: 'club',\n",
       " 334: 'burning',\n",
       " 335: 'ooooh',\n",
       " 336: 'liquor',\n",
       " 337: 'much',\n",
       " 338: 'paradise',\n",
       " 339: 'atrapados',\n",
       " 340: 'la',\n",
       " 341: 'cabeza',\n",
       " 342: 'player',\n",
       " 343: 'promise',\n",
       " 344: 'beautiful',\n",
       " 345: 'okay',\n",
       " 346: 'lips',\n",
       " 347: 'darling',\n",
       " 348: 'real',\n",
       " 349: 'fun',\n",
       " 350: 'late',\n",
       " 351: 'favorite',\n",
       " 352: 'getaway',\n",
       " 353: 'once',\n",
       " 354: 'wild',\n",
       " 355: 'touch',\n",
       " 356: \"drippin'\",\n",
       " 357: 'finesse',\n",
       " 358: \"where'd\",\n",
       " 359: 'da',\n",
       " 360: 'standing',\n",
       " 361: 'live',\n",
       " 362: 'has',\n",
       " 363: 'spend',\n",
       " 364: 'light',\n",
       " 365: 'bad',\n",
       " 366: 'swear',\n",
       " 367: 'stars',\n",
       " 368: 'hair',\n",
       " 369: 'sexy',\n",
       " 370: 'even',\n",
       " 371: 'break',\n",
       " 372: 'dancing',\n",
       " 373: 'moon',\n",
       " 374: 'magic',\n",
       " 375: 'soon',\n",
       " 376: 'matter',\n",
       " 377: 'talking',\n",
       " 378: 'play',\n",
       " 379: 'friend',\n",
       " 380: 'words',\n",
       " 381: 'nobody',\n",
       " 382: 'fast',\n",
       " 383: 'oohh',\n",
       " 384: 'block',\n",
       " 385: 'best',\n",
       " 386: 'rest',\n",
       " 387: 'estar',\n",
       " 388: 'mí',\n",
       " 389: 'perder',\n",
       " 390: 'jump',\n",
       " 391: 'billionaire',\n",
       " 392: 'laugh',\n",
       " 393: 'nothing',\n",
       " 394: 'woman',\n",
       " 395: \"y'all\",\n",
       " 396: 'count',\n",
       " 397: 'walk',\n",
       " 398: 'should',\n",
       " 399: 'calling',\n",
       " 400: 'please',\n",
       " 401: 'begins',\n",
       " 402: 'each',\n",
       " 403: 'finally',\n",
       " 404: \"you've\",\n",
       " 405: 'making',\n",
       " 406: 'since',\n",
       " 407: 'went',\n",
       " 408: 'ive',\n",
       " 409: 'press',\n",
       " 410: 'store',\n",
       " 411: 'top',\n",
       " 412: 'city',\n",
       " 413: 'deserve',\n",
       " 414: 'ice',\n",
       " 415: 'white',\n",
       " 416: 'hit',\n",
       " 417: 'everywhere',\n",
       " 418: 'left',\n",
       " 419: 'stops',\n",
       " 420: 'stares',\n",
       " 421: 'bed',\n",
       " 422: \"should've\",\n",
       " 423: 'seems',\n",
       " 424: 'else',\n",
       " 425: 'fine',\n",
       " 426: 'told',\n",
       " 427: 'killing',\n",
       " 428: 'morning',\n",
       " 429: 'both',\n",
       " 430: 'brooklyn',\n",
       " 431: 'natalie',\n",
       " 432: 'ooo',\n",
       " 433: 'gator',\n",
       " 434: 'cute',\n",
       " 435: 'nude',\n",
       " 436: 'catch',\n",
       " 437: 'high',\n",
       " 438: 'three',\n",
       " 439: 'line',\n",
       " 440: 'bring',\n",
       " 441: 'days',\n",
       " 442: 'todo',\n",
       " 443: 'lo',\n",
       " 444: 'tengo',\n",
       " 445: 'ver',\n",
       " 446: 'tu',\n",
       " 447: 'los',\n",
       " 448: 'días',\n",
       " 449: 'gustaría',\n",
       " 450: 'conmigo',\n",
       " 451: 'manera',\n",
       " 452: 'porque',\n",
       " 453: 'creo',\n",
       " 454: 'siente',\n",
       " 455: 'atrapado',\n",
       " 456: \"what's\",\n",
       " 457: 'pop',\n",
       " 458: \"talkin'\",\n",
       " 459: 'probably',\n",
       " 460: 'sing',\n",
       " 461: 'meet',\n",
       " 462: 'easy',\n",
       " 463: 'train',\n",
       " 464: 'inside',\n",
       " 465: \"warmin'\",\n",
       " 466: 'marry',\n",
       " 467: 'help',\n",
       " 468: 'another',\n",
       " 469: 'hope',\n",
       " 470: 'verse',\n",
       " 471: 'rain',\n",
       " 472: 'someone',\n",
       " 473: 'lord',\n",
       " 474: 'rolling',\n",
       " 475: 'stand',\n",
       " 476: 'distance',\n",
       " 477: 'naughty',\n",
       " 478: 'makes',\n",
       " 479: 'move',\n",
       " 480: 'shine',\n",
       " 481: 'sense',\n",
       " 482: 'madly',\n",
       " 483: 'sayin',\n",
       " 484: 'pimps',\n",
       " 485: '3x',\n",
       " 486: 'dim',\n",
       " 487: 'nowhere',\n",
       " 488: 'blues',\n",
       " 489: 'because',\n",
       " 490: 'shows',\n",
       " 491: 'open',\n",
       " 492: 'cool',\n",
       " 493: 'bright',\n",
       " 494: 'diamonds',\n",
       " 495: 'lady',\n",
       " 496: \"they're\",\n",
       " 497: 'really',\n",
       " 498: 'rather',\n",
       " 499: \"feelin'\",\n",
       " 500: 'naked',\n",
       " 501: 'yourself',\n",
       " 502: 'stuck',\n",
       " 503: 'cry',\n",
       " 504: 'shit',\n",
       " 505: \"sayin'\",\n",
       " 506: 'pick',\n",
       " 507: 'broken',\n",
       " 508: 'star',\n",
       " 509: 'dreams',\n",
       " 510: 'past',\n",
       " 511: 'behind',\n",
       " 512: 'taking',\n",
       " 513: 'yesterday',\n",
       " 514: 'lifetime',\n",
       " 515: 'truth',\n",
       " 516: \"didn't\",\n",
       " 517: 'big',\n",
       " 518: 'start',\n",
       " 519: 'gorillas',\n",
       " 520: 'pretend',\n",
       " 521: 'aint',\n",
       " 522: 'ahh',\n",
       " 523: 'everytime',\n",
       " 524: 'sweet',\n",
       " 525: 'job',\n",
       " 526: 'pay',\n",
       " 527: 'rent',\n",
       " 528: 'between',\n",
       " 529: 'ways',\n",
       " 530: 'puedo',\n",
       " 531: 'tiempo',\n",
       " 532: 'todos',\n",
       " 533: 'contigo',\n",
       " 534: 'donde',\n",
       " 535: 'prefiero',\n",
       " 536: 'estuvieras',\n",
       " 537: 'aquí',\n",
       " 538: 'se',\n",
       " 539: 'como',\n",
       " 540: 'casa',\n",
       " 541: '¿puedes',\n",
       " 542: 'oírme',\n",
       " 543: 'llorar',\n",
       " 544: 'una',\n",
       " 545: 'va',\n",
       " 546: 'estribillo',\n",
       " 547: 'mismo',\n",
       " 548: 'vez',\n",
       " 549: 'tiene',\n",
       " 550: 'wake',\n",
       " 551: 'jewelry',\n",
       " 552: 'strawberry',\n",
       " 553: 'champagne',\n",
       " 554: 'silk',\n",
       " 555: 'sheets',\n",
       " 556: \"who's\",\n",
       " 557: 'smiling',\n",
       " 558: 'sure',\n",
       " 559: 'forget',\n",
       " 560: 'dream',\n",
       " 561: 'without',\n",
       " 562: 'sad',\n",
       " 563: 'message',\n",
       " 564: 'might',\n",
       " 565: 'bet',\n",
       " 566: 'gave',\n",
       " 567: 'loved',\n",
       " 568: 'hallelujah',\n",
       " 569: 'whoo',\n",
       " 570: 'fresh',\n",
       " 571: 'anymore',\n",
       " 572: 'dumb',\n",
       " 573: 'blame',\n",
       " 574: 'made',\n",
       " 575: 'shoulder',\n",
       " 576: 'wanted',\n",
       " 577: 'higher',\n",
       " 578: 'guess',\n",
       " 579: 'hurt',\n",
       " 580: \"there'll\",\n",
       " 581: \"darlin'\",\n",
       " 582: 'honey',\n",
       " 583: 'spell',\n",
       " 584: 'heard',\n",
       " 585: 'poor',\n",
       " 586: 'stone',\n",
       " 587: 'scared',\n",
       " 588: 'passed',\n",
       " 589: 'happen',\n",
       " 590: \"lookin'\",\n",
       " 591: 'wall',\n",
       " 592: 'pat',\n",
       " 593: 'getting',\n",
       " 594: 'death',\n",
       " 595: 'use',\n",
       " 596: 'already',\n",
       " 597: 'knew',\n",
       " 598: 'times',\n",
       " 599: 'exactly',\n",
       " 600: 'ohhhh',\n",
       " 601: 'sleep',\n",
       " 602: \"waitin'\",\n",
       " 603: 'forever',\n",
       " 604: 'digging',\n",
       " 605: 'special',\n",
       " 606: 'saying',\n",
       " 607: 'boom',\n",
       " 608: 'zoom',\n",
       " 609: 'strange',\n",
       " 610: 'shoot',\n",
       " 611: 'veins',\n",
       " 612: 'favourite',\n",
       " 613: 'part',\n",
       " 614: 'greetings',\n",
       " 615: 'singing',\n",
       " 616: 'faith',\n",
       " 617: 'miracles',\n",
       " 618: 'spiritual',\n",
       " 619: 'knees',\n",
       " 620: 'ass',\n",
       " 621: 'word',\n",
       " 622: 'agree',\n",
       " 623: 'different',\n",
       " 624: 'an',\n",
       " 625: 'their',\n",
       " 626: 'music',\n",
       " 627: 'five',\n",
       " 628: 'searching',\n",
       " 629: 'nice',\n",
       " 630: 'mess',\n",
       " 631: 'strut',\n",
       " 632: 'asked',\n",
       " 633: 'die',\n",
       " 634: 'mad',\n",
       " 635: 'car',\n",
       " 636: 'called',\n",
       " 637: 'minute',\n",
       " 638: 'freaky',\n",
       " 639: 'reason',\n",
       " 640: 'shoulders',\n",
       " 641: 'afraid',\n",
       " 642: 'cares',\n",
       " 643: 'mean',\n",
       " 644: 'does',\n",
       " 645: 'hours',\n",
       " 646: 'chance',\n",
       " 647: 'remember',\n",
       " 648: 'pinky',\n",
       " 649: 'rings',\n",
       " 650: 'toe',\n",
       " 651: 'goes',\n",
       " 652: 'crazy',\n",
       " 653: 'sit',\n",
       " 654: 'fool',\n",
       " 655: 'though',\n",
       " 656: 'chains',\n",
       " 657: 'years',\n",
       " 658: 'tears',\n",
       " 659: \"must've\",\n",
       " 660: 'funny',\n",
       " 661: 'took',\n",
       " 662: 'worth',\n",
       " 663: 'running',\n",
       " 664: 'choose',\n",
       " 665: 'bar',\n",
       " 666: 'ends',\n",
       " 667: 'along',\n",
       " 668: 'desire',\n",
       " 669: \"i'ma\",\n",
       " 670: 'miss',\n",
       " 671: 'roll',\n",
       " 672: 'ohhh',\n",
       " 673: 'lovelies',\n",
       " 674: 'cross',\n",
       " 675: 'free',\n",
       " 676: 'moonshine',\n",
       " 677: 'welcome',\n",
       " 678: 'tempo',\n",
       " 679: 'guitar',\n",
       " 680: 'cops',\n",
       " 681: 'comes',\n",
       " 682: 'hay',\n",
       " 683: 'tantas',\n",
       " 684: 'canciones',\n",
       " 685: 'cantar',\n",
       " 686: 'pasar',\n",
       " 687: 'hacer',\n",
       " 688: 'foto',\n",
       " 689: 'un',\n",
       " 690: 'marco',\n",
       " 691: 'muy',\n",
       " 692: 'cerca',\n",
       " 693: 'cara',\n",
       " 694: 'sienten',\n",
       " 695: 'horas',\n",
       " 696: 'vuelvo',\n",
       " 697: 'pronto',\n",
       " 698: 'loco',\n",
       " 699: 'tratando',\n",
       " 700: 'sabe',\n",
       " 701: 'quiero',\n",
       " 702: 'ser',\n",
       " 703: 'amor',\n",
       " 704: 'por',\n",
       " 705: 'voy',\n",
       " 706: 'house',\n",
       " 707: 'serve',\n",
       " 708: 'cadillac',\n",
       " 709: 'miles',\n",
       " 710: 'f',\n",
       " 711: \"in'\",\n",
       " 712: 'prepare',\n",
       " 713: 'single',\n",
       " 714: 'playing',\n",
       " 715: 'compliment',\n",
       " 716: 'him',\n",
       " 717: 'pocket',\n",
       " 718: \"she'd\",\n",
       " 719: 'asking',\n",
       " 720: 'picking',\n",
       " 721: 'tone',\n",
       " 722: 'cant',\n",
       " 723: 'known',\n",
       " 724: 'tossed',\n",
       " 725: 'trash',\n",
       " 726: 'cold',\n",
       " 727: \"'bout\",\n",
       " 728: 'fill',\n",
       " 729: 'ride',\n",
       " 730: 'bitch',\n",
       " 731: 'above',\n",
       " 732: 'hide',\n",
       " 733: 'dress',\n",
       " 734: 'juice',\n",
       " 735: 'ring',\n",
       " 736: 'held',\n",
       " 737: 'selfish',\n",
       " 738: 'holds',\n",
       " 739: 'sky',\n",
       " 740: 'players',\n",
       " 741: \"'em\",\n",
       " 742: 'whoop',\n",
       " 743: 'fault',\n",
       " 744: 'save',\n",
       " 745: \"walkin'\",\n",
       " 746: 'eye',\n",
       " 747: 'looky',\n",
       " 748: 'grab',\n",
       " 749: 'holding',\n",
       " 750: 'heal',\n",
       " 751: 'ohh',\n",
       " 752: 'bind',\n",
       " 753: 'happiness',\n",
       " 754: \"life's\",\n",
       " 755: 'found',\n",
       " 756: 'rise',\n",
       " 757: 'taught',\n",
       " 758: 'ow',\n",
       " 759: 'activate',\n",
       " 760: 'silky',\n",
       " 761: 'smooth',\n",
       " 762: 'snap',\n",
       " 763: 'lean',\n",
       " 764: 'sheen',\n",
       " 765: 'ball',\n",
       " 766: \"here's\",\n",
       " 767: 'slide',\n",
       " 768: 'chunky',\n",
       " 769: 'hoops',\n",
       " 770: 'daisy',\n",
       " 771: 'dukes',\n",
       " 772: 'ones',\n",
       " 773: 'recruit',\n",
       " 774: 'roads',\n",
       " 775: 'drive',\n",
       " 776: 'bang',\n",
       " 777: 'lovers',\n",
       " 778: 'matters',\n",
       " 779: 'wonder',\n",
       " 780: 'listen',\n",
       " 781: 'scene',\n",
       " 782: \"got's\",\n",
       " 783: 'started',\n",
       " 784: 'named',\n",
       " 785: \"body's\",\n",
       " 786: '100',\n",
       " 787: 'degrees',\n",
       " 788: 'temperature',\n",
       " 789: 'sweating',\n",
       " 790: 'ay',\n",
       " 791: 'rush',\n",
       " 792: 'telling',\n",
       " 793: 'everyone',\n",
       " 794: 'complicated',\n",
       " 795: 'doubt',\n",
       " 796: 'x2',\n",
       " 797: 'didnt',\n",
       " 798: 'prisoner',\n",
       " 799: 'prison',\n",
       " 800: 'criminal',\n",
       " 801: 'led',\n",
       " 802: 'mall',\n",
       " 803: 'fits',\n",
       " 804: 'ninety',\n",
       " 805: 'whips',\n",
       " 806: \"standin'\",\n",
       " 807: 'table',\n",
       " 808: \"sippin'\",\n",
       " 809: 'ace',\n",
       " 810: 'spades',\n",
       " 811: 'shes',\n",
       " 812: 'victrola',\n",
       " 813: 'whiskey',\n",
       " 814: 'pores',\n",
       " 815: 'lotto',\n",
       " 816: 'tickets',\n",
       " 817: 'cheap',\n",
       " 818: 'beer',\n",
       " 819: 'scratch',\n",
       " 820: \"'68\",\n",
       " 821: 'cents',\n",
       " 822: 'junior',\n",
       " 823: 'gong',\n",
       " 824: 'flying',\n",
       " 825: 'superman',\n",
       " 826: 'pineapple',\n",
       " 827: 'kush',\n",
       " 828: 'jaws',\n",
       " 829: 'swimming',\n",
       " 830: 'born',\n",
       " 831: 'testify',\n",
       " 832: 'sinner',\n",
       " 833: 'gates',\n",
       " 834: 'pie',\n",
       " 835: 'dinner',\n",
       " 836: 'julio',\n",
       " 837: 'wallet',\n",
       " 838: 'buy',\n",
       " 839: 'oprah',\n",
       " 840: 'couple',\n",
       " 841: 'lot',\n",
       " 842: 'eating',\n",
       " 843: 'falls',\n",
       " 844: 'perfectly',\n",
       " 845: 'hates',\n",
       " 846: \"perfect's\",\n",
       " 847: 'bother',\n",
       " 848: 'feet',\n",
       " 849: \"freakin'\",\n",
       " 850: 'scream',\n",
       " 851: 'grenade',\n",
       " 852: 'blade',\n",
       " 853: 'front',\n",
       " 854: 'bullet',\n",
       " 855: 'black',\n",
       " 856: 'saturday',\n",
       " 857: 'spot',\n",
       " 858: 'sip',\n",
       " 859: 'check',\n",
       " 860: \"lil'\",\n",
       " 861: 'neck',\n",
       " 862: 'full',\n",
       " 863: 'blow',\n",
       " 864: 'supposed',\n",
       " 865: 'asleep',\n",
       " 866: 'oooooh',\n",
       " 867: 'realize',\n",
       " 868: 'flowers',\n",
       " 869: 'needs',\n",
       " 870: 'strong',\n",
       " 871: 'mistakes',\n",
       " 872: 'set',\n",
       " 873: 'red',\n",
       " 874: 'rocket',\n",
       " 875: 'preach',\n",
       " 876: 'used',\n",
       " 877: 'sunlight',\n",
       " 878: 'clear',\n",
       " 879: 'skies',\n",
       " 880: 'clouds',\n",
       " 881: \"it'll\",\n",
       " 882: 'ra',\n",
       " 883: 'ain',\n",
       " 884: 'daddy',\n",
       " 885: 'golden',\n",
       " 886: \"wasn't\",\n",
       " 887: 'hopes',\n",
       " 888: 'sits',\n",
       " 889: 'sun',\n",
       " 890: 'hello',\n",
       " 891: 'dad',\n",
       " 892: 'perm',\n",
       " 893: 'attitude',\n",
       " 894: 'relax',\n",
       " 895: 'fact',\n",
       " 896: 'band',\n",
       " 897: 'flat',\n",
       " 898: 'pass',\n",
       " 899: 'picture',\n",
       " 900: 'crying',\n",
       " 901: 'mommy',\n",
       " 902: 'into',\n",
       " 903: 'chest',\n",
       " 904: 'memory',\n",
       " 905: 'speak',\n",
       " 906: \"day's\",\n",
       " 907: 'loving',\n",
       " 908: 'nervous',\n",
       " 909: 'worry',\n",
       " 910: 'guys',\n",
       " 911: 'after',\n",
       " 912: 'covered',\n",
       " 913: 'leather',\n",
       " 914: 'unfair',\n",
       " 915: \"rockin'\",\n",
       " 916: \"ya'\",\n",
       " 917: \"i'\",\n",
       " 918: 'ma',\n",
       " 919: \"heat's\",\n",
       " 920: 'turning',\n",
       " 921: \"we've\",\n",
       " 922: 'read',\n",
       " 923: 'someday',\n",
       " 924: 'sometimes',\n",
       " 925: 'until',\n",
       " 926: 'together',\n",
       " 927: 'road',\n",
       " 928: 'pulling',\n",
       " 929: 'circle',\n",
       " 930: 'ran',\n",
       " 931: 'ditch',\n",
       " 932: 'quick',\n",
       " 933: 'bout',\n",
       " 934: 'decide',\n",
       " 935: 'alive',\n",
       " 936: 'father',\n",
       " 937: \"he'd\",\n",
       " 938: 'carry',\n",
       " 939: 'hits',\n",
       " 940: \"she'll\",\n",
       " 941: 'weird',\n",
       " 942: 'mail',\n",
       " 943: \"shinin'\",\n",
       " 944: \"baby's\",\n",
       " 945: 'noo',\n",
       " 946: 'thought',\n",
       " 947: 'lovely',\n",
       " 948: 'paid',\n",
       " 949: 'spike',\n",
       " 950: 'lee',\n",
       " 951: 'joint',\n",
       " 952: 'actions',\n",
       " 953: 'fiend',\n",
       " 954: \"somethin's\",\n",
       " 955: 'tells',\n",
       " 956: 'stick',\n",
       " 957: 'figure',\n",
       " 958: 'longer',\n",
       " 959: 'water',\n",
       " 960: 'quedando',\n",
       " 961: 'sin',\n",
       " 962: 'cosas',\n",
       " 963: 'sacarte',\n",
       " 964: 'ahora',\n",
       " 965: 'minutos',\n",
       " 966: 'las',\n",
       " 967: 'aunque',\n",
       " 968: 'sabes',\n",
       " 969: '¿qué',\n",
       " 970: 'haciendo',\n",
       " 971: 'esperar',\n",
       " 972: 'hacerle',\n",
       " 973: 'realmente',\n",
       " 974: 'encontrar',\n",
       " 975: 'dile',\n",
       " 976: 'sólo',\n",
       " 977: 'mano',\n",
       " 978: 'así',\n",
       " 979: 'único',\n",
       " 980: 'alguien',\n",
       " 981: 'podría',\n",
       " 982: 'venir',\n",
       " 983: 'apenas',\n",
       " 984: 'dicen',\n",
       " 985: 'temblando',\n",
       " 986: 'tierra',\n",
       " 987: 'pensando',\n",
       " 988: '¿estás',\n",
       " 989: 'hablando',\n",
       " 990: 'podía',\n",
       " 991: 'debe',\n",
       " 992: 'bala',\n",
       " 993: 'necesita',\n",
       " 994: 'inyección',\n",
       " 995: 'estallar',\n",
       " 996: 'borda',\n",
       " 997: 'sentir',\n",
       " 998: 'con',\n",
       " 999: 'ustedes',\n",
       " 1000: 'nadie',\n",
       " ...}"
      ]
     },
     "execution_count": 31,
     "metadata": {},
     "output_type": "execute_result"
    }
   ],
   "source": [
    "# Palabras del vocabulario\n",
    "tok.index_word"
   ]
  },
  {
   "cell_type": "code",
   "execution_count": 32,
   "metadata": {
    "colab": {
     "base_uri": "https://localhost:8080/"
    },
    "executionInfo": {
     "elapsed": 27,
     "status": "ok",
     "timestamp": 1634644794480,
     "user": {
      "displayName": "Agustin Acerbo",
      "photoUrl": "https://lh3.googleusercontent.com/a-/AOh14GiFUHlal2m-HqrdHQGftXlBFKZBOGaIXX61S4e_MQ=s64",
      "userId": "11845685418075358694"
     },
     "user_tz": 180
    },
    "id": "gJgVhq1zwEpf",
    "outputId": "b3699c18-c363-48e0-ebd3-f4a7e4c24def"
   },
   "outputs": [
    {
     "data": {
      "text/plain": [
       "1896"
      ]
     },
     "execution_count": 32,
     "metadata": {},
     "output_type": "execute_result"
    }
   ],
   "source": [
    "# Cantidad de palabras en el vocabulario\n",
    "vocab_size = len(tok.word_counts)\n",
    "vocab_size"
   ]
  },
  {
   "cell_type": "code",
   "execution_count": 33,
   "metadata": {
    "colab": {
     "base_uri": "https://localhost:8080/"
    },
    "executionInfo": {
     "elapsed": 20,
     "status": "ok",
     "timestamp": 1634644794481,
     "user": {
      "displayName": "Agustin Acerbo",
      "photoUrl": "https://lh3.googleusercontent.com/a-/AOh14GiFUHlal2m-HqrdHQGftXlBFKZBOGaIXX61S4e_MQ=s64",
      "userId": "11845685418075358694"
     },
     "user_tz": 180
    },
    "id": "gIg2e2WCwXbG",
    "outputId": "44742d76-360e-4f97-d1fc-1817fdb15328"
   },
   "outputs": [
    {
     "data": {
      "text/plain": [
       "(26896, 1896)"
      ]
     },
     "execution_count": 33,
     "metadata": {},
     "output_type": "execute_result"
    }
   ],
   "source": [
    "y_data_int_offset = y_data_int - 1\n",
    "y_data = to_categorical(y_data_int_offset, num_classes=vocab_size) \n",
    "y_data.shape"
   ]
  },
  {
   "cell_type": "markdown",
   "metadata": {
    "id": "GmJWNyxQwfCE"
   },
   "source": [
    "### 4 - Entrenar el modelo"
   ]
  },
  {
   "cell_type": "code",
   "execution_count": 34,
   "metadata": {
    "colab": {
     "base_uri": "https://localhost:8080/"
    },
    "executionInfo": {
     "elapsed": 18,
     "status": "ok",
     "timestamp": 1634644794481,
     "user": {
      "displayName": "Agustin Acerbo",
      "photoUrl": "https://lh3.googleusercontent.com/a-/AOh14GiFUHlal2m-HqrdHQGftXlBFKZBOGaIXX61S4e_MQ=s64",
      "userId": "11845685418075358694"
     },
     "user_tz": 180
    },
    "id": "0cOmNZT_weK2",
    "outputId": "9f119452-d21e-4083-a7ea-2a17944831d3"
   },
   "outputs": [
    {
     "data": {
      "text/plain": [
       "3"
      ]
     },
     "execution_count": 34,
     "metadata": {},
     "output_type": "execute_result"
    }
   ],
   "source": [
    "# largo de la secuencia de entrada\n",
    "input_seq_len = x_data.shape[1] \n",
    "input_seq_len"
   ]
  },
  {
   "cell_type": "code",
   "execution_count": 35,
   "metadata": {
    "colab": {
     "base_uri": "https://localhost:8080/"
    },
    "executionInfo": {
     "elapsed": 4,
     "status": "ok",
     "timestamp": 1634644795403,
     "user": {
      "displayName": "Agustin Acerbo",
      "photoUrl": "https://lh3.googleusercontent.com/a-/AOh14GiFUHlal2m-HqrdHQGftXlBFKZBOGaIXX61S4e_MQ=s64",
      "userId": "11845685418075358694"
     },
     "user_tz": 180
    },
    "id": "qtwITjgnwlgp",
    "outputId": "e14bb3b4-36ab-485b-ef8c-fb06a142f78a"
   },
   "outputs": [
    {
     "data": {
      "text/plain": [
       "1896"
      ]
     },
     "execution_count": 35,
     "metadata": {},
     "output_type": "execute_result"
    }
   ],
   "source": [
    "# Largo del vector de salida --> vocab_size\n",
    "output_size = vocab_size\n",
    "output_size"
   ]
  },
  {
   "cell_type": "code",
   "execution_count": 42,
   "metadata": {
    "colab": {
     "base_uri": "https://localhost:8080/"
    },
    "executionInfo": {
     "elapsed": 3060,
     "status": "ok",
     "timestamp": 1634647979820,
     "user": {
      "displayName": "Agustin Acerbo",
      "photoUrl": "https://lh3.googleusercontent.com/a-/AOh14GiFUHlal2m-HqrdHQGftXlBFKZBOGaIXX61S4e_MQ=s64",
      "userId": "11845685418075358694"
     },
     "user_tz": 180
    },
    "id": "jzTZRXrrwrvi",
    "outputId": "3d36f6e1-46ac-4663-e52d-ef928449173f"
   },
   "outputs": [
    {
     "name": "stdout",
     "output_type": "stream",
     "text": [
      "Model: \"sequential_4\"\n",
      "_________________________________________________________________\n",
      "Layer (type)                 Output Shape              Param #   \n",
      "=================================================================\n",
      "embedding_4 (Embedding)      (None, 3, 5)              9485      \n",
      "_________________________________________________________________\n",
      "lstm_26 (LSTM)               (None, 3, 64)             17920     \n",
      "_________________________________________________________________\n",
      "dropout_10 (Dropout)         (None, 3, 64)             0         \n",
      "_________________________________________________________________\n",
      "lstm_27 (LSTM)               (None, 3, 64)             33024     \n",
      "_________________________________________________________________\n",
      "lstm_28 (LSTM)               (None, 3, 64)             33024     \n",
      "_________________________________________________________________\n",
      "lstm_29 (LSTM)               (None, 3, 64)             33024     \n",
      "_________________________________________________________________\n",
      "dense_19 (Dense)             (None, 3, 128)            8320      \n",
      "_________________________________________________________________\n",
      "lstm_30 (LSTM)               (None, 3, 128)            131584    \n",
      "_________________________________________________________________\n",
      "lstm_31 (LSTM)               (None, 3, 128)            131584    \n",
      "_________________________________________________________________\n",
      "lstm_32 (LSTM)               (None, 3, 128)            131584    \n",
      "_________________________________________________________________\n",
      "dense_20 (Dense)             (None, 3, 64)             8256      \n",
      "_________________________________________________________________\n",
      "lstm_33 (LSTM)               (None, 64)                33024     \n",
      "_________________________________________________________________\n",
      "dense_21 (Dense)             (None, 64)                4160      \n",
      "_________________________________________________________________\n",
      "dense_22 (Dense)             (None, 32)                2080      \n",
      "_________________________________________________________________\n",
      "dense_23 (Dense)             (None, 1896)              62568     \n",
      "=================================================================\n",
      "Total params: 639,637\n",
      "Trainable params: 639,637\n",
      "Non-trainable params: 0\n",
      "_________________________________________________________________\n"
     ]
    }
   ],
   "source": [
    "model = Sequential()\n",
    "\n",
    "# Embedding:\n",
    "# input_seq_len = 3 --> ingreso 3 palabras\n",
    "# input_dim = vocab_size --> 1628 palabras distintas\n",
    "# output_dim = 5 --> crear embeddings de tamaño 3 (tamaño variable y ajustable)\n",
    "model.add(Embedding(input_dim=vocab_size+1, output_dim=5, input_length=input_seq_len))\n",
    "\n",
    "model.add(LSTM(64, return_sequences=True))\n",
    "model.add(Dropout(0.2))\n",
    "model.add(LSTM(64, return_sequences=True))\n",
    "model.add(LSTM(64, return_sequences=True))\n",
    "model.add(LSTM(64, return_sequences=True))\n",
    "model.add(Dense(128, activation='relu'))\n",
    "model.add(LSTM(128, return_sequences=True))\n",
    "model.add(LSTM(128, return_sequences=True))\n",
    "model.add(LSTM(128, return_sequences=True))\n",
    "model.add(Dense(64, activation='relu'))\n",
    "model.add(LSTM(64)) # La última capa LSTM no lleva return_sequences\n",
    "model.add(Dense(64, activation='relu'))\n",
    "model.add(Dense(32, activation='relu'))\n",
    "\n",
    "# Predicción de clasificación con softmax\n",
    "# La salida vuelve al espacio de 1628 palabras posibles\n",
    "model.add(Dense(vocab_size, activation='softmax'))\n",
    "\n",
    "# Clasificación multiple categórica --> loss = categorical_crossentropy\n",
    "model.compile(loss='categorical_crossentropy', optimizer='adam', metrics=['accuracy'])\n",
    "\n",
    "model.summary()"
   ]
  },
  {
   "cell_type": "code",
   "execution_count": 43,
   "metadata": {
    "colab": {
     "base_uri": "https://localhost:8080/"
    },
    "executionInfo": {
     "elapsed": 5134782,
     "status": "ok",
     "timestamp": 1634653136077,
     "user": {
      "displayName": "Agustin Acerbo",
      "photoUrl": "https://lh3.googleusercontent.com/a-/AOh14GiFUHlal2m-HqrdHQGftXlBFKZBOGaIXX61S4e_MQ=s64",
      "userId": "11845685418075358694"
     },
     "user_tz": 180
    },
    "id": "oQq1PHDkxDvN",
    "outputId": "b6c85410-4e98-430e-cc2d-3be4787250ca"
   },
   "outputs": [
    {
     "name": "stdout",
     "output_type": "stream",
     "text": [
      "Epoch 1/250\n",
      "673/673 [==============================] - 36s 35ms/step - loss: 6.1175 - accuracy: 0.0399 - val_loss: 6.3164 - val_accuracy: 0.0444\n",
      "Epoch 2/250\n",
      "673/673 [==============================] - 20s 30ms/step - loss: 5.8709 - accuracy: 0.0422 - val_loss: 6.3312 - val_accuracy: 0.0489\n",
      "Epoch 3/250\n",
      "673/673 [==============================] - 20s 30ms/step - loss: 5.7592 - accuracy: 0.0434 - val_loss: 6.2730 - val_accuracy: 0.0528\n",
      "Epoch 4/250\n",
      "673/673 [==============================] - 20s 30ms/step - loss: 5.6634 - accuracy: 0.0450 - val_loss: 6.2092 - val_accuracy: 0.0563\n",
      "Epoch 5/250\n",
      "673/673 [==============================] - 20s 30ms/step - loss: 5.5782 - accuracy: 0.0476 - val_loss: 6.2261 - val_accuracy: 0.0480\n",
      "Epoch 6/250\n",
      "673/673 [==============================] - 20s 30ms/step - loss: 5.4928 - accuracy: 0.0508 - val_loss: 6.2784 - val_accuracy: 0.0526\n",
      "Epoch 7/250\n",
      "673/673 [==============================] - 20s 30ms/step - loss: 5.4056 - accuracy: 0.0525 - val_loss: 6.2489 - val_accuracy: 0.0569\n",
      "Epoch 8/250\n",
      "673/673 [==============================] - 20s 30ms/step - loss: 5.3241 - accuracy: 0.0549 - val_loss: 6.2967 - val_accuracy: 0.0446\n",
      "Epoch 9/250\n",
      "673/673 [==============================] - 20s 30ms/step - loss: 5.2420 - accuracy: 0.0572 - val_loss: 6.3380 - val_accuracy: 0.0532\n",
      "Epoch 10/250\n",
      "673/673 [==============================] - 20s 30ms/step - loss: 5.1672 - accuracy: 0.0588 - val_loss: 6.3949 - val_accuracy: 0.0506\n",
      "Epoch 11/250\n",
      "673/673 [==============================] - 20s 30ms/step - loss: 5.0856 - accuracy: 0.0645 - val_loss: 6.4962 - val_accuracy: 0.0600\n",
      "Epoch 12/250\n",
      "673/673 [==============================] - 20s 30ms/step - loss: 5.0033 - accuracy: 0.0700 - val_loss: 6.5469 - val_accuracy: 0.0522\n",
      "Epoch 13/250\n",
      "673/673 [==============================] - 20s 30ms/step - loss: 4.9181 - accuracy: 0.0780 - val_loss: 6.4745 - val_accuracy: 0.0630\n",
      "Epoch 14/250\n",
      "673/673 [==============================] - 20s 30ms/step - loss: 4.8375 - accuracy: 0.0813 - val_loss: 6.7203 - val_accuracy: 0.0545\n",
      "Epoch 15/250\n",
      "673/673 [==============================] - 20s 30ms/step - loss: 4.7638 - accuracy: 0.0867 - val_loss: 6.7126 - val_accuracy: 0.0630\n",
      "Epoch 16/250\n",
      "673/673 [==============================] - 20s 30ms/step - loss: 4.6888 - accuracy: 0.0920 - val_loss: 6.7840 - val_accuracy: 0.0686\n",
      "Epoch 17/250\n",
      "673/673 [==============================] - 20s 30ms/step - loss: 4.6222 - accuracy: 0.0952 - val_loss: 6.8075 - val_accuracy: 0.0695\n",
      "Epoch 18/250\n",
      "673/673 [==============================] - 20s 30ms/step - loss: 4.5554 - accuracy: 0.1000 - val_loss: 6.9665 - val_accuracy: 0.0818\n",
      "Epoch 19/250\n",
      "673/673 [==============================] - 20s 30ms/step - loss: 4.4878 - accuracy: 0.1048 - val_loss: 7.0574 - val_accuracy: 0.0747\n",
      "Epoch 20/250\n",
      "673/673 [==============================] - 20s 30ms/step - loss: 4.4339 - accuracy: 0.1099 - val_loss: 7.1721 - val_accuracy: 0.0721\n",
      "Epoch 21/250\n",
      "673/673 [==============================] - 20s 30ms/step - loss: 4.3834 - accuracy: 0.1124 - val_loss: 7.3172 - val_accuracy: 0.0654\n",
      "Epoch 22/250\n",
      "673/673 [==============================] - 20s 30ms/step - loss: 4.3217 - accuracy: 0.1183 - val_loss: 7.3817 - val_accuracy: 0.0864\n",
      "Epoch 23/250\n",
      "673/673 [==============================] - 20s 30ms/step - loss: 4.2808 - accuracy: 0.1254 - val_loss: 7.5690 - val_accuracy: 0.0809\n",
      "Epoch 24/250\n",
      "673/673 [==============================] - 20s 30ms/step - loss: 4.2313 - accuracy: 0.1299 - val_loss: 7.5565 - val_accuracy: 0.0870\n",
      "Epoch 25/250\n",
      "673/673 [==============================] - 20s 30ms/step - loss: 4.1860 - accuracy: 0.1359 - val_loss: 7.6364 - val_accuracy: 0.0857\n",
      "Epoch 26/250\n",
      "673/673 [==============================] - 20s 30ms/step - loss: 4.1466 - accuracy: 0.1384 - val_loss: 7.8307 - val_accuracy: 0.0857\n",
      "Epoch 27/250\n",
      "673/673 [==============================] - 20s 30ms/step - loss: 4.1087 - accuracy: 0.1423 - val_loss: 7.8977 - val_accuracy: 0.0968\n",
      "Epoch 28/250\n",
      "673/673 [==============================] - 20s 30ms/step - loss: 4.0736 - accuracy: 0.1461 - val_loss: 8.0866 - val_accuracy: 0.0965\n",
      "Epoch 29/250\n",
      "673/673 [==============================] - 20s 30ms/step - loss: 4.0489 - accuracy: 0.1487 - val_loss: 8.2078 - val_accuracy: 0.0861\n",
      "Epoch 30/250\n",
      "673/673 [==============================] - 20s 30ms/step - loss: 4.0047 - accuracy: 0.1552 - val_loss: 8.2488 - val_accuracy: 0.0898\n",
      "Epoch 31/250\n",
      "673/673 [==============================] - 20s 30ms/step - loss: 3.9921 - accuracy: 0.1558 - val_loss: 8.4379 - val_accuracy: 0.1061\n",
      "Epoch 32/250\n",
      "673/673 [==============================] - 20s 30ms/step - loss: 3.9576 - accuracy: 0.1601 - val_loss: 8.5757 - val_accuracy: 0.1009\n",
      "Epoch 33/250\n",
      "673/673 [==============================] - 20s 30ms/step - loss: 3.9320 - accuracy: 0.1647 - val_loss: 8.7412 - val_accuracy: 0.0939\n",
      "Epoch 34/250\n",
      "673/673 [==============================] - 20s 30ms/step - loss: 3.9113 - accuracy: 0.1641 - val_loss: 8.7891 - val_accuracy: 0.0978\n",
      "Epoch 35/250\n",
      "673/673 [==============================] - 20s 30ms/step - loss: 3.8892 - accuracy: 0.1650 - val_loss: 8.8512 - val_accuracy: 0.1011\n",
      "Epoch 36/250\n",
      "673/673 [==============================] - 20s 30ms/step - loss: 3.8571 - accuracy: 0.1726 - val_loss: 9.0597 - val_accuracy: 0.1022\n",
      "Epoch 37/250\n",
      "673/673 [==============================] - 20s 30ms/step - loss: 3.8304 - accuracy: 0.1773 - val_loss: 8.9333 - val_accuracy: 0.1048\n",
      "Epoch 38/250\n",
      "673/673 [==============================] - 20s 30ms/step - loss: 3.8200 - accuracy: 0.1742 - val_loss: 8.9976 - val_accuracy: 0.1084\n",
      "Epoch 39/250\n",
      "673/673 [==============================] - 20s 30ms/step - loss: 3.7993 - accuracy: 0.1798 - val_loss: 9.2580 - val_accuracy: 0.1067\n",
      "Epoch 40/250\n",
      "673/673 [==============================] - 20s 30ms/step - loss: 3.7697 - accuracy: 0.1801 - val_loss: 9.4232 - val_accuracy: 0.1138\n",
      "Epoch 41/250\n",
      "673/673 [==============================] - 20s 30ms/step - loss: 3.7529 - accuracy: 0.1860 - val_loss: 9.4952 - val_accuracy: 0.1106\n",
      "Epoch 42/250\n",
      "673/673 [==============================] - 20s 30ms/step - loss: 3.7347 - accuracy: 0.1872 - val_loss: 9.4705 - val_accuracy: 0.1113\n",
      "Epoch 43/250\n",
      "673/673 [==============================] - 20s 30ms/step - loss: 3.7132 - accuracy: 0.1917 - val_loss: 9.6772 - val_accuracy: 0.1143\n",
      "Epoch 44/250\n",
      "673/673 [==============================] - 20s 30ms/step - loss: 3.6868 - accuracy: 0.1954 - val_loss: 9.9309 - val_accuracy: 0.1095\n",
      "Epoch 45/250\n",
      "673/673 [==============================] - 20s 30ms/step - loss: 3.6662 - accuracy: 0.1970 - val_loss: 10.0071 - val_accuracy: 0.1204\n",
      "Epoch 46/250\n",
      "673/673 [==============================] - 20s 30ms/step - loss: 3.6520 - accuracy: 0.1976 - val_loss: 10.0115 - val_accuracy: 0.1169\n",
      "Epoch 47/250\n",
      "673/673 [==============================] - 20s 30ms/step - loss: 3.6499 - accuracy: 0.2009 - val_loss: 10.0108 - val_accuracy: 0.1379\n",
      "Epoch 48/250\n",
      "673/673 [==============================] - 20s 30ms/step - loss: 3.6258 - accuracy: 0.2043 - val_loss: 10.0130 - val_accuracy: 0.1277\n",
      "Epoch 49/250\n",
      "673/673 [==============================] - 20s 30ms/step - loss: 3.6180 - accuracy: 0.2040 - val_loss: 10.1779 - val_accuracy: 0.1284\n",
      "Epoch 50/250\n",
      "673/673 [==============================] - 20s 30ms/step - loss: 3.5909 - accuracy: 0.2090 - val_loss: 10.1027 - val_accuracy: 0.1238\n",
      "Epoch 51/250\n",
      "673/673 [==============================] - 20s 30ms/step - loss: 3.5902 - accuracy: 0.2072 - val_loss: 10.2919 - val_accuracy: 0.1193\n",
      "Epoch 52/250\n",
      "673/673 [==============================] - 20s 30ms/step - loss: 3.5777 - accuracy: 0.2127 - val_loss: 10.3810 - val_accuracy: 0.1361\n",
      "Epoch 53/250\n",
      "673/673 [==============================] - 20s 30ms/step - loss: 3.5600 - accuracy: 0.2112 - val_loss: 10.3739 - val_accuracy: 0.1208\n",
      "Epoch 54/250\n",
      "673/673 [==============================] - 20s 30ms/step - loss: 3.5597 - accuracy: 0.2148 - val_loss: 10.3299 - val_accuracy: 0.1349\n",
      "Epoch 55/250\n",
      "673/673 [==============================] - 20s 30ms/step - loss: 3.5367 - accuracy: 0.2202 - val_loss: 10.5483 - val_accuracy: 0.1388\n",
      "Epoch 56/250\n",
      "673/673 [==============================] - 20s 30ms/step - loss: 3.5205 - accuracy: 0.2173 - val_loss: 10.7260 - val_accuracy: 0.1318\n",
      "Epoch 57/250\n",
      "673/673 [==============================] - 20s 30ms/step - loss: 3.5153 - accuracy: 0.2213 - val_loss: 10.7537 - val_accuracy: 0.1349\n",
      "Epoch 58/250\n",
      "673/673 [==============================] - 20s 30ms/step - loss: 3.4860 - accuracy: 0.2236 - val_loss: 10.7502 - val_accuracy: 0.1411\n",
      "Epoch 59/250\n",
      "673/673 [==============================] - 20s 30ms/step - loss: 3.5470 - accuracy: 0.2153 - val_loss: 10.6048 - val_accuracy: 0.1314\n",
      "Epoch 60/250\n",
      "673/673 [==============================] - 20s 30ms/step - loss: 3.4885 - accuracy: 0.2230 - val_loss: 10.8543 - val_accuracy: 0.1340\n",
      "Epoch 61/250\n",
      "673/673 [==============================] - 20s 30ms/step - loss: 3.4659 - accuracy: 0.2248 - val_loss: 11.0438 - val_accuracy: 0.1359\n",
      "Epoch 62/250\n",
      "673/673 [==============================] - 20s 30ms/step - loss: 3.4643 - accuracy: 0.2292 - val_loss: 10.9597 - val_accuracy: 0.1418\n",
      "Epoch 63/250\n",
      "673/673 [==============================] - 20s 30ms/step - loss: 3.4447 - accuracy: 0.2294 - val_loss: 11.1614 - val_accuracy: 0.1554\n",
      "Epoch 64/250\n",
      "673/673 [==============================] - 20s 30ms/step - loss: 3.4507 - accuracy: 0.2281 - val_loss: 11.3363 - val_accuracy: 0.1381\n",
      "Epoch 65/250\n",
      "673/673 [==============================] - 20s 30ms/step - loss: 3.4147 - accuracy: 0.2362 - val_loss: 11.0977 - val_accuracy: 0.1355\n",
      "Epoch 66/250\n",
      "673/673 [==============================] - 20s 30ms/step - loss: 3.4033 - accuracy: 0.2396 - val_loss: 11.3259 - val_accuracy: 0.1374\n",
      "Epoch 67/250\n",
      "673/673 [==============================] - 20s 30ms/step - loss: 3.3914 - accuracy: 0.2383 - val_loss: 11.4402 - val_accuracy: 0.1428\n",
      "Epoch 68/250\n",
      "673/673 [==============================] - 20s 30ms/step - loss: 3.4014 - accuracy: 0.2373 - val_loss: 11.2922 - val_accuracy: 0.1409\n",
      "Epoch 69/250\n",
      "673/673 [==============================] - 20s 30ms/step - loss: 3.3800 - accuracy: 0.2408 - val_loss: 11.4784 - val_accuracy: 0.1446\n",
      "Epoch 70/250\n",
      "673/673 [==============================] - 20s 30ms/step - loss: 3.3779 - accuracy: 0.2363 - val_loss: 11.4336 - val_accuracy: 0.1392\n",
      "Epoch 71/250\n",
      "673/673 [==============================] - 20s 30ms/step - loss: 3.3493 - accuracy: 0.2454 - val_loss: 11.4809 - val_accuracy: 0.1454\n",
      "Epoch 72/250\n",
      "673/673 [==============================] - 21s 32ms/step - loss: 3.3615 - accuracy: 0.2439 - val_loss: 11.4874 - val_accuracy: 0.1493\n",
      "Epoch 73/250\n",
      "673/673 [==============================] - 20s 30ms/step - loss: 3.3549 - accuracy: 0.2409 - val_loss: 11.4174 - val_accuracy: 0.1487\n",
      "Epoch 74/250\n",
      "673/673 [==============================] - 20s 30ms/step - loss: 3.3232 - accuracy: 0.2498 - val_loss: 11.9103 - val_accuracy: 0.1281\n",
      "Epoch 75/250\n",
      "673/673 [==============================] - 20s 30ms/step - loss: 3.3198 - accuracy: 0.2479 - val_loss: 11.3896 - val_accuracy: 0.1416\n",
      "Epoch 76/250\n",
      "673/673 [==============================] - 20s 30ms/step - loss: 3.3026 - accuracy: 0.2501 - val_loss: 12.0332 - val_accuracy: 0.1444\n",
      "Epoch 77/250\n",
      "673/673 [==============================] - 20s 30ms/step - loss: 3.2954 - accuracy: 0.2546 - val_loss: 11.9771 - val_accuracy: 0.1507\n",
      "Epoch 78/250\n",
      "673/673 [==============================] - 20s 30ms/step - loss: 3.2825 - accuracy: 0.2519 - val_loss: 11.9525 - val_accuracy: 0.1485\n",
      "Epoch 79/250\n",
      "673/673 [==============================] - 20s 30ms/step - loss: 3.2902 - accuracy: 0.2526 - val_loss: 11.6754 - val_accuracy: 0.1502\n",
      "Epoch 80/250\n",
      "673/673 [==============================] - 20s 30ms/step - loss: 3.2761 - accuracy: 0.2545 - val_loss: 11.7009 - val_accuracy: 0.1589\n",
      "Epoch 81/250\n",
      "673/673 [==============================] - 20s 30ms/step - loss: 3.2667 - accuracy: 0.2566 - val_loss: 11.9101 - val_accuracy: 0.1541\n",
      "Epoch 82/250\n",
      "673/673 [==============================] - 20s 30ms/step - loss: 3.2480 - accuracy: 0.2588 - val_loss: 12.0296 - val_accuracy: 0.1559\n",
      "Epoch 83/250\n",
      "673/673 [==============================] - 20s 30ms/step - loss: 3.2658 - accuracy: 0.2547 - val_loss: 12.3500 - val_accuracy: 0.1563\n",
      "Epoch 84/250\n",
      "673/673 [==============================] - 20s 30ms/step - loss: 3.2360 - accuracy: 0.2591 - val_loss: 12.4180 - val_accuracy: 0.1582\n",
      "Epoch 85/250\n",
      "673/673 [==============================] - 20s 30ms/step - loss: 3.2338 - accuracy: 0.2626 - val_loss: 12.3492 - val_accuracy: 0.1623\n",
      "Epoch 86/250\n",
      "673/673 [==============================] - 20s 30ms/step - loss: 3.2137 - accuracy: 0.2640 - val_loss: 12.6370 - val_accuracy: 0.1619\n",
      "Epoch 87/250\n",
      "673/673 [==============================] - 20s 30ms/step - loss: 3.2270 - accuracy: 0.2605 - val_loss: 12.5217 - val_accuracy: 0.1563\n",
      "Epoch 88/250\n",
      "673/673 [==============================] - 20s 30ms/step - loss: 3.2147 - accuracy: 0.2631 - val_loss: 12.3562 - val_accuracy: 0.1665\n",
      "Epoch 89/250\n",
      "673/673 [==============================] - 20s 30ms/step - loss: 3.1982 - accuracy: 0.2664 - val_loss: 12.3629 - val_accuracy: 0.1625\n",
      "Epoch 90/250\n",
      "673/673 [==============================] - 20s 30ms/step - loss: 3.2045 - accuracy: 0.2639 - val_loss: 12.3059 - val_accuracy: 0.1612\n",
      "Epoch 91/250\n",
      "673/673 [==============================] - 20s 30ms/step - loss: 3.1743 - accuracy: 0.2691 - val_loss: 12.4382 - val_accuracy: 0.1543\n",
      "Epoch 92/250\n",
      "673/673 [==============================] - 20s 30ms/step - loss: 3.1817 - accuracy: 0.2702 - val_loss: 12.5397 - val_accuracy: 0.1742\n",
      "Epoch 93/250\n",
      "673/673 [==============================] - 20s 30ms/step - loss: 3.1664 - accuracy: 0.2706 - val_loss: 12.6741 - val_accuracy: 0.1565\n",
      "Epoch 94/250\n",
      "673/673 [==============================] - 20s 30ms/step - loss: 3.1768 - accuracy: 0.2698 - val_loss: 12.8845 - val_accuracy: 0.1561\n",
      "Epoch 95/250\n",
      "673/673 [==============================] - 20s 30ms/step - loss: 3.1355 - accuracy: 0.2762 - val_loss: 13.0041 - val_accuracy: 0.1574\n",
      "Epoch 96/250\n",
      "673/673 [==============================] - 20s 30ms/step - loss: 3.1653 - accuracy: 0.2680 - val_loss: 12.6705 - val_accuracy: 0.1546\n",
      "Epoch 97/250\n",
      "673/673 [==============================] - 20s 30ms/step - loss: 3.1508 - accuracy: 0.2753 - val_loss: 12.6035 - val_accuracy: 0.1572\n",
      "Epoch 98/250\n",
      "673/673 [==============================] - 21s 31ms/step - loss: 3.1426 - accuracy: 0.2746 - val_loss: 12.8085 - val_accuracy: 0.1567\n",
      "Epoch 99/250\n",
      "673/673 [==============================] - 20s 30ms/step - loss: 3.1413 - accuracy: 0.2751 - val_loss: 12.8108 - val_accuracy: 0.1723\n",
      "Epoch 100/250\n",
      "673/673 [==============================] - 20s 30ms/step - loss: 3.1053 - accuracy: 0.2813 - val_loss: 13.0032 - val_accuracy: 0.1649\n",
      "Epoch 101/250\n",
      "673/673 [==============================] - 20s 30ms/step - loss: 3.1154 - accuracy: 0.2787 - val_loss: 12.8814 - val_accuracy: 0.1548\n",
      "Epoch 102/250\n",
      "673/673 [==============================] - 21s 31ms/step - loss: 3.0921 - accuracy: 0.2831 - val_loss: 12.8322 - val_accuracy: 0.1625\n",
      "Epoch 103/250\n",
      "673/673 [==============================] - 20s 30ms/step - loss: 3.1084 - accuracy: 0.2781 - val_loss: 12.9737 - val_accuracy: 0.1704\n",
      "Epoch 104/250\n",
      "673/673 [==============================] - 20s 30ms/step - loss: 3.0922 - accuracy: 0.2813 - val_loss: 12.8338 - val_accuracy: 0.1788\n",
      "Epoch 105/250\n",
      "673/673 [==============================] - 20s 30ms/step - loss: 3.1128 - accuracy: 0.2796 - val_loss: 12.7663 - val_accuracy: 0.1695\n",
      "Epoch 106/250\n",
      "673/673 [==============================] - 21s 30ms/step - loss: 3.1033 - accuracy: 0.2846 - val_loss: 12.9045 - val_accuracy: 0.1822\n",
      "Epoch 107/250\n",
      "673/673 [==============================] - 20s 30ms/step - loss: 3.0747 - accuracy: 0.2819 - val_loss: 13.1257 - val_accuracy: 0.1736\n",
      "Epoch 108/250\n",
      "673/673 [==============================] - 20s 30ms/step - loss: 3.0566 - accuracy: 0.2935 - val_loss: 13.0304 - val_accuracy: 0.1807\n",
      "Epoch 109/250\n",
      "673/673 [==============================] - 21s 31ms/step - loss: 3.0505 - accuracy: 0.2899 - val_loss: 12.9123 - val_accuracy: 0.1483\n",
      "Epoch 110/250\n",
      "673/673 [==============================] - 21s 31ms/step - loss: 3.0729 - accuracy: 0.2833 - val_loss: 13.1986 - val_accuracy: 0.1636\n",
      "Epoch 111/250\n",
      "673/673 [==============================] - 20s 30ms/step - loss: 3.0691 - accuracy: 0.2854 - val_loss: 12.9625 - val_accuracy: 0.1699\n",
      "Epoch 112/250\n",
      "673/673 [==============================] - 20s 30ms/step - loss: 3.0595 - accuracy: 0.2885 - val_loss: 13.0591 - val_accuracy: 0.1743\n",
      "Epoch 113/250\n",
      "673/673 [==============================] - 20s 30ms/step - loss: 3.0378 - accuracy: 0.2901 - val_loss: 13.0318 - val_accuracy: 0.1753\n",
      "Epoch 114/250\n",
      "673/673 [==============================] - 20s 30ms/step - loss: 3.0302 - accuracy: 0.2936 - val_loss: 13.3476 - val_accuracy: 0.1758\n",
      "Epoch 115/250\n",
      "673/673 [==============================] - 20s 30ms/step - loss: 3.0285 - accuracy: 0.2921 - val_loss: 13.5629 - val_accuracy: 0.1669\n",
      "Epoch 116/250\n",
      "673/673 [==============================] - 20s 30ms/step - loss: 3.0163 - accuracy: 0.2988 - val_loss: 13.1587 - val_accuracy: 0.1777\n",
      "Epoch 117/250\n",
      "673/673 [==============================] - 21s 30ms/step - loss: 3.0195 - accuracy: 0.2968 - val_loss: 13.2512 - val_accuracy: 0.1764\n",
      "Epoch 118/250\n",
      "673/673 [==============================] - 20s 30ms/step - loss: 2.9904 - accuracy: 0.2997 - val_loss: 13.4752 - val_accuracy: 0.1699\n",
      "Epoch 119/250\n",
      "673/673 [==============================] - 20s 30ms/step - loss: 3.0262 - accuracy: 0.2960 - val_loss: 13.4361 - val_accuracy: 0.1833\n",
      "Epoch 120/250\n",
      "673/673 [==============================] - 20s 30ms/step - loss: 2.9859 - accuracy: 0.3019 - val_loss: 13.5166 - val_accuracy: 0.1827\n",
      "Epoch 121/250\n",
      "673/673 [==============================] - 20s 30ms/step - loss: 3.0119 - accuracy: 0.2972 - val_loss: 13.3838 - val_accuracy: 0.1814\n",
      "Epoch 122/250\n",
      "673/673 [==============================] - 20s 30ms/step - loss: 2.9941 - accuracy: 0.2971 - val_loss: 13.5308 - val_accuracy: 0.1493\n",
      "Epoch 123/250\n",
      "673/673 [==============================] - 20s 30ms/step - loss: 2.9597 - accuracy: 0.3104 - val_loss: 13.5338 - val_accuracy: 0.1766\n",
      "Epoch 124/250\n",
      "673/673 [==============================] - 21s 31ms/step - loss: 2.9761 - accuracy: 0.3060 - val_loss: 13.5173 - val_accuracy: 0.1803\n",
      "Epoch 125/250\n",
      "673/673 [==============================] - 21s 31ms/step - loss: 2.9566 - accuracy: 0.3085 - val_loss: 13.9784 - val_accuracy: 0.1732\n",
      "Epoch 126/250\n",
      "673/673 [==============================] - 20s 30ms/step - loss: 2.9646 - accuracy: 0.3038 - val_loss: 13.9062 - val_accuracy: 0.1745\n",
      "Epoch 127/250\n",
      "673/673 [==============================] - 20s 30ms/step - loss: 2.9644 - accuracy: 0.3071 - val_loss: 13.9303 - val_accuracy: 0.1710\n",
      "Epoch 128/250\n",
      "673/673 [==============================] - 20s 30ms/step - loss: 2.9504 - accuracy: 0.3082 - val_loss: 13.5188 - val_accuracy: 0.1816\n",
      "Epoch 129/250\n",
      "673/673 [==============================] - 20s 30ms/step - loss: 2.9310 - accuracy: 0.3098 - val_loss: 13.5396 - val_accuracy: 0.1911\n",
      "Epoch 130/250\n",
      "673/673 [==============================] - 20s 30ms/step - loss: 2.9401 - accuracy: 0.3106 - val_loss: 13.6379 - val_accuracy: 0.1900\n",
      "Epoch 131/250\n",
      "673/673 [==============================] - 20s 30ms/step - loss: 2.9303 - accuracy: 0.3128 - val_loss: 14.0496 - val_accuracy: 0.1922\n",
      "Epoch 132/250\n",
      "673/673 [==============================] - 20s 30ms/step - loss: 2.9304 - accuracy: 0.3105 - val_loss: 13.7602 - val_accuracy: 0.1842\n",
      "Epoch 133/250\n",
      "673/673 [==============================] - 20s 30ms/step - loss: 2.9255 - accuracy: 0.3115 - val_loss: 13.6307 - val_accuracy: 0.1686\n",
      "Epoch 134/250\n",
      "673/673 [==============================] - 21s 31ms/step - loss: 2.9387 - accuracy: 0.3096 - val_loss: 14.0560 - val_accuracy: 0.1827\n",
      "Epoch 135/250\n",
      "673/673 [==============================] - 20s 30ms/step - loss: 2.8858 - accuracy: 0.3199 - val_loss: 13.7869 - val_accuracy: 0.1875\n",
      "Epoch 136/250\n",
      "673/673 [==============================] - 20s 30ms/step - loss: 2.9041 - accuracy: 0.3187 - val_loss: 13.9558 - val_accuracy: 0.1898\n",
      "Epoch 137/250\n",
      "673/673 [==============================] - 20s 30ms/step - loss: 2.8970 - accuracy: 0.3161 - val_loss: 14.2901 - val_accuracy: 0.1621\n",
      "Epoch 138/250\n",
      "673/673 [==============================] - 21s 30ms/step - loss: 2.8987 - accuracy: 0.3170 - val_loss: 13.9204 - val_accuracy: 0.1868\n",
      "Epoch 139/250\n",
      "673/673 [==============================] - 20s 30ms/step - loss: 2.9052 - accuracy: 0.3145 - val_loss: 14.0343 - val_accuracy: 0.1848\n",
      "Epoch 140/250\n",
      "673/673 [==============================] - 20s 30ms/step - loss: 2.8800 - accuracy: 0.3238 - val_loss: 13.9788 - val_accuracy: 0.1887\n",
      "Epoch 141/250\n",
      "673/673 [==============================] - 20s 30ms/step - loss: 2.8553 - accuracy: 0.3253 - val_loss: 14.2641 - val_accuracy: 0.1840\n",
      "Epoch 142/250\n",
      "673/673 [==============================] - 20s 30ms/step - loss: 2.8957 - accuracy: 0.3209 - val_loss: 14.1476 - val_accuracy: 0.1853\n",
      "Epoch 143/250\n",
      "673/673 [==============================] - 21s 31ms/step - loss: 2.8781 - accuracy: 0.3239 - val_loss: 13.9761 - val_accuracy: 0.1918\n",
      "Epoch 144/250\n",
      "673/673 [==============================] - 21s 31ms/step - loss: 2.8629 - accuracy: 0.3230 - val_loss: 13.9934 - val_accuracy: 0.1872\n",
      "Epoch 145/250\n",
      "673/673 [==============================] - 20s 30ms/step - loss: 2.8661 - accuracy: 0.3258 - val_loss: 14.2131 - val_accuracy: 0.1935\n",
      "Epoch 146/250\n",
      "673/673 [==============================] - 21s 31ms/step - loss: 2.8747 - accuracy: 0.3252 - val_loss: 14.1184 - val_accuracy: 0.1888\n",
      "Epoch 147/250\n",
      "673/673 [==============================] - 20s 30ms/step - loss: 2.8483 - accuracy: 0.3241 - val_loss: 14.4083 - val_accuracy: 0.1835\n",
      "Epoch 148/250\n",
      "673/673 [==============================] - 20s 30ms/step - loss: 2.8377 - accuracy: 0.3246 - val_loss: 14.4905 - val_accuracy: 0.1916\n",
      "Epoch 149/250\n",
      "673/673 [==============================] - 20s 30ms/step - loss: 2.8595 - accuracy: 0.3245 - val_loss: 14.2182 - val_accuracy: 0.1911\n",
      "Epoch 150/250\n",
      "673/673 [==============================] - 20s 30ms/step - loss: 2.8534 - accuracy: 0.3286 - val_loss: 14.2013 - val_accuracy: 0.1877\n",
      "Epoch 151/250\n",
      "673/673 [==============================] - 21s 30ms/step - loss: 2.8255 - accuracy: 0.3308 - val_loss: 14.5291 - val_accuracy: 0.1875\n",
      "Epoch 152/250\n",
      "673/673 [==============================] - 21s 31ms/step - loss: 2.8378 - accuracy: 0.3271 - val_loss: 14.4389 - val_accuracy: 0.1981\n",
      "Epoch 153/250\n",
      "673/673 [==============================] - 21s 31ms/step - loss: 2.8277 - accuracy: 0.3335 - val_loss: 14.1592 - val_accuracy: 0.1784\n",
      "Epoch 154/250\n",
      "673/673 [==============================] - 21s 30ms/step - loss: 2.8143 - accuracy: 0.3338 - val_loss: 14.6996 - val_accuracy: 0.1855\n",
      "Epoch 155/250\n",
      "673/673 [==============================] - 21s 31ms/step - loss: 2.8296 - accuracy: 0.3320 - val_loss: 14.4595 - val_accuracy: 0.1894\n",
      "Epoch 156/250\n",
      "673/673 [==============================] - 20s 30ms/step - loss: 2.8159 - accuracy: 0.3327 - val_loss: 14.4071 - val_accuracy: 0.1879\n",
      "Epoch 157/250\n",
      "673/673 [==============================] - 21s 31ms/step - loss: 2.7931 - accuracy: 0.3364 - val_loss: 14.6660 - val_accuracy: 0.2011\n",
      "Epoch 158/250\n",
      "673/673 [==============================] - 21s 31ms/step - loss: 2.8066 - accuracy: 0.3381 - val_loss: 14.4650 - val_accuracy: 0.1890\n",
      "Epoch 159/250\n",
      "673/673 [==============================] - 21s 31ms/step - loss: 2.8033 - accuracy: 0.3365 - val_loss: 14.4285 - val_accuracy: 0.1903\n",
      "Epoch 160/250\n",
      "673/673 [==============================] - 21s 31ms/step - loss: 2.8097 - accuracy: 0.3364 - val_loss: 14.6916 - val_accuracy: 0.1946\n",
      "Epoch 161/250\n",
      "673/673 [==============================] - 21s 31ms/step - loss: 2.7863 - accuracy: 0.3380 - val_loss: 14.6319 - val_accuracy: 0.1909\n",
      "Epoch 162/250\n",
      "673/673 [==============================] - 20s 30ms/step - loss: 2.8444 - accuracy: 0.3299 - val_loss: 14.4197 - val_accuracy: 0.1805\n",
      "Epoch 163/250\n",
      "673/673 [==============================] - 21s 31ms/step - loss: 2.8323 - accuracy: 0.3307 - val_loss: 14.4698 - val_accuracy: 0.1931\n",
      "Epoch 164/250\n",
      "673/673 [==============================] - 21s 31ms/step - loss: 2.7670 - accuracy: 0.3401 - val_loss: 14.8428 - val_accuracy: 0.1844\n",
      "Epoch 165/250\n",
      "673/673 [==============================] - 21s 30ms/step - loss: 2.7586 - accuracy: 0.3456 - val_loss: 14.7766 - val_accuracy: 0.1877\n",
      "Epoch 166/250\n",
      "673/673 [==============================] - 21s 31ms/step - loss: 2.7685 - accuracy: 0.3399 - val_loss: 14.7908 - val_accuracy: 0.1957\n",
      "Epoch 167/250\n",
      "673/673 [==============================] - 21s 31ms/step - loss: 2.7725 - accuracy: 0.3413 - val_loss: 14.8813 - val_accuracy: 0.1928\n",
      "Epoch 168/250\n",
      "673/673 [==============================] - 21s 31ms/step - loss: 2.7576 - accuracy: 0.3450 - val_loss: 14.6223 - val_accuracy: 0.1985\n",
      "Epoch 169/250\n",
      "673/673 [==============================] - 20s 30ms/step - loss: 2.7722 - accuracy: 0.3410 - val_loss: 14.6325 - val_accuracy: 0.1935\n",
      "Epoch 170/250\n",
      "673/673 [==============================] - 21s 31ms/step - loss: 2.7481 - accuracy: 0.3496 - val_loss: 14.8259 - val_accuracy: 0.1861\n",
      "Epoch 171/250\n",
      "673/673 [==============================] - 21s 31ms/step - loss: 2.7550 - accuracy: 0.3433 - val_loss: 14.9861 - val_accuracy: 0.1968\n",
      "Epoch 172/250\n",
      "673/673 [==============================] - 21s 31ms/step - loss: 2.7594 - accuracy: 0.3471 - val_loss: 14.8736 - val_accuracy: 0.2017\n",
      "Epoch 173/250\n",
      "673/673 [==============================] - 21s 31ms/step - loss: 2.7347 - accuracy: 0.3524 - val_loss: 14.6450 - val_accuracy: 0.1957\n",
      "Epoch 174/250\n",
      "673/673 [==============================] - 20s 30ms/step - loss: 2.7313 - accuracy: 0.3515 - val_loss: 15.2433 - val_accuracy: 0.1987\n",
      "Epoch 175/250\n",
      "673/673 [==============================] - 21s 31ms/step - loss: 2.7352 - accuracy: 0.3511 - val_loss: 15.3000 - val_accuracy: 0.1903\n",
      "Epoch 176/250\n",
      "673/673 [==============================] - 21s 31ms/step - loss: 2.7301 - accuracy: 0.3504 - val_loss: 15.3760 - val_accuracy: 0.2022\n",
      "Epoch 177/250\n",
      "673/673 [==============================] - 21s 31ms/step - loss: 2.7156 - accuracy: 0.3550 - val_loss: 15.0572 - val_accuracy: 0.2007\n",
      "Epoch 178/250\n",
      "673/673 [==============================] - 21s 31ms/step - loss: 2.7119 - accuracy: 0.3542 - val_loss: 15.0763 - val_accuracy: 0.1985\n",
      "Epoch 179/250\n",
      "673/673 [==============================] - 21s 31ms/step - loss: 2.7249 - accuracy: 0.3536 - val_loss: 15.3539 - val_accuracy: 0.1896\n",
      "Epoch 180/250\n",
      "673/673 [==============================] - 21s 31ms/step - loss: 2.7210 - accuracy: 0.3513 - val_loss: 15.2751 - val_accuracy: 0.1967\n",
      "Epoch 181/250\n",
      "673/673 [==============================] - 21s 30ms/step - loss: 2.7128 - accuracy: 0.3544 - val_loss: 15.1348 - val_accuracy: 0.1998\n",
      "Epoch 182/250\n",
      "673/673 [==============================] - 21s 31ms/step - loss: 2.7199 - accuracy: 0.3513 - val_loss: 15.3888 - val_accuracy: 0.1848\n",
      "Epoch 183/250\n",
      "673/673 [==============================] - 21s 31ms/step - loss: 2.7092 - accuracy: 0.3563 - val_loss: 15.4476 - val_accuracy: 0.1954\n",
      "Epoch 184/250\n",
      "673/673 [==============================] - 21s 31ms/step - loss: 2.6998 - accuracy: 0.3582 - val_loss: 15.5163 - val_accuracy: 0.2019\n",
      "Epoch 185/250\n",
      "673/673 [==============================] - 21s 31ms/step - loss: 2.6934 - accuracy: 0.3557 - val_loss: 15.3411 - val_accuracy: 0.2002\n",
      "Epoch 186/250\n",
      "673/673 [==============================] - 21s 31ms/step - loss: 2.6912 - accuracy: 0.3565 - val_loss: 15.1784 - val_accuracy: 0.1929\n",
      "Epoch 187/250\n",
      "673/673 [==============================] - 21s 31ms/step - loss: 2.6910 - accuracy: 0.3599 - val_loss: 15.7264 - val_accuracy: 0.1959\n",
      "Epoch 188/250\n",
      "673/673 [==============================] - 21s 31ms/step - loss: 2.6728 - accuracy: 0.3601 - val_loss: 15.0681 - val_accuracy: 0.1961\n",
      "Epoch 189/250\n",
      "673/673 [==============================] - 21s 31ms/step - loss: 2.6738 - accuracy: 0.3655 - val_loss: 15.5932 - val_accuracy: 0.1914\n",
      "Epoch 190/250\n",
      "673/673 [==============================] - 21s 31ms/step - loss: 2.6688 - accuracy: 0.3610 - val_loss: 15.5662 - val_accuracy: 0.2017\n",
      "Epoch 191/250\n",
      "673/673 [==============================] - 21s 31ms/step - loss: 2.6798 - accuracy: 0.3605 - val_loss: 15.7093 - val_accuracy: 0.1968\n",
      "Epoch 192/250\n",
      "673/673 [==============================] - 21s 31ms/step - loss: 2.6820 - accuracy: 0.3598 - val_loss: 15.3820 - val_accuracy: 0.2028\n",
      "Epoch 193/250\n",
      "673/673 [==============================] - 21s 31ms/step - loss: 2.6632 - accuracy: 0.3645 - val_loss: 15.6564 - val_accuracy: 0.2067\n",
      "Epoch 194/250\n",
      "673/673 [==============================] - 21s 31ms/step - loss: 2.6644 - accuracy: 0.3636 - val_loss: 15.5134 - val_accuracy: 0.1981\n",
      "Epoch 195/250\n",
      "673/673 [==============================] - 21s 31ms/step - loss: 2.6418 - accuracy: 0.3709 - val_loss: 15.4681 - val_accuracy: 0.1981\n",
      "Epoch 196/250\n",
      "673/673 [==============================] - 21s 31ms/step - loss: 2.6959 - accuracy: 0.3590 - val_loss: 15.6223 - val_accuracy: 0.2043\n",
      "Epoch 197/250\n",
      "673/673 [==============================] - 21s 31ms/step - loss: 2.6665 - accuracy: 0.3641 - val_loss: 15.5995 - val_accuracy: 0.2004\n",
      "Epoch 198/250\n",
      "673/673 [==============================] - 21s 31ms/step - loss: 2.6273 - accuracy: 0.3701 - val_loss: 15.5910 - val_accuracy: 0.2063\n",
      "Epoch 199/250\n",
      "673/673 [==============================] - 21s 31ms/step - loss: 2.6486 - accuracy: 0.3660 - val_loss: 15.5599 - val_accuracy: 0.2000\n",
      "Epoch 200/250\n",
      "673/673 [==============================] - 21s 31ms/step - loss: 2.6574 - accuracy: 0.3630 - val_loss: 15.9220 - val_accuracy: 0.2030\n",
      "Epoch 201/250\n",
      "673/673 [==============================] - 21s 31ms/step - loss: 2.6432 - accuracy: 0.3684 - val_loss: 15.5168 - val_accuracy: 0.2113\n",
      "Epoch 202/250\n",
      "673/673 [==============================] - 21s 31ms/step - loss: 2.6425 - accuracy: 0.3691 - val_loss: 15.7342 - val_accuracy: 0.1983\n",
      "Epoch 203/250\n",
      "673/673 [==============================] - 21s 31ms/step - loss: 2.6496 - accuracy: 0.3664 - val_loss: 15.5793 - val_accuracy: 0.2136\n",
      "Epoch 204/250\n",
      "673/673 [==============================] - 21s 31ms/step - loss: 2.6378 - accuracy: 0.3677 - val_loss: 16.0038 - val_accuracy: 0.2110\n",
      "Epoch 205/250\n",
      "673/673 [==============================] - 21s 31ms/step - loss: 2.6174 - accuracy: 0.3720 - val_loss: 16.0078 - val_accuracy: 0.2041\n",
      "Epoch 206/250\n",
      "673/673 [==============================] - 21s 31ms/step - loss: 2.6241 - accuracy: 0.3705 - val_loss: 15.9910 - val_accuracy: 0.2050\n",
      "Epoch 207/250\n",
      "673/673 [==============================] - 21s 31ms/step - loss: 2.6135 - accuracy: 0.3727 - val_loss: 16.4319 - val_accuracy: 0.1928\n",
      "Epoch 208/250\n",
      "673/673 [==============================] - 21s 31ms/step - loss: 2.6472 - accuracy: 0.3665 - val_loss: 15.8048 - val_accuracy: 0.1970\n",
      "Epoch 209/250\n",
      "673/673 [==============================] - 21s 31ms/step - loss: 2.5910 - accuracy: 0.3767 - val_loss: 16.3023 - val_accuracy: 0.1842\n",
      "Epoch 210/250\n",
      "673/673 [==============================] - 21s 31ms/step - loss: 2.6341 - accuracy: 0.3679 - val_loss: 15.6679 - val_accuracy: 0.2017\n",
      "Epoch 211/250\n",
      "673/673 [==============================] - 21s 31ms/step - loss: 2.6172 - accuracy: 0.3720 - val_loss: 16.0432 - val_accuracy: 0.2123\n",
      "Epoch 212/250\n",
      "673/673 [==============================] - 21s 31ms/step - loss: 2.5973 - accuracy: 0.3758 - val_loss: 15.9945 - val_accuracy: 0.2104\n",
      "Epoch 213/250\n",
      "673/673 [==============================] - 21s 31ms/step - loss: 2.5892 - accuracy: 0.3780 - val_loss: 16.1801 - val_accuracy: 0.2076\n",
      "Epoch 214/250\n",
      "673/673 [==============================] - 21s 31ms/step - loss: 2.5829 - accuracy: 0.3814 - val_loss: 15.9671 - val_accuracy: 0.2113\n",
      "Epoch 215/250\n",
      "673/673 [==============================] - 21s 31ms/step - loss: 2.5778 - accuracy: 0.3773 - val_loss: 15.9052 - val_accuracy: 0.2093\n",
      "Epoch 216/250\n",
      "673/673 [==============================] - 21s 31ms/step - loss: 2.6024 - accuracy: 0.3761 - val_loss: 16.0639 - val_accuracy: 0.2091\n",
      "Epoch 217/250\n",
      "673/673 [==============================] - 21s 31ms/step - loss: 2.5771 - accuracy: 0.3798 - val_loss: 15.9743 - val_accuracy: 0.2058\n",
      "Epoch 218/250\n",
      "673/673 [==============================] - 21s 31ms/step - loss: 2.5771 - accuracy: 0.3777 - val_loss: 15.8040 - val_accuracy: 0.1987\n",
      "Epoch 219/250\n",
      "673/673 [==============================] - 21s 31ms/step - loss: 2.5966 - accuracy: 0.3773 - val_loss: 15.8376 - val_accuracy: 0.2072\n",
      "Epoch 220/250\n",
      "673/673 [==============================] - 21s 31ms/step - loss: 2.5736 - accuracy: 0.3846 - val_loss: 15.9523 - val_accuracy: 0.2043\n",
      "Epoch 221/250\n",
      "673/673 [==============================] - 21s 31ms/step - loss: 2.6020 - accuracy: 0.3776 - val_loss: 16.4729 - val_accuracy: 0.1954\n",
      "Epoch 222/250\n",
      "673/673 [==============================] - 21s 31ms/step - loss: 2.5645 - accuracy: 0.3821 - val_loss: 16.1970 - val_accuracy: 0.2019\n",
      "Epoch 223/250\n",
      "673/673 [==============================] - 21s 31ms/step - loss: 2.5831 - accuracy: 0.3798 - val_loss: 16.0359 - val_accuracy: 0.2007\n",
      "Epoch 224/250\n",
      "673/673 [==============================] - 21s 31ms/step - loss: 2.5769 - accuracy: 0.3786 - val_loss: 15.9524 - val_accuracy: 0.2022\n",
      "Epoch 225/250\n",
      "673/673 [==============================] - 21s 31ms/step - loss: 2.5596 - accuracy: 0.3868 - val_loss: 16.1540 - val_accuracy: 0.2095\n",
      "Epoch 226/250\n",
      "673/673 [==============================] - 21s 31ms/step - loss: 2.5515 - accuracy: 0.3874 - val_loss: 16.0229 - val_accuracy: 0.2013\n",
      "Epoch 227/250\n",
      "673/673 [==============================] - 21s 31ms/step - loss: 2.5522 - accuracy: 0.3848 - val_loss: 16.4664 - val_accuracy: 0.2045\n",
      "Epoch 228/250\n",
      "673/673 [==============================] - 21s 31ms/step - loss: 2.5445 - accuracy: 0.3879 - val_loss: 16.2289 - val_accuracy: 0.2087\n",
      "Epoch 229/250\n",
      "673/673 [==============================] - 21s 31ms/step - loss: 2.5393 - accuracy: 0.3905 - val_loss: 16.2134 - val_accuracy: 0.2095\n",
      "Epoch 230/250\n",
      "673/673 [==============================] - 21s 31ms/step - loss: 2.5416 - accuracy: 0.3892 - val_loss: 16.0033 - val_accuracy: 0.2134\n",
      "Epoch 231/250\n",
      "673/673 [==============================] - 21s 31ms/step - loss: 2.5306 - accuracy: 0.3899 - val_loss: 16.5008 - val_accuracy: 0.2152\n",
      "Epoch 232/250\n",
      "673/673 [==============================] - 20s 30ms/step - loss: 2.5444 - accuracy: 0.3896 - val_loss: 16.5230 - val_accuracy: 0.2006\n",
      "Epoch 233/250\n",
      "673/673 [==============================] - 20s 30ms/step - loss: 2.5284 - accuracy: 0.3909 - val_loss: 16.5507 - val_accuracy: 0.1994\n",
      "Epoch 234/250\n",
      "673/673 [==============================] - 21s 31ms/step - loss: 2.5189 - accuracy: 0.3947 - val_loss: 16.3121 - val_accuracy: 0.2056\n",
      "Epoch 235/250\n",
      "673/673 [==============================] - 21s 31ms/step - loss: 2.5247 - accuracy: 0.3896 - val_loss: 16.7208 - val_accuracy: 0.2056\n",
      "Epoch 236/250\n",
      "673/673 [==============================] - 21s 31ms/step - loss: 2.5064 - accuracy: 0.3954 - val_loss: 16.7688 - val_accuracy: 0.2074\n",
      "Epoch 237/250\n",
      "673/673 [==============================] - 21s 31ms/step - loss: 2.5117 - accuracy: 0.3933 - val_loss: 16.5526 - val_accuracy: 0.2154\n",
      "Epoch 238/250\n",
      "673/673 [==============================] - 21s 31ms/step - loss: 2.5298 - accuracy: 0.3907 - val_loss: 16.3616 - val_accuracy: 0.2067\n",
      "Epoch 239/250\n",
      "673/673 [==============================] - 21s 31ms/step - loss: 2.5401 - accuracy: 0.3905 - val_loss: 16.2334 - val_accuracy: 0.2138\n",
      "Epoch 240/250\n",
      "673/673 [==============================] - 21s 30ms/step - loss: 2.5009 - accuracy: 0.3964 - val_loss: 16.4101 - val_accuracy: 0.2033\n",
      "Epoch 241/250\n",
      "673/673 [==============================] - 21s 30ms/step - loss: 2.5057 - accuracy: 0.3929 - val_loss: 16.6513 - val_accuracy: 0.2046\n",
      "Epoch 242/250\n",
      "673/673 [==============================] - 21s 32ms/step - loss: 2.5178 - accuracy: 0.3929 - val_loss: 16.5258 - val_accuracy: 0.2045\n",
      "Epoch 243/250\n",
      "673/673 [==============================] - 21s 31ms/step - loss: 2.5166 - accuracy: 0.3958 - val_loss: 16.5988 - val_accuracy: 0.2171\n",
      "Epoch 244/250\n",
      "673/673 [==============================] - 21s 30ms/step - loss: 2.4991 - accuracy: 0.3958 - val_loss: 16.4825 - val_accuracy: 0.2041\n",
      "Epoch 245/250\n",
      "673/673 [==============================] - 21s 31ms/step - loss: 2.4993 - accuracy: 0.3950 - val_loss: 16.4701 - val_accuracy: 0.1998\n",
      "Epoch 246/250\n",
      "673/673 [==============================] - 21s 30ms/step - loss: 2.4992 - accuracy: 0.3961 - val_loss: 16.2895 - val_accuracy: 0.2028\n",
      "Epoch 247/250\n",
      "673/673 [==============================] - 21s 31ms/step - loss: 2.4854 - accuracy: 0.4001 - val_loss: 16.6429 - val_accuracy: 0.2149\n",
      "Epoch 248/250\n",
      "673/673 [==============================] - 21s 31ms/step - loss: 2.4713 - accuracy: 0.4032 - val_loss: 17.0509 - val_accuracy: 0.1937\n",
      "Epoch 249/250\n",
      "673/673 [==============================] - 21s 31ms/step - loss: 2.4905 - accuracy: 0.3996 - val_loss: 16.7928 - val_accuracy: 0.2052\n",
      "Epoch 250/250\n",
      "673/673 [==============================] - 21s 31ms/step - loss: 2.4743 - accuracy: 0.4031 - val_loss: 16.3642 - val_accuracy: 0.1944\n"
     ]
    }
   ],
   "source": [
    "hist = model.fit(x_data, y_data, epochs=250, validation_split=0.2)"
   ]
  },
  {
   "cell_type": "code",
   "execution_count": 44,
   "metadata": {
    "colab": {
     "base_uri": "https://localhost:8080/",
     "height": 265
    },
    "executionInfo": {
     "elapsed": 15,
     "status": "ok",
     "timestamp": 1634653136077,
     "user": {
      "displayName": "Agustin Acerbo",
      "photoUrl": "https://lh3.googleusercontent.com/a-/AOh14GiFUHlal2m-HqrdHQGftXlBFKZBOGaIXX61S4e_MQ=s64",
      "userId": "11845685418075358694"
     },
     "user_tz": 180
    },
    "id": "q_orBXOrCsNn",
    "outputId": "69365d0b-4a2c-4354-dc2a-5ef96fe55cd4"
   },
   "outputs": [
    {
     "data": {
      "image/png": "[encoded data removed]",
      "text/plain": [
       "<Figure size 432x288 with 1 Axes>"
      ]
     },
     "metadata": {
      "needs_background": "light"
     },
     "output_type": "display_data"
    }
   ],
   "source": [
    "import matplotlib.pyplot as plt\n",
    "import seaborn as sns\n",
    "\n",
    "# Entrenamiento\n",
    "epoch_count = range(1, len(hist.history['accuracy']) + 1)\n",
    "sns.lineplot(x=epoch_count,  y=hist.history['accuracy'], label='train')\n",
    "sns.lineplot(x=epoch_count,  y=hist.history['val_accuracy'], label='valid')\n",
    "plt.show()"
   ]
  },
  {
   "cell_type": "markdown",
   "metadata": {
    "id": "KN6Fg_BsxJe6"
   },
   "source": [
    "### 5 - Predicción de próxima palabra"
   ]
  },
  {
   "cell_type": "code",
   "execution_count": 45,
   "metadata": {
    "executionInfo": {
     "elapsed": 302,
     "status": "ok",
     "timestamp": 1634653289273,
     "user": {
      "displayName": "Agustin Acerbo",
      "photoUrl": "https://lh3.googleusercontent.com/a-/AOh14GiFUHlal2m-HqrdHQGftXlBFKZBOGaIXX61S4e_MQ=s64",
      "userId": "11845685418075358694"
     },
     "user_tz": 180
    },
    "id": "iy_AXWQWzeeE"
   },
   "outputs": [],
   "source": [
    "# Keras pad_sequences\n",
    "# https://www.tensorflow.org/api_docs/python/tf/keras/preprocessing/sequence/pad_sequences\n",
    "# Si la secuencia de entrada supera al input_seq_len (3) se trunca\n",
    "# Si la secuencia es más corta se agregna ceros al comienzo"
   ]
  },
  {
   "cell_type": "code",
   "execution_count": 46,
   "metadata": {
    "colab": {
     "base_uri": "https://localhost:8080/"
    },
    "executionInfo": {
     "elapsed": 11030,
     "status": "ok",
     "timestamp": 1634653301152,
     "user": {
      "displayName": "Agustin Acerbo",
      "photoUrl": "https://lh3.googleusercontent.com/a-/AOh14GiFUHlal2m-HqrdHQGftXlBFKZBOGaIXX61S4e_MQ=s64",
      "userId": "11845685418075358694"
     },
     "user_tz": 180
    },
    "id": "IBvKHFPmzpy2",
    "outputId": "64ef87a4-a2e9-4c26-8ba4-e0f2132db9ca"
   },
   "outputs": [
    {
     "name": "stdout",
     "output_type": "stream",
     "text": [
      "\u001b[K     |████████████████████████████████| 3.6 MB 5.2 MB/s \n",
      "\u001b[K     |████████████████████████████████| 1.9 MB 35.9 MB/s \n",
      "\u001b[K     |████████████████████████████████| 206 kB 46.1 MB/s \n",
      "\u001b[K     |████████████████████████████████| 3.5 MB 39.1 MB/s \n",
      "\u001b[K     |████████████████████████████████| 961 kB 42.3 MB/s \n",
      "\u001b[K     |████████████████████████████████| 63 kB 2.0 MB/s \n",
      "\u001b[?25h  Building wheel for ffmpy (setup.py) ... \u001b[?25l\u001b[?25hdone\n",
      "  Building wheel for flask-cachebuster (setup.py) ... \u001b[?25l\u001b[?25hdone\n"
     ]
    }
   ],
   "source": [
    "# Se utilizará gradio para ensayar el modelo\n",
    "# Herramienta poderosa para crear interfaces rápidas para ensayar modelos\n",
    "# https://gradio.app/\n",
    "import sys\n",
    "!{sys.executable} -m pip install gradio --quiet"
   ]
  },
  {
   "cell_type": "code",
   "execution_count": 47,
   "metadata": {
    "colab": {
     "base_uri": "https://localhost:8080/",
     "height": 871
    },
    "executionInfo": {
     "elapsed": 135021,
     "status": "error",
     "timestamp": 1634653436159,
     "user": {
      "displayName": "Agustin Acerbo",
      "photoUrl": "https://lh3.googleusercontent.com/a-/AOh14GiFUHlal2m-HqrdHQGftXlBFKZBOGaIXX61S4e_MQ=s64",
      "userId": "11845685418075358694"
     },
     "user_tz": 180
    },
    "id": "HNyBykvhzs7-",
    "outputId": "6067ce56-6ea2-4a07-d393-4936b42cbe59"
   },
   "outputs": [
    {
     "name": "stdout",
     "output_type": "stream",
     "text": [
      "Colab notebook detected. This cell will run indefinitely so that you can see errors and logs. To turn off, set debug=False in launch().\n",
      "This share link will expire in 72 hours. If you need a permanent link, visit: https://gradio.app/introducing-hosted\n",
      "Running on External URL: https://30932.gradio.app\n"
     ]
    },
    {
     "data": {
      "text/html": [
       "\n",
       "        <iframe\n",
       "            width=\"900\"\n",
       "            height=\"500\"\n",
       "            src=\"https://30932.gradio.app\"\n",
       "            frameborder=\"0\"\n",
       "            allowfullscreen\n",
       "        ></iframe>\n",
       "        "
      ],
      "text/plain": [
       "<IPython.lib.display.IFrame at 0x7f065ff79d10>"
      ]
     },
     "metadata": {},
     "output_type": "display_data"
    },
    {
     "ename": "KeyboardInterrupt",
     "evalue": "ignored",
     "output_type": "error",
     "traceback": [
      "\u001b[0;31m---------------------------------------------------------------------------\u001b[0m",
      "\u001b[0;31mKeyboardInterrupt\u001b[0m                         Traceback (most recent call last)",
      "\u001b[0;32m<ipython-input-47-2a8fe09160a6>\u001b[0m in \u001b[0;36m<module>\u001b[0;34m()\u001b[0m\n\u001b[1;32m     28\u001b[0m     layout=\"vertical\")\n\u001b[1;32m     29\u001b[0m \u001b[0;34m\u001b[0m\u001b[0m\n\u001b[0;32m---> 30\u001b[0;31m \u001b[0miface\u001b[0m\u001b[0;34m.\u001b[0m\u001b[0mlaunch\u001b[0m\u001b[0;34m(\u001b[0m\u001b[0mdebug\u001b[0m\u001b[0;34m=\u001b[0m\u001b[0;32mTrue\u001b[0m\u001b[0;34m)\u001b[0m\u001b[0;34m\u001b[0m\u001b[0;34m\u001b[0m\u001b[0m\n\u001b[0m",
      "\u001b[0;32m/usr/local/lib/python3.7/dist-packages/gradio/interface.py\u001b[0m in \u001b[0;36mlaunch\u001b[0;34m(self, inline, inbrowser, share, debug, auth, auth_message, private_endpoint, prevent_thread_lock)\u001b[0m\n\u001b[1;32m    624\u001b[0m             \u001b[0;32mwhile\u001b[0m \u001b[0;32mTrue\u001b[0m\u001b[0;34m:\u001b[0m\u001b[0;34m\u001b[0m\u001b[0;34m\u001b[0m\u001b[0m\n\u001b[1;32m    625\u001b[0m                 \u001b[0msys\u001b[0m\u001b[0;34m.\u001b[0m\u001b[0mstdout\u001b[0m\u001b[0;34m.\u001b[0m\u001b[0mflush\u001b[0m\u001b[0;34m(\u001b[0m\u001b[0;34m)\u001b[0m\u001b[0;34m\u001b[0m\u001b[0;34m\u001b[0m\u001b[0m\n\u001b[0;32m--> 626\u001b[0;31m                 \u001b[0mtime\u001b[0m\u001b[0;34m.\u001b[0m\u001b[0msleep\u001b[0m\u001b[0;34m(\u001b[0m\u001b[0;36m0.1\u001b[0m\u001b[0;34m)\u001b[0m\u001b[0;34m\u001b[0m\u001b[0;34m\u001b[0m\u001b[0m\n\u001b[0m\u001b[1;32m    627\u001b[0m         is_in_interactive_mode = bool(\n\u001b[1;32m    628\u001b[0m             getattr(sys, 'ps1', sys.flags.interactive))\n",
      "\u001b[0;31mKeyboardInterrupt\u001b[0m: "
     ]
    }
   ],
   "source": [
    "import gradio as gr\n",
    "\n",
    "def model_response(human_text):\n",
    "\n",
    "    # Encodeamos\n",
    "    encoded = tok.texts_to_sequences([human_text])[0]\n",
    "    # Si tienen distinto largo\n",
    "    encoded = pad_sequences([encoded], maxlen=3, padding='pre')\n",
    "    \n",
    "    # Predicción softmax\n",
    "    y_hat = model.predict(encoded).argmax(axis=-1)\n",
    "\n",
    "    # Debemos buscar en el vocabulario la palabra\n",
    "    # que corresopnde al indice (y_hat) predicho por le modelo\n",
    "    out_word = ''\n",
    "    for word, index in tok.word_index.items():\n",
    "        if index == y_hat:\n",
    "            out_word = word\n",
    "            break\n",
    "\n",
    "    # Agrego la palabra a la frase predicha\n",
    "    return human_text + ' ' + out_word\n",
    "\n",
    "iface = gr.Interface(\n",
    "    fn=model_response,\n",
    "    inputs=[\"textbox\"],\n",
    "    outputs=\"text\",\n",
    "    layout=\"vertical\")\n",
    "\n",
    "iface.launch(debug=True)"
   ]
  },
  {
   "cell_type": "markdown",
   "metadata": {
    "id": "ocBbUOjsWUv_"
   },
   "source": [
    "Frase original : I'll probably take **whatever's left and just** split it up"
   ]
  },
  {
   "cell_type": "markdown",
   "metadata": {
    "id": "mCeMWWupxN1-"
   },
   "source": [
    "### 6 - Generación de secuencias nuevas"
   ]
  },
  {
   "cell_type": "code",
   "execution_count": 48,
   "metadata": {
    "executionInfo": {
     "elapsed": 346,
     "status": "ok",
     "timestamp": 1634653440239,
     "user": {
      "displayName": "Agustin Acerbo",
      "photoUrl": "https://lh3.googleusercontent.com/a-/AOh14GiFUHlal2m-HqrdHQGftXlBFKZBOGaIXX61S4e_MQ=s64",
      "userId": "11845685418075358694"
     },
     "user_tz": 180
    },
    "id": "bwbS_pfhxvB3"
   },
   "outputs": [],
   "source": [
    "def generate_seq(model, tokenizer, seed_text, max_length, n_words):\n",
    "    \"\"\"\n",
    "        Exec model sequence prediction\n",
    "\n",
    "        Args:\n",
    "            model (keras): modelo entrenado\n",
    "            tokenizer (keras tokenizer): tonenizer utilizado en el preprocesamiento\n",
    "            seed_text (string): texto de entrada (input_seq)\n",
    "            max_length (int): máxima longitud de la sequencia de entrada\n",
    "            n_words (int): números de palabras a agregar a la sequencia de entrada\n",
    "        returns:\n",
    "            output_text (string): sentencia con las \"n_words\" agregadas\n",
    "    \"\"\"\n",
    "    output_text = seed_text\n",
    "\t# generate a fixed number of words\n",
    "    for _ in range(n_words):\n",
    "\t\t# Encodeamos\n",
    "        encoded = tokenizer.texts_to_sequences([output_text])[0]\n",
    "\t\t# Si tienen distinto largo\n",
    "        encoded = pad_sequences([encoded], maxlen=max_length, padding='pre')\n",
    "\t\t\n",
    "\t\t# Predicción softmax\n",
    "        y_hat = model.predict(encoded).argmax(axis=-1)\n",
    "\t\t# Vamos concatenando las predicciones\n",
    "        out_word = ''\n",
    "\n",
    "        # Debemos buscar en el vocabulario la palabra\n",
    "        # que corresopnde al indice (y_hat) predicho por le modelo\n",
    "        for word, index in tokenizer.word_index.items():\n",
    "            if index == y_hat:\n",
    "                out_word = word\n",
    "                break\n",
    "\n",
    "\t\t# Agrego las palabras a la frase predicha\n",
    "        output_text += ' ' + out_word\n",
    "    return output_text"
   ]
  },
  {
   "cell_type": "code",
   "execution_count": 55,
   "metadata": {
    "colab": {
     "base_uri": "https://localhost:8080/",
     "height": 35
    },
    "executionInfo": {
     "elapsed": 289,
     "status": "ok",
     "timestamp": 1634653567281,
     "user": {
      "displayName": "Agustin Acerbo",
      "photoUrl": "https://lh3.googleusercontent.com/a-/AOh14GiFUHlal2m-HqrdHQGftXlBFKZBOGaIXX61S4e_MQ=s64",
      "userId": "11845685418075358694"
     },
     "user_tz": 180
    },
    "id": "JoFqRC5pxzqS",
    "outputId": "81b28dd6-8c73-4c94-9663-302fab1bb670"
   },
   "outputs": [
    {
     "data": {
      "application/vnd.google.colaboratory.intrinsic+json": {
       "type": "string"
      },
      "text/plain": [
       "'A different city every feel on'"
      ]
     },
     "execution_count": 55,
     "metadata": {},
     "output_type": "execute_result"
    }
   ],
   "source": [
    "input_text=\"A different city every\"\n",
    "\n",
    "generate_seq(model, tok, input_text, max_length=3, n_words=2)"
   ]
  },
  {
   "cell_type": "markdown",
   "metadata": {
    "id": "T2SHmXbgxQH9"
   },
   "source": [
    "### 7 - Conclusiones\n",
    "El modelo entrenado tuvo un muy mail desempeño en el entrenamiento además de overfitting. Cuestiones que podrían mejorarse:\n",
    "- Agregar más capas o neuronaes\n",
    "- Incrementar la cantidad de épocas\n",
    "- Agregar BRNN\n",
    "\n",
    "Es importante destacar que en este ejemplo estamos entrenando nuestro propios Embeddings, y para ello se requiere mucha data. En los ejemplos que realizaremos de aquí en más utilizaremos más datos, embeddings pre-enternados o modelos pre-entrenados."
   ]
  }
 ],
 "metadata": {
  "accelerator": "GPU",
  "colab": {
   "collapsed_sections": [],
   "name": "Desafio 4 - predicción_palabra.ipynb",
   "provenance": [
    {
     "file_id": "1dtq7eOhYoaR9CNCfZ1dk3VTWGgAe6rXq",
     "timestamp": 1634495056751
    },
    {
     "file_id": "1UZoC6F3_7QKQer7lpGl6ePpK_H4tUOJw",
     "timestamp": 1634492054787
    }
   ]
  },
  "kernelspec": {
   "display_name": "Python 3 (ipykernel)",
   "language": "python",
   "name": "python3"
  },
  "language_info": {
   "codemirror_mode": {
    "name": "ipython",
    "version": 3
   },
   "file_extension": ".py",
   "mimetype": "text/x-python",
   "name": "python",
   "nbconvert_exporter": "python",
   "pygments_lexer": "ipython3",
   "version": "3.8.13"
  }
 },
 "nbformat": 4,
 "nbformat_minor": 1
}
