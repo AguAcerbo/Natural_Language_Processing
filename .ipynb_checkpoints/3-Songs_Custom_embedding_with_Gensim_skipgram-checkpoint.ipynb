{
 "cells": [
  {
   "cell_type": "markdown",
   "metadata": {
    "id": "sZd5yLnnHOK0"
   },
   "source": [
    "# Procesamiento de lenguaje natural\n",
    "## Custom embedddings con Gensim\n",
    "\n"
   ]
  },
  {
   "cell_type": "markdown",
   "metadata": {
    "id": "vA7nqkumo9z9"
   },
   "source": [
    "### Objetivo\n",
    "El objetivo es utilizar documentos / corpus para crear embeddings de palabras basado en ese contexto. Se utilizará canciones de bandas para generar los embeddings, es decir, que los vectores tendrán la forma en función de como esa banda haya utilizado las palabras en sus canciones."
   ]
  },
  {
   "cell_type": "code",
   "execution_count": 1,
   "metadata": {
    "id": "lFToQs5FK5uZ"
   },
   "outputs": [],
   "source": [
    "import pandas as pd\n",
    "import matplotlib.pyplot as plt\n",
    "import seaborn as sns\n",
    "\n",
    "import multiprocessing\n",
    "from gensim.models import Word2Vec"
   ]
  },
  {
   "cell_type": "markdown",
   "metadata": {
    "id": "g07zJxG7H9vG"
   },
   "source": [
    "### Datos\n",
    "Utilizaremos como dataset canciones de bandas de habla inglés."
   ]
  },
  {
   "cell_type": "code",
   "execution_count": 2,
   "metadata": {
    "colab": {
     "base_uri": "https://localhost:8080/"
    },
    "id": "l7z4CSBfpR3X",
    "outputId": "bc2131a0-4d4c-4dfe-8fd7-27d572b3beff"
   },
   "outputs": [
    {
     "name": "stdout",
     "output_type": "stream",
     "text": [
      "El dataset ya se encuentra descargado\n"
     ]
    }
   ],
   "source": [
    "# Descargar la carpeta de dataset\n",
    "import os\n",
    "import gdown\n",
    "if os.access('./songs_dataset', os.F_OK) is False:\n",
    "    if os.access('simpsons_dataset.zip', os.F_OK) is False:\n",
    "        url = 'https://drive.google.com/uc?id=1VLVgb3fD02XrF2V5OruKvQTOT91juXcs&export=download'\n",
    "        output = 'songs_dataset.zip'\n",
    "        gdown.download(url, output, quiet=False)\n",
    "    !unzip -q songs_dataset.zip   \n",
    "else:\n",
    "    print(\"El dataset ya se encuentra descargado\")"
   ]
  },
  {
   "cell_type": "code",
   "execution_count": 3,
   "metadata": {
    "colab": {
     "base_uri": "https://localhost:8080/"
    },
    "id": "mysGrIw9ljC2",
    "outputId": "2a90d487-6713-45fd-ec25-3b26527aa86f"
   },
   "outputs": [
    {
     "data": {
      "text/plain": [
       "['dolly-parton.txt',\n",
       " 'cake.txt',\n",
       " 'britney-spears.txt',\n",
       " 'paul-simon.txt',\n",
       " 'beatles.txt',\n",
       " 'nickelback.txt',\n",
       " 'rihanna.txt',\n",
       " 'disney.txt',\n",
       " 'kanye.txt',\n",
       " 'drake.txt',\n",
       " 'kanye-west.txt',\n",
       " 'jimi-hendrix.txt',\n",
       " 'nicki-minaj.txt',\n",
       " 'janisjoplin.txt',\n",
       " 'alicia-keys.txt',\n",
       " 'bieber.txt',\n",
       " 'bob-dylan.txt',\n",
       " 'amy-winehouse.txt',\n",
       " 'ludacris.txt',\n",
       " 'bruno-mars.txt',\n",
       " 'lin-manuel-miranda.txt',\n",
       " 'r-kelly.txt',\n",
       " 'eminem.txt',\n",
       " 'bob-marley.txt',\n",
       " 'notorious_big.txt',\n",
       " 'dr-seuss.txt',\n",
       " 'dj-khaled.txt',\n",
       " 'missy-elliott.txt',\n",
       " 'bruce-springsteen.txt',\n",
       " 'adele.txt',\n",
       " 'lady-gaga.txt',\n",
       " 'patti-smith.txt',\n",
       " 'joni-mitchell.txt',\n",
       " 'lil-wayne.txt',\n",
       " 'lorde.txt',\n",
       " 'nursery_rhymes.txt',\n",
       " 'prince.txt',\n",
       " 'michael-jackson.txt',\n",
       " 'al-green.txt',\n",
       " 'bjork.txt',\n",
       " 'leonard-cohen.txt',\n",
       " 'notorious-big.txt',\n",
       " 'Lil_Wayne.txt',\n",
       " 'nirvana.txt',\n",
       " 'radiohead.txt',\n",
       " 'johnny-cash.txt',\n",
       " 'blink-182.txt',\n",
       " 'dickinson.txt',\n",
       " 'Kanye_West.txt']"
      ]
     },
     "execution_count": 3,
     "metadata": {},
     "output_type": "execute_result"
    }
   ],
   "source": [
    "# Posibles bandas\n",
    "os.listdir(\"./songs_dataset/\")"
   ]
  },
  {
   "cell_type": "code",
   "execution_count": 4,
   "metadata": {
    "colab": {
     "base_uri": "https://localhost:8080/",
     "height": 261
    },
    "id": "ticoqYD1Z3I7",
    "outputId": "6c54a7e9-11f2-4eac-95db-14d05f6b795c"
   },
   "outputs": [
    {
     "name": "stderr",
     "output_type": "stream",
     "text": [
      "/usr/local/lib/python3.7/dist-packages/ipykernel_launcher.py:2: ParserWarning: Falling back to the 'python' engine because the 'c' engine does not support regex separators (separators > 1 char and different from '\\s+' are interpreted as regex); you can avoid this warning by specifying engine='python'.\n",
      "  \n"
     ]
    },
    {
     "data": {
      "text/html": [
       "<div>\n",
       "<style scoped>\n",
       "    .dataframe tbody tr th:only-of-type {\n",
       "        vertical-align: middle;\n",
       "    }\n",
       "\n",
       "    .dataframe tbody tr th {\n",
       "        vertical-align: top;\n",
       "    }\n",
       "\n",
       "    .dataframe thead th {\n",
       "        text-align: right;\n",
       "    }\n",
       "</style>\n",
       "<table border=\"1\" class=\"dataframe\">\n",
       "  <thead>\n",
       "    <tr style=\"text-align: right;\">\n",
       "      <th></th>\n",
       "      <th>0</th>\n",
       "    </tr>\n",
       "  </thead>\n",
       "  <tbody>\n",
       "    <tr>\n",
       "      <th>0</th>\n",
       "      <td>Now greetings to the world! Standing at this l...</td>\n",
       "    </tr>\n",
       "    <tr>\n",
       "      <th>1</th>\n",
       "      <td>Whiskey coming through my pores,</td>\n",
       "    </tr>\n",
       "    <tr>\n",
       "      <th>2</th>\n",
       "      <td>Feeling like I run this whole block.</td>\n",
       "    </tr>\n",
       "    <tr>\n",
       "      <th>3</th>\n",
       "      <td>Lotto tickets cheap beer</td>\n",
       "    </tr>\n",
       "    <tr>\n",
       "      <th>4</th>\n",
       "      <td>That's why you can catch me here,</td>\n",
       "    </tr>\n",
       "  </tbody>\n",
       "</table>\n",
       "</div>"
      ],
      "text/plain": [
       "                                                   0\n",
       "0  Now greetings to the world! Standing at this l...\n",
       "1                   Whiskey coming through my pores,\n",
       "2               Feeling like I run this whole block.\n",
       "3                           Lotto tickets cheap beer\n",
       "4                  That's why you can catch me here,"
      ]
     },
     "execution_count": 4,
     "metadata": {},
     "output_type": "execute_result"
    }
   ],
   "source": [
    "# Armar el dataset utilizando salto de línea para separar las oraciones/docs\n",
    "df = pd.read_csv('songs_dataset/bruno-mars.txt', sep='/n', header=None)\n",
    "df.head()"
   ]
  },
  {
   "cell_type": "code",
   "execution_count": 5,
   "metadata": {
    "colab": {
     "base_uri": "https://localhost:8080/"
    },
    "id": "LEpKubK9XzXN",
    "outputId": "4f32e329-975a-4020-ff0d-b8c8e933ad05"
   },
   "outputs": [
    {
     "name": "stdout",
     "output_type": "stream",
     "text": [
      "Cantidad de documentos: 3270\n"
     ]
    }
   ],
   "source": [
    "print(\"Cantidad de documentos:\", df.shape[0])"
   ]
  },
  {
   "cell_type": "markdown",
   "metadata": {
    "id": "ab94qaFlrA1G"
   },
   "source": [
    "### 1 - Preprocesamiento"
   ]
  },
  {
   "cell_type": "code",
   "execution_count": 6,
   "metadata": {
    "id": "rIsmMWmjrDHd"
   },
   "outputs": [],
   "source": [
    "from keras.preprocessing.text import text_to_word_sequence\n",
    "\n",
    "sentence_tokens = []\n",
    "# Recorrer todas las filas y transformar las oraciones\n",
    "# en una secuencia de palabras (esto podría realizarse con NLTK o spaCy también)\n",
    "for _, row in df[:None].iterrows():\n",
    "    sentence_tokens.append(text_to_word_sequence(row[0]))"
   ]
  },
  {
   "cell_type": "code",
   "execution_count": 7,
   "metadata": {
    "colab": {
     "base_uri": "https://localhost:8080/"
    },
    "id": "VNuyC5aTDjD5",
    "outputId": "aa75a474-5a42-4f3e-b5f1-0a6a77144298"
   },
   "outputs": [
    {
     "data": {
      "text/plain": [
       "[['no', 'no', 'no', 'no', 'this', 'hit', 'that', 'ice', 'cold'],\n",
       " ['michelle', 'pfeiffer', 'that', 'white', 'gold'],\n",
       " ['this', 'one', 'for', 'them', 'hood', 'girls'],\n",
       " ['them', 'good', 'girls', 'straight', 'masterpieces'],\n",
       " [\"stylin'\", 'whilen', \"livin'\", 'it', 'up', 'in', 'the', 'city'],\n",
       " ['got', 'chucks', 'on', 'with', 'saint', 'laurent'],\n",
       " ['got',\n",
       "  'kiss',\n",
       "  'myself',\n",
       "  \"i'm\",\n",
       "  'so',\n",
       "  'pretty',\n",
       "  \"i'm\",\n",
       "  'too',\n",
       "  'hot',\n",
       "  'hot',\n",
       "  'damn'],\n",
       " ['called', 'a', 'police', 'and', 'a', 'fireman']]"
      ]
     },
     "execution_count": 7,
     "metadata": {},
     "output_type": "execute_result"
    }
   ],
   "source": [
    "# Demos un vistazo\n",
    "sentence_tokens[427:435]"
   ]
  },
  {
   "cell_type": "markdown",
   "metadata": {
    "id": "BaXV6nlHr5Aa"
   },
   "source": [
    "### 2 - Crear los vectores (word2vec)"
   ]
  },
  {
   "cell_type": "code",
   "execution_count": 8,
   "metadata": {
    "id": "OSb0v7h8r7hK"
   },
   "outputs": [],
   "source": [
    "from gensim.models.callbacks import CallbackAny2Vec\n",
    "# Durante el entrenamiento gensim por defecto no informa el \"loss\" en cada época\n",
    "# Sobracargamos el callback para poder tener esta información\n",
    "class callback(CallbackAny2Vec):\n",
    "    \"\"\"\n",
    "    Callback to print loss after each epoch\n",
    "    \"\"\"\n",
    "    def __init__(self):\n",
    "        self.epoch = 0\n",
    "\n",
    "    def on_epoch_end(self, model):\n",
    "        loss = model.get_latest_training_loss()\n",
    "        if self.epoch == 0:\n",
    "            print('Loss after epoch {}: {}'.format(self.epoch, loss))\n",
    "        else:\n",
    "            print('Loss after epoch {}: {}'.format(self.epoch, loss- self.loss_previous_step))\n",
    "        self.epoch += 1\n",
    "        self.loss_previous_step = loss"
   ]
  },
  {
   "cell_type": "code",
   "execution_count": 9,
   "metadata": {
    "id": "i0wnDdv9sJ47"
   },
   "outputs": [],
   "source": [
    "# Crearmos el modelo generador de vectoeres\n",
    "# En este caso utilizaremos la estructura modelo Skipgram\n",
    "w2v_model = Word2Vec(min_count=5,    # frecuencia mínima de palabra para incluirla en el vocabulario\n",
    "                     window=2,       # cant de palabras antes y desp de la predicha\n",
    "                     size=300,       # dimensionalidad de los vectores \n",
    "                     negative=20,    # cantidad de negative samples... 0 es no se usa\n",
    "                     workers=1,      # si tienen más cores pueden cambiar este valor\n",
    "                     sg=1)           # modelo 0:CBOW  1:skipgram"
   ]
  },
  {
   "cell_type": "code",
   "execution_count": 10,
   "metadata": {
    "id": "5lTt8wErsf17"
   },
   "outputs": [],
   "source": [
    "# Buildear el vocabularui con los tokens\n",
    "w2v_model.build_vocab(sentence_tokens)"
   ]
  },
  {
   "cell_type": "code",
   "execution_count": 11,
   "metadata": {
    "colab": {
     "base_uri": "https://localhost:8080/"
    },
    "id": "TNc9qt4os5AT",
    "outputId": "f7be237a-b0a4-42ed-a62f-ef99cb23250b"
   },
   "outputs": [
    {
     "name": "stdout",
     "output_type": "stream",
     "text": [
      "Cantidad de docs en el corpus: 3270\n"
     ]
    }
   ],
   "source": [
    "# Cantidad de filas/docs encontradas en el corpus\n",
    "print(\"Cantidad de docs en el corpus:\", w2v_model.corpus_count)"
   ]
  },
  {
   "cell_type": "code",
   "execution_count": 12,
   "metadata": {
    "colab": {
     "base_uri": "https://localhost:8080/"
    },
    "id": "idw9cHF3tSMl",
    "outputId": "2527ed51-71db-4b5a-8da3-2bd9de9e1492"
   },
   "outputs": [
    {
     "name": "stdout",
     "output_type": "stream",
     "text": [
      "Cantidad de words distintas en el corpus: 678\n"
     ]
    }
   ],
   "source": [
    "# Cantidad de words encontradas en el corpus\n",
    "print(\"Cantidad de words distintas en el corpus:\", len(w2v_model.wv.vocab))"
   ]
  },
  {
   "cell_type": "code",
   "execution_count": 22,
   "metadata": {
    "colab": {
     "base_uri": "https://localhost:8080/"
    },
    "id": "500_md6zGRRW",
    "outputId": "df7e7b35-4390-47aa-f176-1880677d8249"
   },
   "outputs": [
    {
     "data": {
      "text/plain": [
       "{\"'cause\": <gensim.models.keyedvectors.Vocab at 0x7f5d84d497d0>,\n",
       " \"'til\": <gensim.models.keyedvectors.Vocab at 0x7f5d84d4c310>,\n",
       " '3x': <gensim.models.keyedvectors.Vocab at 0x7f5d84ce7250>,\n",
       " 'a': <gensim.models.keyedvectors.Vocab at 0x7f5d84d49990>,\n",
       " 'about': <gensim.models.keyedvectors.Vocab at 0x7f5d84d528d0>,\n",
       " 'afraid': <gensim.models.keyedvectors.Vocab at 0x7f5d84d599d0>,\n",
       " 'again': <gensim.models.keyedvectors.Vocab at 0x7f5d84d4cc90>,\n",
       " 'agree': <gensim.models.keyedvectors.Vocab at 0x7f5d84d4ef10>,\n",
       " 'ah': <gensim.models.keyedvectors.Vocab at 0x7f5d84d60210>,\n",
       " 'ahh': <gensim.models.keyedvectors.Vocab at 0x7f5d84d62e10>,\n",
       " \"ain't\": <gensim.models.keyedvectors.Vocab at 0x7f5d84d49950>,\n",
       " 'aint': <gensim.models.keyedvectors.Vocab at 0x7f5d84d62c90>,\n",
       " 'air': <gensim.models.keyedvectors.Vocab at 0x7f5d84d52a50>,\n",
       " 'all': <gensim.models.keyedvectors.Vocab at 0x7f5d84d4e750>,\n",
       " 'alone': <gensim.models.keyedvectors.Vocab at 0x7f5d84d59690>,\n",
       " 'along': <gensim.models.keyedvectors.Vocab at 0x7f5d84d62550>,\n",
       " 'already': <gensim.models.keyedvectors.Vocab at 0x7f5d84d62450>,\n",
       " 'alright': <gensim.models.keyedvectors.Vocab at 0x7f5d84d60e10>,\n",
       " 'always': <gensim.models.keyedvectors.Vocab at 0x7f5d84d5c0d0>,\n",
       " 'am': <gensim.models.keyedvectors.Vocab at 0x7f5d84d4efd0>,\n",
       " 'amazing': <gensim.models.keyedvectors.Vocab at 0x7f5d84d540d0>,\n",
       " 'an': <gensim.models.keyedvectors.Vocab at 0x7f5d84d52610>,\n",
       " 'and': <gensim.models.keyedvectors.Vocab at 0x7f5d84d49bd0>,\n",
       " 'another': <gensim.models.keyedvectors.Vocab at 0x7f5d84d5c3d0>,\n",
       " 'anymore': <gensim.models.keyedvectors.Vocab at 0x7f5d84d59810>,\n",
       " 'anything': <gensim.models.keyedvectors.Vocab at 0x7f5dcb524850>,\n",
       " 'aquí': <gensim.models.keyedvectors.Vocab at 0x7f5d84df90d0>,\n",
       " 'are': <gensim.models.keyedvectors.Vocab at 0x7f5d84d54110>,\n",
       " 'around': <gensim.models.keyedvectors.Vocab at 0x7f5dcb524150>,\n",
       " 'as': <gensim.models.keyedvectors.Vocab at 0x7f5d84d5c850>,\n",
       " 'ask': <gensim.models.keyedvectors.Vocab at 0x7f5d84d52f50>,\n",
       " 'asked': <gensim.models.keyedvectors.Vocab at 0x7f5d84d54bd0>,\n",
       " 'ass': <gensim.models.keyedvectors.Vocab at 0x7f5dcb5243d0>,\n",
       " 'at': <gensim.models.keyedvectors.Vocab at 0x7f5d84d49250>,\n",
       " 'atrapado': <gensim.models.keyedvectors.Vocab at 0x7f5dcb524fd0>,\n",
       " 'atrapados': <gensim.models.keyedvectors.Vocab at 0x7f5dcb52f410>,\n",
       " 'away': <gensim.models.keyedvectors.Vocab at 0x7f5d84d52650>,\n",
       " 'babe': <gensim.models.keyedvectors.Vocab at 0x7f5d84d625d0>,\n",
       " 'baby': <gensim.models.keyedvectors.Vocab at 0x7f5dcb5244d0>,\n",
       " 'back': <gensim.models.keyedvectors.Vocab at 0x7f5d84d54d50>,\n",
       " 'bad': <gensim.models.keyedvectors.Vocab at 0x7f5d84d52190>,\n",
       " 'bar': <gensim.models.keyedvectors.Vocab at 0x7f5d84d62190>,\n",
       " 'be': <gensim.models.keyedvectors.Vocab at 0x7f5d84d49ed0>,\n",
       " 'beautiful': <gensim.models.keyedvectors.Vocab at 0x7f5d84d52e10>,\n",
       " 'because': <gensim.models.keyedvectors.Vocab at 0x7f5d84d4c5d0>,\n",
       " 'bed': <gensim.models.keyedvectors.Vocab at 0x7f5d84d54510>,\n",
       " 'been': <gensim.models.keyedvectors.Vocab at 0x7f5d84d4cfd0>,\n",
       " 'before': <gensim.models.keyedvectors.Vocab at 0x7f5d84d59490>,\n",
       " 'begins': <gensim.models.keyedvectors.Vocab at 0x7f5d84d607d0>,\n",
       " 'behind': <gensim.models.keyedvectors.Vocab at 0x7f5d84d60790>,\n",
       " 'believe': <gensim.models.keyedvectors.Vocab at 0x7f5d84d4c710>,\n",
       " 'best': <gensim.models.keyedvectors.Vocab at 0x7f5d84d4c6d0>,\n",
       " 'bet': <gensim.models.keyedvectors.Vocab at 0x7f5d84d548d0>,\n",
       " 'better': <gensim.models.keyedvectors.Vocab at 0x7f5d84d523d0>,\n",
       " 'between': <gensim.models.keyedvectors.Vocab at 0x7f5d84d4c610>,\n",
       " 'big': <gensim.models.keyedvectors.Vocab at 0x7f5d84d60e50>,\n",
       " 'billionaire': <gensim.models.keyedvectors.Vocab at 0x7f5d84d52150>,\n",
       " 'blame': <gensim.models.keyedvectors.Vocab at 0x7f5d84d59dd0>,\n",
       " 'block': <gensim.models.keyedvectors.Vocab at 0x7f5d84d494d0>,\n",
       " 'blues': <gensim.models.keyedvectors.Vocab at 0x7f5d84d49c10>,\n",
       " 'body': <gensim.models.keyedvectors.Vocab at 0x7f5d84d54e90>,\n",
       " 'boom': <gensim.models.keyedvectors.Vocab at 0x7f5d84d62f50>,\n",
       " 'both': <gensim.models.keyedvectors.Vocab at 0x7f5d84d62650>,\n",
       " 'boy': <gensim.models.keyedvectors.Vocab at 0x7f5d84d62150>,\n",
       " 'brain': <gensim.models.keyedvectors.Vocab at 0x7f5d84d54cd0>,\n",
       " 'brand': <gensim.models.keyedvectors.Vocab at 0x7f5d84d62610>,\n",
       " 'break': <gensim.models.keyedvectors.Vocab at 0x7f5d84d59290>,\n",
       " 'bright': <gensim.models.keyedvectors.Vocab at 0x7f5d84d4e850>,\n",
       " 'bring': <gensim.models.keyedvectors.Vocab at 0x7f5d84d4e190>,\n",
       " 'broken': <gensim.models.keyedvectors.Vocab at 0x7f5d84d5ccd0>,\n",
       " 'brooklyn': <gensim.models.keyedvectors.Vocab at 0x7f5d84d627d0>,\n",
       " 'burning': <gensim.models.keyedvectors.Vocab at 0x7f5d84d62990>,\n",
       " 'but': <gensim.models.keyedvectors.Vocab at 0x7f5d84d4cb90>,\n",
       " 'by': <gensim.models.keyedvectors.Vocab at 0x7f5d84d4e990>,\n",
       " 'cabeza': <gensim.models.keyedvectors.Vocab at 0x7f5dcb61de50>,\n",
       " 'call': <gensim.models.keyedvectors.Vocab at 0x7f5d84d4c390>,\n",
       " 'called': <gensim.models.keyedvectors.Vocab at 0x7f5d84d591d0>,\n",
       " 'calling': <gensim.models.keyedvectors.Vocab at 0x7f5d84d60250>,\n",
       " 'can': <gensim.models.keyedvectors.Vocab at 0x7f5d84d495d0>,\n",
       " \"can't\": <gensim.models.keyedvectors.Vocab at 0x7f5d84d4e350>,\n",
       " 'car': <gensim.models.keyedvectors.Vocab at 0x7f5d84d54e10>,\n",
       " 'care': <gensim.models.keyedvectors.Vocab at 0x7f5d84d49b50>,\n",
       " 'cares': <gensim.models.keyedvectors.Vocab at 0x7f5d84d59d10>,\n",
       " 'casa': <gensim.models.keyedvectors.Vocab at 0x7f5d84d27ad0>,\n",
       " 'catch': <gensim.models.keyedvectors.Vocab at 0x7f5d84d49610>,\n",
       " 'cause': <gensim.models.keyedvectors.Vocab at 0x7f5d84d4e310>,\n",
       " 'chains': <gensim.models.keyedvectors.Vocab at 0x7f5d84d60710>,\n",
       " 'champagne': <gensim.models.keyedvectors.Vocab at 0x7f5d84d4e8d0>,\n",
       " 'chance': <gensim.models.keyedvectors.Vocab at 0x7f5d84d5c310>,\n",
       " 'change': <gensim.models.keyedvectors.Vocab at 0x7f5d84d4e210>,\n",
       " 'choose': <gensim.models.keyedvectors.Vocab at 0x7f5d84d62050>,\n",
       " 'chorus': <gensim.models.keyedvectors.Vocab at 0x7f5d84d606d0>,\n",
       " 'city': <gensim.models.keyedvectors.Vocab at 0x7f5d84d4c050>,\n",
       " 'close': <gensim.models.keyedvectors.Vocab at 0x7f5d84d52290>,\n",
       " 'club': <gensim.models.keyedvectors.Vocab at 0x7f5d84d62890>,\n",
       " 'come': <gensim.models.keyedvectors.Vocab at 0x7f5d84d520d0>,\n",
       " 'coming': <gensim.models.keyedvectors.Vocab at 0x7f5d84d492d0>,\n",
       " 'como': <gensim.models.keyedvectors.Vocab at 0x7f5d84d27f10>,\n",
       " 'conmigo': <gensim.models.keyedvectors.Vocab at 0x7f5d84df93d0>,\n",
       " 'contigo': <gensim.models.keyedvectors.Vocab at 0x7f5d84d3d050>,\n",
       " 'control': <gensim.models.keyedvectors.Vocab at 0x7f5dcb61de10>,\n",
       " 'cool': <gensim.models.keyedvectors.Vocab at 0x7f5d84d4e790>,\n",
       " 'could': <gensim.models.keyedvectors.Vocab at 0x7f5d84d54250>,\n",
       " 'count': <gensim.models.keyedvectors.Vocab at 0x7f5d84d59fd0>,\n",
       " 'crazy': <gensim.models.keyedvectors.Vocab at 0x7f5d84d60050>,\n",
       " 'creo': <gensim.models.keyedvectors.Vocab at 0x7f5dcb524f90>,\n",
       " 'cross': <gensim.models.keyedvectors.Vocab at 0x7f5d84d62d50>,\n",
       " 'cry': <gensim.models.keyedvectors.Vocab at 0x7f5d84d5c150>,\n",
       " 'cute': <gensim.models.keyedvectors.Vocab at 0x7f5d84ce75d0>,\n",
       " 'da': <gensim.models.keyedvectors.Vocab at 0x7f5d84ce7650>,\n",
       " 'damn': <gensim.models.keyedvectors.Vocab at 0x7f5d84d527d0>,\n",
       " 'dance': <gensim.models.keyedvectors.Vocab at 0x7f5d84d59510>,\n",
       " 'dancing': <gensim.models.keyedvectors.Vocab at 0x7f5d84d59cd0>,\n",
       " \"darlin'\": <gensim.models.keyedvectors.Vocab at 0x7f5d84d5cc50>,\n",
       " 'darling': <gensim.models.keyedvectors.Vocab at 0x7f5d84d54f90>,\n",
       " 'day': <gensim.models.keyedvectors.Vocab at 0x7f5d84d54310>,\n",
       " 'days': <gensim.models.keyedvectors.Vocab at 0x7f5d84d4e550>,\n",
       " 'de': <gensim.models.keyedvectors.Vocab at 0x7f5dcb57ee90>,\n",
       " 'death': <gensim.models.keyedvectors.Vocab at 0x7f5d84d62290>,\n",
       " 'deserve': <gensim.models.keyedvectors.Vocab at 0x7f5dcb5df910>,\n",
       " 'desire': <gensim.models.keyedvectors.Vocab at 0x7f5d84d626d0>,\n",
       " 'diamonds': <gensim.models.keyedvectors.Vocab at 0x7f5d84d4ea90>,\n",
       " 'did': <gensim.models.keyedvectors.Vocab at 0x7f5d84d52850>,\n",
       " \"didn't\": <gensim.models.keyedvectors.Vocab at 0x7f5d84d60d90>,\n",
       " 'die': <gensim.models.keyedvectors.Vocab at 0x7f5d84d54d10>,\n",
       " 'different': <gensim.models.keyedvectors.Vocab at 0x7f5d84d52350>,\n",
       " 'difícil': <gensim.models.keyedvectors.Vocab at 0x7f5dcb52f5d0>,\n",
       " 'digging': <gensim.models.keyedvectors.Vocab at 0x7f5d84d62d10>,\n",
       " 'dim': <gensim.models.keyedvectors.Vocab at 0x7f5d84ce7490>,\n",
       " 'distance': <gensim.models.keyedvectors.Vocab at 0x7f5d84d60f10>,\n",
       " 'distancia': <gensim.models.keyedvectors.Vocab at 0x7f5dcb52f650>,\n",
       " 'do': <gensim.models.keyedvectors.Vocab at 0x7f5d84d52110>,\n",
       " 'does': <gensim.models.keyedvectors.Vocab at 0x7f5d84d5c210>,\n",
       " 'doing': <gensim.models.keyedvectors.Vocab at 0x7f5d84d54490>,\n",
       " \"don't\": <gensim.models.keyedvectors.Vocab at 0x7f5d84d49b10>,\n",
       " 'donde': <gensim.models.keyedvectors.Vocab at 0x7f5d84d3d090>,\n",
       " 'done': <gensim.models.keyedvectors.Vocab at 0x7f5d84d5c590>,\n",
       " 'door': <gensim.models.keyedvectors.Vocab at 0x7f5d84d59790>,\n",
       " 'down': <gensim.models.keyedvectors.Vocab at 0x7f5d84d54f10>,\n",
       " 'drag': <gensim.models.keyedvectors.Vocab at 0x7f5d84d49d90>,\n",
       " 'dream': <gensim.models.keyedvectors.Vocab at 0x7f5d84d52bd0>,\n",
       " 'dreams': <gensim.models.keyedvectors.Vocab at 0x7f5d84d5cf50>,\n",
       " \"drippin'\": <gensim.models.keyedvectors.Vocab at 0x7f5d84d62bd0>,\n",
       " 'drop': <gensim.models.keyedvectors.Vocab at 0x7f5dcb524510>,\n",
       " 'dumb': <gensim.models.keyedvectors.Vocab at 0x7f5d84d59c10>,\n",
       " 'días': <gensim.models.keyedvectors.Vocab at 0x7f5d84d3d2d0>,\n",
       " 'each': <gensim.models.keyedvectors.Vocab at 0x7f5d84d60b50>,\n",
       " 'easy': <gensim.models.keyedvectors.Vocab at 0x7f5d84d54a10>,\n",
       " 'el': <gensim.models.keyedvectors.Vocab at 0x7f5d84d4e650>,\n",
       " 'ella': <gensim.models.keyedvectors.Vocab at 0x7f5d84d27c10>,\n",
       " 'else': <gensim.models.keyedvectors.Vocab at 0x7f5d84d5cd90>,\n",
       " 'en': <gensim.models.keyedvectors.Vocab at 0x7f5d84d3d490>,\n",
       " 'end': <gensim.models.keyedvectors.Vocab at 0x7f5d84d60290>,\n",
       " 'ends': <gensim.models.keyedvectors.Vocab at 0x7f5d84d62410>,\n",
       " 'es': <gensim.models.keyedvectors.Vocab at 0x7f5d84d3d450>,\n",
       " 'esta': <gensim.models.keyedvectors.Vocab at 0x7f5d84d3d510>,\n",
       " 'estamos': <gensim.models.keyedvectors.Vocab at 0x7f5dcbb85210>,\n",
       " 'estar': <gensim.models.keyedvectors.Vocab at 0x7f5dcb5b7590>,\n",
       " 'esto': <gensim.models.keyedvectors.Vocab at 0x7f5dcb52f350>,\n",
       " 'estoy': <gensim.models.keyedvectors.Vocab at 0x7f5d84d4e710>,\n",
       " 'estribillo': <gensim.models.keyedvectors.Vocab at 0x7f5d8861d610>,\n",
       " 'estuvieras': <gensim.models.keyedvectors.Vocab at 0x7f5dcb52f050>,\n",
       " 'está': <gensim.models.keyedvectors.Vocab at 0x7f5dcb52f150>,\n",
       " 'estás': <gensim.models.keyedvectors.Vocab at 0x7f5dcb52f090>,\n",
       " 'even': <gensim.models.keyedvectors.Vocab at 0x7f5d84d54450>,\n",
       " 'ever': <gensim.models.keyedvectors.Vocab at 0x7f5d84d54b90>,\n",
       " 'every': <gensim.models.keyedvectors.Vocab at 0x7f5d84d4ccd0>,\n",
       " 'everyday': <gensim.models.keyedvectors.Vocab at 0x7f5d84d52510>,\n",
       " 'everything': <gensim.models.keyedvectors.Vocab at 0x7f5d84d4ed10>,\n",
       " 'everytime': <gensim.models.keyedvectors.Vocab at 0x7f5d84ce73d0>,\n",
       " 'everywhere': <gensim.models.keyedvectors.Vocab at 0x7f5d84d52910>,\n",
       " 'exactly': <gensim.models.keyedvectors.Vocab at 0x7f5d84d62850>,\n",
       " 'eyes': <gensim.models.keyedvectors.Vocab at 0x7f5d84d522d0>,\n",
       " 'face': <gensim.models.keyedvectors.Vocab at 0x7f5d84d52fd0>,\n",
       " 'faith': <gensim.models.keyedvectors.Vocab at 0x7f5d84d4c950>,\n",
       " 'fall': <gensim.models.keyedvectors.Vocab at 0x7f5d84d59950>,\n",
       " 'far': <gensim.models.keyedvectors.Vocab at 0x7f5d84d5cfd0>,\n",
       " 'fast': <gensim.models.keyedvectors.Vocab at 0x7f5d84d62a10>,\n",
       " 'favorite': <gensim.models.keyedvectors.Vocab at 0x7f5d84d5cb90>,\n",
       " 'favourite': <gensim.models.keyedvectors.Vocab at 0x7f5d84ce7550>,\n",
       " 'feel': <gensim.models.keyedvectors.Vocab at 0x7f5d84d4cf50>,\n",
       " \"feelin'\": <gensim.models.keyedvectors.Vocab at 0x7f5d84d59710>,\n",
       " 'feeling': <gensim.models.keyedvectors.Vocab at 0x7f5d84d49390>,\n",
       " 'feels': <gensim.models.keyedvectors.Vocab at 0x7f5d84d5c1d0>,\n",
       " 'fight': <gensim.models.keyedvectors.Vocab at 0x7f5d84d5ca50>,\n",
       " 'finally': <gensim.models.keyedvectors.Vocab at 0x7f5d84d60bd0>,\n",
       " 'find': <gensim.models.keyedvectors.Vocab at 0x7f5d84d59e50>,\n",
       " 'fine': <gensim.models.keyedvectors.Vocab at 0x7f5d84d5cdd0>,\n",
       " 'finesse': <gensim.models.keyedvectors.Vocab at 0x7f5d84d62c10>,\n",
       " 'fire': <gensim.models.keyedvectors.Vocab at 0x7f5d84d4e9d0>,\n",
       " 'first': <gensim.models.keyedvectors.Vocab at 0x7f5d84d54ad0>,\n",
       " 'five': <gensim.models.keyedvectors.Vocab at 0x7f5d84d52a90>,\n",
       " 'floor': <gensim.models.keyedvectors.Vocab at 0x7f5d84d598d0>,\n",
       " 'fool': <gensim.models.keyedvectors.Vocab at 0x7f5d84d60190>,\n",
       " 'for': <gensim.models.keyedvectors.Vocab at 0x7f5d84d49d10>,\n",
       " 'forever': <gensim.models.keyedvectors.Vocab at 0x7f5d84d62b90>,\n",
       " 'forget': <gensim.models.keyedvectors.Vocab at 0x7f5d84d52890>,\n",
       " 'four': <gensim.models.keyedvectors.Vocab at 0x7f5d84d4ed90>,\n",
       " 'freaky': <gensim.models.keyedvectors.Vocab at 0x7f5d84d59550>,\n",
       " 'free': <gensim.models.keyedvectors.Vocab at 0x7f5d84d62d90>,\n",
       " 'fresh': <gensim.models.keyedvectors.Vocab at 0x7f5d84d59450>,\n",
       " 'friend': <gensim.models.keyedvectors.Vocab at 0x7f5d84d60650>,\n",
       " 'friends': <gensim.models.keyedvectors.Vocab at 0x7f5d84d59f90>,\n",
       " 'from': <gensim.models.keyedvectors.Vocab at 0x7f5d84d54a90>,\n",
       " 'fun': <gensim.models.keyedvectors.Vocab at 0x7f5d84d59e10>,\n",
       " 'funk': <gensim.models.keyedvectors.Vocab at 0x7f5d84d59390>,\n",
       " 'funny': <gensim.models.keyedvectors.Vocab at 0x7f5d84d60a90>,\n",
       " 'gator': <gensim.models.keyedvectors.Vocab at 0x7f5d84ce72d0>,\n",
       " 'gave': <gensim.models.keyedvectors.Vocab at 0x7f5d84d54b50>,\n",
       " 'get': <gensim.models.keyedvectors.Vocab at 0x7f5d84d49e10>,\n",
       " 'getaway': <gensim.models.keyedvectors.Vocab at 0x7f5d84d603d0>,\n",
       " 'getting': <gensim.models.keyedvectors.Vocab at 0x7f5d84d620d0>,\n",
       " 'gimme': <gensim.models.keyedvectors.Vocab at 0x7f5d84ce7390>,\n",
       " 'girl': <gensim.models.keyedvectors.Vocab at 0x7f5dcb524c50>,\n",
       " 'girls': <gensim.models.keyedvectors.Vocab at 0x7f5d84d590d0>,\n",
       " 'give': <gensim.models.keyedvectors.Vocab at 0x7f5d84d4c690>,\n",
       " 'go': <gensim.models.keyedvectors.Vocab at 0x7f5dcb524390>,\n",
       " 'goes': <gensim.models.keyedvectors.Vocab at 0x7f5d84d5cc10>,\n",
       " \"goin'\": <gensim.models.keyedvectors.Vocab at 0x7f5d84d54990>,\n",
       " 'going': <gensim.models.keyedvectors.Vocab at 0x7f5d84d49890>,\n",
       " 'gold': <gensim.models.keyedvectors.Vocab at 0x7f5d84d59090>,\n",
       " \"gon'\": <gensim.models.keyedvectors.Vocab at 0x7f5dcb5245d0>,\n",
       " 'gone': <gensim.models.keyedvectors.Vocab at 0x7f5d84d601d0>,\n",
       " 'gonna': <gensim.models.keyedvectors.Vocab at 0x7f5d84d4c210>,\n",
       " 'good': <gensim.models.keyedvectors.Vocab at 0x7f5d84d4ef50>,\n",
       " 'goodbye': <gensim.models.keyedvectors.Vocab at 0x7f5d84d5c190>,\n",
       " 'gorillas': <gensim.models.keyedvectors.Vocab at 0x7f5d84d62350>,\n",
       " 'got': <gensim.models.keyedvectors.Vocab at 0x7f5d84d49850>,\n",
       " 'gotta': <gensim.models.keyedvectors.Vocab at 0x7f5d84d5ca10>,\n",
       " 'greetings': <gensim.models.keyedvectors.Vocab at 0x7f5d84d49090>,\n",
       " 'guess': <gensim.models.keyedvectors.Vocab at 0x7f5d84d5c7d0>,\n",
       " 'gustaría': <gensim.models.keyedvectors.Vocab at 0x7f5dcb52f510>,\n",
       " 'had': <gensim.models.keyedvectors.Vocab at 0x7f5d84d4c8d0>,\n",
       " 'hair': <gensim.models.keyedvectors.Vocab at 0x7f5d84d52d10>,\n",
       " 'hallelujah': <gensim.models.keyedvectors.Vocab at 0x7f5d84d592d0>,\n",
       " 'hand': <gensim.models.keyedvectors.Vocab at 0x7f5d84d54610>,\n",
       " 'hands': <gensim.models.keyedvectors.Vocab at 0x7f5d84d5c610>,\n",
       " 'happen': <gensim.models.keyedvectors.Vocab at 0x7f5d84d60990>,\n",
       " 'hard': <gensim.models.keyedvectors.Vocab at 0x7f5d84d5c890>,\n",
       " 'has': <gensim.models.keyedvectors.Vocab at 0x7f5d84d4c650>,\n",
       " 'hate': <gensim.models.keyedvectors.Vocab at 0x7f5d84ce7290>,\n",
       " 'have': <gensim.models.keyedvectors.Vocab at 0x7f5d84d52490>,\n",
       " 'he': <gensim.models.keyedvectors.Vocab at 0x7f5dcb5241d0>,\n",
       " 'head': <gensim.models.keyedvectors.Vocab at 0x7f5d84d59ad0>,\n",
       " 'hear': <gensim.models.keyedvectors.Vocab at 0x7f5d84d5c250>,\n",
       " 'heard': <gensim.models.keyedvectors.Vocab at 0x7f5d84d60410>,\n",
       " 'heart': <gensim.models.keyedvectors.Vocab at 0x7f5d84d4cb10>,\n",
       " 'heaven': <gensim.models.keyedvectors.Vocab at 0x7f5d84d4e0d0>,\n",
       " 'help': <gensim.models.keyedvectors.Vocab at 0x7f5d84d59f50>,\n",
       " 'her': <gensim.models.keyedvectors.Vocab at 0x7f5d84d52c50>,\n",
       " 'here': <gensim.models.keyedvectors.Vocab at 0x7f5d84d49690>,\n",
       " 'hey': <gensim.models.keyedvectors.Vocab at 0x7f5dcb5249d0>,\n",
       " 'high': <gensim.models.keyedvectors.Vocab at 0x7f5d84d4c410>,\n",
       " 'higher': <gensim.models.keyedvectors.Vocab at 0x7f5d84d5c5d0>,\n",
       " 'his': <gensim.models.keyedvectors.Vocab at 0x7f5d84d4e250>,\n",
       " 'hit': <gensim.models.keyedvectors.Vocab at 0x7f5d84d52790>,\n",
       " 'hold': <gensim.models.keyedvectors.Vocab at 0x7f5d84d59a50>,\n",
       " 'home': <gensim.models.keyedvectors.Vocab at 0x7f5d84d60f90>,\n",
       " 'honey': <gensim.models.keyedvectors.Vocab at 0x7f5d84d5ce50>,\n",
       " 'hoo': <gensim.models.keyedvectors.Vocab at 0x7f5d84d54750>,\n",
       " 'hope': <gensim.models.keyedvectors.Vocab at 0x7f5d84d5c510>,\n",
       " 'hot': <gensim.models.keyedvectors.Vocab at 0x7f5d84d59190>,\n",
       " 'hours': <gensim.models.keyedvectors.Vocab at 0x7f5d84d5c2d0>,\n",
       " 'how': <gensim.models.keyedvectors.Vocab at 0x7f5d84d54650>,\n",
       " 'hurt': <gensim.models.keyedvectors.Vocab at 0x7f5d84d5c8d0>,\n",
       " 'i': <gensim.models.keyedvectors.Vocab at 0x7f5d84d49410>,\n",
       " \"i'd\": <gensim.models.keyedvectors.Vocab at 0x7f5d84d52590>,\n",
       " \"i'll\": <gensim.models.keyedvectors.Vocab at 0x7f5d84d49c50>,\n",
       " \"i'm\": <gensim.models.keyedvectors.Vocab at 0x7f5d84d4c3d0>,\n",
       " \"i'ma\": <gensim.models.keyedvectors.Vocab at 0x7f5d84d62790>,\n",
       " \"i've\": <gensim.models.keyedvectors.Vocab at 0x7f5d84d4cf90>,\n",
       " 'ice': <gensim.models.keyedvectors.Vocab at 0x7f5d84d4e910>,\n",
       " 'if': <gensim.models.keyedvectors.Vocab at 0x7f5d84d4c510>,\n",
       " 'im': <gensim.models.keyedvectors.Vocab at 0x7f5d84ce7150>,\n",
       " 'in': <gensim.models.keyedvectors.Vocab at 0x7f5d84d4c990>,\n",
       " 'inside': <gensim.models.keyedvectors.Vocab at 0x7f5d84d59750>,\n",
       " 'is': <gensim.models.keyedvectors.Vocab at 0x7f5d84d49b90>,\n",
       " 'it': <gensim.models.keyedvectors.Vocab at 0x7f5d84d4ce90>,\n",
       " \"it's\": <gensim.models.keyedvectors.Vocab at 0x7f5d84d4c550>,\n",
       " 'ive': <gensim.models.keyedvectors.Vocab at 0x7f5d84ce7450>,\n",
       " 'jewelry': <gensim.models.keyedvectors.Vocab at 0x7f5d84d4e7d0>,\n",
       " 'job': <gensim.models.keyedvectors.Vocab at 0x7f5d84d49810>,\n",
       " 'jump': <gensim.models.keyedvectors.Vocab at 0x7f5dcb524290>,\n",
       " 'just': <gensim.models.keyedvectors.Vocab at 0x7f5d84d4c590>,\n",
       " 'karat': <gensim.models.keyedvectors.Vocab at 0x7f5d84d5c710>,\n",
       " 'keep': <gensim.models.keyedvectors.Vocab at 0x7f5d84d4ec90>,\n",
       " 'killing': <gensim.models.keyedvectors.Vocab at 0x7f5d84d60f50>,\n",
       " 'kiss': <gensim.models.keyedvectors.Vocab at 0x7f5d84d54290>,\n",
       " 'knees': <gensim.models.keyedvectors.Vocab at 0x7f5d84d4e1d0>,\n",
       " 'knew': <gensim.models.keyedvectors.Vocab at 0x7f5d84d624d0>,\n",
       " 'know': <gensim.models.keyedvectors.Vocab at 0x7f5d84d4c4d0>,\n",
       " 'knows': <gensim.models.keyedvectors.Vocab at 0x7f5d84d604d0>,\n",
       " 'la': <gensim.models.keyedvectors.Vocab at 0x7f5d84d27c50>,\n",
       " 'ladies': <gensim.models.keyedvectors.Vocab at 0x7f5d84d62c50>,\n",
       " 'lady': <gensim.models.keyedvectors.Vocab at 0x7f5d84d52690>,\n",
       " 'last': <gensim.models.keyedvectors.Vocab at 0x7f5d84d526d0>,\n",
       " 'late': <gensim.models.keyedvectors.Vocab at 0x7f5d84d5c490>,\n",
       " 'laugh': <gensim.models.keyedvectors.Vocab at 0x7f5d84d54350>,\n",
       " 'lay': <gensim.models.keyedvectors.Vocab at 0x7f5d84d544d0>,\n",
       " 'leave': <gensim.models.keyedvectors.Vocab at 0x7f5d84d4ecd0>,\n",
       " 'left': <gensim.models.keyedvectors.Vocab at 0x7f5d84d52b50>,\n",
       " 'lejos': <gensim.models.keyedvectors.Vocab at 0x7f5dcb52f1d0>,\n",
       " 'let': <gensim.models.keyedvectors.Vocab at 0x7f5d84d52b10>,\n",
       " \"let's\": <gensim.models.keyedvectors.Vocab at 0x7f5dcb524710>,\n",
       " 'life': <gensim.models.keyedvectors.Vocab at 0x7f5d84d5c450>,\n",
       " 'lifetime': <gensim.models.keyedvectors.Vocab at 0x7f5d84d60b10>,\n",
       " 'light': <gensim.models.keyedvectors.Vocab at 0x7f5d84d4e410>,\n",
       " 'lights': <gensim.models.keyedvectors.Vocab at 0x7f5d84d4c090>,\n",
       " 'like': <gensim.models.keyedvectors.Vocab at 0x7f5d84d493d0>,\n",
       " 'line': <gensim.models.keyedvectors.Vocab at 0x7f5d84d4cb50>,\n",
       " 'lips': <gensim.models.keyedvectors.Vocab at 0x7f5d84d54210>,\n",
       " 'liquor': <gensim.models.keyedvectors.Vocab at 0x7f5d84d49150>,\n",
       " 'little': <gensim.models.keyedvectors.Vocab at 0x7f5d84d59d50>,\n",
       " 'live': <gensim.models.keyedvectors.Vocab at 0x7f5d84d4c0d0>,\n",
       " 'llorar': <gensim.models.keyedvectors.Vocab at 0x7f5d84d27cd0>,\n",
       " 'lo': <gensim.models.keyedvectors.Vocab at 0x7f5d84d3d190>,\n",
       " 'locked': <gensim.models.keyedvectors.Vocab at 0x7f5d84d4e050>,\n",
       " 'lonely': <gensim.models.keyedvectors.Vocab at 0x7f5d84d62ad0>,\n",
       " 'long': <gensim.models.keyedvectors.Vocab at 0x7f5d84d4e150>,\n",
       " 'look': <gensim.models.keyedvectors.Vocab at 0x7f5d84d4edd0>,\n",
       " \"lookin'\": <gensim.models.keyedvectors.Vocab at 0x7f5d84d60c10>,\n",
       " 'looking': <gensim.models.keyedvectors.Vocab at 0x7f5d84d59bd0>,\n",
       " 'lord': <gensim.models.keyedvectors.Vocab at 0x7f5d84d60490>,\n",
       " 'los': <gensim.models.keyedvectors.Vocab at 0x7f5d84d3d250>,\n",
       " 'lose': <gensim.models.keyedvectors.Vocab at 0x7f5d84d49a10>,\n",
       " 'losing': <gensim.models.keyedvectors.Vocab at 0x7f5d84ce7190>,\n",
       " 'lost': <gensim.models.keyedvectors.Vocab at 0x7f5d84d59610>,\n",
       " 'love': <gensim.models.keyedvectors.Vocab at 0x7f5d84d4c9d0>,\n",
       " 'loved': <gensim.models.keyedvectors.Vocab at 0x7f5d84d54f50>,\n",
       " 'lovelies': <gensim.models.keyedvectors.Vocab at 0x7f5d84d62b50>,\n",
       " 'lucky': <gensim.models.keyedvectors.Vocab at 0x7f5d84d4e950>,\n",
       " 'mad': <gensim.models.keyedvectors.Vocab at 0x7f5d84d54d90>,\n",
       " 'made': <gensim.models.keyedvectors.Vocab at 0x7f5d84d59f10>,\n",
       " 'madly': <gensim.models.keyedvectors.Vocab at 0x7f5d84d62a90>,\n",
       " 'magic': <gensim.models.keyedvectors.Vocab at 0x7f5d84d5c750>,\n",
       " 'make': <gensim.models.keyedvectors.Vocab at 0x7f5d84d4cf10>,\n",
       " 'makes': <gensim.models.keyedvectors.Vocab at 0x7f5d84d622d0>,\n",
       " 'making': <gensim.models.keyedvectors.Vocab at 0x7f5d84d62310>,\n",
       " 'man': <gensim.models.keyedvectors.Vocab at 0x7f5d84d54690>,\n",
       " 'manera': <gensim.models.keyedvectors.Vocab at 0x7f5d84d27e10>,\n",
       " 'many': <gensim.models.keyedvectors.Vocab at 0x7f5d84d5c950>,\n",
       " 'marry': <gensim.models.keyedvectors.Vocab at 0x7f5d84d59c50>,\n",
       " 'matando': <gensim.models.keyedvectors.Vocab at 0x7f5dcb52f290>,\n",
       " 'matter': <gensim.models.keyedvectors.Vocab at 0x7f5d84d5ca90>,\n",
       " 'me': <gensim.models.keyedvectors.Vocab at 0x7f5d84d49650>,\n",
       " 'mean': <gensim.models.keyedvectors.Vocab at 0x7f5d84d5c090>,\n",
       " 'meet': <gensim.models.keyedvectors.Vocab at 0x7f5d84d54790>,\n",
       " 'mente': <gensim.models.keyedvectors.Vocab at 0x7f5d84d3d910>,\n",
       " 'mess': <gensim.models.keyedvectors.Vocab at 0x7f5d84d54890>,\n",
       " 'message': <gensim.models.keyedvectors.Vocab at 0x7f5d84d54590>,\n",
       " 'messed': <gensim.models.keyedvectors.Vocab at 0x7f5d84d49e50>,\n",
       " 'mi': <gensim.models.keyedvectors.Vocab at 0x7f5d84d3d0d0>,\n",
       " 'might': <gensim.models.keyedvectors.Vocab at 0x7f5d84d54850>,\n",
       " 'mind': <gensim.models.keyedvectors.Vocab at 0x7f5d84d52090>,\n",
       " 'mine': <gensim.models.keyedvectors.Vocab at 0x7f5d84d5cd10>,\n",
       " 'minute': <gensim.models.keyedvectors.Vocab at 0x7f5d84d59410>,\n",
       " 'miracles': <gensim.models.keyedvectors.Vocab at 0x7f5d84d4ca50>,\n",
       " 'mirror': <gensim.models.keyedvectors.Vocab at 0x7f5d84d4ee10>,\n",
       " 'mismo': <gensim.models.keyedvectors.Vocab at 0x7f5dcb61d890>,\n",
       " 'miss': <gensim.models.keyedvectors.Vocab at 0x7f5d84d62810>,\n",
       " 'mom': <gensim.models.keyedvectors.Vocab at 0x7f5d84d60fd0>,\n",
       " 'money': <gensim.models.keyedvectors.Vocab at 0x7f5d84d59250>,\n",
       " 'moon': <gensim.models.keyedvectors.Vocab at 0x7f5d84d5c6d0>,\n",
       " 'moonshine': <gensim.models.keyedvectors.Vocab at 0x7f5d84d62e50>,\n",
       " 'more': <gensim.models.keyedvectors.Vocab at 0x7f5d84d4c150>,\n",
       " 'morning': <gensim.models.keyedvectors.Vocab at 0x7f5d84d62090>,\n",
       " 'move': <gensim.models.keyedvectors.Vocab at 0x7f5d84d62510>,\n",
       " 'much': <gensim.models.keyedvectors.Vocab at 0x7f5d84d4c910>,\n",
       " 'music': <gensim.models.keyedvectors.Vocab at 0x7f5d84d52990>,\n",
       " \"must've\": <gensim.models.keyedvectors.Vocab at 0x7f5d84d60a50>,\n",
       " 'my': <gensim.models.keyedvectors.Vocab at 0x7f5d84d49350>,\n",
       " 'myself': <gensim.models.keyedvectors.Vocab at 0x7f5d84d59110>,\n",
       " 'mí': <gensim.models.keyedvectors.Vocab at 0x7f5d84d27a50>,\n",
       " 'naked': <gensim.models.keyedvectors.Vocab at 0x7f5d84d59850>,\n",
       " 'name': <gensim.models.keyedvectors.Vocab at 0x7f5d84d52310>,\n",
       " 'natalie': <gensim.models.keyedvectors.Vocab at 0x7f5d84d62cd0>,\n",
       " 'naughty': <gensim.models.keyedvectors.Vocab at 0x7f5d84d62110>,\n",
       " 'need': <gensim.models.keyedvectors.Vocab at 0x7f5d84d597d0>,\n",
       " 'never': <gensim.models.keyedvectors.Vocab at 0x7f5d84d4c890>,\n",
       " 'new': <gensim.models.keyedvectors.Vocab at 0x7f5d84d52ad0>,\n",
       " 'next': <gensim.models.keyedvectors.Vocab at 0x7f5d84d52250>,\n",
       " 'nice': <gensim.models.keyedvectors.Vocab at 0x7f5d84d54810>,\n",
       " 'night': <gensim.models.keyedvectors.Vocab at 0x7f5d84d4cd90>,\n",
       " 'no': <gensim.models.keyedvectors.Vocab at 0x7f5d84d27f50>,\n",
       " 'nobody': <gensim.models.keyedvectors.Vocab at 0x7f5d84d60c50>,\n",
       " 'not': <gensim.models.keyedvectors.Vocab at 0x7f5d84d52710>,\n",
       " 'nothing': <gensim.models.keyedvectors.Vocab at 0x7f5d84d54710>,\n",
       " 'now': <gensim.models.keyedvectors.Vocab at 0x7f5d84d49050>,\n",
       " 'nowhere': <gensim.models.keyedvectors.Vocab at 0x7f5d84d498d0>,\n",
       " 'nude': <gensim.models.keyedvectors.Vocab at 0x7f5d84ce7610>,\n",
       " 'of': <gensim.models.keyedvectors.Vocab at 0x7f5d84d4e090>,\n",
       " 'off': <gensim.models.keyedvectors.Vocab at 0x7f5d84d59910>,\n",
       " 'oh': <gensim.models.keyedvectors.Vocab at 0x7f5d84d4c7d0>,\n",
       " 'ohhh': <gensim.models.keyedvectors.Vocab at 0x7f5d84d629d0>,\n",
       " 'ohhhh': <gensim.models.keyedvectors.Vocab at 0x7f5d84d628d0>,\n",
       " 'ok': <gensim.models.keyedvectors.Vocab at 0x7f5d84d49f10>,\n",
       " 'okay': <gensim.models.keyedvectors.Vocab at 0x7f5d84d52f90>,\n",
       " 'old': <gensim.models.keyedvectors.Vocab at 0x7f5d84d54910>,\n",
       " 'on': <gensim.models.keyedvectors.Vocab at 0x7f5d84d4c110>,\n",
       " 'once': <gensim.models.keyedvectors.Vocab at 0x7f5d84d621d0>,\n",
       " 'one': <gensim.models.keyedvectors.Vocab at 0x7f5d84d49c90>,\n",
       " 'only': <gensim.models.keyedvectors.Vocab at 0x7f5d84d5c990>,\n",
       " 'oo': <gensim.models.keyedvectors.Vocab at 0x7f5d84d62dd0>,\n",
       " 'ooh': <gensim.models.keyedvectors.Vocab at 0x7f5d84d529d0>,\n",
       " 'oohh': <gensim.models.keyedvectors.Vocab at 0x7f5d84ce70d0>,\n",
       " 'ooo': <gensim.models.keyedvectors.Vocab at 0x7f5d84ce7110>,\n",
       " 'oooh': <gensim.models.keyedvectors.Vocab at 0x7f5d84d54e50>,\n",
       " 'ooooh': <gensim.models.keyedvectors.Vocab at 0x7f5d84ce7510>,\n",
       " 'open': <gensim.models.keyedvectors.Vocab at 0x7f5d84d4e2d0>,\n",
       " 'or': <gensim.models.keyedvectors.Vocab at 0x7f5d84d4ca10>,\n",
       " 'other': <gensim.models.keyedvectors.Vocab at 0x7f5d84d60150>,\n",
       " 'our': <gensim.models.keyedvectors.Vocab at 0x7f5d84d59590>,\n",
       " 'out': <gensim.models.keyedvectors.Vocab at 0x7f5d84d4c2d0>,\n",
       " 'over': <gensim.models.keyedvectors.Vocab at 0x7f5d84d60dd0>,\n",
       " 'own': <gensim.models.keyedvectors.Vocab at 0x7f5d84d52950>,\n",
       " 'oírme': <gensim.models.keyedvectors.Vocab at 0x7f5d84d27d10>,\n",
       " 'pain': <gensim.models.keyedvectors.Vocab at 0x7f5d84d49d50>,\n",
       " 'para': <gensim.models.keyedvectors.Vocab at 0x7f5d84d4e610>,\n",
       " 'paradise': <gensim.models.keyedvectors.Vocab at 0x7f5d84d4ce50>,\n",
       " 'part': <gensim.models.keyedvectors.Vocab at 0x7f5d84ce7590>,\n",
       " 'party': <gensim.models.keyedvectors.Vocab at 0x7f5d84d5c350>,\n",
       " 'passed': <gensim.models.keyedvectors.Vocab at 0x7f5d84d60950>,\n",
       " 'past': <gensim.models.keyedvectors.Vocab at 0x7f5d84d60750>,\n",
       " 'pat': <gensim.models.keyedvectors.Vocab at 0x7f5d84d60e90>,\n",
       " 'pay': <gensim.models.keyedvectors.Vocab at 0x7f5d84d4c250>,\n",
       " 'perder': <gensim.models.keyedvectors.Vocab at 0x7f5d84d27a90>,\n",
       " 'perdiendo': <gensim.models.keyedvectors.Vocab at 0x7f5dcb61d450>,\n",
       " 'perfect': <gensim.models.keyedvectors.Vocab at 0x7f5d84d59a90>,\n",
       " 'pero': <gensim.models.keyedvectors.Vocab at 0x7f5dcb5b7190>,\n",
       " 'phone': <gensim.models.keyedvectors.Vocab at 0x7f5d84d54550>,\n",
       " 'pick': <gensim.models.keyedvectors.Vocab at 0x7f5d84d5cc90>,\n",
       " 'pimps': <gensim.models.keyedvectors.Vocab at 0x7f5d84ce7210>,\n",
       " 'pinky': <gensim.models.keyedvectors.Vocab at 0x7f5d84d5c650>,\n",
       " 'place': <gensim.models.keyedvectors.Vocab at 0x7f5d84d49a90>,\n",
       " 'play': <gensim.models.keyedvectors.Vocab at 0x7f5d84d60310>,\n",
       " 'player': <gensim.models.keyedvectors.Vocab at 0x7f5dcb524650>,\n",
       " 'please': <gensim.models.keyedvectors.Vocab at 0x7f5d84d602d0>,\n",
       " 'poor': <gensim.models.keyedvectors.Vocab at 0x7f5d84d60450>,\n",
       " 'pop': <gensim.models.keyedvectors.Vocab at 0x7f5dcb524590>,\n",
       " 'porque': <gensim.models.keyedvectors.Vocab at 0x7f5d84d7d290>,\n",
       " 'prefiero': <gensim.models.keyedvectors.Vocab at 0x7f5dcb5b7450>,\n",
       " 'press': <gensim.models.keyedvectors.Vocab at 0x7f5d84ce7690>,\n",
       " 'pretend': <gensim.models.keyedvectors.Vocab at 0x7f5d84d623d0>,\n",
       " 'pretty': <gensim.models.keyedvectors.Vocab at 0x7f5d84d59150>,\n",
       " 'probably': <gensim.models.keyedvectors.Vocab at 0x7f5d84d525d0>,\n",
       " 'promise': <gensim.models.keyedvectors.Vocab at 0x7f5d84d4ec50>,\n",
       " 'puedo': <gensim.models.keyedvectors.Vocab at 0x7f5d84d4e5d0>,\n",
       " 'put': <gensim.models.keyedvectors.Vocab at 0x7f5d84d4cad0>,\n",
       " 'que': <gensim.models.keyedvectors.Vocab at 0x7f5d84d4e590>,\n",
       " 'rain': <gensim.models.keyedvectors.Vocab at 0x7f5d84d5cb50>,\n",
       " 'rather': <gensim.models.keyedvectors.Vocab at 0x7f5d84d595d0>,\n",
       " 'ready': <gensim.models.keyedvectors.Vocab at 0x7f5d84d59a10>,\n",
       " 'real': <gensim.models.keyedvectors.Vocab at 0x7f5d84d59b10>,\n",
       " 'really': <gensim.models.keyedvectors.Vocab at 0x7f5d84d547d0>,\n",
       " 'reason': <gensim.models.keyedvectors.Vocab at 0x7f5d84d596d0>,\n",
       " 'remember': <gensim.models.keyedvectors.Vocab at 0x7f5d84d5c550>,\n",
       " 'rent': <gensim.models.keyedvectors.Vocab at 0x7f5d84d4c290>,\n",
       " 'rest': <gensim.models.keyedvectors.Vocab at 0x7f5d84d4e510>,\n",
       " 'right': <gensim.models.keyedvectors.Vocab at 0x7f5d84d4e450>,\n",
       " 'rings': <gensim.models.keyedvectors.Vocab at 0x7f5d84d5c690>,\n",
       " 'roll': <gensim.models.keyedvectors.Vocab at 0x7f5d84d62950>,\n",
       " 'rolling': <gensim.models.keyedvectors.Vocab at 0x7f5d84d60510>,\n",
       " 'room': <gensim.models.keyedvectors.Vocab at 0x7f5d84d60090>,\n",
       " 'run': <gensim.models.keyedvectors.Vocab at 0x7f5d84d49450>,\n",
       " 'runaway': <gensim.models.keyedvectors.Vocab at 0x7f5d84d60350>,\n",
       " 'running': <gensim.models.keyedvectors.Vocab at 0x7f5d84d60ed0>,\n",
       " 'sad': <gensim.models.keyedvectors.Vocab at 0x7f5d84d52ed0>,\n",
       " 'said': <gensim.models.keyedvectors.Vocab at 0x7f5dcb524490>,\n",
       " 'same': <gensim.models.keyedvectors.Vocab at 0x7f5d84d54410>,\n",
       " 'say': <gensim.models.keyedvectors.Vocab at 0x7f5d84d4eb50>,\n",
       " 'sayin': <gensim.models.keyedvectors.Vocab at 0x7f5d84ce71d0>,\n",
       " \"sayin'\": <gensim.models.keyedvectors.Vocab at 0x7f5d84d5cbd0>,\n",
       " 'saying': <gensim.models.keyedvectors.Vocab at 0x7f5d84d62f10>,\n",
       " 'scared': <gensim.models.keyedvectors.Vocab at 0x7f5d84d60610>,\n",
       " 'se': <gensim.models.keyedvectors.Vocab at 0x7f5d84d27fd0>,\n",
       " 'searching': <gensim.models.keyedvectors.Vocab at 0x7f5d84d543d0>,\n",
       " 'see': <gensim.models.keyedvectors.Vocab at 0x7f5d84d4e3d0>,\n",
       " 'seems': <gensim.models.keyedvectors.Vocab at 0x7f5d84d59b90>,\n",
       " 'sense': <gensim.models.keyedvectors.Vocab at 0x7f5d84d62750>,\n",
       " 'sex': <gensim.models.keyedvectors.Vocab at 0x7f5d84d4cdd0>,\n",
       " 'sexy': <gensim.models.keyedvectors.Vocab at 0x7f5d84d54390>,\n",
       " 'she': <gensim.models.keyedvectors.Vocab at 0x7f5d84d52e50>,\n",
       " \"she's\": <gensim.models.keyedvectors.Vocab at 0x7f5d84d52dd0>,\n",
       " 'sheets': <gensim.models.keyedvectors.Vocab at 0x7f5d84d4ea50>,\n",
       " 'shine': <gensim.models.keyedvectors.Vocab at 0x7f5d84d62710>,\n",
       " 'shining': <gensim.models.keyedvectors.Vocab at 0x7f5d84d4e810>,\n",
       " 'shit': <gensim.models.keyedvectors.Vocab at 0x7f5d84d5c910>,\n",
       " 'shoot': <gensim.models.keyedvectors.Vocab at 0x7f5d84ce7310>,\n",
       " 'shot': <gensim.models.keyedvectors.Vocab at 0x7f5d84d49cd0>,\n",
       " 'should': <gensim.models.keyedvectors.Vocab at 0x7f5d84d5cf10>,\n",
       " \"should've\": <gensim.models.keyedvectors.Vocab at 0x7f5d84d54a50>,\n",
       " 'shoulder': <gensim.models.keyedvectors.Vocab at 0x7f5d84d5c110>,\n",
       " 'shoulders': <gensim.models.keyedvectors.Vocab at 0x7f5d84d59990>,\n",
       " 'show': <gensim.models.keyedvectors.Vocab at 0x7f5d84d524d0>,\n",
       " 'shows': <gensim.models.keyedvectors.Vocab at 0x7f5d84d4ced0>,\n",
       " 'side': <gensim.models.keyedvectors.Vocab at 0x7f5d84d5cad0>,\n",
       " 'siente': <gensim.models.keyedvectors.Vocab at 0x7f5dcb524bd0>,\n",
       " 'silk': <gensim.models.keyedvectors.Vocab at 0x7f5d84d4ea10>,\n",
       " 'since': <gensim.models.keyedvectors.Vocab at 0x7f5d84d62490>,\n",
       " 'sing': <gensim.models.keyedvectors.Vocab at 0x7f5d84d52c10>,\n",
       " 'singing': <gensim.models.keyedvectors.Vocab at 0x7f5d84d49fd0>,\n",
       " 'sit': <gensim.models.keyedvectors.Vocab at 0x7f5d84d600d0>,\n",
       " 'sleep': <gensim.models.keyedvectors.Vocab at 0x7f5d84d62a50>,\n",
       " 'slow': <gensim.models.keyedvectors.Vocab at 0x7f5d84d62690>,\n",
       " 'smile': <gensim.models.keyedvectors.Vocab at 0x7f5dcb5df9d0>,\n",
       " 'smiling': <gensim.models.keyedvectors.Vocab at 0x7f5d84d52210>,\n",
       " 'so': <gensim.models.keyedvectors.Vocab at 0x7f5d84d49910>,\n",
       " 'some': <gensim.models.keyedvectors.Vocab at 0x7f5dcb524310>,\n",
       " 'someone': <gensim.models.keyedvectors.Vocab at 0x7f5d84d5cd50>,\n",
       " 'something': <gensim.models.keyedvectors.Vocab at 0x7f5d84d4cc10>,\n",
       " 'somewhere': <gensim.models.keyedvectors.Vocab at 0x7f5d84d5cf90>,\n",
       " 'soon': <gensim.models.keyedvectors.Vocab at 0x7f5d84d5c810>,\n",
       " 'sorrow': <gensim.models.keyedvectors.Vocab at 0x7f5d84d49dd0>,\n",
       " 'special': <gensim.models.keyedvectors.Vocab at 0x7f5d84d62e90>,\n",
       " 'spell': <gensim.models.keyedvectors.Vocab at 0x7f5d84d60390>,\n",
       " 'spend': <gensim.models.keyedvectors.Vocab at 0x7f5d84d4cd50>,\n",
       " 'spiritual': <gensim.models.keyedvectors.Vocab at 0x7f5d84d4cc50>,\n",
       " 'stand': <gensim.models.keyedvectors.Vocab at 0x7f5d84d609d0>,\n",
       " 'standing': <gensim.models.keyedvectors.Vocab at 0x7f5d84d49210>,\n",
       " 'star': <gensim.models.keyedvectors.Vocab at 0x7f5d84d5ce90>,\n",
       " 'stares': <gensim.models.keyedvectors.Vocab at 0x7f5d84d54190>,\n",
       " 'stars': <gensim.models.keyedvectors.Vocab at 0x7f5d84d52c90>,\n",
       " 'start': <gensim.models.keyedvectors.Vocab at 0x7f5d84d62210>,\n",
       " 'stay': <gensim.models.keyedvectors.Vocab at 0x7f5d84d4e4d0>,\n",
       " 'still': <gensim.models.keyedvectors.Vocab at 0x7f5d84d54fd0>,\n",
       " 'stone': <gensim.models.keyedvectors.Vocab at 0x7f5d84d60550>,\n",
       " 'stop': <gensim.models.keyedvectors.Vocab at 0x7f5d84d593d0>,\n",
       " 'stops': <gensim.models.keyedvectors.Vocab at 0x7f5d84d54150>,\n",
       " 'store': <gensim.models.keyedvectors.Vocab at 0x7f5d84d491d0>,\n",
       " 'straight': <gensim.models.keyedvectors.Vocab at 0x7f5d84d54c90>,\n",
       " 'strange': <gensim.models.keyedvectors.Vocab at 0x7f5d84ce7050>,\n",
       " 'strawberry': <gensim.models.keyedvectors.Vocab at 0x7f5d84d4e890>,\n",
       " 'strut': <gensim.models.keyedvectors.Vocab at 0x7f5d84d549d0>,\n",
       " 'stuck': <gensim.models.keyedvectors.Vocab at 0x7f5d84d59ed0>,\n",
       " 'sure': <gensim.models.keyedvectors.Vocab at 0x7f5d84d52810>,\n",
       " 'swear': <gensim.models.keyedvectors.Vocab at 0x7f5d84d52390>,\n",
       " 'sweet': <gensim.models.keyedvectors.Vocab at 0x7f5d84ce74d0>,\n",
       " 'take': <gensim.models.keyedvectors.Vocab at 0x7f5d84d49a50>,\n",
       " 'takes': <gensim.models.keyedvectors.Vocab at 0x7f5d84d4ce10>,\n",
       " 'taking': <gensim.models.keyedvectors.Vocab at 0x7f5d84d60850>,\n",
       " 'talk': <gensim.models.keyedvectors.Vocab at 0x7f5d84d52050>,\n",
       " \"talkin'\": <gensim.models.keyedvectors.Vocab at 0x7f5d84d4eb10>,\n",
       " 'talking': <gensim.models.keyedvectors.Vocab at 0x7f5d84d60110>,\n",
       " 'tan': <gensim.models.keyedvectors.Vocab at 0x7f5dcb52f210>,\n",
       " 'tears': <gensim.models.keyedvectors.Vocab at 0x7f5d84d60a10>,\n",
       " 'tell': <gensim.models.keyedvectors.Vocab at 0x7f5d84d4ee50>,\n",
       " 'tempo': <gensim.models.keyedvectors.Vocab at 0x7f5d84ce76d0>,\n",
       " 'tengo': <gensim.models.keyedvectors.Vocab at 0x7f5d84d3d550>,\n",
       " 'than': <gensim.models.keyedvectors.Vocab at 0x7f5d84d4c190>,\n",
       " 'that': <gensim.models.keyedvectors.Vocab at 0x7f5d84d4c490>,\n",
       " \"that's\": <gensim.models.keyedvectors.Vocab at 0x7f5d84d49510>,\n",
       " 'the': <gensim.models.keyedvectors.Vocab at 0x7f5d84d49110>,\n",
       " 'their': <gensim.models.keyedvectors.Vocab at 0x7f5d84d52750>,\n",
       " 'them': <gensim.models.keyedvectors.Vocab at 0x7f5d84d542d0>,\n",
       " 'then': <gensim.models.keyedvectors.Vocab at 0x7f5d84d52a10>,\n",
       " 'there': <gensim.models.keyedvectors.Vocab at 0x7f5d84d4e490>,\n",
       " \"there'll\": <gensim.models.keyedvectors.Vocab at 0x7f5d84d5cb10>,\n",
       " \"there's\": <gensim.models.keyedvectors.Vocab at 0x7f5d84d54050>,\n",
       " 'these': <gensim.models.keyedvectors.Vocab at 0x7f5d84d59c90>,\n",
       " 'they': <gensim.models.keyedvectors.Vocab at 0x7f5d84d4c350>,\n",
       " \"they're\": <gensim.models.keyedvectors.Vocab at 0x7f5d84d52cd0>,\n",
       " 'thing': <gensim.models.keyedvectors.Vocab at 0x7f5d84d499d0>,\n",
       " 'things': <gensim.models.keyedvectors.Vocab at 0x7f5d84d521d0>,\n",
       " 'think': <gensim.models.keyedvectors.Vocab at 0x7f5d84d52f10>,\n",
       " 'thinking': <gensim.models.keyedvectors.Vocab at 0x7f5d84d4c450>,\n",
       " 'this': <gensim.models.keyedvectors.Vocab at 0x7f5d84d49290>,\n",
       " 'though': <gensim.models.keyedvectors.Vocab at 0x7f5d84d60590>,\n",
       " 'three': <gensim.models.keyedvectors.Vocab at 0x7f5d84d4c790>,\n",
       " 'through': <gensim.models.keyedvectors.Vocab at 0x7f5d84d49310>,\n",
       " 'throw': <gensim.models.keyedvectors.Vocab at 0x7f5d84d545d0>,\n",
       " 'tiempo': <gensim.models.keyedvectors.Vocab at 0x7f5d84d4e690>,\n",
       " 'tiene': <gensim.models.keyedvectors.Vocab at 0x7f5dcb625090>,\n",
       " 'time': <gensim.models.keyedvectors.Vocab at 0x7f5d84d4cd10>,\n",
       " 'times': <gensim.models.keyedvectors.Vocab at 0x7f5d84d62590>,\n",
       " 'to': <gensim.models.keyedvectors.Vocab at 0x7f5d84d490d0>,\n",
       " 'today': <gensim.models.keyedvectors.Vocab at 0x7f5d84d49e90>,\n",
       " 'todo': <gensim.models.keyedvectors.Vocab at 0x7f5d84d3d8d0>,\n",
       " 'todos': <gensim.models.keyedvectors.Vocab at 0x7f5d84d3d110>,\n",
       " 'toe': <gensim.models.keyedvectors.Vocab at 0x7f5d84d5c790>,\n",
       " 'told': <gensim.models.keyedvectors.Vocab at 0x7f5d84d60d10>,\n",
       " 'tomorrow': <gensim.models.keyedvectors.Vocab at 0x7f5d84d49f50>,\n",
       " 'tonight': <gensim.models.keyedvectors.Vocab at 0x7f5d84d49f90>,\n",
       " 'too': <gensim.models.keyedvectors.Vocab at 0x7f5d84d4e110>,\n",
       " 'took': <gensim.models.keyedvectors.Vocab at 0x7f5d84d60ad0>,\n",
       " 'top': <gensim.models.keyedvectors.Vocab at 0x7f5d84d49790>,\n",
       " 'touch': <gensim.models.keyedvectors.Vocab at 0x7f5d84d62910>,\n",
       " 'train': <gensim.models.keyedvectors.Vocab at 0x7f5d84d54c50>,\n",
       " 'treasure': <gensim.models.keyedvectors.Vocab at 0x7f5d84d5ce10>,\n",
       " 'true': <gensim.models.keyedvectors.Vocab at 0x7f5d84d5ced0>,\n",
       " 'truth': <gensim.models.keyedvectors.Vocab at 0x7f5d84d60d50>,\n",
       " 'try': <gensim.models.keyedvectors.Vocab at 0x7f5d84d5c4d0>,\n",
       " 'trying': <gensim.models.keyedvectors.Vocab at 0x7f5d84d52d90>,\n",
       " 'tryna': <gensim.models.keyedvectors.Vocab at 0x7f5d84d496d0>,\n",
       " 'tu': <gensim.models.keyedvectors.Vocab at 0x7f5d84d3d310>,\n",
       " 'turn': <gensim.models.keyedvectors.Vocab at 0x7f5dcb524610>,\n",
       " 'twenty': <gensim.models.keyedvectors.Vocab at 0x7f5d84d4ed50>,\n",
       " 'two': <gensim.models.keyedvectors.Vocab at 0x7f5d84d4c750>,\n",
       " 'uh': <gensim.models.keyedvectors.Vocab at 0x7f5d84d4c850>,\n",
       " 'una': <gensim.models.keyedvectors.Vocab at 0x7f5d84d27c90>,\n",
       " 'understand': <gensim.models.keyedvectors.Vocab at 0x7f5d84d54c10>,\n",
       " 'up': <gensim.models.keyedvectors.Vocab at 0x7f5d84d49750>,\n",
       " 'uptown': <gensim.models.keyedvectors.Vocab at 0x7f5d84d59350>,\n",
       " 'us': <gensim.models.keyedvectors.Vocab at 0x7f5d84d4eed0>,\n",
       " 'use': <gensim.models.keyedvectors.Vocab at 0x7f5d84d62390>,\n",
       " 'va': <gensim.models.keyedvectors.Vocab at 0x7f5d84d27b90>,\n",
       " 'veins': <gensim.models.keyedvectors.Vocab at 0x7f5d84ce7350>,\n",
       " 'ver': <gensim.models.keyedvectors.Vocab at 0x7f5d84d3d410>,\n",
       " 'versace': <gensim.models.keyedvectors.Vocab at 0x7f5d84d59890>,\n",
       " 'verse': <gensim.models.keyedvectors.Vocab at 0x7f5d84d5c9d0>,\n",
       " 'vez': <gensim.models.keyedvectors.Vocab at 0x7f5dcb61d190>,\n",
       " 'voices': <gensim.models.keyedvectors.Vocab at 0x7f5d84d62fd0>,\n",
       " 'wait': <gensim.models.keyedvectors.Vocab at 0x7f5d84d4e390>,\n",
       " \"waitin'\": <gensim.models.keyedvectors.Vocab at 0x7f5d84d62b10>,\n",
       " 'waiting': <gensim.models.keyedvectors.Vocab at 0x7f5d84d60810>,\n",
       " 'wake': <gensim.models.keyedvectors.Vocab at 0x7f5dcb524550>,\n",
       " 'walk': <gensim.models.keyedvectors.Vocab at 0x7f5d84d5c410>,\n",
       " 'wall': <gensim.models.keyedvectors.Vocab at 0x7f5d84d60c90>,\n",
       " 'wanna': <gensim.models.keyedvectors.Vocab at 0x7f5d84d4ca90>,\n",
       " 'want': <gensim.models.keyedvectors.Vocab at 0x7f5dcb524350>,\n",
       " 'wanted': <gensim.models.keyedvectors.Vocab at 0x7f5d84d5c390>,\n",
       " \"warmin'\": <gensim.models.keyedvectors.Vocab at 0x7f5d84d59b50>,\n",
       " 'was': <gensim.models.keyedvectors.Vocab at 0x7f5d84d52b90>,\n",
       " 'watch': <gensim.models.keyedvectors.Vocab at 0x7f5d84d54ed0>,\n",
       " 'way': <gensim.models.keyedvectors.Vocab at 0x7f5d84d49710>,\n",
       " 'ways': <gensim.models.keyedvectors.Vocab at 0x7f5d84d4e290>,\n",
       " 'we': <gensim.models.keyedvectors.Vocab at 0x7f5d84d4ebd0>,\n",
       " \"we'll\": <gensim.models.keyedvectors.Vocab at 0x7f5d84d59d90>,\n",
       " \"we're\": <gensim.models.keyedvectors.Vocab at 0x7f5d84d59650>,\n",
       " 'welcome': <gensim.models.keyedvectors.Vocab at 0x7f5d84ce7090>,\n",
       " 'well': <gensim.models.keyedvectors.Vocab at 0x7f5d84d4ef90>,\n",
       " 'went': <gensim.models.keyedvectors.Vocab at 0x7f5d84d62ed0>,\n",
       " 'were': <gensim.models.keyedvectors.Vocab at 0x7f5d84d54b10>,\n",
       " 'what': <gensim.models.keyedvectors.Vocab at 0x7f5d84d4c1d0>,\n",
       " \"what's\": <gensim.models.keyedvectors.Vocab at 0x7f5dcb524950>,\n",
       " 'when': <gensim.models.keyedvectors.Vocab at 0x7f5d84d52410>,\n",
       " 'where': <gensim.models.keyedvectors.Vocab at 0x7f5d84d49ad0>,\n",
       " \"where'd\": <gensim.models.keyedvectors.Vocab at 0x7f5d84ce7410>,\n",
       " 'while': <gensim.models.keyedvectors.Vocab at 0x7f5d84d541d0>,\n",
       " 'white': <gensim.models.keyedvectors.Vocab at 0x7f5d84d4ead0>,\n",
       " 'who': <gensim.models.keyedvectors.Vocab at 0x7f5d84d59210>,\n",
       " \"who's\": <gensim.models.keyedvectors.Vocab at 0x7f5d84d4ee90>,\n",
       " 'whoa': <gensim.models.keyedvectors.Vocab at 0x7f5d84d5c050>,\n",
       " 'whole': <gensim.models.keyedvectors.Vocab at 0x7f5d84d49490>,\n",
       " 'whoo': <gensim.models.keyedvectors.Vocab at 0x7f5d84d59310>,\n",
       " 'why': <gensim.models.keyedvectors.Vocab at 0x7f5d84d49550>,\n",
       " 'wild': <gensim.models.keyedvectors.Vocab at 0x7f5d84d62250>,\n",
       " 'will': <gensim.models.keyedvectors.Vocab at 0x7f5d84d4ec10>,\n",
       " 'wish': <gensim.models.keyedvectors.Vocab at 0x7f5d84d52550>,\n",
       " 'with': <gensim.models.keyedvectors.Vocab at 0x7f5dcb524210>,\n",
       " 'without': <gensim.models.keyedvectors.Vocab at 0x7f5d84d52d50>,\n",
       " 'woman': <gensim.models.keyedvectors.Vocab at 0x7f5d84d54dd0>,\n",
       " \"won't\": <gensim.models.keyedvectors.Vocab at 0x7f5d84d52e90>,\n",
       " 'word': <gensim.models.keyedvectors.Vocab at 0x7f5d84d4eb90>,\n",
       " 'words': <gensim.models.keyedvectors.Vocab at 0x7f5d84d608d0>,\n",
       " 'work': <gensim.models.keyedvectors.Vocab at 0x7f5d84d605d0>,\n",
       " 'world': <gensim.models.keyedvectors.Vocab at 0x7f5d84d49190>,\n",
       " 'worth': <gensim.models.keyedvectors.Vocab at 0x7f5d84d60b90>,\n",
       " 'would': <gensim.models.keyedvectors.Vocab at 0x7f5d84d52450>,\n",
       " \"wouldn't\": <gensim.models.keyedvectors.Vocab at 0x7f5d84d59050>,\n",
       " 'wrong': <gensim.models.keyedvectors.Vocab at 0x7f5d84d60690>,\n",
       " 'y': <gensim.models.keyedvectors.Vocab at 0x7f5d84d4e6d0>,\n",
       " \"y'all\": <gensim.models.keyedvectors.Vocab at 0x7f5d84d594d0>,\n",
       " 'ya': <gensim.models.keyedvectors.Vocab at 0x7f5dcb524f10>,\n",
       " 'yeah': <gensim.models.keyedvectors.Vocab at 0x7f5d84d4c810>,\n",
       " 'years': <gensim.models.keyedvectors.Vocab at 0x7f5d84d60910>,\n",
       " 'yes': <gensim.models.keyedvectors.Vocab at 0x7f5d84d546d0>,\n",
       " 'yesterday': <gensim.models.keyedvectors.Vocab at 0x7f5d84d60890>,\n",
       " 'yo': <gensim.models.keyedvectors.Vocab at 0x7f5d84d3d1d0>,\n",
       " 'you': <gensim.models.keyedvectors.Vocab at 0x7f5d84d49590>,\n",
       " \"you'll\": <gensim.models.keyedvectors.Vocab at 0x7f5d84d54950>,\n",
       " \"you're\": <gensim.models.keyedvectors.Vocab at 0x7f5d84d54090>,\n",
       " \"you've\": <gensim.models.keyedvectors.Vocab at 0x7f5d84d60cd0>,\n",
       " 'young': <gensim.models.keyedvectors.Vocab at 0x7f5d84d5c290>,\n",
       " 'your': <gensim.models.keyedvectors.Vocab at 0x7f5d84d4cbd0>,\n",
       " 'yourself': <gensim.models.keyedvectors.Vocab at 0x7f5d84d59e90>,\n",
       " 'zoom': <gensim.models.keyedvectors.Vocab at 0x7f5d84d62f90>,\n",
       " '¿dónde': <gensim.models.keyedvectors.Vocab at 0x7f5d84d27e90>,\n",
       " '¿puedes': <gensim.models.keyedvectors.Vocab at 0x7f5d84d27ed0>}"
      ]
     },
     "execution_count": 22,
     "metadata": {},
     "output_type": "execute_result"
    }
   ],
   "source": [
    "w2v_model.wv.vocab"
   ]
  },
  {
   "cell_type": "markdown",
   "metadata": {
    "id": "fC9mZ8DPk-UC"
   },
   "source": [
    "### 3 - Entrenar el modelo generador"
   ]
  },
  {
   "cell_type": "code",
   "execution_count": 13,
   "metadata": {
    "colab": {
     "base_uri": "https://localhost:8080/"
    },
    "id": "QSp-x0PAsq56",
    "outputId": "e7931c56-a89e-4a62-b140-84b3e6a562d8"
   },
   "outputs": [
    {
     "name": "stdout",
     "output_type": "stream",
     "text": [
      "Loss after epoch 0: 225532.78125\n",
      "Loss after epoch 1: 143554.96875\n",
      "Loss after epoch 2: 141304.21875\n",
      "Loss after epoch 3: 145517.40625\n",
      "Loss after epoch 4: 141690.4375\n",
      "Loss after epoch 5: 136914.625\n",
      "Loss after epoch 6: 127180.9375\n",
      "Loss after epoch 7: 109596.75\n",
      "Loss after epoch 8: 104740.625\n",
      "Loss after epoch 9: 102631.125\n",
      "Loss after epoch 10: 98675.0\n",
      "Loss after epoch 11: 96093.625\n",
      "Loss after epoch 12: 93729.625\n",
      "Loss after epoch 13: 91034.25\n",
      "Loss after epoch 14: 89253.75\n",
      "Loss after epoch 15: 87733.625\n",
      "Loss after epoch 16: 86131.5\n",
      "Loss after epoch 17: 85297.75\n",
      "Loss after epoch 18: 79307.75\n",
      "Loss after epoch 19: 77399.25\n",
      "Loss after epoch 20: 77704.0\n",
      "Loss after epoch 21: 75957.75\n",
      "Loss after epoch 22: 75520.0\n",
      "Loss after epoch 23: 75884.5\n",
      "Loss after epoch 24: 75135.25\n",
      "Loss after epoch 25: 75236.75\n",
      "Loss after epoch 26: 74138.25\n",
      "Loss after epoch 27: 73890.25\n",
      "Loss after epoch 28: 73727.0\n",
      "Loss after epoch 29: 72680.5\n",
      "Loss after epoch 30: 74113.25\n",
      "Loss after epoch 31: 73990.25\n",
      "Loss after epoch 32: 72307.75\n",
      "Loss after epoch 33: 72889.0\n",
      "Loss after epoch 34: 72031.5\n",
      "Loss after epoch 35: 72257.0\n",
      "Loss after epoch 36: 72718.25\n",
      "Loss after epoch 37: 70731.0\n",
      "Loss after epoch 38: 71722.0\n",
      "Loss after epoch 39: 70975.25\n",
      "Loss after epoch 40: 71549.0\n",
      "Loss after epoch 41: 71023.75\n",
      "Loss after epoch 42: 70717.25\n",
      "Loss after epoch 43: 72021.5\n",
      "Loss after epoch 44: 70496.0\n",
      "Loss after epoch 45: 71823.75\n",
      "Loss after epoch 46: 68370.75\n",
      "Loss after epoch 47: 65348.5\n",
      "Loss after epoch 48: 65080.0\n",
      "Loss after epoch 49: 66114.0\n"
     ]
    },
    {
     "data": {
      "text/plain": [
       "(820625, 1345000)"
      ]
     },
     "execution_count": 13,
     "metadata": {},
     "output_type": "execute_result"
    }
   ],
   "source": [
    "# Entrenamos el modelo generador de vectores\n",
    "# Utilizamos nuestro callback\n",
    "w2v_model.train(sentence_tokens,\n",
    "                 total_examples=w2v_model.corpus_count,\n",
    "                 epochs=50,\n",
    "                 compute_loss = True,\n",
    "                 callbacks=[callback()]\n",
    "                 )"
   ]
  },
  {
   "cell_type": "markdown",
   "metadata": {
    "id": "ddT9NVuNlCAe"
   },
   "source": [
    "### 4 - Ensayar"
   ]
  },
  {
   "cell_type": "code",
   "execution_count": 25,
   "metadata": {
    "colab": {
     "base_uri": "https://localhost:8080/"
    },
    "id": "6cHN9xGLuPEm",
    "outputId": "8c40e256-06f4-41da-a5f1-8ee6ae5fa5cc"
   },
   "outputs": [
    {
     "data": {
      "text/plain": [
       "[('store', 0.8884459733963013),\n",
       " ('blues', 0.713279664516449),\n",
       " ('higher', 0.6362438797950745),\n",
       " ('shot', 0.6126545071601868),\n",
       " ('voices', 0.6095480918884277),\n",
       " ('favourite', 0.5944533348083496),\n",
       " ('stares', 0.5807141065597534),\n",
       " ('part', 0.5764656066894531),\n",
       " ('distance', 0.5751705169677734),\n",
       " ('chance', 0.5734277963638306)]"
      ]
     },
     "execution_count": 25,
     "metadata": {},
     "output_type": "execute_result"
    }
   ],
   "source": [
    "# Palabras que MÁS se relacionan con...:\n",
    "w2v_model.wv.most_similar(positive=[\"liquor\"], topn=10)"
   ]
  },
  {
   "cell_type": "code",
   "execution_count": 24,
   "metadata": {
    "colab": {
     "base_uri": "https://localhost:8080/"
    },
    "id": "47HiU5gdkdMq",
    "outputId": "6f5aea60-ddfd-4ad3-c0f3-795bbae4cfa9"
   },
   "outputs": [
    {
     "data": {
      "text/plain": [
       "[(\"gon'\", -0.09452524036169052),\n",
       " ('say', -0.10013270378112793),\n",
       " ('put', -0.14427734911441803),\n",
       " ('goodbye', -0.15772822499275208),\n",
       " ('again', -0.1589554250240326),\n",
       " ('ask', -0.16355621814727783),\n",
       " ('do', -0.1636718511581421),\n",
       " ('who', -0.1663840413093567),\n",
       " (\"let's\", -0.16666346788406372),\n",
       " ('was', -0.1676674485206604)]"
      ]
     },
     "execution_count": 24,
     "metadata": {},
     "output_type": "execute_result"
    }
   ],
   "source": [
    "# Palabras que MENOS se relacionan con...:\n",
    "w2v_model.wv.most_similar(negative=[\"heaven\"], topn=10)"
   ]
  },
  {
   "cell_type": "code",
   "execution_count": 34,
   "metadata": {
    "colab": {
     "base_uri": "https://localhost:8080/"
    },
    "id": "5_ffG8aeLvPc",
    "outputId": "dc94ed9b-17f5-44de-e863-c332d1341bea"
   },
   "outputs": [
    {
     "data": {
      "text/plain": [
       "[('favorite', 0.8822276592254639),\n",
       " ('best', 0.6266688108444214),\n",
       " ('press', 0.5960018634796143),\n",
       " ('higher', 0.5903213024139404),\n",
       " ('lucky', 0.5778060555458069),\n",
       " ('sing', 0.5649850368499756),\n",
       " ('true', 0.5616679191589355),\n",
       " ('promise', 0.5542293787002563),\n",
       " ('friend', 0.5536810755729675),\n",
       " ('because', 0.5524802803993225)]"
      ]
     },
     "execution_count": 34,
     "metadata": {},
     "output_type": "execute_result"
    }
   ],
   "source": [
    "# Palabras que MAS se relacionan con...:\n",
    "w2v_model.wv.most_similar(positive=[\"mom\"], topn=10)"
   ]
  },
  {
   "cell_type": "code",
   "execution_count": 23,
   "metadata": {
    "colab": {
     "base_uri": "https://localhost:8080/"
    },
    "id": "DT4Rvno2mD65",
    "outputId": "e0ae2a57-705d-4de4-cc38-84fff4760339"
   },
   "outputs": [
    {
     "data": {
      "text/plain": [
       "[('sheets', 0.9740362167358398),\n",
       " ('silk', 0.9482098817825317),\n",
       " ('white', 0.874255895614624),\n",
       " ('lovelies', 0.7435137033462524),\n",
       " ('roll', 0.6556969881057739),\n",
       " ('gave', 0.6503945589065552),\n",
       " ('hours', 0.6384258270263672),\n",
       " ('stops', 0.6323196291923523),\n",
       " ('calling', 0.6246854662895203),\n",
       " ('stares', 0.610127329826355)]"
      ]
     },
     "execution_count": 23,
     "metadata": {},
     "output_type": "execute_result"
    }
   ],
   "source": [
    "# Palabras que MÁS se relacionan con...:\n",
    "w2v_model.wv.most_similar(positive=[\"diamonds\"], topn=10)"
   ]
  },
  {
   "cell_type": "code",
   "execution_count": 27,
   "metadata": {
    "colab": {
     "base_uri": "https://localhost:8080/"
    },
    "id": "XPLDPgzBmQXt",
    "outputId": "a8c9ff8c-2f6b-4f58-b400-ad80cf8fd543"
   },
   "outputs": [
    {
     "data": {
      "text/plain": [
       "[('champagne', 0.9961233735084534),\n",
       " ('ice', 0.9105430841445923),\n",
       " ('ohhh', 0.8022201061248779),\n",
       " ('nude', 0.6799787878990173),\n",
       " ('pinky', 0.676993727684021)]"
      ]
     },
     "execution_count": 27,
     "metadata": {},
     "output_type": "execute_result"
    }
   ],
   "source": [
    "# Palabras que MÁS se relacionan con...:\n",
    "w2v_model.wv.most_similar(positive=[\"strawberry\"], topn=5)"
   ]
  },
  {
   "cell_type": "code",
   "execution_count": 36,
   "metadata": {
    "colab": {
     "base_uri": "https://localhost:8080/"
    },
    "id": "L_UvHPMMklOr",
    "outputId": "e48e9b70-ad95-4157-f0b7-79ad7360e65e"
   },
   "outputs": [
    {
     "data": {
      "text/plain": [
       "[('shoot', 0.9529938101768494),\n",
       " ('brain', 0.7390738725662231),\n",
       " ('voices', 0.7191059589385986),\n",
       " ('tears', 0.7164756059646606),\n",
       " ('rest', 0.6844604015350342),\n",
       " ('bed', 0.6818910837173462),\n",
       " ('without', 0.6600667834281921),\n",
       " ('finesse', 0.6587929725646973),\n",
       " ('favourite', 0.6511949300765991),\n",
       " ('hate', 0.634775698184967)]"
      ]
     },
     "execution_count": 36,
     "metadata": {},
     "output_type": "execute_result"
    }
   ],
   "source": [
    "# Palabras que MÁS se relacionan con...:\n",
    "w2v_model.wv.most_similar(positive=[\"veins\"])"
   ]
  },
  {
   "cell_type": "markdown",
   "metadata": {
    "id": "_g8UVWe6lFmh"
   },
   "source": [
    "### 5 - Visualizar agrupación de vectores"
   ]
  },
  {
   "cell_type": "code",
   "execution_count": 20,
   "metadata": {
    "id": "pDxEVXAivjr9"
   },
   "outputs": [],
   "source": [
    "from sklearn.decomposition import IncrementalPCA    \n",
    "from sklearn.manifold import TSNE                   \n",
    "import numpy as np                                  \n",
    "\n",
    "def reduce_dimensions(model):\n",
    "    num_dimensions = 2  \n",
    "\n",
    "    vectors = np.asarray(model.wv.vectors)\n",
    "    labels = np.asarray(model.wv.index2word)  \n",
    "\n",
    "    tsne = TSNE(n_components=num_dimensions, random_state=0)\n",
    "    vectors = tsne.fit_transform(vectors)\n",
    "\n",
    "    x_vals = [v[0] for v in vectors]\n",
    "    y_vals = [v[1] for v in vectors]\n",
    "    return x_vals, y_vals, labels"
   ]
  },
  {
   "cell_type": "code",
   "execution_count": 21,
   "metadata": {
    "colab": {
     "base_uri": "https://localhost:8080/",
     "height": 542
    },
    "id": "NCCXtDpcugmd",
    "outputId": "16635352-1883-4f7b-d87c-3b065b08aa46"
   },
   "outputs": [
    {
     "data": {
      "text/html": [
       "<html>\n",
       "<head><meta charset=\"utf-8\" /></head>\n",
       "<body>\n",
       "    <div>\n",
       "            <script src=\"https://cdnjs.cloudflare.com/ajax/libs/mathjax/2.7.5/MathJax.js?config=TeX-AMS-MML_SVG\"></script><script type=\"text/javascript\">if (window.MathJax) {MathJax.Hub.Config({SVG: {font: \"STIX-Web\"}});}</script>\n",
       "                <script type=\"text/javascript\">window.PlotlyConfig = {MathJaxConfig: 'local'};</script>\n",
       "        <script src=\"https://cdn.plot.ly/plotly-latest.min.js\"></script>    \n",
       "            <div id=\"bb795c85-2006-40b7-b57d-53d22ac2fe06\" class=\"plotly-graph-div\" style=\"height:525px; width:100%;\"></div>\n",
       "            <script type=\"text/javascript\">\n",
       "                \n",
       "                    window.PLOTLYENV=window.PLOTLYENV || {};\n",
       "                    \n",
       "                if (document.getElementById(\"bb795c85-2006-40b7-b57d-53d22ac2fe06\")) {\n",
       "                    Plotly.newPlot(\n",
       "                        'bb795c85-2006-40b7-b57d-53d22ac2fe06',\n",
       "                        [{\"hoverlabel\": {\"namelength\": 0}, \"hovertemplate\": \"x=%{x}<br>y=%{y}<br>text=%{text}\", \"legendgroup\": \"\", \"marker\": {\"color\": \"#636efa\", \"symbol\": \"circle\"}, \"mode\": \"markers+text\", \"name\": \"\", \"showlegend\": false, \"text\": [\"you\", \"i\", \"the\", \"me\", \"it\", \"to\", \"oh\", \"my\", \"and\", \"a\", \"for\", \"yeah\", \"in\", \"on\", \"so\", \"up\", \"what\", \"all\", \"i'm\", \"like\", \"your\", \"that\", \"got\", \"don't\", \"no\", \"know\", \"just\", \"we\", \"her\", \"is\", \"do\", \"baby\", \"be\", \"girl\", \"but\", \"she\", \"it's\", \"this\", \"when\", \"you're\", \"if\", \"of\", \"'cause\", \"go\", \"take\", \"now\", \"can\", \"with\", \"out\", \"love\", \"are\", \"that's\", \"way\", \"get\", \"see\", \"make\", \"say\", \"i'll\", \"time\", \"here\", \"too\", \"one\", \"tell\", \"long\", \"can't\", \"feel\", \"night\", \"come\", \"ooh\", \"wanna\", \"never\", \"been\", \"que\", \"show\", \"down\", \"at\", \"where\", \"better\", \"gimme\", \"more\", \"want\", \"back\", \"only\", \"uh\", \"right\", \"look\", \"run\", \"give\", \"ain't\", \"there\", \"we're\", \"again\", \"ah\", \"estoy\", \"gonna\", \"oo\", \"they\", \"every\", \"cause\", \"have\", \"how\", \"why\", \"tan\", \"was\", \"while\", \"let\", \"our\", \"looking\", \"money\", \"thing\", \"today\", \"es\", \"will\", \"day\", \"could\", \"put\", \"ya\", \"good\", \"not\", \"straight\", \"need\", \"fire\", \"won't\", \"girls\", \"home\", \"eyes\", \"there's\", \"watch\", \"hey\", \"leave\", \"did\", \"think\", \"world\", \"turn\", \"let's\", \"some\", \"would\", \"she's\", \"dance\", \"i've\", \"smile\", \"i'd\", \"you'll\", \"tonight\", \"wait\", \"us\", \"try\", \"gotta\", \"believe\", \"perdiendo\", \"body\", \"before\", \"knows\", \"through\", \"whole\", \"new\", \"find\", \"feels\", \"lonely\", \"stay\", \"dif\\u00edcil\", \"mind\", \"little\", \"hard\", \"trying\", \"ever\", \"uptown\", \"funk\", \"off\", \"always\", \"pain\", \"mi\", \"esta\", \"yo\", \"estamos\", \"lucky\", \"same\", \"them\", \"tomorrow\", \"change\", \"around\", \"keep\", \"away\", \"life\", \"alright\", \"heart\", \"man\", \"slow\", \"place\", \"ok\", \"lights\", \"y\", \"de\", \"pero\", \"est\\u00e1s\", \"mirror\", \"kiss\", \"runaway\", \"something\", \"by\"], \"type\": \"scatter\", \"x\": [9.521442413330078, 12.337260246276855, 13.226021766662598, 2.476126194000244, 3.746448516845703, 7.09403133392334, 23.193056106567383, -5.344902038574219, -4.609522819519043, 25.801816940307617, 24.417402267456055, -1.8669929504394531, -15.802249908447266, -15.397287368774414, 20.700714111328125, -11.529640197753906, 21.314130783081055, 7.456943035125732, 2.7482380867004395, 5.674746513366699, -10.961016654968262, 20.526473999023438, -2.4754626750946045, 8.056297302246094, 16.645404815673828, 8.61843204498291, 6.975901126861572, 17.659963607788086, -16.87360954284668, -2.791435718536377, -5.129654407501221, 0.47234785556793213, 8.598896026611328, 24.890953063964844, 8.655269622802734, 15.143913269042969, 10.089557647705078, 6.388948440551758, 26.854223251342773, 19.603771209716797, 20.686491012573242, -11.74101734161377, -5.886976718902588, 10.025106430053711, 0.7547661662101746, 1.6697252988815308, 14.99527645111084, 0.38370320200920105, -11.615169525146484, 1.8691974878311157, 18.43443489074707, 18.984394073486328, 0.7986360788345337, 21.802509307861328, 5.9293036460876465, -5.927988052368164, 28.572553634643555, 6.147119045257568, 9.040048599243164, -16.070859909057617, -5.321192741394043, -14.293581008911133, 1.7652474641799927, -7.334206581115723, 14.179651260375977, 10.929173469543457, 20.080644607543945, 1.7417206764221191, -14.722015380859375, -0.9166640043258667, 7.442145824432373, 8.77279281616211, -24.497217178344727, 10.47599983215332, -5.431563854217529, -17.669694900512695, 1.98332679271698, 21.407747268676758, -2.450850486755371, 13.989117622375488, 15.529273986816406, -3.434018850326538, 18.014387130737305, -1.5455964803695679, -6.571737766265869, 19.199525833129883, 2.812617301940918, 12.262142181396484, 8.730673789978027, 23.825637817382812, 10.856040954589844, -2.783769369125366, 18.629314422607422, -30.31244659423828, 7.962785243988037, -17.32128143310547, 8.922368049621582, -11.457480430603027, 9.08072280883789, 11.78004264831543, 16.981496810913086, 15.890921592712402, -25.314409255981445, 20.22345733642578, 5.866353988647461, 25.9877872467041, -5.452300071716309, 9.667692184448242, -3.351531982421875, 12.236162185668945, 16.453540802001953, -26.90436553955078, -0.33484333753585815, 2.939584970474243, 9.71667766571045, -8.452144622802734, -23.323169708251953, 20.0701847076416, 15.215378761291504, -9.437135696411133, 0.47072023153305054, -15.970572471618652, 13.08492660522461, -9.774882316589355, 2.3792436122894287, -3.7079737186431885, 19.249174118041992, -0.7109689712524414, -13.11467456817627, 13.339341163635254, 8.446676254272461, 19.797632217407227, -23.387304306030273, 4.077356338500977, -13.49059772491455, 13.557867050170898, 12.91273021697998, -19.351119995117188, -3.3076069355010986, 7.981278419494629, 11.090043067932129, 23.936962127685547, 3.5597314834594727, -2.7419373989105225, 13.500065803527832, 21.0623779296875, 23.293237686157227, -2.942681074142456, 22.079627990722656, -28.94666862487793, -2.4547808170318604, -6.964611530303955, 5.36689567565918, -0.4908581078052521, 2.4031355381011963, -8.555106163024902, -6.865962982177734, 1.078558087348938, 18.16473960876465, 16.26375389099121, -27.38056755065918, -9.043795585632324, -1.4240056276321411, -2.054919481277466, -2.3119606971740723, 23.86613655090332, 29.931535720825195, 29.93778419494629, -3.4299826622009277, 24.566049575805664, -13.16048526763916, -27.957426071166992, -30.151336669921875, -31.76964569091797, -33.20423126220703, 18.581016540527344, 9.346646308898926, 9.479644775390625, 4.117557048797607, 6.23277473449707, 8.243546485900879, -4.128015518188477, 7.27493953704834, 15.227340698242188, -15.886775970458984, -7.060676097869873, 3.0709526538848877, 13.980179786682129, 22.291540145874023, 4.151180267333984, -8.607003211975098, -27.53876304626465, -29.219188690185547, -32.21821594238281, -24.070960998535156, -4.877452850341797, 11.475517272949219, 2.1108646392822266, -2.8059070110321045, -17.528959274291992], \"xaxis\": \"x\", \"y\": [-7.736464500427246, -3.454190731048584, -20.993417739868164, 9.763930320739746, 18.062158584594727, 14.862067222595215, -2.555992841720581, -3.3747997283935547, -8.697214126586914, -1.8409513235092163, -10.699618339538574, 5.380050182342529, 5.821661949157715, 2.68254017829895, 3.7963154315948486, 7.560657024383545, -0.8136407136917114, -12.137248039245605, -13.094271659851074, -7.137468338012695, 0.06407856196165085, 7.877772331237793, 9.442404747009277, 0.23670408129692078, 19.890857696533203, 3.9652466773986816, 18.41514015197754, 4.100437641143799, 8.854421615600586, -16.682640075683594, 0.7258489727973938, 12.500699043273926, 9.246561050415039, 12.60013484954834, 17.04100799560547, -8.838554382324219, 12.503254890441895, 22.676361083984375, 9.643915176391602, 9.56815242767334, -7.922957897186279, -11.282694816589355, 12.658905982971191, -17.730512619018555, 6.026605129241943, 11.094021797180176, 11.629180908203125, 20.716875076293945, 18.440095901489258, -6.395785808563232, 2.6182920932769775, -6.193404674530029, -3.9609642028808594, -12.343559265136719, 1.98141610622406, -13.069902420043945, 5.02803373336792, 16.532583236694336, 13.196806907653809, 19.076162338256836, -19.123598098754883, -15.794367790222168, 13.450740814208984, -18.977781295776367, -3.9291508197784424, -6.925414562225342, -10.257563591003418, 4.859851837158203, 10.619010925292969, -3.9524526596069336, 3.0503933429718018, -20.039411544799805, -8.199983596801758, 10.865713119506836, -5.954494953155518, -1.6534618139266968, -4.610487461090088, -15.270746231079102, 11.669344902038574, 9.67540168762207, 7.200321197509766, 5.027591228485107, 7.20707368850708, -9.733410835266113, 6.991233825683594, 0.13732755184173584, 24.118680953979492, -1.670018196105957, 7.827832221984863, 3.601428508758545, -2.8615434169769287, 13.597403526306152, 14.552045822143555, -11.50009536743164, 10.472403526306152, -19.592435836791992, -3.121614933013916, -6.691738128662109, -6.241909980773926, -0.7426958084106445, 17.17161750793457, -5.0009942054748535, -1.6093416213989258, 18.15985679626465, -0.6510624289512634, 2.0528156757354736, 16.46041488647461, -14.066995620727539, 1.0728235244750977, 6.523787498474121, -13.459582328796387, -1.456037998199463, -6.110569477081299, 4.6417365074157715, -0.21097850799560547, 5.077899932861328, -10.47111988067627, 1.8435065746307373, 4.748993396759033, 6.804330348968506, 4.528337478637695, -0.10707318037748337, 11.271587371826172, 1.598511815071106, 6.413590431213379, -0.8635352849960327, 5.581528186798096, 6.448774814605713, -0.12736892700195312, -0.07707303017377853, -17.631532669067383, 11.54716968536377, 10.227566719055176, -19.568986892700195, 6.820125102996826, 13.677230834960938, 3.4527089595794678, -8.382835388183594, 2.355792760848999, -7.042669296264648, -14.787341117858887, 5.986212730407715, 11.259615898132324, -8.012933731079102, 6.249103546142578, 6.099390506744385, -6.820842742919922, -4.280034065246582, 1.2858682870864868, -12.552867889404297, 19.70087242126465, 4.837184429168701, -13.979897499084473, 10.071815490722656, -20.84604835510254, 18.38321304321289, 10.708964347839355, -15.279389381408691, 7.815286159515381, -3.2992630004882812, -2.537752151489258, -0.5227721929550171, 23.79695701599121, -14.846085548400879, -22.12151527404785, -5.426055431365967, -0.21676403284072876, -0.21567746996879578, 6.625102519989014, -7.267646789550781, -15.652091979980469, -12.243401527404785, -3.0334250926971436, -8.784555435180664, -4.711636066436768, -5.520369052886963, 23.820556640625, -12.028438568115234, 13.15740966796875, -10.633438110351562, -8.767274856567383, 17.424924850463867, -15.278424263000488, -12.407694816589355, -20.083921432495117, -2.2310986518859863, 20.37063980102539, 16.04913902282715, 7.370163917541504, 13.113442420959473, -6.412802696228027, -3.5733108520507812, -9.846484184265137, -6.5509138107299805, -3.1772096157073975, 3.40012264251709, 17.68077850341797, 23.657236099243164, -19.48417854309082, 1.0456730127334595], \"yaxis\": \"y\"}],\n",
       "                        {\"legend\": {\"tracegroupgap\": 0}, \"margin\": {\"t\": 60}, \"template\": {\"data\": {\"bar\": [{\"error_x\": {\"color\": \"#2a3f5f\"}, \"error_y\": {\"color\": \"#2a3f5f\"}, \"marker\": {\"line\": {\"color\": \"#E5ECF6\", \"width\": 0.5}}, \"type\": \"bar\"}], \"barpolar\": [{\"marker\": {\"line\": {\"color\": \"#E5ECF6\", \"width\": 0.5}}, \"type\": \"barpolar\"}], \"carpet\": [{\"aaxis\": {\"endlinecolor\": \"#2a3f5f\", \"gridcolor\": \"white\", \"linecolor\": \"white\", \"minorgridcolor\": \"white\", \"startlinecolor\": \"#2a3f5f\"}, \"baxis\": {\"endlinecolor\": \"#2a3f5f\", \"gridcolor\": \"white\", \"linecolor\": \"white\", \"minorgridcolor\": \"white\", \"startlinecolor\": \"#2a3f5f\"}, \"type\": \"carpet\"}], \"choropleth\": [{\"colorbar\": {\"outlinewidth\": 0, \"ticks\": \"\"}, \"type\": \"choropleth\"}], \"contour\": [{\"colorbar\": {\"outlinewidth\": 0, \"ticks\": \"\"}, \"colorscale\": [[0.0, \"#0d0887\"], [0.1111111111111111, \"#46039f\"], [0.2222222222222222, \"#7201a8\"], [0.3333333333333333, \"#9c179e\"], [0.4444444444444444, \"#bd3786\"], [0.5555555555555556, \"#d8576b\"], [0.6666666666666666, \"#ed7953\"], [0.7777777777777778, \"#fb9f3a\"], [0.8888888888888888, \"#fdca26\"], [1.0, \"#f0f921\"]], \"type\": \"contour\"}], \"contourcarpet\": [{\"colorbar\": {\"outlinewidth\": 0, \"ticks\": \"\"}, \"type\": \"contourcarpet\"}], \"heatmap\": [{\"colorbar\": {\"outlinewidth\": 0, \"ticks\": \"\"}, \"colorscale\": [[0.0, \"#0d0887\"], [0.1111111111111111, \"#46039f\"], [0.2222222222222222, \"#7201a8\"], [0.3333333333333333, \"#9c179e\"], [0.4444444444444444, \"#bd3786\"], [0.5555555555555556, \"#d8576b\"], [0.6666666666666666, \"#ed7953\"], [0.7777777777777778, \"#fb9f3a\"], [0.8888888888888888, \"#fdca26\"], [1.0, \"#f0f921\"]], \"type\": \"heatmap\"}], \"heatmapgl\": [{\"colorbar\": {\"outlinewidth\": 0, \"ticks\": \"\"}, \"colorscale\": [[0.0, \"#0d0887\"], [0.1111111111111111, \"#46039f\"], [0.2222222222222222, \"#7201a8\"], [0.3333333333333333, \"#9c179e\"], [0.4444444444444444, \"#bd3786\"], [0.5555555555555556, \"#d8576b\"], [0.6666666666666666, \"#ed7953\"], [0.7777777777777778, \"#fb9f3a\"], [0.8888888888888888, \"#fdca26\"], [1.0, \"#f0f921\"]], \"type\": \"heatmapgl\"}], \"histogram\": [{\"marker\": {\"colorbar\": {\"outlinewidth\": 0, \"ticks\": \"\"}}, \"type\": \"histogram\"}], \"histogram2d\": [{\"colorbar\": {\"outlinewidth\": 0, \"ticks\": \"\"}, \"colorscale\": [[0.0, \"#0d0887\"], [0.1111111111111111, \"#46039f\"], [0.2222222222222222, \"#7201a8\"], [0.3333333333333333, \"#9c179e\"], [0.4444444444444444, \"#bd3786\"], [0.5555555555555556, \"#d8576b\"], [0.6666666666666666, \"#ed7953\"], [0.7777777777777778, \"#fb9f3a\"], [0.8888888888888888, \"#fdca26\"], [1.0, \"#f0f921\"]], \"type\": \"histogram2d\"}], \"histogram2dcontour\": [{\"colorbar\": {\"outlinewidth\": 0, \"ticks\": \"\"}, \"colorscale\": [[0.0, \"#0d0887\"], [0.1111111111111111, \"#46039f\"], [0.2222222222222222, \"#7201a8\"], [0.3333333333333333, \"#9c179e\"], [0.4444444444444444, \"#bd3786\"], [0.5555555555555556, \"#d8576b\"], [0.6666666666666666, \"#ed7953\"], [0.7777777777777778, \"#fb9f3a\"], [0.8888888888888888, \"#fdca26\"], [1.0, \"#f0f921\"]], \"type\": \"histogram2dcontour\"}], \"mesh3d\": [{\"colorbar\": {\"outlinewidth\": 0, \"ticks\": \"\"}, \"type\": \"mesh3d\"}], \"parcoords\": [{\"line\": {\"colorbar\": {\"outlinewidth\": 0, \"ticks\": \"\"}}, \"type\": \"parcoords\"}], \"pie\": [{\"automargin\": true, \"type\": \"pie\"}], \"scatter\": [{\"marker\": {\"colorbar\": {\"outlinewidth\": 0, \"ticks\": \"\"}}, \"type\": \"scatter\"}], \"scatter3d\": [{\"line\": {\"colorbar\": {\"outlinewidth\": 0, \"ticks\": \"\"}}, \"marker\": {\"colorbar\": {\"outlinewidth\": 0, \"ticks\": \"\"}}, \"type\": \"scatter3d\"}], \"scattercarpet\": [{\"marker\": {\"colorbar\": {\"outlinewidth\": 0, \"ticks\": \"\"}}, \"type\": \"scattercarpet\"}], \"scattergeo\": [{\"marker\": {\"colorbar\": {\"outlinewidth\": 0, \"ticks\": \"\"}}, \"type\": \"scattergeo\"}], \"scattergl\": [{\"marker\": {\"colorbar\": {\"outlinewidth\": 0, \"ticks\": \"\"}}, \"type\": \"scattergl\"}], \"scattermapbox\": [{\"marker\": {\"colorbar\": {\"outlinewidth\": 0, \"ticks\": \"\"}}, \"type\": \"scattermapbox\"}], \"scatterpolar\": [{\"marker\": {\"colorbar\": {\"outlinewidth\": 0, \"ticks\": \"\"}}, \"type\": \"scatterpolar\"}], \"scatterpolargl\": [{\"marker\": {\"colorbar\": {\"outlinewidth\": 0, \"ticks\": \"\"}}, \"type\": \"scatterpolargl\"}], \"scatterternary\": [{\"marker\": {\"colorbar\": {\"outlinewidth\": 0, \"ticks\": \"\"}}, \"type\": \"scatterternary\"}], \"surface\": [{\"colorbar\": {\"outlinewidth\": 0, \"ticks\": \"\"}, \"colorscale\": [[0.0, \"#0d0887\"], [0.1111111111111111, \"#46039f\"], [0.2222222222222222, \"#7201a8\"], [0.3333333333333333, \"#9c179e\"], [0.4444444444444444, \"#bd3786\"], [0.5555555555555556, \"#d8576b\"], [0.6666666666666666, \"#ed7953\"], [0.7777777777777778, \"#fb9f3a\"], [0.8888888888888888, \"#fdca26\"], [1.0, \"#f0f921\"]], \"type\": \"surface\"}], \"table\": [{\"cells\": {\"fill\": {\"color\": \"#EBF0F8\"}, \"line\": {\"color\": \"white\"}}, \"header\": {\"fill\": {\"color\": \"#C8D4E3\"}, \"line\": {\"color\": \"white\"}}, \"type\": \"table\"}]}, \"layout\": {\"annotationdefaults\": {\"arrowcolor\": \"#2a3f5f\", \"arrowhead\": 0, \"arrowwidth\": 1}, \"coloraxis\": {\"colorbar\": {\"outlinewidth\": 0, \"ticks\": \"\"}}, \"colorscale\": {\"diverging\": [[0, \"#8e0152\"], [0.1, \"#c51b7d\"], [0.2, \"#de77ae\"], [0.3, \"#f1b6da\"], [0.4, \"#fde0ef\"], [0.5, \"#f7f7f7\"], [0.6, \"#e6f5d0\"], [0.7, \"#b8e186\"], [0.8, \"#7fbc41\"], [0.9, \"#4d9221\"], [1, \"#276419\"]], \"sequential\": [[0.0, \"#0d0887\"], [0.1111111111111111, \"#46039f\"], [0.2222222222222222, \"#7201a8\"], [0.3333333333333333, \"#9c179e\"], [0.4444444444444444, \"#bd3786\"], [0.5555555555555556, \"#d8576b\"], [0.6666666666666666, \"#ed7953\"], [0.7777777777777778, \"#fb9f3a\"], [0.8888888888888888, \"#fdca26\"], [1.0, \"#f0f921\"]], \"sequentialminus\": [[0.0, \"#0d0887\"], [0.1111111111111111, \"#46039f\"], [0.2222222222222222, \"#7201a8\"], [0.3333333333333333, \"#9c179e\"], [0.4444444444444444, \"#bd3786\"], [0.5555555555555556, \"#d8576b\"], [0.6666666666666666, \"#ed7953\"], [0.7777777777777778, \"#fb9f3a\"], [0.8888888888888888, \"#fdca26\"], [1.0, \"#f0f921\"]]}, \"colorway\": [\"#636efa\", \"#EF553B\", \"#00cc96\", \"#ab63fa\", \"#FFA15A\", \"#19d3f3\", \"#FF6692\", \"#B6E880\", \"#FF97FF\", \"#FECB52\"], \"font\": {\"color\": \"#2a3f5f\"}, \"geo\": {\"bgcolor\": \"white\", \"lakecolor\": \"white\", \"landcolor\": \"#E5ECF6\", \"showlakes\": true, \"showland\": true, \"subunitcolor\": \"white\"}, \"hoverlabel\": {\"align\": \"left\"}, \"hovermode\": \"closest\", \"mapbox\": {\"style\": \"light\"}, \"paper_bgcolor\": \"white\", \"plot_bgcolor\": \"#E5ECF6\", \"polar\": {\"angularaxis\": {\"gridcolor\": \"white\", \"linecolor\": \"white\", \"ticks\": \"\"}, \"bgcolor\": \"#E5ECF6\", \"radialaxis\": {\"gridcolor\": \"white\", \"linecolor\": \"white\", \"ticks\": \"\"}}, \"scene\": {\"xaxis\": {\"backgroundcolor\": \"#E5ECF6\", \"gridcolor\": \"white\", \"gridwidth\": 2, \"linecolor\": \"white\", \"showbackground\": true, \"ticks\": \"\", \"zerolinecolor\": \"white\"}, \"yaxis\": {\"backgroundcolor\": \"#E5ECF6\", \"gridcolor\": \"white\", \"gridwidth\": 2, \"linecolor\": \"white\", \"showbackground\": true, \"ticks\": \"\", \"zerolinecolor\": \"white\"}, \"zaxis\": {\"backgroundcolor\": \"#E5ECF6\", \"gridcolor\": \"white\", \"gridwidth\": 2, \"linecolor\": \"white\", \"showbackground\": true, \"ticks\": \"\", \"zerolinecolor\": \"white\"}}, \"shapedefaults\": {\"line\": {\"color\": \"#2a3f5f\"}}, \"ternary\": {\"aaxis\": {\"gridcolor\": \"white\", \"linecolor\": \"white\", \"ticks\": \"\"}, \"baxis\": {\"gridcolor\": \"white\", \"linecolor\": \"white\", \"ticks\": \"\"}, \"bgcolor\": \"#E5ECF6\", \"caxis\": {\"gridcolor\": \"white\", \"linecolor\": \"white\", \"ticks\": \"\"}}, \"title\": {\"x\": 0.05}, \"xaxis\": {\"automargin\": true, \"gridcolor\": \"white\", \"linecolor\": \"white\", \"ticks\": \"\", \"title\": {\"standoff\": 15}, \"zerolinecolor\": \"white\", \"zerolinewidth\": 2}, \"yaxis\": {\"automargin\": true, \"gridcolor\": \"white\", \"linecolor\": \"white\", \"ticks\": \"\", \"title\": {\"standoff\": 15}, \"zerolinecolor\": \"white\", \"zerolinewidth\": 2}}}, \"xaxis\": {\"anchor\": \"y\", \"domain\": [0.0, 1.0], \"title\": {\"text\": \"x\"}}, \"yaxis\": {\"anchor\": \"x\", \"domain\": [0.0, 1.0], \"title\": {\"text\": \"y\"}}},\n",
       "                        {\"responsive\": true}\n",
       "                    ).then(function(){\n",
       "                            \n",
       "var gd = document.getElementById('bb795c85-2006-40b7-b57d-53d22ac2fe06');\n",
       "var x = new MutationObserver(function (mutations, observer) {{\n",
       "        var display = window.getComputedStyle(gd).display;\n",
       "        if (!display || display === 'none') {{\n",
       "            console.log([gd, 'removed!']);\n",
       "            Plotly.purge(gd);\n",
       "            observer.disconnect();\n",
       "        }}\n",
       "}});\n",
       "\n",
       "// Listen for the removal of the full notebook cells\n",
       "var notebookContainer = gd.closest('#notebook-container');\n",
       "if (notebookContainer) {{\n",
       "    x.observe(notebookContainer, {childList: true});\n",
       "}}\n",
       "\n",
       "// Listen for the clearing of the current output cell\n",
       "var outputEl = gd.closest('.output');\n",
       "if (outputEl) {{\n",
       "    x.observe(outputEl, {childList: true});\n",
       "}}\n",
       "\n",
       "                        })\n",
       "                };\n",
       "                \n",
       "            </script>\n",
       "        </div>\n",
       "</body>\n",
       "</html>"
      ]
     },
     "metadata": {},
     "output_type": "display_data"
    }
   ],
   "source": [
    "# Graficar los embedddings en 2D\n",
    "import plotly.graph_objects as go\n",
    "import plotly.express as px\n",
    "\n",
    "x_vals, y_vals, labels = reduce_dimensions(w2v_model)\n",
    "\n",
    "MAX_WORDS=200\n",
    "fig = px.scatter(x=x_vals[:MAX_WORDS], y=y_vals[:MAX_WORDS], text=labels[:MAX_WORDS])\n",
    "fig.show(renderer=\"colab\") # esto para plotly en colab\n"
   ]
  }
 ],
 "metadata": {
  "colab": {
   "collapsed_sections": [],
   "name": "Desafío 3- Songs - Custom embedding con Gensim",
   "provenance": []
  },
  "kernelspec": {
   "display_name": "Python 3 (ipykernel)",
   "language": "python",
   "name": "python3"
  },
  "language_info": {
   "codemirror_mode": {
    "name": "ipython",
    "version": 3
   },
   "file_extension": ".py",
   "mimetype": "text/x-python",
   "name": "python",
   "nbconvert_exporter": "python",
   "pygments_lexer": "ipython3",
   "version": "3.8.13"
  }
 },
 "nbformat": 4,
 "nbformat_minor": 1
}
