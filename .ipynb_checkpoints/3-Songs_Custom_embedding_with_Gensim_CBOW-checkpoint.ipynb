{
 "cells": [
  {
   "cell_type": "markdown",
   "metadata": {
    "id": "sZd5yLnnHOK0"
   },
   "source": [
    "# Procesamiento de lenguaje natural\n",
    "## Custom embedddings con Gensim\n",
    "\n"
   ]
  },
  {
   "cell_type": "markdown",
   "metadata": {
    "id": "vA7nqkumo9z9"
   },
   "source": [
    "### Objetivo\n",
    "El objetivo es utilizar documentos / corpus para crear embeddings de palabras basado en ese contexto. Se utilizará canciones de bandas para generar los embeddings, es decir, que los vectores tendrán la forma en función de como esa banda haya utilizado las palabras en sus canciones."
   ]
  },
  {
   "cell_type": "code",
   "execution_count": 1,
   "metadata": {
    "id": "lFToQs5FK5uZ"
   },
   "outputs": [],
   "source": [
    "import pandas as pd\n",
    "import matplotlib.pyplot as plt\n",
    "import seaborn as sns\n",
    "\n",
    "import multiprocessing\n",
    "from gensim.models import Word2Vec"
   ]
  },
  {
   "cell_type": "markdown",
   "metadata": {
    "id": "g07zJxG7H9vG"
   },
   "source": [
    "### Datos\n",
    "Utilizaremos como dataset canciones de bandas de habla inglés."
   ]
  },
  {
   "cell_type": "code",
   "execution_count": 2,
   "metadata": {
    "colab": {
     "base_uri": "https://localhost:8080/"
    },
    "id": "l7z4CSBfpR3X",
    "outputId": "9d5d1884-58e6-42ee-ca94-11882b7d4af1"
   },
   "outputs": [
    {
     "name": "stderr",
     "output_type": "stream",
     "text": [
      "Downloading...\n",
      "From: https://drive.google.com/uc?id=1VLVgb3fD02XrF2V5OruKvQTOT91juXcs&export=download\n",
      "To: /content/songs_dataset.zip\n",
      "100%|██████████| 2.09M/2.09M [00:00<00:00, 146MB/s]\n"
     ]
    }
   ],
   "source": [
    "# Descargar la carpeta de dataset\n",
    "import os\n",
    "import gdown\n",
    "if os.access('./songs_dataset', os.F_OK) is False:\n",
    "    if os.access('simpsons_dataset.zip', os.F_OK) is False:\n",
    "        url = 'https://drive.google.com/uc?id=1VLVgb3fD02XrF2V5OruKvQTOT91juXcs&export=download'\n",
    "        output = 'songs_dataset.zip'\n",
    "        gdown.download(url, output, quiet=False)\n",
    "    !unzip -q songs_dataset.zip   \n",
    "else:\n",
    "    print(\"El dataset ya se encuentra descargado\")"
   ]
  },
  {
   "cell_type": "code",
   "execution_count": 3,
   "metadata": {
    "colab": {
     "base_uri": "https://localhost:8080/"
    },
    "id": "mysGrIw9ljC2",
    "outputId": "f9df0484-5e58-4e9c-d660-235948cb4827"
   },
   "outputs": [
    {
     "data": {
      "text/plain": [
       "['dolly-parton.txt',\n",
       " 'cake.txt',\n",
       " 'britney-spears.txt',\n",
       " 'paul-simon.txt',\n",
       " 'beatles.txt',\n",
       " 'nickelback.txt',\n",
       " 'rihanna.txt',\n",
       " 'disney.txt',\n",
       " 'kanye.txt',\n",
       " 'drake.txt',\n",
       " 'kanye-west.txt',\n",
       " 'jimi-hendrix.txt',\n",
       " 'nicki-minaj.txt',\n",
       " 'janisjoplin.txt',\n",
       " 'alicia-keys.txt',\n",
       " 'bieber.txt',\n",
       " 'bob-dylan.txt',\n",
       " 'amy-winehouse.txt',\n",
       " 'ludacris.txt',\n",
       " 'bruno-mars.txt',\n",
       " 'lin-manuel-miranda.txt',\n",
       " 'r-kelly.txt',\n",
       " 'eminem.txt',\n",
       " 'bob-marley.txt',\n",
       " 'notorious_big.txt',\n",
       " 'dr-seuss.txt',\n",
       " 'dj-khaled.txt',\n",
       " 'missy-elliott.txt',\n",
       " 'bruce-springsteen.txt',\n",
       " 'adele.txt',\n",
       " 'lady-gaga.txt',\n",
       " 'patti-smith.txt',\n",
       " 'joni-mitchell.txt',\n",
       " 'lil-wayne.txt',\n",
       " 'lorde.txt',\n",
       " 'nursery_rhymes.txt',\n",
       " 'prince.txt',\n",
       " 'michael-jackson.txt',\n",
       " 'al-green.txt',\n",
       " 'bjork.txt',\n",
       " 'leonard-cohen.txt',\n",
       " 'notorious-big.txt',\n",
       " 'Lil_Wayne.txt',\n",
       " 'nirvana.txt',\n",
       " 'radiohead.txt',\n",
       " 'johnny-cash.txt',\n",
       " 'blink-182.txt',\n",
       " 'dickinson.txt',\n",
       " 'Kanye_West.txt']"
      ]
     },
     "execution_count": 3,
     "metadata": {},
     "output_type": "execute_result"
    }
   ],
   "source": [
    "# Posibles bandas\n",
    "os.listdir(\"./songs_dataset/\")"
   ]
  },
  {
   "cell_type": "code",
   "execution_count": 4,
   "metadata": {
    "colab": {
     "base_uri": "https://localhost:8080/",
     "height": 261
    },
    "id": "ticoqYD1Z3I7",
    "outputId": "cee2aa6f-02bc-40c3-8607-c3160dbb8b36"
   },
   "outputs": [
    {
     "name": "stderr",
     "output_type": "stream",
     "text": [
      "/usr/local/lib/python3.7/dist-packages/ipykernel_launcher.py:2: ParserWarning: Falling back to the 'python' engine because the 'c' engine does not support regex separators (separators > 1 char and different from '\\s+' are interpreted as regex); you can avoid this warning by specifying engine='python'.\n",
      "  \n"
     ]
    },
    {
     "data": {
      "text/html": [
       "<div>\n",
       "<style scoped>\n",
       "    .dataframe tbody tr th:only-of-type {\n",
       "        vertical-align: middle;\n",
       "    }\n",
       "\n",
       "    .dataframe tbody tr th {\n",
       "        vertical-align: top;\n",
       "    }\n",
       "\n",
       "    .dataframe thead th {\n",
       "        text-align: right;\n",
       "    }\n",
       "</style>\n",
       "<table border=\"1\" class=\"dataframe\">\n",
       "  <thead>\n",
       "    <tr style=\"text-align: right;\">\n",
       "      <th></th>\n",
       "      <th>0</th>\n",
       "    </tr>\n",
       "  </thead>\n",
       "  <tbody>\n",
       "    <tr>\n",
       "      <th>0</th>\n",
       "      <td>Now greetings to the world! Standing at this l...</td>\n",
       "    </tr>\n",
       "    <tr>\n",
       "      <th>1</th>\n",
       "      <td>Whiskey coming through my pores,</td>\n",
       "    </tr>\n",
       "    <tr>\n",
       "      <th>2</th>\n",
       "      <td>Feeling like I run this whole block.</td>\n",
       "    </tr>\n",
       "    <tr>\n",
       "      <th>3</th>\n",
       "      <td>Lotto tickets cheap beer</td>\n",
       "    </tr>\n",
       "    <tr>\n",
       "      <th>4</th>\n",
       "      <td>That's why you can catch me here,</td>\n",
       "    </tr>\n",
       "  </tbody>\n",
       "</table>\n",
       "</div>"
      ],
      "text/plain": [
       "                                                   0\n",
       "0  Now greetings to the world! Standing at this l...\n",
       "1                   Whiskey coming through my pores,\n",
       "2               Feeling like I run this whole block.\n",
       "3                           Lotto tickets cheap beer\n",
       "4                  That's why you can catch me here,"
      ]
     },
     "execution_count": 4,
     "metadata": {},
     "output_type": "execute_result"
    }
   ],
   "source": [
    "# Armar el dataset utilizando salto de línea para separar las oraciones/docs\n",
    "df = pd.read_csv('songs_dataset/bruno-mars.txt', sep='/n', header=None)\n",
    "df.head()"
   ]
  },
  {
   "cell_type": "code",
   "execution_count": 5,
   "metadata": {
    "colab": {
     "base_uri": "https://localhost:8080/"
    },
    "id": "LEpKubK9XzXN",
    "outputId": "2cb5028a-69d5-4acd-8058-da15efc52e01"
   },
   "outputs": [
    {
     "name": "stdout",
     "output_type": "stream",
     "text": [
      "Cantidad de documentos: 3270\n"
     ]
    }
   ],
   "source": [
    "print(\"Cantidad de documentos:\", df.shape[0])"
   ]
  },
  {
   "cell_type": "markdown",
   "metadata": {
    "id": "ab94qaFlrA1G"
   },
   "source": [
    "### 1 - Preprocesamiento"
   ]
  },
  {
   "cell_type": "code",
   "execution_count": 6,
   "metadata": {
    "id": "rIsmMWmjrDHd"
   },
   "outputs": [],
   "source": [
    "from keras.preprocessing.text import text_to_word_sequence\n",
    "\n",
    "sentence_tokens = []\n",
    "# Recorrer todas las filas y transformar las oraciones\n",
    "# en una secuencia de palabras (esto podría realizarse con NLTK o spaCy también)\n",
    "for _, row in df[:None].iterrows():\n",
    "    sentence_tokens.append(text_to_word_sequence(row[0]))"
   ]
  },
  {
   "cell_type": "code",
   "execution_count": 7,
   "metadata": {
    "colab": {
     "base_uri": "https://localhost:8080/"
    },
    "id": "VNuyC5aTDjD5",
    "outputId": "c29490a2-ed1c-46c2-981b-05051ffd7802"
   },
   "outputs": [
    {
     "data": {
      "text/plain": [
       "[['no', 'no', 'no', 'no', 'this', 'hit', 'that', 'ice', 'cold'],\n",
       " ['michelle', 'pfeiffer', 'that', 'white', 'gold'],\n",
       " ['this', 'one', 'for', 'them', 'hood', 'girls'],\n",
       " ['them', 'good', 'girls', 'straight', 'masterpieces'],\n",
       " [\"stylin'\", 'whilen', \"livin'\", 'it', 'up', 'in', 'the', 'city'],\n",
       " ['got', 'chucks', 'on', 'with', 'saint', 'laurent'],\n",
       " ['got',\n",
       "  'kiss',\n",
       "  'myself',\n",
       "  \"i'm\",\n",
       "  'so',\n",
       "  'pretty',\n",
       "  \"i'm\",\n",
       "  'too',\n",
       "  'hot',\n",
       "  'hot',\n",
       "  'damn'],\n",
       " ['called', 'a', 'police', 'and', 'a', 'fireman']]"
      ]
     },
     "execution_count": 7,
     "metadata": {},
     "output_type": "execute_result"
    }
   ],
   "source": [
    "# Demos un vistazo\n",
    "sentence_tokens[427:435]"
   ]
  },
  {
   "cell_type": "markdown",
   "metadata": {
    "id": "BaXV6nlHr5Aa"
   },
   "source": [
    "### 2 - Crear los vectores (word2vec)"
   ]
  },
  {
   "cell_type": "code",
   "execution_count": 8,
   "metadata": {
    "id": "OSb0v7h8r7hK"
   },
   "outputs": [],
   "source": [
    "from gensim.models.callbacks import CallbackAny2Vec\n",
    "# Durante el entrenamiento gensim por defecto no informa el \"loss\" en cada época\n",
    "# Sobracargamos el callback para poder tener esta información\n",
    "class callback(CallbackAny2Vec):\n",
    "    \"\"\"\n",
    "    Callback to print loss after each epoch\n",
    "    \"\"\"\n",
    "    def __init__(self):\n",
    "        self.epoch = 0\n",
    "\n",
    "    def on_epoch_end(self, model):\n",
    "        loss = model.get_latest_training_loss()\n",
    "        if self.epoch == 0:\n",
    "            print('Loss after epoch {}: {}'.format(self.epoch, loss))\n",
    "        else:\n",
    "            print('Loss after epoch {}: {}'.format(self.epoch, loss- self.loss_previous_step))\n",
    "        self.epoch += 1\n",
    "        self.loss_previous_step = loss"
   ]
  },
  {
   "cell_type": "code",
   "execution_count": 9,
   "metadata": {
    "id": "i0wnDdv9sJ47"
   },
   "outputs": [],
   "source": [
    "# Crearmos el modelo generador de vectoeres\n",
    "# En este caso utilizaremos la estructura modelo Skipgram\n",
    "w2v_model = Word2Vec(min_count=5,    # frecuencia mínima de palabra para incluirla en el vocabulario\n",
    "                     window=2,       # cant de palabras antes y desp de la predicha\n",
    "                     size=300,       # dimensionalidad de los vectores \n",
    "                     negative=20,    # cantidad de negative samples... 0 es no se usa\n",
    "                     workers=1,      # si tienen más cores pueden cambiar este valor\n",
    "                     sg=0)           # modelo 0:CBOW  1:skipgram"
   ]
  },
  {
   "cell_type": "code",
   "execution_count": 10,
   "metadata": {
    "id": "5lTt8wErsf17"
   },
   "outputs": [],
   "source": [
    "# Buildear el vocabularui con los tokens\n",
    "w2v_model.build_vocab(sentence_tokens)"
   ]
  },
  {
   "cell_type": "code",
   "execution_count": 11,
   "metadata": {
    "colab": {
     "base_uri": "https://localhost:8080/"
    },
    "id": "TNc9qt4os5AT",
    "outputId": "17c49857-e623-4578-a41e-a6de281fd92e"
   },
   "outputs": [
    {
     "name": "stdout",
     "output_type": "stream",
     "text": [
      "Cantidad de docs en el corpus: 3270\n"
     ]
    }
   ],
   "source": [
    "# Cantidad de filas/docs encontradas en el corpus\n",
    "print(\"Cantidad de docs en el corpus:\", w2v_model.corpus_count)"
   ]
  },
  {
   "cell_type": "code",
   "execution_count": 12,
   "metadata": {
    "colab": {
     "base_uri": "https://localhost:8080/"
    },
    "id": "idw9cHF3tSMl",
    "outputId": "d5f77010-0a95-4bbc-ba99-e1cbf430d313"
   },
   "outputs": [
    {
     "name": "stdout",
     "output_type": "stream",
     "text": [
      "Cantidad de words distintas en el corpus: 678\n"
     ]
    }
   ],
   "source": [
    "# Cantidad de words encontradas en el corpus\n",
    "print(\"Cantidad de words distintas en el corpus:\", len(w2v_model.wv.vocab))"
   ]
  },
  {
   "cell_type": "code",
   "execution_count": 13,
   "metadata": {
    "colab": {
     "base_uri": "https://localhost:8080/"
    },
    "id": "500_md6zGRRW",
    "outputId": "a6482cfd-9b66-432d-d390-f56423ebc33d"
   },
   "outputs": [
    {
     "data": {
      "text/plain": [
       "{\"'cause\": <gensim.models.keyedvectors.Vocab at 0x7fb75f1d4410>,\n",
       " \"'til\": <gensim.models.keyedvectors.Vocab at 0x7fb75f1d4f10>,\n",
       " '3x': <gensim.models.keyedvectors.Vocab at 0x7fb75f1f38d0>,\n",
       " 'a': <gensim.models.keyedvectors.Vocab at 0x7fb75f1d45d0>,\n",
       " 'about': <gensim.models.keyedvectors.Vocab at 0x7fb7a5a14f10>,\n",
       " 'afraid': <gensim.models.keyedvectors.Vocab at 0x7fb75f1e9090>,\n",
       " 'again': <gensim.models.keyedvectors.Vocab at 0x7fb75f1d88d0>,\n",
       " 'agree': <gensim.models.keyedvectors.Vocab at 0x7fb75f1e10d0>,\n",
       " 'ah': <gensim.models.keyedvectors.Vocab at 0x7fb75f1ed890>,\n",
       " 'ahh': <gensim.models.keyedvectors.Vocab at 0x7fb75f1f34d0>,\n",
       " \"ain't\": <gensim.models.keyedvectors.Vocab at 0x7fb75f1d4590>,\n",
       " 'aint': <gensim.models.keyedvectors.Vocab at 0x7fb75f1f3350>,\n",
       " 'air': <gensim.models.keyedvectors.Vocab at 0x7fb7a5a145d0>,\n",
       " 'all': <gensim.models.keyedvectors.Vocab at 0x7fb75f1de8d0>,\n",
       " 'alone': <gensim.models.keyedvectors.Vocab at 0x7fb75f1e5d10>,\n",
       " 'along': <gensim.models.keyedvectors.Vocab at 0x7fb75f1efbd0>,\n",
       " 'already': <gensim.models.keyedvectors.Vocab at 0x7fb75f1efad0>,\n",
       " 'alright': <gensim.models.keyedvectors.Vocab at 0x7fb75f1ef4d0>,\n",
       " 'always': <gensim.models.keyedvectors.Vocab at 0x7fb75f1e9750>,\n",
       " 'am': <gensim.models.keyedvectors.Vocab at 0x7fb75f1e1190>,\n",
       " 'amazing': <gensim.models.keyedvectors.Vocab at 0x7fb75f1e1750>,\n",
       " 'an': <gensim.models.keyedvectors.Vocab at 0x7fb75f1c0f10>,\n",
       " 'and': <gensim.models.keyedvectors.Vocab at 0x7fb75f1d4810>,\n",
       " 'another': <gensim.models.keyedvectors.Vocab at 0x7fb75f1e9a50>,\n",
       " 'anymore': <gensim.models.keyedvectors.Vocab at 0x7fb75f1e5e90>,\n",
       " 'anything': <gensim.models.keyedvectors.Vocab at 0x7fb75f1de810>,\n",
       " 'aquí': <gensim.models.keyedvectors.Vocab at 0x7fb75f1dbb90>,\n",
       " 'are': <gensim.models.keyedvectors.Vocab at 0x7fb75f1e1790>,\n",
       " 'around': <gensim.models.keyedvectors.Vocab at 0x7fb75f1de5d0>,\n",
       " 'as': <gensim.models.keyedvectors.Vocab at 0x7fb75f1e9ed0>,\n",
       " 'ask': <gensim.models.keyedvectors.Vocab at 0x7fb75f1e1610>,\n",
       " 'asked': <gensim.models.keyedvectors.Vocab at 0x7fb75f1e5290>,\n",
       " 'ass': <gensim.models.keyedvectors.Vocab at 0x7fb75f1de450>,\n",
       " 'at': <gensim.models.keyedvectors.Vocab at 0x7fb75f1c52d0>,\n",
       " 'atrapado': <gensim.models.keyedvectors.Vocab at 0x7fb75f1de2d0>,\n",
       " 'atrapados': <gensim.models.keyedvectors.Vocab at 0x7fb75f1db8d0>,\n",
       " 'away': <gensim.models.keyedvectors.Vocab at 0x7fb75f1c0f50>,\n",
       " 'babe': <gensim.models.keyedvectors.Vocab at 0x7fb75f1efc50>,\n",
       " 'baby': <gensim.models.keyedvectors.Vocab at 0x7fb75f1de390>,\n",
       " 'back': <gensim.models.keyedvectors.Vocab at 0x7fb75f1e5410>,\n",
       " 'bad': <gensim.models.keyedvectors.Vocab at 0x7fb75f1e1310>,\n",
       " 'bar': <gensim.models.keyedvectors.Vocab at 0x7fb75f1ef810>,\n",
       " 'be': <gensim.models.keyedvectors.Vocab at 0x7fb75f1d4b10>,\n",
       " 'beautiful': <gensim.models.keyedvectors.Vocab at 0x7fb75f1e14d0>,\n",
       " 'because': <gensim.models.keyedvectors.Vocab at 0x7fb75f1d8210>,\n",
       " 'bed': <gensim.models.keyedvectors.Vocab at 0x7fb75f1e1b90>,\n",
       " 'been': <gensim.models.keyedvectors.Vocab at 0x7fb75f1d8c10>,\n",
       " 'before': <gensim.models.keyedvectors.Vocab at 0x7fb75f1e5b10>,\n",
       " 'begins': <gensim.models.keyedvectors.Vocab at 0x7fb75f1ede50>,\n",
       " 'behind': <gensim.models.keyedvectors.Vocab at 0x7fb75f1ede10>,\n",
       " 'believe': <gensim.models.keyedvectors.Vocab at 0x7fb75f1d8350>,\n",
       " 'best': <gensim.models.keyedvectors.Vocab at 0x7fb75f1d8310>,\n",
       " 'bet': <gensim.models.keyedvectors.Vocab at 0x7fb75f1e1f50>,\n",
       " 'better': <gensim.models.keyedvectors.Vocab at 0x7fb75f1c5290>,\n",
       " 'between': <gensim.models.keyedvectors.Vocab at 0x7fb75f1d8250>,\n",
       " 'big': <gensim.models.keyedvectors.Vocab at 0x7fb75f1ef510>,\n",
       " 'billionaire': <gensim.models.keyedvectors.Vocab at 0x7fb75f1e12d0>,\n",
       " 'blame': <gensim.models.keyedvectors.Vocab at 0x7fb75f1e9490>,\n",
       " 'block': <gensim.models.keyedvectors.Vocab at 0x7fb75f1d4110>,\n",
       " 'blues': <gensim.models.keyedvectors.Vocab at 0x7fb75f1d4850>,\n",
       " 'body': <gensim.models.keyedvectors.Vocab at 0x7fb75f1e5550>,\n",
       " 'boom': <gensim.models.keyedvectors.Vocab at 0x7fb75f1f3610>,\n",
       " 'both': <gensim.models.keyedvectors.Vocab at 0x7fb75f1efcd0>,\n",
       " 'boy': <gensim.models.keyedvectors.Vocab at 0x7fb75f1ef7d0>,\n",
       " 'brain': <gensim.models.keyedvectors.Vocab at 0x7fb75f1e5390>,\n",
       " 'brand': <gensim.models.keyedvectors.Vocab at 0x7fb75f1efc90>,\n",
       " 'break': <gensim.models.keyedvectors.Vocab at 0x7fb75f1e5910>,\n",
       " 'bright': <gensim.models.keyedvectors.Vocab at 0x7fb75f1de9d0>,\n",
       " 'bring': <gensim.models.keyedvectors.Vocab at 0x7fb75f1d8d90>,\n",
       " 'broken': <gensim.models.keyedvectors.Vocab at 0x7fb75f1ed390>,\n",
       " 'brooklyn': <gensim.models.keyedvectors.Vocab at 0x7fb75f1efe50>,\n",
       " 'burning': <gensim.models.keyedvectors.Vocab at 0x7fb75f1f3050>,\n",
       " 'but': <gensim.models.keyedvectors.Vocab at 0x7fb75f1d87d0>,\n",
       " 'by': <gensim.models.keyedvectors.Vocab at 0x7fb75f1deb10>,\n",
       " 'cabeza': <gensim.models.keyedvectors.Vocab at 0x7fb75f1de0d0>,\n",
       " 'call': <gensim.models.keyedvectors.Vocab at 0x7fb75f1d4f90>,\n",
       " 'called': <gensim.models.keyedvectors.Vocab at 0x7fb75f1e5850>,\n",
       " 'calling': <gensim.models.keyedvectors.Vocab at 0x7fb75f1ed8d0>,\n",
       " 'can': <gensim.models.keyedvectors.Vocab at 0x7fb75f1d4210>,\n",
       " \"can't\": <gensim.models.keyedvectors.Vocab at 0x7fb75f1d8f50>,\n",
       " 'car': <gensim.models.keyedvectors.Vocab at 0x7fb75f1e54d0>,\n",
       " 'care': <gensim.models.keyedvectors.Vocab at 0x7fb75f1d4790>,\n",
       " 'cares': <gensim.models.keyedvectors.Vocab at 0x7fb75f1e93d0>,\n",
       " 'casa': <gensim.models.keyedvectors.Vocab at 0x7fb75f1dbd10>,\n",
       " 'catch': <gensim.models.keyedvectors.Vocab at 0x7fb75f1d4250>,\n",
       " 'cause': <gensim.models.keyedvectors.Vocab at 0x7fb75f1d8f10>,\n",
       " 'chains': <gensim.models.keyedvectors.Vocab at 0x7fb75f1edd90>,\n",
       " 'champagne': <gensim.models.keyedvectors.Vocab at 0x7fb75f1dea50>,\n",
       " 'chance': <gensim.models.keyedvectors.Vocab at 0x7fb75f1e9990>,\n",
       " 'change': <gensim.models.keyedvectors.Vocab at 0x7fb75f1d8e10>,\n",
       " 'choose': <gensim.models.keyedvectors.Vocab at 0x7fb75f1ef6d0>,\n",
       " 'chorus': <gensim.models.keyedvectors.Vocab at 0x7fb75f1edd50>,\n",
       " 'city': <gensim.models.keyedvectors.Vocab at 0x7fb75f1d4c50>,\n",
       " 'close': <gensim.models.keyedvectors.Vocab at 0x7fb7a6742f10>,\n",
       " 'club': <gensim.models.keyedvectors.Vocab at 0x7fb75f1eff10>,\n",
       " 'come': <gensim.models.keyedvectors.Vocab at 0x7fb75f1e1250>,\n",
       " 'coming': <gensim.models.keyedvectors.Vocab at 0x7fb75f1c5350>,\n",
       " 'como': <gensim.models.keyedvectors.Vocab at 0x7fb75f1dbc90>,\n",
       " 'conmigo': <gensim.models.keyedvectors.Vocab at 0x7fb75f1dbbd0>,\n",
       " 'contigo': <gensim.models.keyedvectors.Vocab at 0x7fb75f1db710>,\n",
       " 'control': <gensim.models.keyedvectors.Vocab at 0x7fb75f1de110>,\n",
       " 'cool': <gensim.models.keyedvectors.Vocab at 0x7fb75f1de910>,\n",
       " 'could': <gensim.models.keyedvectors.Vocab at 0x7fb75f1e18d0>,\n",
       " 'count': <gensim.models.keyedvectors.Vocab at 0x7fb75f1e9690>,\n",
       " 'crazy': <gensim.models.keyedvectors.Vocab at 0x7fb75f1ed6d0>,\n",
       " 'creo': <gensim.models.keyedvectors.Vocab at 0x7fb75f1de210>,\n",
       " 'cross': <gensim.models.keyedvectors.Vocab at 0x7fb75f1f3410>,\n",
       " 'cry': <gensim.models.keyedvectors.Vocab at 0x7fb75f1e97d0>,\n",
       " 'cute': <gensim.models.keyedvectors.Vocab at 0x7fb75f1f3c50>,\n",
       " 'da': <gensim.models.keyedvectors.Vocab at 0x7fb75f1f3cd0>,\n",
       " 'damn': <gensim.models.keyedvectors.Vocab at 0x7fb7a5a14dd0>,\n",
       " 'dance': <gensim.models.keyedvectors.Vocab at 0x7fb75f1e5b90>,\n",
       " 'dancing': <gensim.models.keyedvectors.Vocab at 0x7fb75f1e9390>,\n",
       " \"darlin'\": <gensim.models.keyedvectors.Vocab at 0x7fb75f1ed310>,\n",
       " 'darling': <gensim.models.keyedvectors.Vocab at 0x7fb75f1e5650>,\n",
       " 'day': <gensim.models.keyedvectors.Vocab at 0x7fb75f1e1990>,\n",
       " 'days': <gensim.models.keyedvectors.Vocab at 0x7fb75f1db190>,\n",
       " 'de': <gensim.models.keyedvectors.Vocab at 0x7fb75f1db390>,\n",
       " 'death': <gensim.models.keyedvectors.Vocab at 0x7fb75f1ef910>,\n",
       " 'deserve': <gensim.models.keyedvectors.Vocab at 0x7fb75f1de890>,\n",
       " 'desire': <gensim.models.keyedvectors.Vocab at 0x7fb75f1efd50>,\n",
       " 'diamonds': <gensim.models.keyedvectors.Vocab at 0x7fb75f1dec10>,\n",
       " 'did': <gensim.models.keyedvectors.Vocab at 0x7fb7a5a14f50>,\n",
       " \"didn't\": <gensim.models.keyedvectors.Vocab at 0x7fb75f1ef450>,\n",
       " 'die': <gensim.models.keyedvectors.Vocab at 0x7fb75f1e53d0>,\n",
       " 'different': <gensim.models.keyedvectors.Vocab at 0x7fb7bac8c690>,\n",
       " 'difícil': <gensim.models.keyedvectors.Vocab at 0x7fb75f1db990>,\n",
       " 'digging': <gensim.models.keyedvectors.Vocab at 0x7fb75f1f33d0>,\n",
       " 'dim': <gensim.models.keyedvectors.Vocab at 0x7fb75f1f3b10>,\n",
       " 'distance': <gensim.models.keyedvectors.Vocab at 0x7fb75f1ef5d0>,\n",
       " 'distancia': <gensim.models.keyedvectors.Vocab at 0x7fb75f1dba50>,\n",
       " 'do': <gensim.models.keyedvectors.Vocab at 0x7fb75f1e1290>,\n",
       " 'does': <gensim.models.keyedvectors.Vocab at 0x7fb75f1e9890>,\n",
       " 'doing': <gensim.models.keyedvectors.Vocab at 0x7fb75f1e1b10>,\n",
       " \"don't\": <gensim.models.keyedvectors.Vocab at 0x7fb75f1d4750>,\n",
       " 'donde': <gensim.models.keyedvectors.Vocab at 0x7fb75f1db750>,\n",
       " 'done': <gensim.models.keyedvectors.Vocab at 0x7fb75f1e9c10>,\n",
       " 'door': <gensim.models.keyedvectors.Vocab at 0x7fb75f1e5e10>,\n",
       " 'down': <gensim.models.keyedvectors.Vocab at 0x7fb75f1e55d0>,\n",
       " 'drag': <gensim.models.keyedvectors.Vocab at 0x7fb75f1d49d0>,\n",
       " 'dream': <gensim.models.keyedvectors.Vocab at 0x7fb7a5a20090>,\n",
       " 'dreams': <gensim.models.keyedvectors.Vocab at 0x7fb75f1ed610>,\n",
       " \"drippin'\": <gensim.models.keyedvectors.Vocab at 0x7fb75f1f3290>,\n",
       " 'drop': <gensim.models.keyedvectors.Vocab at 0x7fb75f1de610>,\n",
       " 'dumb': <gensim.models.keyedvectors.Vocab at 0x7fb75f1e92d0>,\n",
       " 'días': <gensim.models.keyedvectors.Vocab at 0x7fb75f1db6d0>,\n",
       " 'each': <gensim.models.keyedvectors.Vocab at 0x7fb75f1ef210>,\n",
       " 'easy': <gensim.models.keyedvectors.Vocab at 0x7fb75f1e50d0>,\n",
       " 'el': <gensim.models.keyedvectors.Vocab at 0x7fb75f1db290>,\n",
       " 'ella': <gensim.models.keyedvectors.Vocab at 0x7fb75f1dbe10>,\n",
       " 'else': <gensim.models.keyedvectors.Vocab at 0x7fb75f1ed450>,\n",
       " 'en': <gensim.models.keyedvectors.Vocab at 0x7fb75f1db590>,\n",
       " 'end': <gensim.models.keyedvectors.Vocab at 0x7fb75f1ed910>,\n",
       " 'ends': <gensim.models.keyedvectors.Vocab at 0x7fb75f1efa90>,\n",
       " 'es': <gensim.models.keyedvectors.Vocab at 0x7fb75f1db510>,\n",
       " 'esta': <gensim.models.keyedvectors.Vocab at 0x7fb75f1db550>,\n",
       " 'estamos': <gensim.models.keyedvectors.Vocab at 0x7fb75f1db890>,\n",
       " 'estar': <gensim.models.keyedvectors.Vocab at 0x7fb75f1db810>,\n",
       " 'esto': <gensim.models.keyedvectors.Vocab at 0x7fb75f1db910>,\n",
       " 'estoy': <gensim.models.keyedvectors.Vocab at 0x7fb75f1db350>,\n",
       " 'estribillo': <gensim.models.keyedvectors.Vocab at 0x7fb75f1dbfd0>,\n",
       " 'estuvieras': <gensim.models.keyedvectors.Vocab at 0x7fb75f1dbb50>,\n",
       " 'está': <gensim.models.keyedvectors.Vocab at 0x7fb75f1dba90>,\n",
       " 'estás': <gensim.models.keyedvectors.Vocab at 0x7fb75f1db9d0>,\n",
       " 'even': <gensim.models.keyedvectors.Vocab at 0x7fb75f1e1ad0>,\n",
       " 'ever': <gensim.models.keyedvectors.Vocab at 0x7fb75f1e5250>,\n",
       " 'every': <gensim.models.keyedvectors.Vocab at 0x7fb75f1d8910>,\n",
       " 'everyday': <gensim.models.keyedvectors.Vocab at 0x7fb75f1c51d0>,\n",
       " 'everything': <gensim.models.keyedvectors.Vocab at 0x7fb75f1dee90>,\n",
       " 'everytime': <gensim.models.keyedvectors.Vocab at 0x7fb75f1f3a50>,\n",
       " 'everywhere': <gensim.models.keyedvectors.Vocab at 0x7fb7a5a14d10>,\n",
       " 'exactly': <gensim.models.keyedvectors.Vocab at 0x7fb75f1efed0>,\n",
       " 'eyes': <gensim.models.keyedvectors.Vocab at 0x7fb7a78cb150>,\n",
       " 'face': <gensim.models.keyedvectors.Vocab at 0x7fb75f1e1690>,\n",
       " 'faith': <gensim.models.keyedvectors.Vocab at 0x7fb75f1d8590>,\n",
       " 'fall': <gensim.models.keyedvectors.Vocab at 0x7fb75f1e5fd0>,\n",
       " 'far': <gensim.models.keyedvectors.Vocab at 0x7fb75f1ed690>,\n",
       " 'fast': <gensim.models.keyedvectors.Vocab at 0x7fb75f1f30d0>,\n",
       " 'favorite': <gensim.models.keyedvectors.Vocab at 0x7fb75f1ed250>,\n",
       " 'favourite': <gensim.models.keyedvectors.Vocab at 0x7fb75f1f3bd0>,\n",
       " 'feel': <gensim.models.keyedvectors.Vocab at 0x7fb75f1d8b90>,\n",
       " \"feelin'\": <gensim.models.keyedvectors.Vocab at 0x7fb75f1e5d90>,\n",
       " 'feeling': <gensim.models.keyedvectors.Vocab at 0x7fb75f1c5e10>,\n",
       " 'feels': <gensim.models.keyedvectors.Vocab at 0x7fb75f1e9850>,\n",
       " 'fight': <gensim.models.keyedvectors.Vocab at 0x7fb75f1ed110>,\n",
       " 'finally': <gensim.models.keyedvectors.Vocab at 0x7fb75f1ef290>,\n",
       " 'find': <gensim.models.keyedvectors.Vocab at 0x7fb75f1e9510>,\n",
       " 'fine': <gensim.models.keyedvectors.Vocab at 0x7fb75f1ed490>,\n",
       " 'finesse': <gensim.models.keyedvectors.Vocab at 0x7fb75f1f32d0>,\n",
       " 'fire': <gensim.models.keyedvectors.Vocab at 0x7fb75f1deb50>,\n",
       " 'first': <gensim.models.keyedvectors.Vocab at 0x7fb75f1e5190>,\n",
       " 'five': <gensim.models.keyedvectors.Vocab at 0x7fb7a5a20050>,\n",
       " 'floor': <gensim.models.keyedvectors.Vocab at 0x7fb75f1e5f50>,\n",
       " 'fool': <gensim.models.keyedvectors.Vocab at 0x7fb75f1ed810>,\n",
       " 'for': <gensim.models.keyedvectors.Vocab at 0x7fb75f1d4950>,\n",
       " 'forever': <gensim.models.keyedvectors.Vocab at 0x7fb75f1f3250>,\n",
       " 'forget': <gensim.models.keyedvectors.Vocab at 0x7fb7a5a14f90>,\n",
       " 'four': <gensim.models.keyedvectors.Vocab at 0x7fb75f1def10>,\n",
       " 'freaky': <gensim.models.keyedvectors.Vocab at 0x7fb75f1e5bd0>,\n",
       " 'free': <gensim.models.keyedvectors.Vocab at 0x7fb75f1f3450>,\n",
       " 'fresh': <gensim.models.keyedvectors.Vocab at 0x7fb75f1e5ad0>,\n",
       " 'friend': <gensim.models.keyedvectors.Vocab at 0x7fb75f1edcd0>,\n",
       " 'friends': <gensim.models.keyedvectors.Vocab at 0x7fb75f1e9650>,\n",
       " 'from': <gensim.models.keyedvectors.Vocab at 0x7fb75f1e5150>,\n",
       " 'fun': <gensim.models.keyedvectors.Vocab at 0x7fb75f1e94d0>,\n",
       " 'funk': <gensim.models.keyedvectors.Vocab at 0x7fb75f1e5a10>,\n",
       " 'funny': <gensim.models.keyedvectors.Vocab at 0x7fb75f1ef150>,\n",
       " 'gator': <gensim.models.keyedvectors.Vocab at 0x7fb75f1f3950>,\n",
       " 'gave': <gensim.models.keyedvectors.Vocab at 0x7fb75f1e5210>,\n",
       " 'get': <gensim.models.keyedvectors.Vocab at 0x7fb75f1d4a50>,\n",
       " 'getaway': <gensim.models.keyedvectors.Vocab at 0x7fb75f1eda50>,\n",
       " 'getting': <gensim.models.keyedvectors.Vocab at 0x7fb75f1ef750>,\n",
       " 'gimme': <gensim.models.keyedvectors.Vocab at 0x7fb75f1f3a10>,\n",
       " 'girl': <gensim.models.keyedvectors.Vocab at 0x7fb75f1de3d0>,\n",
       " 'girls': <gensim.models.keyedvectors.Vocab at 0x7fb75f1e5750>,\n",
       " 'give': <gensim.models.keyedvectors.Vocab at 0x7fb75f1d82d0>,\n",
       " 'go': <gensim.models.keyedvectors.Vocab at 0x7fb75f1de4d0>,\n",
       " 'goes': <gensim.models.keyedvectors.Vocab at 0x7fb75f1ed2d0>,\n",
       " \"goin'\": <gensim.models.keyedvectors.Vocab at 0x7fb75f1e5050>,\n",
       " 'going': <gensim.models.keyedvectors.Vocab at 0x7fb75f1d44d0>,\n",
       " 'gold': <gensim.models.keyedvectors.Vocab at 0x7fb75f1e5710>,\n",
       " \"gon'\": <gensim.models.keyedvectors.Vocab at 0x7fb75f1de490>,\n",
       " 'gone': <gensim.models.keyedvectors.Vocab at 0x7fb75f1ed850>,\n",
       " 'gonna': <gensim.models.keyedvectors.Vocab at 0x7fb75f1d4e10>,\n",
       " 'good': <gensim.models.keyedvectors.Vocab at 0x7fb75f1e1110>,\n",
       " 'goodbye': <gensim.models.keyedvectors.Vocab at 0x7fb75f1e9810>,\n",
       " 'gorillas': <gensim.models.keyedvectors.Vocab at 0x7fb75f1ef9d0>,\n",
       " 'got': <gensim.models.keyedvectors.Vocab at 0x7fb75f1d4490>,\n",
       " 'gotta': <gensim.models.keyedvectors.Vocab at 0x7fb75f1ed0d0>,\n",
       " 'greetings': <gensim.models.keyedvectors.Vocab at 0x7fb75f1c5fd0>,\n",
       " 'guess': <gensim.models.keyedvectors.Vocab at 0x7fb75f1e9e50>,\n",
       " 'gustaría': <gensim.models.keyedvectors.Vocab at 0x7fb75f1dbb10>,\n",
       " 'had': <gensim.models.keyedvectors.Vocab at 0x7fb75f1d8510>,\n",
       " 'hair': <gensim.models.keyedvectors.Vocab at 0x7fb75f1e13d0>,\n",
       " 'hallelujah': <gensim.models.keyedvectors.Vocab at 0x7fb75f1e5950>,\n",
       " 'hand': <gensim.models.keyedvectors.Vocab at 0x7fb75f1e1c90>,\n",
       " 'hands': <gensim.models.keyedvectors.Vocab at 0x7fb75f1e9c90>,\n",
       " 'happen': <gensim.models.keyedvectors.Vocab at 0x7fb75f1ef050>,\n",
       " 'hard': <gensim.models.keyedvectors.Vocab at 0x7fb75f1e9f10>,\n",
       " 'has': <gensim.models.keyedvectors.Vocab at 0x7fb75f1d8290>,\n",
       " 'hate': <gensim.models.keyedvectors.Vocab at 0x7fb75f1f3910>,\n",
       " 'have': <gensim.models.keyedvectors.Vocab at 0x7fb75f1c50d0>,\n",
       " 'he': <gensim.models.keyedvectors.Vocab at 0x7fb75f1de310>,\n",
       " 'head': <gensim.models.keyedvectors.Vocab at 0x7fb75f1e9190>,\n",
       " 'hear': <gensim.models.keyedvectors.Vocab at 0x7fb75f1e98d0>,\n",
       " 'heard': <gensim.models.keyedvectors.Vocab at 0x7fb75f1eda90>,\n",
       " 'heart': <gensim.models.keyedvectors.Vocab at 0x7fb75f1d8750>,\n",
       " 'heaven': <gensim.models.keyedvectors.Vocab at 0x7fb75f1d8cd0>,\n",
       " 'help': <gensim.models.keyedvectors.Vocab at 0x7fb75f1e9610>,\n",
       " 'her': <gensim.models.keyedvectors.Vocab at 0x7fb7a5a20290>,\n",
       " 'here': <gensim.models.keyedvectors.Vocab at 0x7fb75f1d42d0>,\n",
       " 'hey': <gensim.models.keyedvectors.Vocab at 0x7fb75f1de350>,\n",
       " 'high': <gensim.models.keyedvectors.Vocab at 0x7fb75f1d8050>,\n",
       " 'higher': <gensim.models.keyedvectors.Vocab at 0x7fb75f1e9c50>,\n",
       " 'his': <gensim.models.keyedvectors.Vocab at 0x7fb75f1d8e50>,\n",
       " 'hit': <gensim.models.keyedvectors.Vocab at 0x7fb7a5a14990>,\n",
       " 'hold': <gensim.models.keyedvectors.Vocab at 0x7fb75f1e9110>,\n",
       " 'home': <gensim.models.keyedvectors.Vocab at 0x7fb75f1ef650>,\n",
       " 'honey': <gensim.models.keyedvectors.Vocab at 0x7fb75f1ed510>,\n",
       " 'hoo': <gensim.models.keyedvectors.Vocab at 0x7fb75f1e1dd0>,\n",
       " 'hope': <gensim.models.keyedvectors.Vocab at 0x7fb75f1e9b90>,\n",
       " 'hot': <gensim.models.keyedvectors.Vocab at 0x7fb75f1e5810>,\n",
       " 'hours': <gensim.models.keyedvectors.Vocab at 0x7fb75f1e9950>,\n",
       " 'how': <gensim.models.keyedvectors.Vocab at 0x7fb75f1e1cd0>,\n",
       " 'hurt': <gensim.models.keyedvectors.Vocab at 0x7fb75f1e9f50>,\n",
       " 'i': <gensim.models.keyedvectors.Vocab at 0x7fb75f1d4050>,\n",
       " \"i'd\": <gensim.models.keyedvectors.Vocab at 0x7fb75f1c0e90>,\n",
       " \"i'll\": <gensim.models.keyedvectors.Vocab at 0x7fb75f1d4890>,\n",
       " \"i'm\": <gensim.models.keyedvectors.Vocab at 0x7fb75f1d4fd0>,\n",
       " \"i'ma\": <gensim.models.keyedvectors.Vocab at 0x7fb75f1efe10>,\n",
       " \"i've\": <gensim.models.keyedvectors.Vocab at 0x7fb75f1d8bd0>,\n",
       " 'ice': <gensim.models.keyedvectors.Vocab at 0x7fb75f1dea90>,\n",
       " 'if': <gensim.models.keyedvectors.Vocab at 0x7fb75f1d8150>,\n",
       " 'im': <gensim.models.keyedvectors.Vocab at 0x7fb75f1f37d0>,\n",
       " 'in': <gensim.models.keyedvectors.Vocab at 0x7fb75f1d85d0>,\n",
       " 'inside': <gensim.models.keyedvectors.Vocab at 0x7fb75f1e5dd0>,\n",
       " 'is': <gensim.models.keyedvectors.Vocab at 0x7fb75f1d47d0>,\n",
       " 'it': <gensim.models.keyedvectors.Vocab at 0x7fb75f1d8ad0>,\n",
       " \"it's\": <gensim.models.keyedvectors.Vocab at 0x7fb75f1d8190>,\n",
       " 'ive': <gensim.models.keyedvectors.Vocab at 0x7fb75f1f3ad0>,\n",
       " 'jewelry': <gensim.models.keyedvectors.Vocab at 0x7fb75f1de950>,\n",
       " 'job': <gensim.models.keyedvectors.Vocab at 0x7fb75f1d4450>,\n",
       " 'jump': <gensim.models.keyedvectors.Vocab at 0x7fb75f1de750>,\n",
       " 'just': <gensim.models.keyedvectors.Vocab at 0x7fb75f1d81d0>,\n",
       " 'karat': <gensim.models.keyedvectors.Vocab at 0x7fb75f1e9d90>,\n",
       " 'keep': <gensim.models.keyedvectors.Vocab at 0x7fb75f1dee10>,\n",
       " 'killing': <gensim.models.keyedvectors.Vocab at 0x7fb75f1ef610>,\n",
       " 'kiss': <gensim.models.keyedvectors.Vocab at 0x7fb75f1e1910>,\n",
       " 'knees': <gensim.models.keyedvectors.Vocab at 0x7fb75f1d8dd0>,\n",
       " 'knew': <gensim.models.keyedvectors.Vocab at 0x7fb75f1efb50>,\n",
       " 'know': <gensim.models.keyedvectors.Vocab at 0x7fb75f1d8110>,\n",
       " 'knows': <gensim.models.keyedvectors.Vocab at 0x7fb75f1edb50>,\n",
       " 'la': <gensim.models.keyedvectors.Vocab at 0x7fb75f1dbf10>,\n",
       " 'ladies': <gensim.models.keyedvectors.Vocab at 0x7fb75f1f3310>,\n",
       " 'lady': <gensim.models.keyedvectors.Vocab at 0x7fb75f1c0e10>,\n",
       " 'last': <gensim.models.keyedvectors.Vocab at 0x7fb75f1c0ed0>,\n",
       " 'late': <gensim.models.keyedvectors.Vocab at 0x7fb75f1e9b10>,\n",
       " 'laugh': <gensim.models.keyedvectors.Vocab at 0x7fb75f1e19d0>,\n",
       " 'lay': <gensim.models.keyedvectors.Vocab at 0x7fb75f1e1b50>,\n",
       " 'leave': <gensim.models.keyedvectors.Vocab at 0x7fb75f1dee50>,\n",
       " 'left': <gensim.models.keyedvectors.Vocab at 0x7fb7a5a200d0>,\n",
       " 'lejos': <gensim.models.keyedvectors.Vocab at 0x7fb75f1dba10>,\n",
       " 'let': <gensim.models.keyedvectors.Vocab at 0x7fb7a5a20190>,\n",
       " \"let's\": <gensim.models.keyedvectors.Vocab at 0x7fb75f1de790>,\n",
       " 'life': <gensim.models.keyedvectors.Vocab at 0x7fb75f1e9ad0>,\n",
       " 'lifetime': <gensim.models.keyedvectors.Vocab at 0x7fb75f1ef1d0>,\n",
       " 'light': <gensim.models.keyedvectors.Vocab at 0x7fb75f1db050>,\n",
       " 'lights': <gensim.models.keyedvectors.Vocab at 0x7fb75f1d4c90>,\n",
       " 'like': <gensim.models.keyedvectors.Vocab at 0x7fb75f1c5f90>,\n",
       " 'line': <gensim.models.keyedvectors.Vocab at 0x7fb75f1d8790>,\n",
       " 'lips': <gensim.models.keyedvectors.Vocab at 0x7fb75f1e1890>,\n",
       " 'liquor': <gensim.models.keyedvectors.Vocab at 0x7fb75f1c5ed0>,\n",
       " 'little': <gensim.models.keyedvectors.Vocab at 0x7fb75f1e9410>,\n",
       " 'live': <gensim.models.keyedvectors.Vocab at 0x7fb75f1d4cd0>,\n",
       " 'llorar': <gensim.models.keyedvectors.Vocab at 0x7fb75f1dbdd0>,\n",
       " 'lo': <gensim.models.keyedvectors.Vocab at 0x7fb75f1db490>,\n",
       " 'locked': <gensim.models.keyedvectors.Vocab at 0x7fb75f1d8c50>,\n",
       " 'lonely': <gensim.models.keyedvectors.Vocab at 0x7fb75f1f3190>,\n",
       " 'long': <gensim.models.keyedvectors.Vocab at 0x7fb75f1d8d50>,\n",
       " 'look': <gensim.models.keyedvectors.Vocab at 0x7fb75f1def50>,\n",
       " \"lookin'\": <gensim.models.keyedvectors.Vocab at 0x7fb75f1ef2d0>,\n",
       " 'looking': <gensim.models.keyedvectors.Vocab at 0x7fb75f1e9290>,\n",
       " 'lord': <gensim.models.keyedvectors.Vocab at 0x7fb75f1edb10>,\n",
       " 'los': <gensim.models.keyedvectors.Vocab at 0x7fb75f1db690>,\n",
       " 'lose': <gensim.models.keyedvectors.Vocab at 0x7fb75f1d4650>,\n",
       " 'losing': <gensim.models.keyedvectors.Vocab at 0x7fb75f1f3810>,\n",
       " 'lost': <gensim.models.keyedvectors.Vocab at 0x7fb75f1e5c90>,\n",
       " 'love': <gensim.models.keyedvectors.Vocab at 0x7fb75f1d8610>,\n",
       " 'loved': <gensim.models.keyedvectors.Vocab at 0x7fb75f1e5610>,\n",
       " 'lovelies': <gensim.models.keyedvectors.Vocab at 0x7fb75f1f3210>,\n",
       " 'lucky': <gensim.models.keyedvectors.Vocab at 0x7fb75f1dead0>,\n",
       " 'mad': <gensim.models.keyedvectors.Vocab at 0x7fb75f1e5450>,\n",
       " 'made': <gensim.models.keyedvectors.Vocab at 0x7fb75f1e95d0>,\n",
       " 'madly': <gensim.models.keyedvectors.Vocab at 0x7fb75f1f3150>,\n",
       " 'magic': <gensim.models.keyedvectors.Vocab at 0x7fb75f1e9dd0>,\n",
       " 'make': <gensim.models.keyedvectors.Vocab at 0x7fb75f1d8b50>,\n",
       " 'makes': <gensim.models.keyedvectors.Vocab at 0x7fb75f1ef950>,\n",
       " 'making': <gensim.models.keyedvectors.Vocab at 0x7fb75f1ef990>,\n",
       " 'man': <gensim.models.keyedvectors.Vocab at 0x7fb75f1e1d10>,\n",
       " 'manera': <gensim.models.keyedvectors.Vocab at 0x7fb75f1dbe90>,\n",
       " 'many': <gensim.models.keyedvectors.Vocab at 0x7fb75f1e9fd0>,\n",
       " 'marry': <gensim.models.keyedvectors.Vocab at 0x7fb75f1e9310>,\n",
       " 'matando': <gensim.models.keyedvectors.Vocab at 0x7fb75f1dbad0>,\n",
       " 'matter': <gensim.models.keyedvectors.Vocab at 0x7fb75f1ed150>,\n",
       " 'me': <gensim.models.keyedvectors.Vocab at 0x7fb75f1d4290>,\n",
       " 'mean': <gensim.models.keyedvectors.Vocab at 0x7fb75f1e9710>,\n",
       " 'meet': <gensim.models.keyedvectors.Vocab at 0x7fb75f1e1e10>,\n",
       " 'mente': <gensim.models.keyedvectors.Vocab at 0x7fb75f1db410>,\n",
       " 'mess': <gensim.models.keyedvectors.Vocab at 0x7fb75f1e1f10>,\n",
       " 'message': <gensim.models.keyedvectors.Vocab at 0x7fb75f1e1c10>,\n",
       " 'messed': <gensim.models.keyedvectors.Vocab at 0x7fb75f1d4a90>,\n",
       " 'mi': <gensim.models.keyedvectors.Vocab at 0x7fb75f1db3d0>,\n",
       " 'might': <gensim.models.keyedvectors.Vocab at 0x7fb75f1e1ed0>,\n",
       " 'mind': <gensim.models.keyedvectors.Vocab at 0x7fb75f1e1210>,\n",
       " 'mine': <gensim.models.keyedvectors.Vocab at 0x7fb75f1ed3d0>,\n",
       " 'minute': <gensim.models.keyedvectors.Vocab at 0x7fb75f1e5a90>,\n",
       " 'miracles': <gensim.models.keyedvectors.Vocab at 0x7fb75f1d8690>,\n",
       " 'mirror': <gensim.models.keyedvectors.Vocab at 0x7fb75f1def90>,\n",
       " 'mismo': <gensim.models.keyedvectors.Vocab at 0x7fb75f1de150>,\n",
       " 'miss': <gensim.models.keyedvectors.Vocab at 0x7fb75f1efe90>,\n",
       " 'mom': <gensim.models.keyedvectors.Vocab at 0x7fb75f1ef690>,\n",
       " 'money': <gensim.models.keyedvectors.Vocab at 0x7fb75f1e58d0>,\n",
       " 'moon': <gensim.models.keyedvectors.Vocab at 0x7fb75f1e9d50>,\n",
       " 'moonshine': <gensim.models.keyedvectors.Vocab at 0x7fb75f1f3510>,\n",
       " 'more': <gensim.models.keyedvectors.Vocab at 0x7fb75f1d4d50>,\n",
       " 'morning': <gensim.models.keyedvectors.Vocab at 0x7fb75f1ef710>,\n",
       " 'move': <gensim.models.keyedvectors.Vocab at 0x7fb75f1efb90>,\n",
       " 'much': <gensim.models.keyedvectors.Vocab at 0x7fb75f1d8550>,\n",
       " 'music': <gensim.models.keyedvectors.Vocab at 0x7fb7a5a14c50>,\n",
       " \"must've\": <gensim.models.keyedvectors.Vocab at 0x7fb75f1ef110>,\n",
       " 'my': <gensim.models.keyedvectors.Vocab at 0x7fb75f1c5450>,\n",
       " 'myself': <gensim.models.keyedvectors.Vocab at 0x7fb75f1e5790>,\n",
       " 'mí': <gensim.models.keyedvectors.Vocab at 0x7fb75f1dbf50>,\n",
       " 'naked': <gensim.models.keyedvectors.Vocab at 0x7fb75f1e5ed0>,\n",
       " 'name': <gensim.models.keyedvectors.Vocab at 0x7fb7a62ed6d0>,\n",
       " 'natalie': <gensim.models.keyedvectors.Vocab at 0x7fb75f1f3390>,\n",
       " 'naughty': <gensim.models.keyedvectors.Vocab at 0x7fb75f1ef790>,\n",
       " 'need': <gensim.models.keyedvectors.Vocab at 0x7fb75f1e5e50>,\n",
       " 'never': <gensim.models.keyedvectors.Vocab at 0x7fb75f1d84d0>,\n",
       " 'new': <gensim.models.keyedvectors.Vocab at 0x7fb7a5a20110>,\n",
       " 'next': <gensim.models.keyedvectors.Vocab at 0x7fb7a9013850>,\n",
       " 'nice': <gensim.models.keyedvectors.Vocab at 0x7fb75f1e1e90>,\n",
       " 'night': <gensim.models.keyedvectors.Vocab at 0x7fb75f1d89d0>,\n",
       " 'no': <gensim.models.keyedvectors.Vocab at 0x7fb75f1dbcd0>,\n",
       " 'nobody': <gensim.models.keyedvectors.Vocab at 0x7fb75f1ef310>,\n",
       " 'not': <gensim.models.keyedvectors.Vocab at 0x7fb75f1c0fd0>,\n",
       " 'nothing': <gensim.models.keyedvectors.Vocab at 0x7fb75f1e1d90>,\n",
       " 'now': <gensim.models.keyedvectors.Vocab at 0x7fb75f1c5d50>,\n",
       " 'nowhere': <gensim.models.keyedvectors.Vocab at 0x7fb75f1d4510>,\n",
       " 'nude': <gensim.models.keyedvectors.Vocab at 0x7fb75f1f3c90>,\n",
       " 'of': <gensim.models.keyedvectors.Vocab at 0x7fb75f1d8c90>,\n",
       " 'off': <gensim.models.keyedvectors.Vocab at 0x7fb75f1e5f90>,\n",
       " 'oh': <gensim.models.keyedvectors.Vocab at 0x7fb75f1d8410>,\n",
       " 'ohhh': <gensim.models.keyedvectors.Vocab at 0x7fb75f1f3090>,\n",
       " 'ohhhh': <gensim.models.keyedvectors.Vocab at 0x7fb75f1eff50>,\n",
       " 'ok': <gensim.models.keyedvectors.Vocab at 0x7fb75f1d4b50>,\n",
       " 'okay': <gensim.models.keyedvectors.Vocab at 0x7fb75f1e1650>,\n",
       " 'old': <gensim.models.keyedvectors.Vocab at 0x7fb75f1e1f90>,\n",
       " 'on': <gensim.models.keyedvectors.Vocab at 0x7fb75f1d4d10>,\n",
       " 'once': <gensim.models.keyedvectors.Vocab at 0x7fb75f1ef850>,\n",
       " 'one': <gensim.models.keyedvectors.Vocab at 0x7fb75f1d48d0>,\n",
       " 'only': <gensim.models.keyedvectors.Vocab at 0x7fb75f1ed050>,\n",
       " 'oo': <gensim.models.keyedvectors.Vocab at 0x7fb75f1f3490>,\n",
       " 'ooh': <gensim.models.keyedvectors.Vocab at 0x7fb7a5a14210>,\n",
       " 'oohh': <gensim.models.keyedvectors.Vocab at 0x7fb75f1f3750>,\n",
       " 'ooo': <gensim.models.keyedvectors.Vocab at 0x7fb75f1f3790>,\n",
       " 'oooh': <gensim.models.keyedvectors.Vocab at 0x7fb75f1e5510>,\n",
       " 'ooooh': <gensim.models.keyedvectors.Vocab at 0x7fb75f1f3b90>,\n",
       " 'open': <gensim.models.keyedvectors.Vocab at 0x7fb75f1d8ed0>,\n",
       " 'or': <gensim.models.keyedvectors.Vocab at 0x7fb75f1d8650>,\n",
       " 'other': <gensim.models.keyedvectors.Vocab at 0x7fb75f1ed7d0>,\n",
       " 'our': <gensim.models.keyedvectors.Vocab at 0x7fb75f1e5c10>,\n",
       " 'out': <gensim.models.keyedvectors.Vocab at 0x7fb75f1d4ed0>,\n",
       " 'over': <gensim.models.keyedvectors.Vocab at 0x7fb75f1ef490>,\n",
       " 'own': <gensim.models.keyedvectors.Vocab at 0x7fb7a5a14e10>,\n",
       " 'oírme': <gensim.models.keyedvectors.Vocab at 0x7fb75f1dbd90>,\n",
       " 'pain': <gensim.models.keyedvectors.Vocab at 0x7fb75f1d4990>,\n",
       " 'para': <gensim.models.keyedvectors.Vocab at 0x7fb75f1db250>,\n",
       " 'paradise': <gensim.models.keyedvectors.Vocab at 0x7fb75f1d8a90>,\n",
       " 'part': <gensim.models.keyedvectors.Vocab at 0x7fb75f1f3c10>,\n",
       " 'party': <gensim.models.keyedvectors.Vocab at 0x7fb75f1e99d0>,\n",
       " 'passed': <gensim.models.keyedvectors.Vocab at 0x7fb75f1edfd0>,\n",
       " 'past': <gensim.models.keyedvectors.Vocab at 0x7fb75f1eddd0>,\n",
       " 'pat': <gensim.models.keyedvectors.Vocab at 0x7fb75f1ef550>,\n",
       " 'pay': <gensim.models.keyedvectors.Vocab at 0x7fb75f1d4e50>,\n",
       " 'perder': <gensim.models.keyedvectors.Vocab at 0x7fb75f1dbf90>,\n",
       " 'perdiendo': <gensim.models.keyedvectors.Vocab at 0x7fb75f1de090>,\n",
       " 'perfect': <gensim.models.keyedvectors.Vocab at 0x7fb75f1e9150>,\n",
       " 'pero': <gensim.models.keyedvectors.Vocab at 0x7fb75f1db850>,\n",
       " 'phone': <gensim.models.keyedvectors.Vocab at 0x7fb75f1e1bd0>,\n",
       " 'pick': <gensim.models.keyedvectors.Vocab at 0x7fb75f1ed350>,\n",
       " 'pimps': <gensim.models.keyedvectors.Vocab at 0x7fb75f1f3890>,\n",
       " 'pinky': <gensim.models.keyedvectors.Vocab at 0x7fb75f1e9cd0>,\n",
       " 'place': <gensim.models.keyedvectors.Vocab at 0x7fb75f1d46d0>,\n",
       " 'play': <gensim.models.keyedvectors.Vocab at 0x7fb75f1ed990>,\n",
       " 'player': <gensim.models.keyedvectors.Vocab at 0x7fb75f1de550>,\n",
       " 'please': <gensim.models.keyedvectors.Vocab at 0x7fb75f1ed950>,\n",
       " 'poor': <gensim.models.keyedvectors.Vocab at 0x7fb75f1edad0>,\n",
       " 'pop': <gensim.models.keyedvectors.Vocab at 0x7fb75f1de510>,\n",
       " 'porque': <gensim.models.keyedvectors.Vocab at 0x7fb75f1de050>,\n",
       " 'prefiero': <gensim.models.keyedvectors.Vocab at 0x7fb75f1db7d0>,\n",
       " 'press': <gensim.models.keyedvectors.Vocab at 0x7fb75f1f3d10>,\n",
       " 'pretend': <gensim.models.keyedvectors.Vocab at 0x7fb75f1efa50>,\n",
       " 'pretty': <gensim.models.keyedvectors.Vocab at 0x7fb75f1e57d0>,\n",
       " 'probably': <gensim.models.keyedvectors.Vocab at 0x7fb75f1c0f90>,\n",
       " 'promise': <gensim.models.keyedvectors.Vocab at 0x7fb75f1dedd0>,\n",
       " 'puedo': <gensim.models.keyedvectors.Vocab at 0x7fb75f1db210>,\n",
       " 'put': <gensim.models.keyedvectors.Vocab at 0x7fb75f1d8710>,\n",
       " 'que': <gensim.models.keyedvectors.Vocab at 0x7fb75f1db1d0>,\n",
       " 'rain': <gensim.models.keyedvectors.Vocab at 0x7fb75f1ed210>,\n",
       " 'rather': <gensim.models.keyedvectors.Vocab at 0x7fb75f1e5c50>,\n",
       " 'ready': <gensim.models.keyedvectors.Vocab at 0x7fb75f1e90d0>,\n",
       " 'real': <gensim.models.keyedvectors.Vocab at 0x7fb75f1e91d0>,\n",
       " 'really': <gensim.models.keyedvectors.Vocab at 0x7fb75f1e1e50>,\n",
       " 'reason': <gensim.models.keyedvectors.Vocab at 0x7fb75f1e5d50>,\n",
       " 'remember': <gensim.models.keyedvectors.Vocab at 0x7fb75f1e9bd0>,\n",
       " 'rent': <gensim.models.keyedvectors.Vocab at 0x7fb75f1d4e90>,\n",
       " 'rest': <gensim.models.keyedvectors.Vocab at 0x7fb75f1db150>,\n",
       " 'right': <gensim.models.keyedvectors.Vocab at 0x7fb75f1db090>,\n",
       " 'rings': <gensim.models.keyedvectors.Vocab at 0x7fb75f1e9d10>,\n",
       " 'roll': <gensim.models.keyedvectors.Vocab at 0x7fb75f1effd0>,\n",
       " 'rolling': <gensim.models.keyedvectors.Vocab at 0x7fb75f1edb90>,\n",
       " 'room': <gensim.models.keyedvectors.Vocab at 0x7fb75f1ed710>,\n",
       " 'run': <gensim.models.keyedvectors.Vocab at 0x7fb75f1d4090>,\n",
       " 'runaway': <gensim.models.keyedvectors.Vocab at 0x7fb75f1ed9d0>,\n",
       " 'running': <gensim.models.keyedvectors.Vocab at 0x7fb75f1ef590>,\n",
       " 'sad': <gensim.models.keyedvectors.Vocab at 0x7fb75f1e1590>,\n",
       " 'said': <gensim.models.keyedvectors.Vocab at 0x7fb75f1de710>,\n",
       " 'same': <gensim.models.keyedvectors.Vocab at 0x7fb75f1e1a90>,\n",
       " 'say': <gensim.models.keyedvectors.Vocab at 0x7fb75f1decd0>,\n",
       " 'sayin': <gensim.models.keyedvectors.Vocab at 0x7fb75f1f3850>,\n",
       " \"sayin'\": <gensim.models.keyedvectors.Vocab at 0x7fb75f1ed290>,\n",
       " 'saying': <gensim.models.keyedvectors.Vocab at 0x7fb75f1f35d0>,\n",
       " 'scared': <gensim.models.keyedvectors.Vocab at 0x7fb75f1edc90>,\n",
       " 'se': <gensim.models.keyedvectors.Vocab at 0x7fb75f1dbc50>,\n",
       " 'searching': <gensim.models.keyedvectors.Vocab at 0x7fb75f1e1a50>,\n",
       " 'see': <gensim.models.keyedvectors.Vocab at 0x7fb75f1d8fd0>,\n",
       " 'seems': <gensim.models.keyedvectors.Vocab at 0x7fb75f1e9250>,\n",
       " 'sense': <gensim.models.keyedvectors.Vocab at 0x7fb75f1efdd0>,\n",
       " 'sex': <gensim.models.keyedvectors.Vocab at 0x7fb75f1d8a10>,\n",
       " 'sexy': <gensim.models.keyedvectors.Vocab at 0x7fb75f1e1a10>,\n",
       " 'she': <gensim.models.keyedvectors.Vocab at 0x7fb75f1e1510>,\n",
       " \"she's\": <gensim.models.keyedvectors.Vocab at 0x7fb75f1e1490>,\n",
       " 'sheets': <gensim.models.keyedvectors.Vocab at 0x7fb75f1debd0>,\n",
       " 'shine': <gensim.models.keyedvectors.Vocab at 0x7fb75f1efd90>,\n",
       " 'shining': <gensim.models.keyedvectors.Vocab at 0x7fb75f1de990>,\n",
       " 'shit': <gensim.models.keyedvectors.Vocab at 0x7fb75f1e9f90>,\n",
       " 'shoot': <gensim.models.keyedvectors.Vocab at 0x7fb75f1f3990>,\n",
       " 'shot': <gensim.models.keyedvectors.Vocab at 0x7fb75f1d4910>,\n",
       " 'should': <gensim.models.keyedvectors.Vocab at 0x7fb75f1ed5d0>,\n",
       " \"should've\": <gensim.models.keyedvectors.Vocab at 0x7fb75f1e5110>,\n",
       " 'shoulder': <gensim.models.keyedvectors.Vocab at 0x7fb75f1e9790>,\n",
       " 'shoulders': <gensim.models.keyedvectors.Vocab at 0x7fb75f1e9050>,\n",
       " 'show': <gensim.models.keyedvectors.Vocab at 0x7fb75f1c5150>,\n",
       " 'shows': <gensim.models.keyedvectors.Vocab at 0x7fb75f1d8b10>,\n",
       " 'side': <gensim.models.keyedvectors.Vocab at 0x7fb75f1ed190>,\n",
       " 'siente': <gensim.models.keyedvectors.Vocab at 0x7fb75f1de250>,\n",
       " 'silk': <gensim.models.keyedvectors.Vocab at 0x7fb75f1deb90>,\n",
       " 'since': <gensim.models.keyedvectors.Vocab at 0x7fb75f1efb10>,\n",
       " 'sing': <gensim.models.keyedvectors.Vocab at 0x7fb7a5a20390>,\n",
       " 'singing': <gensim.models.keyedvectors.Vocab at 0x7fb75f1d4c10>,\n",
       " 'sit': <gensim.models.keyedvectors.Vocab at 0x7fb75f1ed750>,\n",
       " 'sleep': <gensim.models.keyedvectors.Vocab at 0x7fb75f1f3110>,\n",
       " 'slow': <gensim.models.keyedvectors.Vocab at 0x7fb75f1efd10>,\n",
       " 'smile': <gensim.models.keyedvectors.Vocab at 0x7fb75f1de850>,\n",
       " 'smiling': <gensim.models.keyedvectors.Vocab at 0x7fb7a62e2590>,\n",
       " 'so': <gensim.models.keyedvectors.Vocab at 0x7fb75f1d4550>,\n",
       " 'some': <gensim.models.keyedvectors.Vocab at 0x7fb75f1de7d0>,\n",
       " 'someone': <gensim.models.keyedvectors.Vocab at 0x7fb75f1ed410>,\n",
       " 'something': <gensim.models.keyedvectors.Vocab at 0x7fb75f1d8850>,\n",
       " 'somewhere': <gensim.models.keyedvectors.Vocab at 0x7fb75f1ed650>,\n",
       " 'soon': <gensim.models.keyedvectors.Vocab at 0x7fb75f1e9e90>,\n",
       " 'sorrow': <gensim.models.keyedvectors.Vocab at 0x7fb75f1d4a10>,\n",
       " 'special': <gensim.models.keyedvectors.Vocab at 0x7fb75f1f3550>,\n",
       " 'spell': <gensim.models.keyedvectors.Vocab at 0x7fb75f1eda10>,\n",
       " 'spend': <gensim.models.keyedvectors.Vocab at 0x7fb75f1d8990>,\n",
       " 'spiritual': <gensim.models.keyedvectors.Vocab at 0x7fb75f1d8890>,\n",
       " 'stand': <gensim.models.keyedvectors.Vocab at 0x7fb75f1ef090>,\n",
       " 'standing': <gensim.models.keyedvectors.Vocab at 0x7fb75f1c5650>,\n",
       " 'star': <gensim.models.keyedvectors.Vocab at 0x7fb75f1ed550>,\n",
       " 'stares': <gensim.models.keyedvectors.Vocab at 0x7fb75f1e1810>,\n",
       " 'stars': <gensim.models.keyedvectors.Vocab at 0x7fb75f1e1350>,\n",
       " 'start': <gensim.models.keyedvectors.Vocab at 0x7fb75f1ef890>,\n",
       " 'stay': <gensim.models.keyedvectors.Vocab at 0x7fb75f1db110>,\n",
       " 'still': <gensim.models.keyedvectors.Vocab at 0x7fb75f1e5690>,\n",
       " 'stone': <gensim.models.keyedvectors.Vocab at 0x7fb75f1edbd0>,\n",
       " 'stop': <gensim.models.keyedvectors.Vocab at 0x7fb75f1e5a50>,\n",
       " 'stops': <gensim.models.keyedvectors.Vocab at 0x7fb75f1e17d0>,\n",
       " 'store': <gensim.models.keyedvectors.Vocab at 0x7fb75f1c5e50>,\n",
       " 'straight': <gensim.models.keyedvectors.Vocab at 0x7fb75f1e5350>,\n",
       " 'strange': <gensim.models.keyedvectors.Vocab at 0x7fb75f1f36d0>,\n",
       " 'strawberry': <gensim.models.keyedvectors.Vocab at 0x7fb75f1dea10>,\n",
       " 'strut': <gensim.models.keyedvectors.Vocab at 0x7fb75f1e5090>,\n",
       " 'stuck': <gensim.models.keyedvectors.Vocab at 0x7fb75f1e9590>,\n",
       " 'sure': <gensim.models.keyedvectors.Vocab at 0x7fb7a5a14fd0>,\n",
       " 'swear': <gensim.models.keyedvectors.Vocab at 0x7fb75f1c5250>,\n",
       " 'sweet': <gensim.models.keyedvectors.Vocab at 0x7fb75f1f3b50>,\n",
       " 'take': <gensim.models.keyedvectors.Vocab at 0x7fb75f1d4690>,\n",
       " 'takes': <gensim.models.keyedvectors.Vocab at 0x7fb75f1d8a50>,\n",
       " 'taking': <gensim.models.keyedvectors.Vocab at 0x7fb75f1eded0>,\n",
       " 'talk': <gensim.models.keyedvectors.Vocab at 0x7fb75f1e11d0>,\n",
       " \"talkin'\": <gensim.models.keyedvectors.Vocab at 0x7fb75f1dec90>,\n",
       " 'talking': <gensim.models.keyedvectors.Vocab at 0x7fb75f1ed790>,\n",
       " 'tan': <gensim.models.keyedvectors.Vocab at 0x7fb75f1db950>,\n",
       " 'tears': <gensim.models.keyedvectors.Vocab at 0x7fb75f1ef0d0>,\n",
       " 'tell': <gensim.models.keyedvectors.Vocab at 0x7fb75f1defd0>,\n",
       " 'tempo': <gensim.models.keyedvectors.Vocab at 0x7fb75f1f3d50>,\n",
       " 'tengo': <gensim.models.keyedvectors.Vocab at 0x7fb75f1db4d0>,\n",
       " 'than': <gensim.models.keyedvectors.Vocab at 0x7fb75f1d4d90>,\n",
       " 'that': <gensim.models.keyedvectors.Vocab at 0x7fb75f1d80d0>,\n",
       " \"that's\": <gensim.models.keyedvectors.Vocab at 0x7fb75f1d4150>,\n",
       " 'the': <gensim.models.keyedvectors.Vocab at 0x7fb75f1c5b10>,\n",
       " 'their': <gensim.models.keyedvectors.Vocab at 0x7fb7a5a14e90>,\n",
       " 'them': <gensim.models.keyedvectors.Vocab at 0x7fb75f1e1950>,\n",
       " 'then': <gensim.models.keyedvectors.Vocab at 0x7fb7a5a14ed0>,\n",
       " 'there': <gensim.models.keyedvectors.Vocab at 0x7fb75f1db0d0>,\n",
       " \"there'll\": <gensim.models.keyedvectors.Vocab at 0x7fb75f1ed1d0>,\n",
       " \"there's\": <gensim.models.keyedvectors.Vocab at 0x7fb75f1e16d0>,\n",
       " 'these': <gensim.models.keyedvectors.Vocab at 0x7fb75f1e9350>,\n",
       " 'they': <gensim.models.keyedvectors.Vocab at 0x7fb75f1d4f50>,\n",
       " \"they're\": <gensim.models.keyedvectors.Vocab at 0x7fb75f1e1390>,\n",
       " 'thing': <gensim.models.keyedvectors.Vocab at 0x7fb75f1d4610>,\n",
       " 'things': <gensim.models.keyedvectors.Vocab at 0x7fb7a6ce6090>,\n",
       " 'think': <gensim.models.keyedvectors.Vocab at 0x7fb75f1e15d0>,\n",
       " 'thinking': <gensim.models.keyedvectors.Vocab at 0x7fb75f1d8090>,\n",
       " 'this': <gensim.models.keyedvectors.Vocab at 0x7fb75f1c5310>,\n",
       " 'though': <gensim.models.keyedvectors.Vocab at 0x7fb75f1edc10>,\n",
       " 'three': <gensim.models.keyedvectors.Vocab at 0x7fb75f1d83d0>,\n",
       " 'through': <gensim.models.keyedvectors.Vocab at 0x7fb75f1c5390>,\n",
       " 'throw': <gensim.models.keyedvectors.Vocab at 0x7fb75f1e1c50>,\n",
       " 'tiempo': <gensim.models.keyedvectors.Vocab at 0x7fb75f1db2d0>,\n",
       " 'tiene': <gensim.models.keyedvectors.Vocab at 0x7fb75f1de1d0>,\n",
       " 'time': <gensim.models.keyedvectors.Vocab at 0x7fb75f1d8950>,\n",
       " 'times': <gensim.models.keyedvectors.Vocab at 0x7fb75f1efc10>,\n",
       " 'to': <gensim.models.keyedvectors.Vocab at 0x7fb75f1c5510>,\n",
       " 'today': <gensim.models.keyedvectors.Vocab at 0x7fb75f1d4ad0>,\n",
       " 'todo': <gensim.models.keyedvectors.Vocab at 0x7fb75f1db450>,\n",
       " 'todos': <gensim.models.keyedvectors.Vocab at 0x7fb75f1db650>,\n",
       " 'toe': <gensim.models.keyedvectors.Vocab at 0x7fb75f1e9e10>,\n",
       " 'told': <gensim.models.keyedvectors.Vocab at 0x7fb75f1ef3d0>,\n",
       " 'tomorrow': <gensim.models.keyedvectors.Vocab at 0x7fb75f1d4b90>,\n",
       " 'tonight': <gensim.models.keyedvectors.Vocab at 0x7fb75f1d4bd0>,\n",
       " 'too': <gensim.models.keyedvectors.Vocab at 0x7fb75f1d8d10>,\n",
       " 'took': <gensim.models.keyedvectors.Vocab at 0x7fb75f1ef190>,\n",
       " 'top': <gensim.models.keyedvectors.Vocab at 0x7fb75f1d43d0>,\n",
       " 'touch': <gensim.models.keyedvectors.Vocab at 0x7fb75f1eff90>,\n",
       " 'train': <gensim.models.keyedvectors.Vocab at 0x7fb75f1e5310>,\n",
       " 'treasure': <gensim.models.keyedvectors.Vocab at 0x7fb75f1ed4d0>,\n",
       " 'true': <gensim.models.keyedvectors.Vocab at 0x7fb75f1ed590>,\n",
       " 'truth': <gensim.models.keyedvectors.Vocab at 0x7fb75f1ef410>,\n",
       " 'try': <gensim.models.keyedvectors.Vocab at 0x7fb75f1e9b50>,\n",
       " 'trying': <gensim.models.keyedvectors.Vocab at 0x7fb75f1e1450>,\n",
       " 'tryna': <gensim.models.keyedvectors.Vocab at 0x7fb75f1d4310>,\n",
       " 'tu': <gensim.models.keyedvectors.Vocab at 0x7fb75f1db610>,\n",
       " 'turn': <gensim.models.keyedvectors.Vocab at 0x7fb75f1de590>,\n",
       " 'twenty': <gensim.models.keyedvectors.Vocab at 0x7fb75f1deed0>,\n",
       " 'two': <gensim.models.keyedvectors.Vocab at 0x7fb75f1d8390>,\n",
       " 'uh': <gensim.models.keyedvectors.Vocab at 0x7fb75f1d8490>,\n",
       " 'una': <gensim.models.keyedvectors.Vocab at 0x7fb75f1dbe50>,\n",
       " 'understand': <gensim.models.keyedvectors.Vocab at 0x7fb75f1e52d0>,\n",
       " 'up': <gensim.models.keyedvectors.Vocab at 0x7fb75f1d4390>,\n",
       " 'uptown': <gensim.models.keyedvectors.Vocab at 0x7fb75f1e59d0>,\n",
       " 'us': <gensim.models.keyedvectors.Vocab at 0x7fb75f1e1090>,\n",
       " 'use': <gensim.models.keyedvectors.Vocab at 0x7fb75f1efa10>,\n",
       " 'va': <gensim.models.keyedvectors.Vocab at 0x7fb75f1dbed0>,\n",
       " 'veins': <gensim.models.keyedvectors.Vocab at 0x7fb75f1f39d0>,\n",
       " 'ver': <gensim.models.keyedvectors.Vocab at 0x7fb75f1db5d0>,\n",
       " 'versace': <gensim.models.keyedvectors.Vocab at 0x7fb75f1e5f10>,\n",
       " 'verse': <gensim.models.keyedvectors.Vocab at 0x7fb75f1ed090>,\n",
       " 'vez': <gensim.models.keyedvectors.Vocab at 0x7fb75f1de190>,\n",
       " 'voices': <gensim.models.keyedvectors.Vocab at 0x7fb75f1f3690>,\n",
       " 'wait': <gensim.models.keyedvectors.Vocab at 0x7fb75f1d8f90>,\n",
       " \"waitin'\": <gensim.models.keyedvectors.Vocab at 0x7fb75f1f31d0>,\n",
       " 'waiting': <gensim.models.keyedvectors.Vocab at 0x7fb75f1ede90>,\n",
       " 'wake': <gensim.models.keyedvectors.Vocab at 0x7fb75f1de650>,\n",
       " 'walk': <gensim.models.keyedvectors.Vocab at 0x7fb75f1e9a90>,\n",
       " 'wall': <gensim.models.keyedvectors.Vocab at 0x7fb75f1ef350>,\n",
       " 'wanna': <gensim.models.keyedvectors.Vocab at 0x7fb75f1d86d0>,\n",
       " 'want': <gensim.models.keyedvectors.Vocab at 0x7fb75f1de6d0>,\n",
       " 'wanted': <gensim.models.keyedvectors.Vocab at 0x7fb75f1e9a10>,\n",
       " \"warmin'\": <gensim.models.keyedvectors.Vocab at 0x7fb75f1e9210>,\n",
       " 'was': <gensim.models.keyedvectors.Vocab at 0x7fb7a5a20210>,\n",
       " 'watch': <gensim.models.keyedvectors.Vocab at 0x7fb75f1e5590>,\n",
       " 'way': <gensim.models.keyedvectors.Vocab at 0x7fb75f1d4350>,\n",
       " 'ways': <gensim.models.keyedvectors.Vocab at 0x7fb75f1d8e90>,\n",
       " 'we': <gensim.models.keyedvectors.Vocab at 0x7fb75f1ded50>,\n",
       " \"we'll\": <gensim.models.keyedvectors.Vocab at 0x7fb75f1e9450>,\n",
       " \"we're\": <gensim.models.keyedvectors.Vocab at 0x7fb75f1e5cd0>,\n",
       " 'welcome': <gensim.models.keyedvectors.Vocab at 0x7fb75f1f3710>,\n",
       " 'well': <gensim.models.keyedvectors.Vocab at 0x7fb75f1e1150>,\n",
       " 'went': <gensim.models.keyedvectors.Vocab at 0x7fb75f1f3590>,\n",
       " 'were': <gensim.models.keyedvectors.Vocab at 0x7fb75f1e51d0>,\n",
       " 'what': <gensim.models.keyedvectors.Vocab at 0x7fb75f1d4dd0>,\n",
       " \"what's\": <gensim.models.keyedvectors.Vocab at 0x7fb75f1de410>,\n",
       " 'when': <gensim.models.keyedvectors.Vocab at 0x7fb75f1c5210>,\n",
       " 'where': <gensim.models.keyedvectors.Vocab at 0x7fb75f1d4710>,\n",
       " \"where'd\": <gensim.models.keyedvectors.Vocab at 0x7fb75f1f3a90>,\n",
       " 'while': <gensim.models.keyedvectors.Vocab at 0x7fb75f1e1850>,\n",
       " 'white': <gensim.models.keyedvectors.Vocab at 0x7fb75f1dec50>,\n",
       " 'who': <gensim.models.keyedvectors.Vocab at 0x7fb75f1e5890>,\n",
       " \"who's\": <gensim.models.keyedvectors.Vocab at 0x7fb75f1e1050>,\n",
       " 'whoa': <gensim.models.keyedvectors.Vocab at 0x7fb75f1e96d0>,\n",
       " 'whole': <gensim.models.keyedvectors.Vocab at 0x7fb75f1d40d0>,\n",
       " 'whoo': <gensim.models.keyedvectors.Vocab at 0x7fb75f1e5990>,\n",
       " 'why': <gensim.models.keyedvectors.Vocab at 0x7fb75f1d4190>,\n",
       " 'wild': <gensim.models.keyedvectors.Vocab at 0x7fb75f1ef8d0>,\n",
       " 'will': <gensim.models.keyedvectors.Vocab at 0x7fb75f1ded90>,\n",
       " 'wish': <gensim.models.keyedvectors.Vocab at 0x7fb75f1c5490>,\n",
       " 'with': <gensim.models.keyedvectors.Vocab at 0x7fb75f1de690>,\n",
       " 'without': <gensim.models.keyedvectors.Vocab at 0x7fb75f1e1410>,\n",
       " 'woman': <gensim.models.keyedvectors.Vocab at 0x7fb75f1e5490>,\n",
       " \"won't\": <gensim.models.keyedvectors.Vocab at 0x7fb75f1e1550>,\n",
       " 'word': <gensim.models.keyedvectors.Vocab at 0x7fb75f1ded10>,\n",
       " 'words': <gensim.models.keyedvectors.Vocab at 0x7fb75f1edf50>,\n",
       " 'work': <gensim.models.keyedvectors.Vocab at 0x7fb75f1edc50>,\n",
       " 'world': <gensim.models.keyedvectors.Vocab at 0x7fb75f1c5750>,\n",
       " 'worth': <gensim.models.keyedvectors.Vocab at 0x7fb75f1ef250>,\n",
       " 'would': <gensim.models.keyedvectors.Vocab at 0x7fb75f1c5090>,\n",
       " \"wouldn't\": <gensim.models.keyedvectors.Vocab at 0x7fb75f1e56d0>,\n",
       " 'wrong': <gensim.models.keyedvectors.Vocab at 0x7fb75f1edd10>,\n",
       " 'y': <gensim.models.keyedvectors.Vocab at 0x7fb75f1db310>,\n",
       " \"y'all\": <gensim.models.keyedvectors.Vocab at 0x7fb75f1e5b50>,\n",
       " 'ya': <gensim.models.keyedvectors.Vocab at 0x7fb75f1de290>,\n",
       " 'yeah': <gensim.models.keyedvectors.Vocab at 0x7fb75f1d8450>,\n",
       " 'years': <gensim.models.keyedvectors.Vocab at 0x7fb75f1edf90>,\n",
       " 'yes': <gensim.models.keyedvectors.Vocab at 0x7fb75f1e1d50>,\n",
       " 'yesterday': <gensim.models.keyedvectors.Vocab at 0x7fb75f1edf10>,\n",
       " 'yo': <gensim.models.keyedvectors.Vocab at 0x7fb75f1db790>,\n",
       " 'you': <gensim.models.keyedvectors.Vocab at 0x7fb75f1d41d0>,\n",
       " \"you'll\": <gensim.models.keyedvectors.Vocab at 0x7fb75f1e1fd0>,\n",
       " \"you're\": <gensim.models.keyedvectors.Vocab at 0x7fb75f1e1710>,\n",
       " \"you've\": <gensim.models.keyedvectors.Vocab at 0x7fb75f1ef390>,\n",
       " 'young': <gensim.models.keyedvectors.Vocab at 0x7fb75f1e9910>,\n",
       " 'your': <gensim.models.keyedvectors.Vocab at 0x7fb75f1d8810>,\n",
       " 'yourself': <gensim.models.keyedvectors.Vocab at 0x7fb75f1e9550>,\n",
       " 'zoom': <gensim.models.keyedvectors.Vocab at 0x7fb75f1f3650>,\n",
       " '¿dónde': <gensim.models.keyedvectors.Vocab at 0x7fb75f1dbc10>,\n",
       " '¿puedes': <gensim.models.keyedvectors.Vocab at 0x7fb75f1dbd50>}"
      ]
     },
     "execution_count": 13,
     "metadata": {},
     "output_type": "execute_result"
    }
   ],
   "source": [
    "w2v_model.wv.vocab"
   ]
  },
  {
   "cell_type": "markdown",
   "metadata": {
    "id": "fC9mZ8DPk-UC"
   },
   "source": [
    "### 3 - Entrenar el modelo generador"
   ]
  },
  {
   "cell_type": "code",
   "execution_count": 14,
   "metadata": {
    "colab": {
     "base_uri": "https://localhost:8080/"
    },
    "id": "QSp-x0PAsq56",
    "outputId": "7fa69e7b-41ba-4d3e-c513-adc75bac758a"
   },
   "outputs": [
    {
     "name": "stdout",
     "output_type": "stream",
     "text": [
      "Loss after epoch 0: 127963.234375\n",
      "Loss after epoch 1: 70639.421875\n",
      "Loss after epoch 2: 68371.34375\n",
      "Loss after epoch 3: 68440.0\n",
      "Loss after epoch 4: 67895.96875\n",
      "Loss after epoch 5: 67014.09375\n",
      "Loss after epoch 6: 66072.25\n",
      "Loss after epoch 7: 65090.4375\n",
      "Loss after epoch 8: 62438.875\n",
      "Loss after epoch 9: 60414.4375\n",
      "Loss after epoch 10: 57853.8125\n",
      "Loss after epoch 11: 55148.5\n",
      "Loss after epoch 12: 53142.875\n",
      "Loss after epoch 13: 50789.9375\n",
      "Loss after epoch 14: 49241.6875\n",
      "Loss after epoch 15: 47743.5625\n",
      "Loss after epoch 16: 43850.6875\n",
      "Loss after epoch 17: 42326.0\n",
      "Loss after epoch 18: 41557.875\n",
      "Loss after epoch 19: 40269.875\n",
      "Loss after epoch 20: 39518.0\n",
      "Loss after epoch 21: 38581.5\n",
      "Loss after epoch 22: 37890.25\n",
      "Loss after epoch 23: 37237.25\n",
      "Loss after epoch 24: 36222.0\n",
      "Loss after epoch 25: 36143.25\n",
      "Loss after epoch 26: 35741.75\n",
      "Loss after epoch 27: 35369.125\n",
      "Loss after epoch 28: 34668.25\n",
      "Loss after epoch 29: 34222.25\n",
      "Loss after epoch 30: 34062.75\n",
      "Loss after epoch 31: 33843.75\n",
      "Loss after epoch 32: 33086.375\n",
      "Loss after epoch 33: 33412.0\n",
      "Loss after epoch 34: 32780.25\n",
      "Loss after epoch 35: 32572.375\n",
      "Loss after epoch 36: 32377.875\n",
      "Loss after epoch 37: 31902.25\n",
      "Loss after epoch 38: 31964.625\n",
      "Loss after epoch 39: 31730.0\n",
      "Loss after epoch 40: 31856.0\n",
      "Loss after epoch 41: 31337.375\n",
      "Loss after epoch 42: 31183.625\n",
      "Loss after epoch 43: 31560.625\n",
      "Loss after epoch 44: 30775.0\n",
      "Loss after epoch 45: 31401.5\n",
      "Loss after epoch 46: 29731.875\n",
      "Loss after epoch 47: 28639.25\n",
      "Loss after epoch 48: 28962.0\n",
      "Loss after epoch 49: 29081.0\n"
     ]
    },
    {
     "data": {
      "text/plain": [
       "(820625, 1345000)"
      ]
     },
     "execution_count": 14,
     "metadata": {},
     "output_type": "execute_result"
    }
   ],
   "source": [
    "# Entrenamos el modelo generador de vectores\n",
    "# Utilizamos nuestro callback\n",
    "w2v_model.train(sentence_tokens,\n",
    "                 total_examples=w2v_model.corpus_count,\n",
    "                 epochs=50,\n",
    "                 compute_loss = True,\n",
    "                 callbacks=[callback()]\n",
    "                 )"
   ]
  },
  {
   "cell_type": "markdown",
   "metadata": {
    "id": "ddT9NVuNlCAe"
   },
   "source": [
    "### 4 - Ensayar"
   ]
  },
  {
   "cell_type": "code",
   "execution_count": 15,
   "metadata": {
    "colab": {
     "base_uri": "https://localhost:8080/"
    },
    "id": "6cHN9xGLuPEm",
    "outputId": "96c984c0-26fb-4e01-fbfd-85f45569da94"
   },
   "outputs": [
    {
     "data": {
      "text/plain": [
       "[('store', 0.8693147301673889),\n",
       " ('blues', 0.6674636602401733),\n",
       " ('favourite', 0.6395317316055298),\n",
       " ('higher', 0.6279494762420654),\n",
       " ('pain', 0.6052544116973877),\n",
       " ('part', 0.5811115503311157),\n",
       " ('shot', 0.5584149360656738),\n",
       " ('lovelies', 0.5511866211891174),\n",
       " ('voices', 0.5399754047393799),\n",
       " ('sorrow', 0.5314211845397949)]"
      ]
     },
     "execution_count": 15,
     "metadata": {},
     "output_type": "execute_result"
    }
   ],
   "source": [
    "# Palabras que MÁS se relacionan con...:\n",
    "w2v_model.wv.most_similar(positive=[\"liquor\"], topn=10)"
   ]
  },
  {
   "cell_type": "code",
   "execution_count": 16,
   "metadata": {
    "colab": {
     "base_uri": "https://localhost:8080/"
    },
    "id": "47HiU5gdkdMq",
    "outputId": "adb79878-1d22-48c5-9d9e-9248a1f8f78a"
   },
   "outputs": [
    {
     "data": {
      "text/plain": [
       "[('goodbye', 0.2077248990535736),\n",
       " ('say', 0.19475625455379486),\n",
       " ('want', 0.18129926919937134),\n",
       " ('else', 0.13903313875198364),\n",
       " ('ask', 0.10727423429489136),\n",
       " ('yeah', 0.10708113014698029),\n",
       " ('girl', 0.10660406202077866),\n",
       " ('exactly', 0.1060822457075119),\n",
       " ('when', 0.10411880165338516),\n",
       " ('wait', 0.09912270307540894)]"
      ]
     },
     "execution_count": 16,
     "metadata": {},
     "output_type": "execute_result"
    }
   ],
   "source": [
    "# Palabras que MENOS se relacionan con...:\n",
    "w2v_model.wv.most_similar(negative=[\"heaven\"], topn=10)"
   ]
  },
  {
   "cell_type": "code",
   "execution_count": 17,
   "metadata": {
    "colab": {
     "base_uri": "https://localhost:8080/"
    },
    "id": "5_ffG8aeLvPc",
    "outputId": "72c7fcc6-bba6-465d-9489-fd70e74811a9"
   },
   "outputs": [
    {
     "data": {
      "text/plain": [
       "[('favorite', 0.7859001755714417),\n",
       " ('woman', 0.4942712187767029),\n",
       " ('treasure', 0.4903169870376587),\n",
       " ('way', 0.4823775887489319),\n",
       " ('higher', 0.47283807396888733),\n",
       " ('perfect', 0.46092748641967773),\n",
       " ('who', 0.4591675400733948),\n",
       " ('wanted', 0.45308881998062134),\n",
       " ('wish', 0.4426000714302063),\n",
       " ('always', 0.43529701232910156)]"
      ]
     },
     "execution_count": 17,
     "metadata": {},
     "output_type": "execute_result"
    }
   ],
   "source": [
    "# Palabras que MAS se relacionan con...:\n",
    "w2v_model.wv.most_similar(positive=[\"mom\"], topn=10)"
   ]
  },
  {
   "cell_type": "code",
   "execution_count": 18,
   "metadata": {
    "colab": {
     "base_uri": "https://localhost:8080/"
    },
    "id": "DT4Rvno2mD65",
    "outputId": "dd3e7b27-1c94-4291-e870-0f28fc0bfec8"
   },
   "outputs": [
    {
     "data": {
      "text/plain": [
       "[('sheets', 0.9572197198867798),\n",
       " ('white', 0.8807447552680969),\n",
       " ('silk', 0.8760440945625305),\n",
       " ('dim', 0.6828609704971313),\n",
       " ('lovelies', 0.6582652926445007),\n",
       " ('sweet', 0.6364806890487671),\n",
       " ('roll', 0.6294019222259521),\n",
       " ('gave', 0.6117922067642212),\n",
       " ('lights', 0.5893544554710388),\n",
       " ('through', 0.5875629782676697)]"
      ]
     },
     "execution_count": 18,
     "metadata": {},
     "output_type": "execute_result"
    }
   ],
   "source": [
    "# Palabras que MÁS se relacionan con...:\n",
    "w2v_model.wv.most_similar(positive=[\"diamonds\"], topn=10)"
   ]
  },
  {
   "cell_type": "code",
   "execution_count": 19,
   "metadata": {
    "colab": {
     "base_uri": "https://localhost:8080/"
    },
    "id": "XPLDPgzBmQXt",
    "outputId": "34efe1bd-2f2e-4e24-bb56-98b21434155f"
   },
   "outputs": [
    {
     "data": {
      "text/plain": [
       "[('champagne', 0.98259437084198),\n",
       " ('ice', 0.9004901647567749),\n",
       " ('ohhh', 0.8350951075553894),\n",
       " ('spell', 0.7247098684310913),\n",
       " ('whoo', 0.7098385095596313)]"
      ]
     },
     "execution_count": 19,
     "metadata": {},
     "output_type": "execute_result"
    }
   ],
   "source": [
    "# Palabras que MÁS se relacionan con...:\n",
    "w2v_model.wv.most_similar(positive=[\"strawberry\"], topn=5)"
   ]
  },
  {
   "cell_type": "code",
   "execution_count": 20,
   "metadata": {
    "colab": {
     "base_uri": "https://localhost:8080/"
    },
    "id": "L_UvHPMMklOr",
    "outputId": "f8be5576-c221-4e20-f4a9-e54ea5fcad51"
   },
   "outputs": [
    {
     "data": {
      "text/plain": [
       "[('shoot', 0.9267868399620056),\n",
       " ('bed', 0.751532256603241),\n",
       " ('hair', 0.7302831411361694),\n",
       " ('head', 0.6936258673667908),\n",
       " ('brain', 0.691990852355957),\n",
       " ('voices', 0.6913931369781494),\n",
       " ('eyes', 0.6685410737991333),\n",
       " ('favourite', 0.6668327450752258),\n",
       " ('tears', 0.6620155572891235),\n",
       " ('finesse', 0.6417572498321533)]"
      ]
     },
     "execution_count": 20,
     "metadata": {},
     "output_type": "execute_result"
    }
   ],
   "source": [
    "# Palabras que MÁS se relacionan con...:\n",
    "w2v_model.wv.most_similar(positive=[\"veins\"])"
   ]
  },
  {
   "cell_type": "markdown",
   "metadata": {
    "id": "_g8UVWe6lFmh"
   },
   "source": [
    "### 5 - Visualizar agrupación de vectores"
   ]
  },
  {
   "cell_type": "code",
   "execution_count": 21,
   "metadata": {
    "id": "pDxEVXAivjr9"
   },
   "outputs": [],
   "source": [
    "from sklearn.decomposition import IncrementalPCA    \n",
    "from sklearn.manifold import TSNE                   \n",
    "import numpy as np                                  \n",
    "\n",
    "def reduce_dimensions(model):\n",
    "    num_dimensions = 2  \n",
    "\n",
    "    vectors = np.asarray(model.wv.vectors)\n",
    "    labels = np.asarray(model.wv.index2word)  \n",
    "\n",
    "    tsne = TSNE(n_components=num_dimensions, random_state=0)\n",
    "    vectors = tsne.fit_transform(vectors)\n",
    "\n",
    "    x_vals = [v[0] for v in vectors]\n",
    "    y_vals = [v[1] for v in vectors]\n",
    "    return x_vals, y_vals, labels"
   ]
  },
  {
   "cell_type": "code",
   "execution_count": 22,
   "metadata": {
    "colab": {
     "base_uri": "https://localhost:8080/",
     "height": 542
    },
    "id": "NCCXtDpcugmd",
    "outputId": "81e32d0b-c0eb-4d4c-997a-9f3ea4d80c60"
   },
   "outputs": [
    {
     "data": {
      "text/html": [
       "<html>\n",
       "<head><meta charset=\"utf-8\" /></head>\n",
       "<body>\n",
       "    <div>\n",
       "            <script src=\"https://cdnjs.cloudflare.com/ajax/libs/mathjax/2.7.5/MathJax.js?config=TeX-AMS-MML_SVG\"></script><script type=\"text/javascript\">if (window.MathJax) {MathJax.Hub.Config({SVG: {font: \"STIX-Web\"}});}</script>\n",
       "                <script type=\"text/javascript\">window.PlotlyConfig = {MathJaxConfig: 'local'};</script>\n",
       "        <script src=\"https://cdn.plot.ly/plotly-latest.min.js\"></script>    \n",
       "            <div id=\"f86ec0f6-43c6-4abf-918f-b612927ed0be\" class=\"plotly-graph-div\" style=\"height:525px; width:100%;\"></div>\n",
       "            <script type=\"text/javascript\">\n",
       "                \n",
       "                    window.PLOTLYENV=window.PLOTLYENV || {};\n",
       "                    \n",
       "                if (document.getElementById(\"f86ec0f6-43c6-4abf-918f-b612927ed0be\")) {\n",
       "                    Plotly.newPlot(\n",
       "                        'f86ec0f6-43c6-4abf-918f-b612927ed0be',\n",
       "                        [{\"hoverlabel\": {\"namelength\": 0}, \"hovertemplate\": \"x=%{x}<br>y=%{y}<br>text=%{text}\", \"legendgroup\": \"\", \"marker\": {\"color\": \"#636efa\", \"symbol\": \"circle\"}, \"mode\": \"markers+text\", \"name\": \"\", \"showlegend\": false, \"text\": [\"you\", \"i\", \"the\", \"me\", \"it\", \"to\", \"oh\", \"my\", \"and\", \"a\", \"for\", \"yeah\", \"in\", \"on\", \"so\", \"up\", \"what\", \"all\", \"i'm\", \"like\", \"your\", \"that\", \"got\", \"don't\", \"no\", \"know\", \"just\", \"we\", \"her\", \"is\", \"do\", \"baby\", \"be\", \"girl\", \"but\", \"she\", \"it's\", \"this\", \"when\", \"you're\", \"if\", \"of\", \"'cause\", \"go\", \"take\", \"now\", \"can\", \"with\", \"out\", \"love\", \"are\", \"that's\", \"way\", \"get\", \"see\", \"make\", \"say\", \"i'll\", \"time\", \"here\", \"too\", \"one\", \"tell\", \"long\", \"can't\", \"feel\", \"night\", \"come\", \"ooh\", \"wanna\", \"never\", \"been\", \"que\", \"show\", \"down\", \"at\", \"where\", \"better\", \"gimme\", \"more\", \"want\", \"back\", \"only\", \"uh\", \"right\", \"look\", \"run\", \"give\", \"ain't\", \"there\", \"we're\", \"again\", \"ah\", \"estoy\", \"gonna\", \"oo\", \"they\", \"every\", \"cause\", \"have\", \"how\", \"why\", \"tan\", \"was\", \"while\", \"let\", \"our\", \"looking\", \"money\", \"thing\", \"today\", \"es\", \"will\", \"day\", \"could\", \"put\", \"ya\", \"good\", \"not\", \"straight\", \"need\", \"fire\", \"won't\", \"girls\", \"home\", \"eyes\", \"there's\", \"watch\", \"hey\", \"leave\", \"did\", \"think\", \"world\", \"turn\", \"let's\", \"some\", \"would\", \"she's\", \"dance\", \"i've\", \"smile\", \"i'd\", \"you'll\", \"tonight\", \"wait\", \"us\", \"try\", \"gotta\", \"believe\", \"perdiendo\", \"body\", \"before\", \"knows\", \"through\", \"whole\", \"new\", \"find\", \"feels\", \"lonely\", \"stay\", \"dif\\u00edcil\", \"mind\", \"little\", \"hard\", \"trying\", \"ever\", \"uptown\", \"funk\", \"off\", \"always\", \"pain\", \"mi\", \"esta\", \"yo\", \"estamos\", \"lucky\", \"same\", \"them\", \"tomorrow\", \"change\", \"around\", \"keep\", \"away\", \"life\", \"alright\", \"heart\", \"man\", \"slow\", \"place\", \"ok\", \"lights\", \"y\", \"de\", \"pero\", \"est\\u00e1s\", \"mirror\", \"kiss\", \"runaway\", \"something\", \"by\"], \"type\": \"scatter\", \"x\": [-10.709373474121094, -10.925992012023926, 2.0533480644226074, -8.528552055358887, -9.770666122436523, 4.182082653045654, -5.385522365570068, -2.028029441833496, -26.11664390563965, -11.143945693969727, -7.863306045532227, -1.0776296854019165, 8.78768253326416, 7.374539375305176, -5.207652568817139, -3.73339581489563, -23.192750930786133, 8.706807136535645, 2.2249631881713867, -9.335676193237305, -0.2643907368183136, -15.037596702575684, 3.208319664001465, -14.009328842163086, -10.626967430114746, -19.856517791748047, -3.6368303298950195, -3.0688962936401367, -2.072528600692749, 6.030954360961914, -9.48351764678955, -15.290678024291992, 4.148756504058838, -6.830557346343994, -21.92127799987793, -15.432382583618164, 1.2648022174835205, -5.009025573730469, -18.33885383605957, -12.76568603515625, -20.935346603393555, 11.738873481750488, -2.6463067531585693, -12.770956993103027, 0.27711614966392517, -9.34409236907959, -15.304753303527832, -16.2016544342041, -0.8900787830352783, -7.298176288604736, -2.22087025642395, -24.422704696655273, 3.0262715816497803, -2.6388440132141113, -15.281779289245605, 1.806080937385559, -19.448688507080078, -23.26087760925293, -6.568485736846924, -11.527130126953125, 7.599485874176025, -11.200413703918457, -17.158517837524414, 7.691186428070068, -16.103679656982422, -10.464146614074707, 2.186413049697876, -3.3480780124664307, 18.72901153564453, -21.752464294433594, -21.86945343017578, 5.436422348022461, 27.35318374633789, -1.1789430379867554, 15.757864952087402, 10.519002914428711, 0.30110251903533936, 2.2929465770721436, -18.513797760009766, -0.6807359457015991, -12.731433868408203, -1.826501727104187, -17.189441680908203, 6.1205525398254395, -8.500057220458984, -12.75051212310791, 3.4947500228881836, -18.328453063964844, -0.9623041152954102, -2.0157456398010254, -4.785928249359131, 4.041873931884766, -12.638816833496094, 23.872682571411133, -3.3005754947662354, 19.51627540588379, -11.1444730758667, -4.75201940536499, -9.507625579833984, -6.1046061515808105, 0.019300853833556175, -9.006460189819336, 22.78728675842285, -17.6585750579834, 18.360986709594727, -12.701948165893555, 5.130847454071045, 10.31865119934082, 5.9807257652282715, -12.938297271728516, -3.2952511310577393, 24.73427391052246, -6.4394426345825195, 12.348852157592773, -17.376564025878906, 0.42410141229629517, 21.811256408691406, -12.590094566345215, -15.40871810913086, -1.518179178237915, -12.183296203613281, 5.403924942016602, -11.767297744750977, 9.859025001525879, 5.103806495666504, 1.1441426277160645, -11.681025505065918, -2.6347837448120117, -9.461241722106934, -20.57696533203125, -15.264132499694824, -22.647550582885742, 14.234258651733398, -3.331557512283325, -8.682868003845215, -11.013531684875488, -16.70688247680664, 17.520875930786133, 13.233335494995117, 3.716168165206909, -8.380196571350098, -18.993471145629883, -23.038362503051758, -6.103155136108398, -10.264656066894531, -5.811600685119629, -21.444570541381836, -21.04144859313965, -3.0613062381744385, 25.81648063659668, 0.1599641740322113, -13.699197769165039, 0.0764065608382225, 10.349897384643555, 14.635298728942871, 14.763569831848145, -18.513500213623047, -11.706703186035156, -7.130927085876465, -21.408987045288086, 24.23588752746582, 1.7822279930114746, -23.448223114013672, 6.446300506591797, 9.035371780395508, -21.49808120727539, -3.885120153427124, -3.6415374279022217, -0.6729410290718079, -21.591331481933594, 12.57491683959961, 23.368980407714844, 27.969694137573242, 28.91625213623047, 29.958948135375977, -14.80273151397705, 6.854623794555664, 2.5735549926757812, 15.576057434082031, -11.307422637939453, -3.6384503841400146, -5.99252462387085, -4.257352828979492, -2.476832866668701, -25.94352912902832, -9.203649520874023, -10.015228271484375, -12.0639066696167, -13.964038848876953, 15.640314102172852, 12.489612579345703, 25.063682556152344, 25.862468719482422, 29.5865535736084, 23.970905303955078, 13.650613784790039, -6.383302211761475, 2.9027068614959717, 4.081360340118408, -4.937829971313477], \"xaxis\": \"x\", \"y\": [6.097465515136719, 6.066013813018799, 3.656747817993164, 7.575464725494385, 10.537181854248047, 16.866256713867188, -23.166452407836914, 17.457216262817383, 2.1907026767730713, -2.997178554534912, 9.616789817810059, 6.5171356201171875, 9.118491172790527, 7.144053936004639, -14.788496017456055, -20.998659133911133, 4.3252387046813965, -1.4200410842895508, -16.107481002807617, -14.900298118591309, 21.075550079345703, -2.9414546489715576, 9.035571098327637, 4.613875865936279, 3.710174322128296, 2.390906810760498, 4.952281951904297, -5.708278179168701, 14.071589469909668, -0.46547308564186096, 13.506881713867188, 10.224181175231934, -12.05808162689209, 7.5563273429870605, 1.9304683208465576, 3.161053419113159, -4.8239970207214355, 21.385761260986328, 12.432732582092285, 7.773554801940918, -0.7745894193649292, 13.472829818725586, -11.04213809967041, 11.943093299865723, 7.9893107414245605, -9.71683406829834, 5.456968784332275, 0.8655697107315063, -1.6411324739456177, -14.862007141113281, -6.762636661529541, -3.5904505252838135, 2.2811079025268555, 12.088968276977539, 14.180685043334961, 15.036545753479004, 6.370118618011475, 8.977315902709961, 18.350719451904297, -9.890122413635254, -4.928134441375732, 8.67082691192627, 10.123066902160645, -3.7615082263946533, 6.470414638519287, -16.866168975830078, 0.7623583674430847, 9.892186164855957, 10.142775535583496, 10.598736763000488, -2.8308804035186768, -20.8298282623291, -2.028362274169922, -5.263016223907471, 12.386885643005371, -4.091184616088867, 0.22249862551689148, -10.590658187866211, -13.687742233276367, -17.022489547729492, 5.100167274475098, 9.909725189208984, -6.8562822341918945, 2.471289873123169, -9.14673900604248, -12.185942649841309, -10.209714889526367, 15.860658645629883, -7.390773773193359, -1.627704381942749, -3.270477771759033, 3.5657737255096436, -9.18299674987793, -2.920163869857788, -2.9190735816955566, 9.708703994750977, -4.5517377853393555, 16.941848754882812, 8.400617599487305, -6.261968612670898, -4.953882217407227, -5.4610724449157715, 5.514797210693359, 1.196126103401184, -7.798417091369629, 9.504922866821289, 7.326267719268799, -5.535629749298096, 9.862625122070312, -0.2045506238937378, -14.407013893127441, 7.254560470581055, -8.253399848937988, -2.136733055114746, 5.401830196380615, 17.652263641357422, -5.113982677459717, -15.069074630737305, -11.084266662597656, -20.766719818115234, 4.460630893707275, -15.790884017944336, 3.3263447284698486, 4.239725589752197, 14.04920482635498, 11.702291488647461, -1.7063201665878296, 8.015596389770508, -12.146434783935547, -7.396736145019531, 1.6196038722991943, 1.2675374746322632, 3.226250171661377, -18.819778442382812, 11.496536254882812, 15.572294235229492, -5.039935111999512, -2.6913676261901855, -9.679360389709473, -21.694229125976562, 4.140786170959473, -3.6129958629608154, 9.14490795135498, 11.347413063049316, -0.32750001549720764, 3.6787474155426025, -6.596829414367676, 11.079922676086426, 7.832932472229004, -3.376450777053833, 20.336881637573242, -6.0227952003479, -13.972681999206543, 1.7312803268432617, 1.816042184829712, -13.436908721923828, -9.437363624572754, -16.81601333618164, -10.925436973571777, 5.758774757385254, 6.653109073638916, 18.52431297302246, -11.116595268249512, -6.5953545570373535, -14.718770980834961, -3.6419899463653564, -24.04962921142578, -24.290422439575195, 9.451202392578125, -5.524229526519775, 17.694360733032227, -2.1077473163604736, 6.707998752593994, -0.4066827893257141, 4.050971508026123, -8.123611450195312, 11.916788101196289, -1.7615994215011597, -5.860448360443115, 1.463261604309082, -17.25365447998047, -19.775426864624023, -6.4681715965271, -15.093512535095215, -6.65471076965332, -20.921762466430664, 18.521411895751953, 12.078069686889648, -3.05843186378479, -5.915017127990723, -0.40705811977386475, 2.946795701980591, -2.722651958465576, 1.905235767364502, 6.195540428161621, -8.591943740844727, 9.360844612121582, -8.901519775390625, -2.452838897705078, 7.313025951385498], \"yaxis\": \"y\"}],\n",
       "                        {\"legend\": {\"tracegroupgap\": 0}, \"margin\": {\"t\": 60}, \"template\": {\"data\": {\"bar\": [{\"error_x\": {\"color\": \"#2a3f5f\"}, \"error_y\": {\"color\": \"#2a3f5f\"}, \"marker\": {\"line\": {\"color\": \"#E5ECF6\", \"width\": 0.5}}, \"type\": \"bar\"}], \"barpolar\": [{\"marker\": {\"line\": {\"color\": \"#E5ECF6\", \"width\": 0.5}}, \"type\": \"barpolar\"}], \"carpet\": [{\"aaxis\": {\"endlinecolor\": \"#2a3f5f\", \"gridcolor\": \"white\", \"linecolor\": \"white\", \"minorgridcolor\": \"white\", \"startlinecolor\": \"#2a3f5f\"}, \"baxis\": {\"endlinecolor\": \"#2a3f5f\", \"gridcolor\": \"white\", \"linecolor\": \"white\", \"minorgridcolor\": \"white\", \"startlinecolor\": \"#2a3f5f\"}, \"type\": \"carpet\"}], \"choropleth\": [{\"colorbar\": {\"outlinewidth\": 0, \"ticks\": \"\"}, \"type\": \"choropleth\"}], \"contour\": [{\"colorbar\": {\"outlinewidth\": 0, \"ticks\": \"\"}, \"colorscale\": [[0.0, \"#0d0887\"], [0.1111111111111111, \"#46039f\"], [0.2222222222222222, \"#7201a8\"], [0.3333333333333333, \"#9c179e\"], [0.4444444444444444, \"#bd3786\"], [0.5555555555555556, \"#d8576b\"], [0.6666666666666666, \"#ed7953\"], [0.7777777777777778, \"#fb9f3a\"], [0.8888888888888888, \"#fdca26\"], [1.0, \"#f0f921\"]], \"type\": \"contour\"}], \"contourcarpet\": [{\"colorbar\": {\"outlinewidth\": 0, \"ticks\": \"\"}, \"type\": \"contourcarpet\"}], \"heatmap\": [{\"colorbar\": {\"outlinewidth\": 0, \"ticks\": \"\"}, \"colorscale\": [[0.0, \"#0d0887\"], [0.1111111111111111, \"#46039f\"], [0.2222222222222222, \"#7201a8\"], [0.3333333333333333, \"#9c179e\"], [0.4444444444444444, \"#bd3786\"], [0.5555555555555556, \"#d8576b\"], [0.6666666666666666, \"#ed7953\"], [0.7777777777777778, \"#fb9f3a\"], [0.8888888888888888, \"#fdca26\"], [1.0, \"#f0f921\"]], \"type\": \"heatmap\"}], \"heatmapgl\": [{\"colorbar\": {\"outlinewidth\": 0, \"ticks\": \"\"}, \"colorscale\": [[0.0, \"#0d0887\"], [0.1111111111111111, \"#46039f\"], [0.2222222222222222, \"#7201a8\"], [0.3333333333333333, \"#9c179e\"], [0.4444444444444444, \"#bd3786\"], [0.5555555555555556, \"#d8576b\"], [0.6666666666666666, \"#ed7953\"], [0.7777777777777778, \"#fb9f3a\"], [0.8888888888888888, \"#fdca26\"], [1.0, \"#f0f921\"]], \"type\": \"heatmapgl\"}], \"histogram\": [{\"marker\": {\"colorbar\": {\"outlinewidth\": 0, \"ticks\": \"\"}}, \"type\": \"histogram\"}], \"histogram2d\": [{\"colorbar\": {\"outlinewidth\": 0, \"ticks\": \"\"}, \"colorscale\": [[0.0, \"#0d0887\"], [0.1111111111111111, \"#46039f\"], [0.2222222222222222, \"#7201a8\"], [0.3333333333333333, \"#9c179e\"], [0.4444444444444444, \"#bd3786\"], [0.5555555555555556, \"#d8576b\"], [0.6666666666666666, \"#ed7953\"], [0.7777777777777778, \"#fb9f3a\"], [0.8888888888888888, \"#fdca26\"], [1.0, \"#f0f921\"]], \"type\": \"histogram2d\"}], \"histogram2dcontour\": [{\"colorbar\": {\"outlinewidth\": 0, \"ticks\": \"\"}, \"colorscale\": [[0.0, \"#0d0887\"], [0.1111111111111111, \"#46039f\"], [0.2222222222222222, \"#7201a8\"], [0.3333333333333333, \"#9c179e\"], [0.4444444444444444, \"#bd3786\"], [0.5555555555555556, \"#d8576b\"], [0.6666666666666666, \"#ed7953\"], [0.7777777777777778, \"#fb9f3a\"], [0.8888888888888888, \"#fdca26\"], [1.0, \"#f0f921\"]], \"type\": \"histogram2dcontour\"}], \"mesh3d\": [{\"colorbar\": {\"outlinewidth\": 0, \"ticks\": \"\"}, \"type\": \"mesh3d\"}], \"parcoords\": [{\"line\": {\"colorbar\": {\"outlinewidth\": 0, \"ticks\": \"\"}}, \"type\": \"parcoords\"}], \"pie\": [{\"automargin\": true, \"type\": \"pie\"}], \"scatter\": [{\"marker\": {\"colorbar\": {\"outlinewidth\": 0, \"ticks\": \"\"}}, \"type\": \"scatter\"}], \"scatter3d\": [{\"line\": {\"colorbar\": {\"outlinewidth\": 0, \"ticks\": \"\"}}, \"marker\": {\"colorbar\": {\"outlinewidth\": 0, \"ticks\": \"\"}}, \"type\": \"scatter3d\"}], \"scattercarpet\": [{\"marker\": {\"colorbar\": {\"outlinewidth\": 0, \"ticks\": \"\"}}, \"type\": \"scattercarpet\"}], \"scattergeo\": [{\"marker\": {\"colorbar\": {\"outlinewidth\": 0, \"ticks\": \"\"}}, \"type\": \"scattergeo\"}], \"scattergl\": [{\"marker\": {\"colorbar\": {\"outlinewidth\": 0, \"ticks\": \"\"}}, \"type\": \"scattergl\"}], \"scattermapbox\": [{\"marker\": {\"colorbar\": {\"outlinewidth\": 0, \"ticks\": \"\"}}, \"type\": \"scattermapbox\"}], \"scatterpolar\": [{\"marker\": {\"colorbar\": {\"outlinewidth\": 0, \"ticks\": \"\"}}, \"type\": \"scatterpolar\"}], \"scatterpolargl\": [{\"marker\": {\"colorbar\": {\"outlinewidth\": 0, \"ticks\": \"\"}}, \"type\": \"scatterpolargl\"}], \"scatterternary\": [{\"marker\": {\"colorbar\": {\"outlinewidth\": 0, \"ticks\": \"\"}}, \"type\": \"scatterternary\"}], \"surface\": [{\"colorbar\": {\"outlinewidth\": 0, \"ticks\": \"\"}, \"colorscale\": [[0.0, \"#0d0887\"], [0.1111111111111111, \"#46039f\"], [0.2222222222222222, \"#7201a8\"], [0.3333333333333333, \"#9c179e\"], [0.4444444444444444, \"#bd3786\"], [0.5555555555555556, \"#d8576b\"], [0.6666666666666666, \"#ed7953\"], [0.7777777777777778, \"#fb9f3a\"], [0.8888888888888888, \"#fdca26\"], [1.0, \"#f0f921\"]], \"type\": \"surface\"}], \"table\": [{\"cells\": {\"fill\": {\"color\": \"#EBF0F8\"}, \"line\": {\"color\": \"white\"}}, \"header\": {\"fill\": {\"color\": \"#C8D4E3\"}, \"line\": {\"color\": \"white\"}}, \"type\": \"table\"}]}, \"layout\": {\"annotationdefaults\": {\"arrowcolor\": \"#2a3f5f\", \"arrowhead\": 0, \"arrowwidth\": 1}, \"coloraxis\": {\"colorbar\": {\"outlinewidth\": 0, \"ticks\": \"\"}}, \"colorscale\": {\"diverging\": [[0, \"#8e0152\"], [0.1, \"#c51b7d\"], [0.2, \"#de77ae\"], [0.3, \"#f1b6da\"], [0.4, \"#fde0ef\"], [0.5, \"#f7f7f7\"], [0.6, \"#e6f5d0\"], [0.7, \"#b8e186\"], [0.8, \"#7fbc41\"], [0.9, \"#4d9221\"], [1, \"#276419\"]], \"sequential\": [[0.0, \"#0d0887\"], [0.1111111111111111, \"#46039f\"], [0.2222222222222222, \"#7201a8\"], [0.3333333333333333, \"#9c179e\"], [0.4444444444444444, \"#bd3786\"], [0.5555555555555556, \"#d8576b\"], [0.6666666666666666, \"#ed7953\"], [0.7777777777777778, \"#fb9f3a\"], [0.8888888888888888, \"#fdca26\"], [1.0, \"#f0f921\"]], \"sequentialminus\": [[0.0, \"#0d0887\"], [0.1111111111111111, \"#46039f\"], [0.2222222222222222, \"#7201a8\"], [0.3333333333333333, \"#9c179e\"], [0.4444444444444444, \"#bd3786\"], [0.5555555555555556, \"#d8576b\"], [0.6666666666666666, \"#ed7953\"], [0.7777777777777778, \"#fb9f3a\"], [0.8888888888888888, \"#fdca26\"], [1.0, \"#f0f921\"]]}, \"colorway\": [\"#636efa\", \"#EF553B\", \"#00cc96\", \"#ab63fa\", \"#FFA15A\", \"#19d3f3\", \"#FF6692\", \"#B6E880\", \"#FF97FF\", \"#FECB52\"], \"font\": {\"color\": \"#2a3f5f\"}, \"geo\": {\"bgcolor\": \"white\", \"lakecolor\": \"white\", \"landcolor\": \"#E5ECF6\", \"showlakes\": true, \"showland\": true, \"subunitcolor\": \"white\"}, \"hoverlabel\": {\"align\": \"left\"}, \"hovermode\": \"closest\", \"mapbox\": {\"style\": \"light\"}, \"paper_bgcolor\": \"white\", \"plot_bgcolor\": \"#E5ECF6\", \"polar\": {\"angularaxis\": {\"gridcolor\": \"white\", \"linecolor\": \"white\", \"ticks\": \"\"}, \"bgcolor\": \"#E5ECF6\", \"radialaxis\": {\"gridcolor\": \"white\", \"linecolor\": \"white\", \"ticks\": \"\"}}, \"scene\": {\"xaxis\": {\"backgroundcolor\": \"#E5ECF6\", \"gridcolor\": \"white\", \"gridwidth\": 2, \"linecolor\": \"white\", \"showbackground\": true, \"ticks\": \"\", \"zerolinecolor\": \"white\"}, \"yaxis\": {\"backgroundcolor\": \"#E5ECF6\", \"gridcolor\": \"white\", \"gridwidth\": 2, \"linecolor\": \"white\", \"showbackground\": true, \"ticks\": \"\", \"zerolinecolor\": \"white\"}, \"zaxis\": {\"backgroundcolor\": \"#E5ECF6\", \"gridcolor\": \"white\", \"gridwidth\": 2, \"linecolor\": \"white\", \"showbackground\": true, \"ticks\": \"\", \"zerolinecolor\": \"white\"}}, \"shapedefaults\": {\"line\": {\"color\": \"#2a3f5f\"}}, \"ternary\": {\"aaxis\": {\"gridcolor\": \"white\", \"linecolor\": \"white\", \"ticks\": \"\"}, \"baxis\": {\"gridcolor\": \"white\", \"linecolor\": \"white\", \"ticks\": \"\"}, \"bgcolor\": \"#E5ECF6\", \"caxis\": {\"gridcolor\": \"white\", \"linecolor\": \"white\", \"ticks\": \"\"}}, \"title\": {\"x\": 0.05}, \"xaxis\": {\"automargin\": true, \"gridcolor\": \"white\", \"linecolor\": \"white\", \"ticks\": \"\", \"title\": {\"standoff\": 15}, \"zerolinecolor\": \"white\", \"zerolinewidth\": 2}, \"yaxis\": {\"automargin\": true, \"gridcolor\": \"white\", \"linecolor\": \"white\", \"ticks\": \"\", \"title\": {\"standoff\": 15}, \"zerolinecolor\": \"white\", \"zerolinewidth\": 2}}}, \"xaxis\": {\"anchor\": \"y\", \"domain\": [0.0, 1.0], \"title\": {\"text\": \"x\"}}, \"yaxis\": {\"anchor\": \"x\", \"domain\": [0.0, 1.0], \"title\": {\"text\": \"y\"}}},\n",
       "                        {\"responsive\": true}\n",
       "                    ).then(function(){\n",
       "                            \n",
       "var gd = document.getElementById('f86ec0f6-43c6-4abf-918f-b612927ed0be');\n",
       "var x = new MutationObserver(function (mutations, observer) {{\n",
       "        var display = window.getComputedStyle(gd).display;\n",
       "        if (!display || display === 'none') {{\n",
       "            console.log([gd, 'removed!']);\n",
       "            Plotly.purge(gd);\n",
       "            observer.disconnect();\n",
       "        }}\n",
       "}});\n",
       "\n",
       "// Listen for the removal of the full notebook cells\n",
       "var notebookContainer = gd.closest('#notebook-container');\n",
       "if (notebookContainer) {{\n",
       "    x.observe(notebookContainer, {childList: true});\n",
       "}}\n",
       "\n",
       "// Listen for the clearing of the current output cell\n",
       "var outputEl = gd.closest('.output');\n",
       "if (outputEl) {{\n",
       "    x.observe(outputEl, {childList: true});\n",
       "}}\n",
       "\n",
       "                        })\n",
       "                };\n",
       "                \n",
       "            </script>\n",
       "        </div>\n",
       "</body>\n",
       "</html>"
      ]
     },
     "metadata": {},
     "output_type": "display_data"
    }
   ],
   "source": [
    "# Graficar los embedddings en 2D\n",
    "import plotly.graph_objects as go\n",
    "import plotly.express as px\n",
    "\n",
    "x_vals, y_vals, labels = reduce_dimensions(w2v_model)\n",
    "\n",
    "MAX_WORDS=200\n",
    "fig = px.scatter(x=x_vals[:MAX_WORDS], y=y_vals[:MAX_WORDS], text=labels[:MAX_WORDS])\n",
    "fig.show(renderer=\"colab\") # esto para plotly en colab\n"
   ]
  },
  {
   "cell_type": "code",
   "execution_count": null,
   "metadata": {
    "id": "wms2tkIPM_Y9"
   },
   "outputs": [],
   "source": []
  }
 ],
 "metadata": {
  "colab": {
   "collapsed_sections": [],
   "name": "Copia de Desafío 3- Songs - Custom embedding con Gensim - CBOW",
   "provenance": []
  },
  "kernelspec": {
   "display_name": "Python 3 (ipykernel)",
   "language": "python",
   "name": "python3"
  },
  "language_info": {
   "codemirror_mode": {
    "name": "ipython",
    "version": 3
   },
   "file_extension": ".py",
   "mimetype": "text/x-python",
   "name": "python",
   "nbconvert_exporter": "python",
   "pygments_lexer": "ipython3",
   "version": "3.8.13"
  }
 },
 "nbformat": 4,
 "nbformat_minor": 1
}
