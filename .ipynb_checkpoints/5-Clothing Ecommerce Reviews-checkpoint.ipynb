{
 "cells": [
  {
   "cell_type": "markdown",
   "metadata": {
    "id": "kBLpTr7plguX"
   },
   "source": [
    "# Procesamiento de lenguaje natural\n",
    "## Sentiment analysis con Embeddings + LSTM"
   ]
  },
  {
   "cell_type": "markdown",
   "metadata": {
    "id": "9W6nuajhlqZD"
   },
   "source": [
    "### Objetivo\n",
    "El objetivo es utilizar las críticas de compradores de ropa para que el sistema determine la evaluación del comprador y su crítica (cuantas estrellas le asigna al producto)."
   ]
  },
  {
   "cell_type": "code",
   "execution_count": 1,
   "metadata": {
    "id": "hCpOVzJdl8_p"
   },
   "outputs": [],
   "source": [
    "import numpy as np\n",
    "import random\n",
    "import io\n",
    "import pickle\n",
    "import pandas as pd\n",
    "\n",
    "import matplotlib.pyplot as plt\n",
    "import seaborn as sns\n",
    "\n",
    "from tensorflow import keras\n",
    "from tensorflow.keras import layers\n",
    "\n",
    "from keras.utils.np_utils import to_categorical\n",
    "from keras.preprocessing.sequence import pad_sequences\n",
    "from keras.models import Sequential\n",
    "from keras.layers import Dense\n",
    "from keras.layers import LSTM\n",
    "from keras.layers import Embedding"
   ]
  },
  {
   "cell_type": "markdown",
   "metadata": {
    "id": "8UPeRkrAmbF3"
   },
   "source": [
    "### Datos\n",
    "Utilizaremos como dataset críticas de compradores de ropa (eCommerce) los cuales puntuaron a cada prenda con un puntaje de 1 a 5 estrellas.\\\n",
    "Referencia del dataset: [LINK](https://www.kaggle.com/nicapotato/womens-ecommerce-clothing-reviews/version/1)"
   ]
  },
  {
   "cell_type": "code",
   "execution_count": 2,
   "metadata": {
    "colab": {
     "base_uri": "https://localhost:8080/"
    },
    "id": "C7jLvTU3lSyL",
    "outputId": "812870f8-969f-4e0e-db58-460adf2cbb0e"
   },
   "outputs": [
    {
     "name": "stderr",
     "output_type": "stream",
     "text": [
      "Downloading...\n",
      "From: https://drive.google.com/uc?id=1k2Dz4oY5uxI3JEaT6m-L2T2HvLkECYIP\n",
      "To: /content/clothing_ecommerce_reviews.csv\n",
      "100%|██████████| 8.48M/8.48M [00:00<00:00, 25.7MB/s]\n"
     ]
    }
   ],
   "source": [
    "# Descargar la carpeta de dataset\n",
    "import os\n",
    "import gdown\n",
    "if os.access('clothing_ecommerce_reviews.csv', os.F_OK) is False:\n",
    "    url = 'https://drive.google.com/uc?id=1k2Dz4oY5uxI3JEaT6m-L2T2HvLkECYIP'\n",
    "    output = 'clothing_ecommerce_reviews.csv'\n",
    "    gdown.download(url, output, quiet=False)\n",
    "else:\n",
    "    print(\"El dataset ya se encuentra descargado\")"
   ]
  },
  {
   "cell_type": "code",
   "execution_count": 3,
   "metadata": {
    "colab": {
     "base_uri": "https://localhost:8080/",
     "height": 204
    },
    "id": "o-SV1P3dnD1J",
    "outputId": "62342475-2aa5-4e77-e5c7-02ac4ca0cc2f"
   },
   "outputs": [
    {
     "data": {
      "text/html": [
       "<div>\n",
       "<style scoped>\n",
       "    .dataframe tbody tr th:only-of-type {\n",
       "        vertical-align: middle;\n",
       "    }\n",
       "\n",
       "    .dataframe tbody tr th {\n",
       "        vertical-align: top;\n",
       "    }\n",
       "\n",
       "    .dataframe thead th {\n",
       "        text-align: right;\n",
       "    }\n",
       "</style>\n",
       "<table border=\"1\" class=\"dataframe\">\n",
       "  <thead>\n",
       "    <tr style=\"text-align: right;\">\n",
       "      <th></th>\n",
       "      <th>Clothing ID</th>\n",
       "      <th>Age</th>\n",
       "      <th>Title</th>\n",
       "      <th>Review Text</th>\n",
       "      <th>Rating</th>\n",
       "      <th>Recommended IND</th>\n",
       "      <th>Positive Feedback Count</th>\n",
       "      <th>Division Name</th>\n",
       "      <th>Department Name</th>\n",
       "      <th>Class Name</th>\n",
       "    </tr>\n",
       "  </thead>\n",
       "  <tbody>\n",
       "    <tr>\n",
       "      <th>0</th>\n",
       "      <td>767</td>\n",
       "      <td>33</td>\n",
       "      <td>NaN</td>\n",
       "      <td>Absolutely wonderful - silky and sexy and comf...</td>\n",
       "      <td>4</td>\n",
       "      <td>1</td>\n",
       "      <td>0</td>\n",
       "      <td>Initmates</td>\n",
       "      <td>Intimate</td>\n",
       "      <td>Intimates</td>\n",
       "    </tr>\n",
       "    <tr>\n",
       "      <th>1</th>\n",
       "      <td>1080</td>\n",
       "      <td>34</td>\n",
       "      <td>NaN</td>\n",
       "      <td>Love this dress!  it's sooo pretty.  i happene...</td>\n",
       "      <td>5</td>\n",
       "      <td>1</td>\n",
       "      <td>4</td>\n",
       "      <td>General</td>\n",
       "      <td>Dresses</td>\n",
       "      <td>Dresses</td>\n",
       "    </tr>\n",
       "    <tr>\n",
       "      <th>2</th>\n",
       "      <td>1077</td>\n",
       "      <td>60</td>\n",
       "      <td>Some major design flaws</td>\n",
       "      <td>I had such high hopes for this dress and reall...</td>\n",
       "      <td>3</td>\n",
       "      <td>0</td>\n",
       "      <td>0</td>\n",
       "      <td>General</td>\n",
       "      <td>Dresses</td>\n",
       "      <td>Dresses</td>\n",
       "    </tr>\n",
       "    <tr>\n",
       "      <th>3</th>\n",
       "      <td>1049</td>\n",
       "      <td>50</td>\n",
       "      <td>My favorite buy!</td>\n",
       "      <td>I love, love, love this jumpsuit. it's fun, fl...</td>\n",
       "      <td>5</td>\n",
       "      <td>1</td>\n",
       "      <td>0</td>\n",
       "      <td>General Petite</td>\n",
       "      <td>Bottoms</td>\n",
       "      <td>Pants</td>\n",
       "    </tr>\n",
       "    <tr>\n",
       "      <th>4</th>\n",
       "      <td>847</td>\n",
       "      <td>47</td>\n",
       "      <td>Flattering shirt</td>\n",
       "      <td>This shirt is very flattering to all due to th...</td>\n",
       "      <td>5</td>\n",
       "      <td>1</td>\n",
       "      <td>6</td>\n",
       "      <td>General</td>\n",
       "      <td>Tops</td>\n",
       "      <td>Blouses</td>\n",
       "    </tr>\n",
       "  </tbody>\n",
       "</table>\n",
       "</div>"
      ],
      "text/plain": [
       "   Clothing ID  Age  ... Department Name Class Name\n",
       "0          767   33  ...        Intimate  Intimates\n",
       "1         1080   34  ...         Dresses    Dresses\n",
       "2         1077   60  ...         Dresses    Dresses\n",
       "3         1049   50  ...         Bottoms      Pants\n",
       "4          847   47  ...            Tops    Blouses\n",
       "\n",
       "[5 rows x 10 columns]"
      ]
     },
     "execution_count": 3,
     "metadata": {},
     "output_type": "execute_result"
    }
   ],
   "source": [
    "# Armar el dataset\n",
    "df = pd.read_csv('clothing_ecommerce_reviews.csv')\n",
    "df.drop(columns = ['Unnamed: 0'], inplace = True)\n",
    "df.head()"
   ]
  },
  {
   "cell_type": "markdown",
   "metadata": {
    "id": "q-OwSePKm-FK"
   },
   "source": [
    "### 1 - Limpieza de datos\n",
    "Alumno:\n",
    "- Del dataset unicamente utilizar las columnas \"Review Text\" y \"Rating.\n",
    "- Tranformar el rating 1-5 a una escala numérica de 0 a 4.\n",
    "\n"
   ]
  },
  {
   "cell_type": "code",
   "execution_count": 4,
   "metadata": {
    "colab": {
     "base_uri": "https://localhost:8080/",
     "height": 204
    },
    "id": "-hc7-AmYnPC3",
    "outputId": "8fb655f8-e2de-4d8e-ef50-f03e5c11cdd6"
   },
   "outputs": [
    {
     "data": {
      "text/html": [
       "<div>\n",
       "<style scoped>\n",
       "    .dataframe tbody tr th:only-of-type {\n",
       "        vertical-align: middle;\n",
       "    }\n",
       "\n",
       "    .dataframe tbody tr th {\n",
       "        vertical-align: top;\n",
       "    }\n",
       "\n",
       "    .dataframe thead th {\n",
       "        text-align: right;\n",
       "    }\n",
       "</style>\n",
       "<table border=\"1\" class=\"dataframe\">\n",
       "  <thead>\n",
       "    <tr style=\"text-align: right;\">\n",
       "      <th></th>\n",
       "      <th>Review Text</th>\n",
       "      <th>Rating</th>\n",
       "    </tr>\n",
       "  </thead>\n",
       "  <tbody>\n",
       "    <tr>\n",
       "      <th>0</th>\n",
       "      <td>Absolutely wonderful - silky and sexy and comf...</td>\n",
       "      <td>3</td>\n",
       "    </tr>\n",
       "    <tr>\n",
       "      <th>1</th>\n",
       "      <td>Love this dress!  it's sooo pretty.  i happene...</td>\n",
       "      <td>4</td>\n",
       "    </tr>\n",
       "    <tr>\n",
       "      <th>2</th>\n",
       "      <td>I had such high hopes for this dress and reall...</td>\n",
       "      <td>2</td>\n",
       "    </tr>\n",
       "    <tr>\n",
       "      <th>3</th>\n",
       "      <td>I love, love, love this jumpsuit. it's fun, fl...</td>\n",
       "      <td>4</td>\n",
       "    </tr>\n",
       "    <tr>\n",
       "      <th>4</th>\n",
       "      <td>This shirt is very flattering to all due to th...</td>\n",
       "      <td>4</td>\n",
       "    </tr>\n",
       "  </tbody>\n",
       "</table>\n",
       "</div>"
      ],
      "text/plain": [
       "                                         Review Text  Rating\n",
       "0  Absolutely wonderful - silky and sexy and comf...       3\n",
       "1  Love this dress!  it's sooo pretty.  i happene...       4\n",
       "2  I had such high hopes for this dress and reall...       2\n",
       "3  I love, love, love this jumpsuit. it's fun, fl...       4\n",
       "4  This shirt is very flattering to all due to th...       4"
      ]
     },
     "execution_count": 4,
     "metadata": {},
     "output_type": "execute_result"
    }
   ],
   "source": [
    "df_reviews = df.loc[:, ['Review Text', 'Rating']].dropna()\n",
    "df_reviews['Rating'] = df_reviews['Rating'] - 1\n",
    "df_reviews.head()"
   ]
  },
  {
   "cell_type": "code",
   "execution_count": 5,
   "metadata": {
    "colab": {
     "base_uri": "https://localhost:8080/",
     "height": 279
    },
    "id": "sZtvASVOn3ty",
    "outputId": "7e71ec07-90e5-45b0-9bcc-7ab6f8e3836b"
   },
   "outputs": [
    {
     "data": {
      "image/png": "[encoded data removed]",
      "text/plain": [
       "<Figure size 432x288 with 1 Axes>"
      ]
     },
     "metadata": {
      "needs_background": "light"
     },
     "output_type": "display_data"
    }
   ],
   "source": [
    "# Alumno: Observar como está distribuido el dataset respecto a la columna Rating\n",
    "# es decir, observar que tan balanceado se encuentra respecot a cada clase\n",
    "sns.countplot(x='Rating', data=df_reviews)\n",
    "plt.show()"
   ]
  },
  {
   "cell_type": "code",
   "execution_count": 6,
   "metadata": {
    "colab": {
     "base_uri": "https://localhost:8080/"
    },
    "id": "g3m8FdY5o9Hp",
    "outputId": "90f15f61-bc80-4966-dc72-81f09108e0d3"
   },
   "outputs": [
    {
     "name": "stdout",
     "output_type": "stream",
     "text": [
      "<class 'pandas.core.frame.DataFrame'>\n",
      "Int64Index: 22641 entries, 0 to 23485\n",
      "Data columns (total 2 columns):\n",
      " #   Column       Non-Null Count  Dtype \n",
      "---  ------       --------------  ----- \n",
      " 0   Review Text  22641 non-null  object\n",
      " 1   Rating       22641 non-null  int64 \n",
      "dtypes: int64(1), object(1)\n",
      "memory usage: 1.1+ MB\n"
     ]
    }
   ],
   "source": [
    "df_reviews.info()"
   ]
  },
  {
   "cell_type": "code",
   "execution_count": 7,
   "metadata": {
    "colab": {
     "base_uri": "https://localhost:8080/"
    },
    "id": "gVJ_RVi4o1h3",
    "outputId": "a2a97754-a1db-4b36-9c38-01b05405c7cd"
   },
   "outputs": [
    {
     "data": {
      "text/plain": [
       "(22641,)"
      ]
     },
     "execution_count": 7,
     "metadata": {},
     "output_type": "execute_result"
    }
   ],
   "source": [
    "# Alumno: tomar la columna de las review y almacenarlo todo en un vector numpy de reviews\n",
    "review_cloth = df_reviews['Review Text'].values\n",
    "review_cloth.shape"
   ]
  },
  {
   "cell_type": "code",
   "execution_count": 8,
   "metadata": {
    "colab": {
     "base_uri": "https://localhost:8080/"
    },
    "id": "4nT5Un_co65Q",
    "outputId": "3d0ea99a-2874-4903-a768-0f2814f14f5a"
   },
   "outputs": [
    {
     "data": {
      "text/plain": [
       "22641"
      ]
     },
     "execution_count": 8,
     "metadata": {},
     "output_type": "execute_result"
    }
   ],
   "source": [
    "# Alumno: Cuantas reviews (rows) hay para evaluar?\n",
    "len(review_cloth)"
   ]
  },
  {
   "cell_type": "code",
   "execution_count": 9,
   "metadata": {
    "colab": {
     "base_uri": "https://localhost:8080/"
    },
    "id": "-MeE_WPEpfp8",
    "outputId": "6b5db3ff-85a0-485b-890f-da153aced963"
   },
   "outputs": [
    {
     "data": {
      "text/plain": [
       "array(['Absolutely wonderful - silky and sexy and comfortable',\n",
       "       'Love this dress!  it\\'s sooo pretty.  i happened to find it in a store, and i\\'m glad i did bc i never would have ordered it online bc it\\'s petite.  i bought a petite and am 5\\'8\".  i love the length on me- hits just a little below the knee.  would definitely be a true midi on someone who is truly petite.',\n",
       "       'I had such high hopes for this dress and really wanted it to work for me. i initially ordered the petite small (my usual size) but i found this to be outrageously small. so small in fact that i could not zip it up! i reordered it in petite medium, which was just ok. overall, the top half was comfortable and fit nicely, but the bottom half had a very tight under layer and several somewhat cheap (net) over layers. imo, a major design flaw was the net over layer sewn directly into the zipper - it c',\n",
       "       ...,\n",
       "       \"This fit well, but the top was very see through. this never would have worked for me. i'm glad i was able to try it on in the store and didn't order it online. with different fabric, it would have been great.\",\n",
       "       \"I bought this dress for a wedding i have this summer, and it's so cute. unfortunately the fit isn't perfect. the medium fits my waist perfectly, but was way too long and too big in the bust and shoulders. if i wanted to spend the money, i could get it tailored, but i just felt like it might not be worth it. side note - this dress was delivered to me with a nordstrom tag on it and i found it much cheaper there after looking!\",\n",
       "       'This dress in a lovely platinum is feminine and fits perfectly, easy to wear and comfy, too! highly recommend!'],\n",
       "      dtype=object)"
      ]
     },
     "execution_count": 9,
     "metadata": {},
     "output_type": "execute_result"
    }
   ],
   "source": [
    "review_cloth"
   ]
  },
  {
   "cell_type": "code",
   "execution_count": 10,
   "metadata": {
    "id": "HP5uN9tqpHu_"
   },
   "outputs": [],
   "source": [
    "# Alumno: Concatenar todas las reviews para armar el corpus\n",
    "\n",
    "corpus = ' '.join(review_cloth)"
   ]
  },
  {
   "cell_type": "code",
   "execution_count": 11,
   "metadata": {
    "colab": {
     "base_uri": "https://localhost:8080/"
    },
    "id": "FEzmePgdpf74",
    "outputId": "7ae6f05a-97b1-4ba9-e503-c5abe67aeb46"
   },
   "outputs": [
    {
     "data": {
      "text/plain": [
       "7011643"
      ]
     },
     "execution_count": 11,
     "metadata": {},
     "output_type": "execute_result"
    }
   ],
   "source": [
    "# Alumno: ¿Cuál es la longitud de ese corpus?\n",
    "len(corpus)"
   ]
  },
  {
   "cell_type": "code",
   "execution_count": 12,
   "metadata": {
    "id": "MYeJLdDmpvOe"
   },
   "outputs": [],
   "source": [
    "# Alumno: Utilizar \"text_to_word_sequence\" para separar las palabras en tokens\n",
    "# recordar que text_to_word_sequence automaticamente quita los signos de puntuacion y pasa el texto a lowercase\n",
    "from keras.preprocessing.text import text_to_word_sequence\n",
    "tokens = text_to_word_sequence(corpus)"
   ]
  },
  {
   "cell_type": "code",
   "execution_count": 13,
   "metadata": {
    "colab": {
     "base_uri": "https://localhost:8080/"
    },
    "id": "M6L-fnWAp_lA",
    "outputId": "d6457f70-015d-4728-8187-12b571af73a7"
   },
   "outputs": [
    {
     "data": {
      "text/plain": [
       "['absolutely',\n",
       " 'wonderful',\n",
       " 'silky',\n",
       " 'and',\n",
       " 'sexy',\n",
       " 'and',\n",
       " 'comfortable',\n",
       " 'love',\n",
       " 'this',\n",
       " 'dress',\n",
       " \"it's\",\n",
       " 'sooo',\n",
       " 'pretty',\n",
       " 'i',\n",
       " 'happened',\n",
       " 'to',\n",
       " 'find',\n",
       " 'it',\n",
       " 'in',\n",
       " 'a']"
      ]
     },
     "execution_count": 13,
     "metadata": {},
     "output_type": "execute_result"
    }
   ],
   "source": [
    "# Alumno: Dar un vistazo a los primeros 20 tokens/palabras\n",
    "tokens[:20]"
   ]
  },
  {
   "cell_type": "code",
   "execution_count": 14,
   "metadata": {
    "colab": {
     "base_uri": "https://localhost:8080/"
    },
    "id": "-8QgwwMUqG0d",
    "outputId": "836fe4b1-97d0-4b93-c4db-922a8f829438"
   },
   "outputs": [
    {
     "data": {
      "text/plain": [
       "1372203"
      ]
     },
     "execution_count": 14,
     "metadata": {},
     "output_type": "execute_result"
    }
   ],
   "source": [
    "# Alumno: ¿Cuántos tokens/palabras hay?\n",
    "len(tokens)"
   ]
  },
  {
   "cell_type": "code",
   "execution_count": 15,
   "metadata": {
    "id": "TFukNZdOsZ8_"
   },
   "outputs": [],
   "source": [
    "# Alumno: Tokenizar las palabras con el Tokenizer de Keras\n",
    "# Definir una máxima cantidad de palabras a utilizar:\n",
    "# num_words --> the maximum number of words to keep, based on word frequency.\n",
    "# Only the most common num_words-1 words will be kept.\n",
    "from keras.preprocessing.text import Tokenizer\n",
    "num_words = 2000\n",
    "vocab_size = num_words\n",
    "\n",
    "tok = Tokenizer(num_words=2000) \n",
    "tok.fit_on_texts(tokens)"
   ]
  },
  {
   "cell_type": "code",
   "execution_count": 16,
   "metadata": {
    "colab": {
     "base_uri": "https://localhost:8080/"
    },
    "id": "JnR1tlqZy94X",
    "outputId": "d093cf76-8a55-40b2-dca3-5518ccb3f4d7"
   },
   "outputs": [
    {
     "data": {
      "text/plain": [
       "14847"
      ]
     },
     "execution_count": 16,
     "metadata": {},
     "output_type": "execute_result"
    }
   ],
   "source": [
    "# Alumno: Obtener el diccionario de palabra (word) a índice\n",
    "# y observar la cantidad total del vocabulario\n",
    "\n",
    "word_index = tok.word_index\n",
    "len(word_index)"
   ]
  },
  {
   "cell_type": "code",
   "execution_count": 17,
   "metadata": {
    "id": "AvWzzSretQXf"
   },
   "outputs": [],
   "source": [
    "# Alumno: Convertir las palabras/tokens a números\n",
    "sequences = tok.texts_to_sequences(review_cloth)"
   ]
  },
  {
   "cell_type": "code",
   "execution_count": 18,
   "metadata": {
    "colab": {
     "base_uri": "https://localhost:8080/"
    },
    "id": "za73M5SRtbrP",
    "outputId": "46863c75-479b-4cd2-a302-3501fa2f48af"
   },
   "outputs": [
    {
     "data": {
      "text/plain": [
       "115"
      ]
     },
     "execution_count": 18,
     "metadata": {},
     "output_type": "execute_result"
    }
   ],
   "source": [
    "# Alumno: Determinar cual es la oración más larga\n",
    "max(len(s) for s in sequences)"
   ]
  },
  {
   "cell_type": "code",
   "execution_count": 19,
   "metadata": {
    "id": "oCkO9Wc9tls1"
   },
   "outputs": [],
   "source": [
    "# Alumno: Realizar padding de las sentencias al mismo tamaño\n",
    "# tomando de referencia la máxima sentencia\n",
    "from keras.preprocessing.sequence import pad_sequences\n",
    "maxlen = 115\n",
    "\n",
    "X = pad_sequences(sequences, padding='pre', maxlen=maxlen)"
   ]
  },
  {
   "cell_type": "code",
   "execution_count": 20,
   "metadata": {
    "colab": {
     "base_uri": "https://localhost:8080/"
    },
    "id": "kGHHabVdt_aa",
    "outputId": "9f37b619-ddde-43d4-9096-7e85145b0512"
   },
   "outputs": [
    {
     "data": {
      "text/plain": [
       "(22641, 115)"
      ]
     },
     "execution_count": 20,
     "metadata": {},
     "output_type": "execute_result"
    }
   ],
   "source": [
    "# Alumno: Observar las dimensiones de la variable input\n",
    "X.shape"
   ]
  },
  {
   "cell_type": "code",
   "execution_count": 21,
   "metadata": {
    "colab": {
     "base_uri": "https://localhost:8080/"
    },
    "id": "llVM-tzQo9_F",
    "outputId": "37691ba5-1a77-409e-e3b7-58e8d8879ad5"
   },
   "outputs": [
    {
     "name": "stdout",
     "output_type": "stream",
     "text": [
      "(22641, 5)\n"
     ]
    }
   ],
   "source": [
    "# Alumno tomar la columna rating y alcemacenarla en una variable \"y\" transformada a oneHotEncoding\n",
    "# Su shape debe ser equivalente la cantidad de rows del corpus y a la cantidad\n",
    "# de clases que se deseen predecir (en este ejemplo son 5)\n",
    "from sklearn.preprocessing import OneHotEncoder\n",
    "y_encoder = OneHotEncoder(sparse= False)\n",
    "y = y_encoder.fit_transform(df_reviews['Rating'].values.reshape(-1,1))\n",
    "print(y.shape)"
   ]
  },
  {
   "cell_type": "code",
   "execution_count": 22,
   "metadata": {
    "id": "Rmz9A6n4uK4V"
   },
   "outputs": [],
   "source": [
    "# Alumno: Dividir los datos en train y test\n",
    "from sklearn.model_selection import train_test_split\n",
    "\n",
    "X_train, X_test, y_train, y_test = train_test_split(X, y, test_size=0.2, random_state=42)"
   ]
  },
  {
   "cell_type": "code",
   "execution_count": 23,
   "metadata": {
    "colab": {
     "base_uri": "https://localhost:8080/"
    },
    "id": "EcDPlhEouQ9E",
    "outputId": "dd4464a1-1d8b-415d-8c74-10bf39094671"
   },
   "outputs": [
    {
     "name": "stdout",
     "output_type": "stream",
     "text": [
      "in_shape 115 , out_shape 5\n"
     ]
    }
   ],
   "source": [
    "# Alumno: determinar la dimensiones de entrada y salida\n",
    "\n",
    "in_shape = X_train.shape[1] # max input sentence len\n",
    "out_shape = 5 \n",
    "print(\"in_shape\", in_shape, \", out_shape\", out_shape)"
   ]
  },
  {
   "cell_type": "markdown",
   "metadata": {
    "id": "NpbQHExL6OTu"
   },
   "source": [
    "### 2 - Entrenar el modelo con Embeddings + LSTM"
   ]
  },
  {
   "cell_type": "code",
   "execution_count": 24,
   "metadata": {
    "id": "NUkuWBsM6cx3"
   },
   "outputs": [],
   "source": [
    "# Alumno: Entrene su modelo con LSTM entrenando sus propios embeddings\n",
    "# o utilizando embeddings pre-entrenados.\n",
    "from keras.layers import LSTM\n",
    "from keras.layers import Embedding\n",
    "from keras.layers import Dropout"
   ]
  },
  {
   "cell_type": "code",
   "execution_count": 25,
   "metadata": {
    "colab": {
     "base_uri": "https://localhost:8080/"
    },
    "id": "1iV0ZiZCv8r3",
    "outputId": "b285275d-948d-4858-bdd4-e150c7b3fecf"
   },
   "outputs": [
    {
     "name": "stderr",
     "output_type": "stream",
     "text": [
      "Downloading...\n",
      "From: https://drive.google.com/uc?id=1KU5qmAYh3LATMvVgocFDfW-PK3prm1WU&export=download\n",
      "To: /content/fasttext.pkl\n",
      "100%|██████████| 2.88G/2.88G [00:35<00:00, 82.3MB/s]\n"
     ]
    }
   ],
   "source": [
    "# Descargar los embeddings desde un gogle drive (es la forma más rápida)\n",
    "# NOTA: No hay garantía de que estos links perduren, en caso de que no estén\n",
    "# disponibles descargar de la página oficial como se explica en el siguiente bloque\n",
    "import os\n",
    "import gdown\n",
    "if os.access('fasttext.pkl', os.F_OK) is False:\n",
    "    url = 'https://drive.google.com/uc?id=1KU5qmAYh3LATMvVgocFDfW-PK3prm1WU&export=download'\n",
    "    output = 'fasttext.pkl'\n",
    "    gdown.download(url, output, quiet=False)\n",
    "else:\n",
    "    print(\"Los embeddings fasttext.pkl ya están descargados\")"
   ]
  },
  {
   "cell_type": "code",
   "execution_count": 26,
   "metadata": {
    "id": "y6ce430ev8wG"
   },
   "outputs": [],
   "source": [
    "import logging\n",
    "import os\n",
    "from pathlib import Path\n",
    "from io import StringIO\n",
    "import pickle\n",
    "\n",
    "class WordsEmbeddings(object):\n",
    "    logger = logging.getLogger(__name__)\n",
    "\n",
    "    def __init__(self):\n",
    "        # load the embeddings\n",
    "        words_embedding_pkl = Path(self.PKL_PATH)\n",
    "        if not words_embedding_pkl.is_file():\n",
    "            words_embedding_txt = Path(self.WORD_TO_VEC_MODEL_TXT_PATH)\n",
    "            assert words_embedding_txt.is_file(), 'Words embedding not available'\n",
    "            embeddings = self.convert_model_to_pickle()\n",
    "        else:\n",
    "            embeddings = self.load_model_from_pickle()\n",
    "        self.embeddings = embeddings\n",
    "        # build the vocabulary hashmap\n",
    "        index = np.arange(self.embeddings.shape[0])\n",
    "        # Dicctionarios para traducir de embedding a IDX de la palabra\n",
    "        self.word2idx = dict(zip(self.embeddings['word'], index))\n",
    "        self.idx2word = dict(zip(index, self.embeddings['word']))\n",
    "\n",
    "    def get_words_embeddings(self, words):\n",
    "        words_idxs = self.words2idxs(words)\n",
    "        return self.embeddings[words_idxs]['embedding']\n",
    "\n",
    "    def words2idxs(self, words):\n",
    "        return np.array([self.word2idx.get(word, -1) for word in words])\n",
    "\n",
    "    def idxs2words(self, idxs):\n",
    "        return np.array([self.idx2word.get(idx, '-1') for idx in idxs])\n",
    "\n",
    "    def load_model_from_pickle(self):\n",
    "        self.logger.debug(\n",
    "            'loading words embeddings from pickle {}'.format(\n",
    "                self.PKL_PATH\n",
    "            )\n",
    "        )\n",
    "        max_bytes = 2**28 - 1 # 256MB\n",
    "        bytes_in = bytearray(0)\n",
    "        input_size = os.path.getsize(self.PKL_PATH)\n",
    "        with open(self.PKL_PATH, 'rb') as f_in:\n",
    "            for _ in range(0, input_size, max_bytes):\n",
    "                bytes_in += f_in.read(max_bytes)\n",
    "        embeddings = pickle.loads(bytes_in)\n",
    "        self.logger.debug('words embeddings loaded')\n",
    "        return embeddings\n",
    "\n",
    "    def convert_model_to_pickle(self):\n",
    "        # create a numpy strctured array:\n",
    "        # word     embedding\n",
    "        # U50      np.float32[]\n",
    "        # word_1   a, b, c\n",
    "        # word_2   d, e, f\n",
    "        # ...\n",
    "        # word_n   g, h, i\n",
    "        self.logger.debug(\n",
    "            'converting and loading words embeddings from text file {}'.format(\n",
    "                self.WORD_TO_VEC_MODEL_TXT_PATH\n",
    "            )\n",
    "        )\n",
    "        structure = [('word', np.dtype('U' + str(self.WORD_MAX_SIZE))),\n",
    "                     ('embedding', np.float32, (self.N_FEATURES,))]\n",
    "        structure = np.dtype(structure)\n",
    "        # load numpy array from disk using a generator\n",
    "        with open(self.WORD_TO_VEC_MODEL_TXT_PATH, encoding=\"utf8\") as words_embeddings_txt:\n",
    "            embeddings_gen = (\n",
    "                (line.split()[0], line.split()[1:]) for line in words_embeddings_txt\n",
    "                if len(line.split()[1:]) == self.N_FEATURES\n",
    "            )\n",
    "            embeddings = np.fromiter(embeddings_gen, structure)\n",
    "        # add a null embedding\n",
    "        null_embedding = np.array(\n",
    "            [('null_embedding', np.zeros((self.N_FEATURES,), dtype=np.float32))],\n",
    "            dtype=structure\n",
    "        )\n",
    "        embeddings = np.concatenate([embeddings, null_embedding])\n",
    "        # dump numpy array to disk using pickle\n",
    "        max_bytes = 2**28 - 1 # # 256MB\n",
    "        bytes_out = pickle.dumps(embeddings, protocol=pickle.HIGHEST_PROTOCOL)\n",
    "        with open(self.PKL_PATH, 'wb') as f_out:\n",
    "            for idx in range(0, len(bytes_out), max_bytes):\n",
    "                f_out.write(bytes_out[idx:idx+max_bytes])\n",
    "        self.logger.debug('words embeddings loaded')\n",
    "        return embeddings\n",
    "\n",
    "\n",
    "class GloveEmbeddings(WordsEmbeddings):\n",
    "    WORD_TO_VEC_MODEL_TXT_PATH = 'glove.twitter.27B.50d.txt'\n",
    "    PKL_PATH = 'gloveembedding.pkl'\n",
    "    N_FEATURES = 50\n",
    "    WORD_MAX_SIZE = 60\n",
    "\n",
    "\n",
    "class FasttextEmbeddings(WordsEmbeddings):\n",
    "    WORD_TO_VEC_MODEL_TXT_PATH = 'cc.en.300.vec'\n",
    "    PKL_PATH = 'fasttext.pkl'\n",
    "    N_FEATURES = 300\n",
    "    WORD_MAX_SIZE = 60"
   ]
  },
  {
   "cell_type": "code",
   "execution_count": 27,
   "metadata": {
    "id": "vyLclx6Lv802"
   },
   "outputs": [],
   "source": [
    "model_fasttext = FasttextEmbeddings()"
   ]
  },
  {
   "cell_type": "code",
   "execution_count": 28,
   "metadata": {
    "colab": {
     "base_uri": "https://localhost:8080/"
    },
    "id": "9vpASJiCwFGe",
    "outputId": "e4799e09-c765-4da0-e083-1243fec4e0aa"
   },
   "outputs": [
    {
     "name": "stdout",
     "output_type": "stream",
     "text": [
      "preparing embedding matrix...\n",
      "number of null word embeddings: 2\n"
     ]
    }
   ],
   "source": [
    "# Crear la Embedding matrix\n",
    "\n",
    "print('preparing embedding matrix...')\n",
    "embed_dim = 300 # fasttext\n",
    "words_not_found = []\n",
    "\n",
    "# word_index provieen del tokenizer\n",
    "\n",
    "nb_words = min(num_words, len(word_index)) # vocab_size\n",
    "embedding_matrix = np.zeros((nb_words, embed_dim))\n",
    "for word, i in word_index.items():\n",
    "    if i >= nb_words:\n",
    "        continue\n",
    "    embedding_vector = model_fasttext.get_words_embeddings(word)[0]\n",
    "    if (embedding_vector is not None) and len(embedding_vector) > 0:\n",
    "        embedding_matrix[i] = embedding_vector\n",
    "    else:\n",
    "        # words not found in embedding index will be all-zeros.\n",
    "        words_not_found.append(word)\n",
    "        print(word)\n",
    "\n",
    "print('number of null word embeddings:', np.sum(np.sum(embedding_matrix, axis=1) == 0))"
   ]
  },
  {
   "cell_type": "code",
   "execution_count": 29,
   "metadata": {
    "colab": {
     "base_uri": "https://localhost:8080/"
    },
    "id": "h0ANpo7pwFYI",
    "outputId": "5c9b3c81-08cf-43b6-c6ed-725e49cf65f3"
   },
   "outputs": [
    {
     "data": {
      "text/plain": [
       "<keras.layers.embeddings.Embedding at 0x7fcbc7aca090>"
      ]
     },
     "execution_count": 29,
     "metadata": {},
     "output_type": "execute_result"
    }
   ],
   "source": [
    "Embedding(input_dim=vocab_size,  # definido en el Tokenizador\n",
    "          output_dim=embed_dim,  # dimensión de los embeddings utilizados\n",
    "          input_length=in_shape, # máxima sentencia de entrada\n",
    "          weights=[embedding_matrix],  # matrix de embeddings\n",
    "          trainable=False)      # marcar como layer no entrenable"
   ]
  },
  {
   "cell_type": "code",
   "execution_count": 33,
   "metadata": {
    "colab": {
     "base_uri": "https://localhost:8080/"
    },
    "id": "u4q6DYc0rjXl",
    "outputId": "270e9166-fa98-4534-d622-121c59fe67b8"
   },
   "outputs": [
    {
     "name": "stdout",
     "output_type": "stream",
     "text": [
      "Model: \"sequential_1\"\n",
      "_________________________________________________________________\n",
      "Layer (type)                 Output Shape              Param #   \n",
      "=================================================================\n",
      "embedding_2 (Embedding)      (None, 115, 300)          600000    \n",
      "_________________________________________________________________\n",
      "lstm_5 (LSTM)                (None, 115, 64)           93440     \n",
      "_________________________________________________________________\n",
      "dropout_5 (Dropout)          (None, 115, 64)           0         \n",
      "_________________________________________________________________\n",
      "dense_6 (Dense)              (None, 115, 64)           4160      \n",
      "_________________________________________________________________\n",
      "lstm_6 (LSTM)                (None, 115, 64)           33024     \n",
      "_________________________________________________________________\n",
      "dropout_6 (Dropout)          (None, 115, 64)           0         \n",
      "_________________________________________________________________\n",
      "dense_7 (Dense)              (None, 115, 128)          8320      \n",
      "_________________________________________________________________\n",
      "lstm_7 (LSTM)                (None, 115, 128)          131584    \n",
      "_________________________________________________________________\n",
      "dropout_7 (Dropout)          (None, 115, 128)          0         \n",
      "_________________________________________________________________\n",
      "dense_8 (Dense)              (None, 115, 64)           8256      \n",
      "_________________________________________________________________\n",
      "lstm_8 (LSTM)                (None, 64)                33024     \n",
      "_________________________________________________________________\n",
      "dense_9 (Dense)              (None, 128)               8320      \n",
      "_________________________________________________________________\n",
      "dropout_8 (Dropout)          (None, 128)               0         \n",
      "_________________________________________________________________\n",
      "dense_10 (Dense)             (None, 5)                 645       \n",
      "=================================================================\n",
      "Total params: 920,773\n",
      "Trainable params: 320,773\n",
      "Non-trainable params: 600,000\n",
      "_________________________________________________________________\n"
     ]
    }
   ],
   "source": [
    "model = Sequential()\n",
    "\n",
    "model.add(Embedding(input_dim=vocab_size, output_dim=embed_dim, input_length=in_shape,\n",
    "                     weights=[embedding_matrix], trainable=False))\n",
    "\n",
    "model.add(LSTM(units=64, return_sequences=True))\n",
    "model.add(Dropout(0.2))\n",
    "\n",
    "model.add(Dense(units=64, activation='relu'))\n",
    "model.add(LSTM(units=64, return_sequences=True))\n",
    "model.add(Dropout(0.2))\n",
    "model.add(Dense(units=128, activation='relu'))\n",
    "model.add(LSTM(units=128, return_sequences=True))\n",
    "model.add(Dropout(0.2))\n",
    "model.add(Dense(units=64, activation='relu'))\n",
    "\n",
    "model.add(LSTM(units=64))\n",
    "model.add(Dense(units=128, activation='relu'))\n",
    "model.add(Dropout(rate=0.2))\n",
    "model.add(Dense(units=out_shape, activation='softmax'))\n",
    "\n",
    "model.compile(optimizer=\"adam\",\n",
    "              loss='categorical_crossentropy',\n",
    "              metrics=['categorical_accuracy'])\n",
    "\n",
    "model.summary()"
   ]
  },
  {
   "cell_type": "code",
   "execution_count": 34,
   "metadata": {
    "colab": {
     "base_uri": "https://localhost:8080/",
     "height": 1000
    },
    "id": "0Ak0IiPvrv8j",
    "outputId": "fa139826-a820-43be-f584-abe13a1f2d0f"
   },
   "outputs": [
    {
     "data": {
      "image/png": "[encoded data removed]",
      "text/plain": [
       "<IPython.core.display.Image object>"
      ]
     },
     "execution_count": 34,
     "metadata": {},
     "output_type": "execute_result"
    }
   ],
   "source": [
    "from keras.utils.vis_utils import plot_model\n",
    "plot_model(model, to_file='model_plot.png', show_shapes=True, show_layer_names=True)"
   ]
  },
  {
   "cell_type": "code",
   "execution_count": 35,
   "metadata": {
    "colab": {
     "base_uri": "https://localhost:8080/"
    },
    "id": "6BAgDloYskLH",
    "outputId": "5daa3a41-e9a4-4b41-a0e5-2b6d57adfdec"
   },
   "outputs": [
    {
     "name": "stdout",
     "output_type": "stream",
     "text": [
      "Epoch 1/50\n",
      "453/453 [==============================] - 60s 119ms/step - loss: 1.2368 - categorical_accuracy: 0.5514 - val_loss: 1.2480 - val_categorical_accuracy: 0.5468\n",
      "Epoch 2/50\n",
      "453/453 [==============================] - 52s 114ms/step - loss: 1.2286 - categorical_accuracy: 0.5531 - val_loss: 1.2455 - val_categorical_accuracy: 0.5468\n",
      "Epoch 3/50\n",
      "453/453 [==============================] - 52s 114ms/step - loss: 1.2270 - categorical_accuracy: 0.5531 - val_loss: 1.2426 - val_categorical_accuracy: 0.5468\n",
      "Epoch 4/50\n",
      "453/453 [==============================] - 52s 114ms/step - loss: 1.2232 - categorical_accuracy: 0.5531 - val_loss: 1.2385 - val_categorical_accuracy: 0.5468\n",
      "Epoch 5/50\n",
      "453/453 [==============================] - 52s 114ms/step - loss: 1.2076 - categorical_accuracy: 0.5531 - val_loss: 1.2094 - val_categorical_accuracy: 0.5468\n",
      "Epoch 6/50\n",
      "453/453 [==============================] - 51s 114ms/step - loss: 1.1812 - categorical_accuracy: 0.5531 - val_loss: 1.2096 - val_categorical_accuracy: 0.5468\n",
      "Epoch 7/50\n",
      "453/453 [==============================] - 52s 114ms/step - loss: 1.1532 - categorical_accuracy: 0.5532 - val_loss: 1.1618 - val_categorical_accuracy: 0.5468\n",
      "Epoch 8/50\n",
      "453/453 [==============================] - 52s 114ms/step - loss: 1.1284 - categorical_accuracy: 0.5586 - val_loss: 1.1679 - val_categorical_accuracy: 0.5518\n",
      "Epoch 9/50\n",
      "453/453 [==============================] - 51s 114ms/step - loss: 1.1103 - categorical_accuracy: 0.5644 - val_loss: 1.1360 - val_categorical_accuracy: 0.5559\n",
      "Epoch 10/50\n",
      "453/453 [==============================] - 52s 114ms/step - loss: 1.0917 - categorical_accuracy: 0.5681 - val_loss: 1.1313 - val_categorical_accuracy: 0.5642\n",
      "Epoch 11/50\n",
      "453/453 [==============================] - 52s 114ms/step - loss: 1.0752 - categorical_accuracy: 0.5692 - val_loss: 1.1245 - val_categorical_accuracy: 0.5603\n",
      "Epoch 12/50\n",
      "453/453 [==============================] - 52s 114ms/step - loss: 1.0632 - categorical_accuracy: 0.5738 - val_loss: 1.1234 - val_categorical_accuracy: 0.5661\n",
      "Epoch 13/50\n",
      "453/453 [==============================] - 52s 114ms/step - loss: 1.0495 - categorical_accuracy: 0.5765 - val_loss: 1.1108 - val_categorical_accuracy: 0.5658\n",
      "Epoch 14/50\n",
      "453/453 [==============================] - 52s 114ms/step - loss: 1.0402 - categorical_accuracy: 0.5794 - val_loss: 1.1097 - val_categorical_accuracy: 0.5661\n",
      "Epoch 15/50\n",
      "453/453 [==============================] - 52s 114ms/step - loss: 1.0290 - categorical_accuracy: 0.5809 - val_loss: 1.1546 - val_categorical_accuracy: 0.5664\n",
      "Epoch 16/50\n",
      "453/453 [==============================] - 52s 114ms/step - loss: 1.0145 - categorical_accuracy: 0.5864 - val_loss: 1.1305 - val_categorical_accuracy: 0.5647\n",
      "Epoch 17/50\n",
      "453/453 [==============================] - 52s 114ms/step - loss: 1.0029 - categorical_accuracy: 0.5912 - val_loss: 1.1247 - val_categorical_accuracy: 0.5631\n",
      "Epoch 18/50\n",
      "453/453 [==============================] - 52s 114ms/step - loss: 0.9938 - categorical_accuracy: 0.5920 - val_loss: 1.1173 - val_categorical_accuracy: 0.5667\n",
      "Epoch 19/50\n",
      "453/453 [==============================] - 52s 114ms/step - loss: 0.9785 - categorical_accuracy: 0.5970 - val_loss: 1.1598 - val_categorical_accuracy: 0.5686\n",
      "Epoch 20/50\n",
      "453/453 [==============================] - 52s 114ms/step - loss: 0.9651 - categorical_accuracy: 0.6023 - val_loss: 1.1206 - val_categorical_accuracy: 0.5694\n",
      "Epoch 21/50\n",
      "453/453 [==============================] - 52s 114ms/step - loss: 0.9562 - categorical_accuracy: 0.6032 - val_loss: 1.1275 - val_categorical_accuracy: 0.5567\n",
      "Epoch 22/50\n",
      "453/453 [==============================] - 52s 115ms/step - loss: 0.9447 - categorical_accuracy: 0.6084 - val_loss: 1.1281 - val_categorical_accuracy: 0.5611\n",
      "Epoch 23/50\n",
      "453/453 [==============================] - 52s 114ms/step - loss: 0.9339 - categorical_accuracy: 0.6130 - val_loss: 1.1647 - val_categorical_accuracy: 0.5457\n",
      "Epoch 24/50\n",
      "453/453 [==============================] - 52s 115ms/step - loss: 0.9223 - categorical_accuracy: 0.6122 - val_loss: 1.1589 - val_categorical_accuracy: 0.5501\n",
      "Epoch 25/50\n",
      "453/453 [==============================] - 52s 115ms/step - loss: 0.9107 - categorical_accuracy: 0.6164 - val_loss: 1.1822 - val_categorical_accuracy: 0.5443\n",
      "Epoch 26/50\n",
      "453/453 [==============================] - 52s 116ms/step - loss: 0.8989 - categorical_accuracy: 0.6243 - val_loss: 1.1640 - val_categorical_accuracy: 0.5506\n",
      "Epoch 27/50\n",
      "453/453 [==============================] - 52s 115ms/step - loss: 0.8891 - categorical_accuracy: 0.6238 - val_loss: 1.1830 - val_categorical_accuracy: 0.5509\n",
      "Epoch 28/50\n",
      "453/453 [==============================] - 52s 116ms/step - loss: 0.8743 - categorical_accuracy: 0.6303 - val_loss: 1.2216 - val_categorical_accuracy: 0.5617\n",
      "Epoch 29/50\n",
      "453/453 [==============================] - 52s 116ms/step - loss: 0.8707 - categorical_accuracy: 0.6341 - val_loss: 1.2503 - val_categorical_accuracy: 0.5440\n",
      "Epoch 30/50\n",
      "453/453 [==============================] - 52s 116ms/step - loss: 0.8569 - categorical_accuracy: 0.6374 - val_loss: 1.2234 - val_categorical_accuracy: 0.5578\n",
      "Epoch 31/50\n",
      "453/453 [==============================] - 53s 116ms/step - loss: 0.8465 - categorical_accuracy: 0.6390 - val_loss: 1.2965 - val_categorical_accuracy: 0.5145\n",
      "Epoch 32/50\n",
      "453/453 [==============================] - 53s 116ms/step - loss: 0.8350 - categorical_accuracy: 0.6453 - val_loss: 1.2334 - val_categorical_accuracy: 0.5407\n",
      "Epoch 33/50\n",
      "453/453 [==============================] - 53s 116ms/step - loss: 0.8190 - categorical_accuracy: 0.6550 - val_loss: 1.2441 - val_categorical_accuracy: 0.5374\n",
      "Epoch 34/50\n",
      "453/453 [==============================] - 52s 115ms/step - loss: 0.8167 - categorical_accuracy: 0.6553 - val_loss: 1.2420 - val_categorical_accuracy: 0.5313\n",
      "Epoch 35/50\n",
      "453/453 [==============================] - 52s 116ms/step - loss: 0.8004 - categorical_accuracy: 0.6582 - val_loss: 1.3108 - val_categorical_accuracy: 0.5167\n",
      "Epoch 36/50\n",
      "453/453 [==============================] - 52s 116ms/step - loss: 0.7976 - categorical_accuracy: 0.6650 - val_loss: 1.3208 - val_categorical_accuracy: 0.5150\n",
      "Epoch 37/50\n",
      "453/453 [==============================] - 52s 116ms/step - loss: 0.7802 - categorical_accuracy: 0.6680 - val_loss: 1.3036 - val_categorical_accuracy: 0.5380\n",
      "Epoch 38/50\n",
      "453/453 [==============================] - 53s 116ms/step - loss: 0.7757 - categorical_accuracy: 0.6718 - val_loss: 1.4207 - val_categorical_accuracy: 0.5319\n",
      "Epoch 39/50\n",
      "453/453 [==============================] - 53s 116ms/step - loss: 0.7581 - categorical_accuracy: 0.6767 - val_loss: 1.4162 - val_categorical_accuracy: 0.5330\n",
      "Epoch 40/50\n",
      "453/453 [==============================] - 53s 116ms/step - loss: 0.7531 - categorical_accuracy: 0.6813 - val_loss: 1.3781 - val_categorical_accuracy: 0.5424\n",
      "Epoch 41/50\n",
      "453/453 [==============================] - 52s 116ms/step - loss: 0.7430 - categorical_accuracy: 0.6845 - val_loss: 1.4145 - val_categorical_accuracy: 0.5280\n",
      "Epoch 42/50\n",
      "453/453 [==============================] - 52s 115ms/step - loss: 0.7332 - categorical_accuracy: 0.6925 - val_loss: 1.3731 - val_categorical_accuracy: 0.5344\n",
      "Epoch 43/50\n",
      "453/453 [==============================] - 52s 114ms/step - loss: 0.7307 - categorical_accuracy: 0.6901 - val_loss: 1.3954 - val_categorical_accuracy: 0.5200\n",
      "Epoch 44/50\n",
      "453/453 [==============================] - 52s 115ms/step - loss: 0.7165 - categorical_accuracy: 0.6975 - val_loss: 1.4322 - val_categorical_accuracy: 0.5120\n",
      "Epoch 45/50\n",
      "453/453 [==============================] - 52s 115ms/step - loss: 0.7010 - categorical_accuracy: 0.7052 - val_loss: 1.5117 - val_categorical_accuracy: 0.5134\n",
      "Epoch 46/50\n",
      "453/453 [==============================] - 52s 115ms/step - loss: 0.6951 - categorical_accuracy: 0.7097 - val_loss: 1.4339 - val_categorical_accuracy: 0.5134\n",
      "Epoch 47/50\n",
      "453/453 [==============================] - 52s 115ms/step - loss: 0.6894 - categorical_accuracy: 0.7123 - val_loss: 1.5082 - val_categorical_accuracy: 0.5062\n",
      "Epoch 48/50\n",
      "453/453 [==============================] - 52s 116ms/step - loss: 0.6789 - categorical_accuracy: 0.7176 - val_loss: 1.5352 - val_categorical_accuracy: 0.5239\n",
      "Epoch 49/50\n",
      "453/453 [==============================] - 52s 116ms/step - loss: 0.6704 - categorical_accuracy: 0.7191 - val_loss: 1.5156 - val_categorical_accuracy: 0.4999\n",
      "Epoch 50/50\n",
      "453/453 [==============================] - 52s 115ms/step - loss: 0.6625 - categorical_accuracy: 0.7246 - val_loss: 1.5270 - val_categorical_accuracy: 0.5062\n"
     ]
    }
   ],
   "source": [
    "hist = model.fit(X_train, y_train, epochs=50, validation_split=0.2)"
   ]
  },
  {
   "cell_type": "code",
   "execution_count": 36,
   "metadata": {
    "colab": {
     "base_uri": "https://localhost:8080/",
     "height": 265
    },
    "id": "17ANFfJ_smex",
    "outputId": "2ed0269f-adf0-4299-e83e-263dfecaaaf1"
   },
   "outputs": [
    {
     "data": {
      "image/png": "[encoded data removed]",
      "text/plain": [
       "<Figure size 432x288 with 1 Axes>"
      ]
     },
     "metadata": {
      "needs_background": "light"
     },
     "output_type": "display_data"
    }
   ],
   "source": [
    "import matplotlib.pyplot as plt\n",
    "import seaborn as sns\n",
    "epoch_count = range(1, len(hist.history['categorical_accuracy']) + 1)\n",
    "sns.lineplot(x=epoch_count,  y=hist.history['categorical_accuracy'], label='train')\n",
    "sns.lineplot(x=epoch_count,  y=hist.history['val_categorical_accuracy'], label='valid')\n",
    "plt.show()"
   ]
  },
  {
   "cell_type": "code",
   "execution_count": 37,
   "metadata": {
    "colab": {
     "base_uri": "https://localhost:8080/"
    },
    "id": "OfOQTJC8soN7",
    "outputId": "93b1787a-a3f1-4d6e-c2ad-2adc92cbd9f1"
   },
   "outputs": [
    {
     "name": "stdout",
     "output_type": "stream",
     "text": [
      "142/142 [==============================] - 5s 35ms/step - loss: 1.5021 - categorical_accuracy: 0.5131\n"
     ]
    },
    {
     "data": {
      "text/plain": [
       "[1.5020958185195923, 0.5131375789642334]"
      ]
     },
     "execution_count": 37,
     "metadata": {},
     "output_type": "execute_result"
    }
   ],
   "source": [
    "model.evaluate(X_test, y_test)"
   ]
  }
 ],
 "metadata": {
  "accelerator": "GPU",
  "colab": {
   "collapsed_sections": [],
   "name": "Desafio 5 - clothing_ecommerce_reviews.ipynb",
   "provenance": []
  },
  "kernelspec": {
   "display_name": "Python 3 (ipykernel)",
   "language": "python",
   "name": "python3"
  },
  "language_info": {
   "codemirror_mode": {
    "name": "ipython",
    "version": 3
   },
   "file_extension": ".py",
   "mimetype": "text/x-python",
   "name": "python",
   "nbconvert_exporter": "python",
   "pygments_lexer": "ipython3",
   "version": "3.8.13"
  }
 },
 "nbformat": 4,
 "nbformat_minor": 1
}
