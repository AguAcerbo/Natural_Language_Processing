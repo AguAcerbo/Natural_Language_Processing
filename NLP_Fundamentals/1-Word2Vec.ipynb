{
 "cells": [
  {
   "cell_type": "markdown",
   "metadata": {
    "id": "Ue5hxxkdAQJg"
   },
   "source": [
    "# Procesamiento de lenguaje natural\n",
    "## Word2vect\n"
   ]
  },
  {
   "cell_type": "code",
   "execution_count": 1,
   "metadata": {
    "id": "kCED1hh-Ioyf"
   },
   "outputs": [],
   "source": [
    "import numpy as np\n",
    "import pandas as pd"
   ]
  },
  {
   "cell_type": "code",
   "execution_count": 2,
   "metadata": {
    "id": "PUbfVnzIIoMj"
   },
   "outputs": [],
   "source": [
    "def cosine_similarity(a, b):\n",
    "    return np.dot(a, b) / (np.linalg.norm(a) * (np.linalg.norm(b)))"
   ]
  },
  {
   "cell_type": "markdown",
   "metadata": {
    "id": "DMOa4JPSCJ29"
   },
   "source": [
    "### Datos"
   ]
  },
  {
   "cell_type": "code",
   "execution_count": 3,
   "metadata": {
    "id": "RIO7b8GjAC17"
   },
   "outputs": [],
   "source": [
    "corpus = np.array(['que dia es hoy', 'martes el dia de hoy es martes', 'martes muchas gracias'])"
   ]
  },
  {
   "cell_type": "markdown",
   "metadata": {
    "id": "FVHxBRNzCMOS"
   },
   "source": [
    "### 1 - Obtener el vocabulario del corpus (los términos utilizados)\n",
    "- Cada documento transformarlo en una lista de términos\n",
    "- Armar un vector de términos no repetidos de todos los documentos"
   ]
  },
  {
   "cell_type": "code",
   "execution_count": 4,
   "metadata": {
    "id": "3ZqTOZzDI7uv"
   },
   "outputs": [
    {
     "name": "stdout",
     "output_type": "stream",
     "text": [
      "Documento 1: ['que', 'dia', 'es', 'hoy']\n",
      "Documento 2: ['martes', 'el', 'dia', 'de', 'hoy', 'es', 'martes']\n",
      "Documento 3: ['martes', 'muchas', 'gracias']\n",
      "\n",
      "Vocabulario: ['que', 'dia', 'es', 'hoy', 'martes', 'el', 'de', 'muchas', 'gracias']\n"
     ]
    }
   ],
   "source": [
    "voc = []\n",
    "\n",
    "for i, doc in enumerate(corpus):\n",
    "    sentence = doc.split()\n",
    "    print(f\"Documento {i+1}: {sentence}\")\n",
    "    for word in sentence:\n",
    "        if word not in voc:\n",
    "            voc.append(word)\n",
    "print()\n",
    "print(f\"Vocabulario: {voc}\")"
   ]
  },
  {
   "cell_type": "markdown",
   "metadata": {
    "id": "RUhH983FI7It"
   },
   "source": [
    "### 2- OneHot encoding\n",
    "Data una lista de textos, devolver una matriz con la representación oneHotEncoding de estos"
   ]
  },
  {
   "cell_type": "code",
   "execution_count": 5,
   "metadata": {
    "id": "Os0AAQo6I6Z1"
   },
   "outputs": [],
   "source": [
    "# Dimensiones de OHE 3 filas (1 por documento) por 9 columnas (dimension del vocabulario)\n",
    "n_doc = len(corpus)\n",
    "n_voc = len(voc)"
   ]
  },
  {
   "cell_type": "code",
   "execution_count": 6,
   "metadata": {},
   "outputs": [
    {
     "name": "stdout",
     "output_type": "stream",
     "text": [
      "[[1. 1. 1. 1. 0. 0. 0. 0. 0.]\n",
      " [0. 1. 1. 1. 1. 1. 1. 0. 0.]\n",
      " [0. 0. 1. 0. 1. 0. 0. 1. 1.]]\n"
     ]
    }
   ],
   "source": [
    "ohe = np.zeros((n_doc,n_voc))\n",
    "\n",
    "for j, doc in enumerate(corpus):\n",
    "    for i, word in enumerate(voc):\n",
    "        if voc[i] in doc:\n",
    "            ohe[j, i] += 1\n",
    "            \n",
    "print(ohe)"
   ]
  },
  {
   "cell_type": "markdown",
   "metadata": {
    "id": "IIyWGmCpJVQL"
   },
   "source": [
    "### 3- Vectores de frecuencia\n",
    "Data una lista de textos, devolver una matriz con la representación de frecuencia de estos"
   ]
  },
  {
   "cell_type": "code",
   "execution_count": 7,
   "metadata": {
    "id": "yqij_7eHJbUi",
    "scrolled": false
   },
   "outputs": [
    {
     "name": "stdout",
     "output_type": "stream",
     "text": [
      "['que', 'dia', 'es', 'hoy']\n",
      "['martes', 'el', 'dia', 'de', 'hoy', 'es', 'martes']\n",
      "['martes', 'muchas', 'gracias']\n"
     ]
    }
   ],
   "source": [
    "#TF\n",
    "\n",
    "tf = np.zeros((n_doc,n_voc))\n",
    "\n",
    "for j, doc in enumerate(corpus):\n",
    "    sentence = doc.split()\n",
    "    print(sentence)\n",
    "    for i, word in enumerate(sentence):\n",
    "        for k in range(len(voc)):\n",
    "            if word == voc[k]:\n",
    "                tf[j, k] += 1\n",
    "\n",
    "tf_df = pd.DataFrame(tf,index=[\"Doc 1\", \"Doc 2\", \"Doc 3\"], columns=voc)\n",
    "\n",
    "#IDF\n",
    "idf = np.zeros(n_voc)\n",
    "\n",
    "for i, word in enumerate(voc):\n",
    "    n=0\n",
    "    for doc in corpus:\n",
    "        sentence = doc.split()\n",
    "        if word in sentence:\n",
    "            n += 1\n",
    "    idf[i] = np.log10(n_doc/n)\n",
    "\n",
    "idf_df = pd.DataFrame(idf.reshape(1,-1),index=[\"IDF\"], columns=voc)"
   ]
  },
  {
   "cell_type": "code",
   "execution_count": 8,
   "metadata": {},
   "outputs": [
    {
     "data": {
      "text/html": [
       "<div>\n",
       "<style scoped>\n",
       "    .dataframe tbody tr th:only-of-type {\n",
       "        vertical-align: middle;\n",
       "    }\n",
       "\n",
       "    .dataframe tbody tr th {\n",
       "        vertical-align: top;\n",
       "    }\n",
       "\n",
       "    .dataframe thead th {\n",
       "        text-align: right;\n",
       "    }\n",
       "</style>\n",
       "<table border=\"1\" class=\"dataframe\">\n",
       "  <thead>\n",
       "    <tr style=\"text-align: right;\">\n",
       "      <th></th>\n",
       "      <th>que</th>\n",
       "      <th>dia</th>\n",
       "      <th>es</th>\n",
       "      <th>hoy</th>\n",
       "      <th>martes</th>\n",
       "      <th>el</th>\n",
       "      <th>de</th>\n",
       "      <th>muchas</th>\n",
       "      <th>gracias</th>\n",
       "    </tr>\n",
       "  </thead>\n",
       "  <tbody>\n",
       "    <tr>\n",
       "      <th>Doc 1</th>\n",
       "      <td>1.0</td>\n",
       "      <td>1.0</td>\n",
       "      <td>1.0</td>\n",
       "      <td>1.0</td>\n",
       "      <td>0.0</td>\n",
       "      <td>0.0</td>\n",
       "      <td>0.0</td>\n",
       "      <td>0.0</td>\n",
       "      <td>0.0</td>\n",
       "    </tr>\n",
       "    <tr>\n",
       "      <th>Doc 2</th>\n",
       "      <td>0.0</td>\n",
       "      <td>1.0</td>\n",
       "      <td>1.0</td>\n",
       "      <td>1.0</td>\n",
       "      <td>2.0</td>\n",
       "      <td>1.0</td>\n",
       "      <td>1.0</td>\n",
       "      <td>0.0</td>\n",
       "      <td>0.0</td>\n",
       "    </tr>\n",
       "    <tr>\n",
       "      <th>Doc 3</th>\n",
       "      <td>0.0</td>\n",
       "      <td>0.0</td>\n",
       "      <td>0.0</td>\n",
       "      <td>0.0</td>\n",
       "      <td>1.0</td>\n",
       "      <td>0.0</td>\n",
       "      <td>0.0</td>\n",
       "      <td>1.0</td>\n",
       "      <td>1.0</td>\n",
       "    </tr>\n",
       "  </tbody>\n",
       "</table>\n",
       "</div>"
      ],
      "text/plain": [
       "       que  dia   es  hoy  martes   el   de  muchas  gracias\n",
       "Doc 1  1.0  1.0  1.0  1.0     0.0  0.0  0.0     0.0      0.0\n",
       "Doc 2  0.0  1.0  1.0  1.0     2.0  1.0  1.0     0.0      0.0\n",
       "Doc 3  0.0  0.0  0.0  0.0     1.0  0.0  0.0     1.0      1.0"
      ]
     },
     "execution_count": 8,
     "metadata": {},
     "output_type": "execute_result"
    }
   ],
   "source": [
    "tf_df"
   ]
  },
  {
   "cell_type": "code",
   "execution_count": 9,
   "metadata": {},
   "outputs": [
    {
     "data": {
      "text/html": [
       "<div>\n",
       "<style scoped>\n",
       "    .dataframe tbody tr th:only-of-type {\n",
       "        vertical-align: middle;\n",
       "    }\n",
       "\n",
       "    .dataframe tbody tr th {\n",
       "        vertical-align: top;\n",
       "    }\n",
       "\n",
       "    .dataframe thead th {\n",
       "        text-align: right;\n",
       "    }\n",
       "</style>\n",
       "<table border=\"1\" class=\"dataframe\">\n",
       "  <thead>\n",
       "    <tr style=\"text-align: right;\">\n",
       "      <th></th>\n",
       "      <th>que</th>\n",
       "      <th>dia</th>\n",
       "      <th>es</th>\n",
       "      <th>hoy</th>\n",
       "      <th>martes</th>\n",
       "      <th>el</th>\n",
       "      <th>de</th>\n",
       "      <th>muchas</th>\n",
       "      <th>gracias</th>\n",
       "    </tr>\n",
       "  </thead>\n",
       "  <tbody>\n",
       "    <tr>\n",
       "      <th>IDF</th>\n",
       "      <td>0.477121</td>\n",
       "      <td>0.176091</td>\n",
       "      <td>0.176091</td>\n",
       "      <td>0.176091</td>\n",
       "      <td>0.176091</td>\n",
       "      <td>0.477121</td>\n",
       "      <td>0.477121</td>\n",
       "      <td>0.477121</td>\n",
       "      <td>0.477121</td>\n",
       "    </tr>\n",
       "  </tbody>\n",
       "</table>\n",
       "</div>"
      ],
      "text/plain": [
       "          que       dia        es       hoy    martes        el        de  \\\n",
       "IDF  0.477121  0.176091  0.176091  0.176091  0.176091  0.477121  0.477121   \n",
       "\n",
       "       muchas   gracias  \n",
       "IDF  0.477121  0.477121  "
      ]
     },
     "execution_count": 9,
     "metadata": {},
     "output_type": "execute_result"
    }
   ],
   "source": [
    "idf_df"
   ]
  },
  {
   "cell_type": "markdown",
   "metadata": {
    "id": "z_Ot8HvWJcBu"
   },
   "source": [
    "### 4- TF-IDF\n",
    "Data una lista de textos, devolver una matriz con la representacion TFIDF"
   ]
  },
  {
   "cell_type": "code",
   "execution_count": 10,
   "metadata": {
    "id": "waG_oWtpJjRw"
   },
   "outputs": [],
   "source": [
    "tf_idf =  np.zeros(tf.shape)\n",
    "\n",
    "for i in range(tf_idf.shape[0]):\n",
    "    tf_idf[i,:] = tf[i,:]*idf.reshape(1,-1)\n",
    "    \n",
    "tf_idf_df = pd.DataFrame(tf_idf,index=None, columns=voc)"
   ]
  },
  {
   "cell_type": "code",
   "execution_count": 11,
   "metadata": {},
   "outputs": [
    {
     "data": {
      "text/html": [
       "<div>\n",
       "<style scoped>\n",
       "    .dataframe tbody tr th:only-of-type {\n",
       "        vertical-align: middle;\n",
       "    }\n",
       "\n",
       "    .dataframe tbody tr th {\n",
       "        vertical-align: top;\n",
       "    }\n",
       "\n",
       "    .dataframe thead th {\n",
       "        text-align: right;\n",
       "    }\n",
       "</style>\n",
       "<table border=\"1\" class=\"dataframe\">\n",
       "  <thead>\n",
       "    <tr style=\"text-align: right;\">\n",
       "      <th></th>\n",
       "      <th>que</th>\n",
       "      <th>dia</th>\n",
       "      <th>es</th>\n",
       "      <th>hoy</th>\n",
       "      <th>martes</th>\n",
       "      <th>el</th>\n",
       "      <th>de</th>\n",
       "      <th>muchas</th>\n",
       "      <th>gracias</th>\n",
       "    </tr>\n",
       "  </thead>\n",
       "  <tbody>\n",
       "    <tr>\n",
       "      <th>0</th>\n",
       "      <td>0.477121</td>\n",
       "      <td>0.176091</td>\n",
       "      <td>0.176091</td>\n",
       "      <td>0.176091</td>\n",
       "      <td>0.000000</td>\n",
       "      <td>0.000000</td>\n",
       "      <td>0.000000</td>\n",
       "      <td>0.000000</td>\n",
       "      <td>0.000000</td>\n",
       "    </tr>\n",
       "    <tr>\n",
       "      <th>1</th>\n",
       "      <td>0.000000</td>\n",
       "      <td>0.176091</td>\n",
       "      <td>0.176091</td>\n",
       "      <td>0.176091</td>\n",
       "      <td>0.352183</td>\n",
       "      <td>0.477121</td>\n",
       "      <td>0.477121</td>\n",
       "      <td>0.000000</td>\n",
       "      <td>0.000000</td>\n",
       "    </tr>\n",
       "    <tr>\n",
       "      <th>2</th>\n",
       "      <td>0.000000</td>\n",
       "      <td>0.000000</td>\n",
       "      <td>0.000000</td>\n",
       "      <td>0.000000</td>\n",
       "      <td>0.176091</td>\n",
       "      <td>0.000000</td>\n",
       "      <td>0.000000</td>\n",
       "      <td>0.477121</td>\n",
       "      <td>0.477121</td>\n",
       "    </tr>\n",
       "  </tbody>\n",
       "</table>\n",
       "</div>"
      ],
      "text/plain": [
       "        que       dia        es       hoy    martes        el        de  \\\n",
       "0  0.477121  0.176091  0.176091  0.176091  0.000000  0.000000  0.000000   \n",
       "1  0.000000  0.176091  0.176091  0.176091  0.352183  0.477121  0.477121   \n",
       "2  0.000000  0.000000  0.000000  0.000000  0.176091  0.000000  0.000000   \n",
       "\n",
       "     muchas   gracias  \n",
       "0  0.000000  0.000000  \n",
       "1  0.000000  0.000000  \n",
       "2  0.477121  0.477121  "
      ]
     },
     "execution_count": 11,
     "metadata": {},
     "output_type": "execute_result"
    }
   ],
   "source": [
    "tf_idf_df"
   ]
  },
  {
   "cell_type": "markdown",
   "metadata": {
    "id": "xMcsfndWJjm_"
   },
   "source": [
    "### 5 - Comparación de documentos\n",
    "Realizar una funcion que reciba el corpus y el índice de un documento y devuelva los documentos ordenados por la similitud coseno"
   ]
  },
  {
   "cell_type": "code",
   "execution_count": 12,
   "metadata": {
    "id": "CZdiop6IJpZN"
   },
   "outputs": [
    {
     "name": "stdout",
     "output_type": "stream",
     "text": [
      "Comparacion Documento 1 vs Documento 2\n",
      "Documento 1: que dia es hoy\n",
      "Documento 2: martes el dia de hoy es martes\n",
      "Similitud coseno: 0.2003419026809871\n",
      "\n",
      "Comparacion Documento 1 vs Documento 3\n",
      "Documento 1: que dia es hoy\n",
      "Documento 2: martes muchas gracias\n",
      "Similitud coseno: 0.0\n",
      "\n",
      "Comparacion Documento 2 vs Documento 3\n",
      "Documento 1: martes el dia de hoy es martes\n",
      "Documento 2: martes muchas gracias\n",
      "Similitud coseno: 0.10845711727883083\n"
     ]
    }
   ],
   "source": [
    "print(\"Comparacion Documento 1 vs Documento 2\")\n",
    "print(f\"Documento 1: {corpus[0]}\")\n",
    "print(f\"Documento 2: {corpus[1]}\")\n",
    "print(f\"Similitud coseno: {cosine_similarity(tf_idf[0,:], tf_idf[1,:])}\")\n",
    "print()\n",
    "print(\"Comparacion Documento 1 vs Documento 3\")\n",
    "print(f\"Documento 1: {corpus[0]}\")\n",
    "print(f\"Documento 2: {corpus[2]}\")\n",
    "print(f\"Similitud coseno: {cosine_similarity(tf_idf[0,:], tf_idf[2,:])}\")\n",
    "print()\n",
    "print(\"Comparacion Documento 2 vs Documento 3\")\n",
    "print(f\"Documento 1: {corpus[1]}\")\n",
    "print(f\"Documento 2: {corpus[2]}\")\n",
    "print(f\"Similitud coseno: {cosine_similarity(tf_idf[1,:], tf_idf[2,:])}\")\n"
   ]
  },
  {
   "cell_type": "code",
   "execution_count": null,
   "metadata": {},
   "outputs": [],
   "source": []
  }
 ],
 "metadata": {
  "colab": {
   "collapsed_sections": [],
   "name": "1 - word2vec.ipynb",
   "provenance": []
  },
  "kernelspec": {
   "display_name": "Python 3 (ipykernel)",
   "language": "python",
   "name": "python3"
  },
  "language_info": {
   "codemirror_mode": {
    "name": "ipython",
    "version": 3
   },
   "file_extension": ".py",
   "mimetype": "text/x-python",
   "name": "python",
   "nbconvert_exporter": "python",
   "pygments_lexer": "ipython3",
   "version": "3.8.13"
  }
 },
 "nbformat": 4,
 "nbformat_minor": 1
}
